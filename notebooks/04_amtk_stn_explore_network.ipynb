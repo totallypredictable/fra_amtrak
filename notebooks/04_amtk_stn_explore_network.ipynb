{
 "cells": [
  {
   "cell_type": "markdown",
   "metadata": {
    "deletable": false,
    "editable": false,
    "nbgrader": {
     "cell_type": "markdown",
     "checksum": "1bc59b11b5b888e91b1621bfbd6f2d76",
     "grade": false,
     "grade_id": "cell-cd4b2f4912705185",
     "locked": true,
     "schema_version": 3,
     "solution": false,
     "task": false
    }
   },
   "source": [
    "# Explore: Amtrak Network\n",
    "\n",
    "## Intercity Passenger Rail Service Station Performance Metrics\n",
    "\n",
    "The Amtrak [network](https://www.amtrak.com/content/dam/projects/dotcom/english/public/documents/Maps/Amtrak-System-Map-020923.pdf)\n",
    "is a passenger rail service that provides intercity rail service in the\n",
    "continental United States and to select Canadian cities. The network is operated by the\n",
    "[National Railroad Passenger Corporation](https://railroads.dot.gov/passenger-rail/amtrak/amtrak),\n",
    "a federally chartered for-profit corporation that receives some state funding and covers its\n",
    "operating costs by selling tickets and providing other services.\n",
    "\n",
    "This notebook commences exploration of the augmented quarterly\n",
    "[Amtrak](https://www.amtrak.com/home.html) station performance metrics. The goal is to better\n",
    "understand the Amtrak network as a whole and identify potential areas for further analysis.\n",
    "\n",
    "### Variable names\n",
    "\n",
    "A number of variable names in this project leverage the following abbreviations. The naming\n",
    "strategy is to strike a balance between brevity and readability:\n",
    "\n",
    "* `amtk`: Amtrak (reporting mark)\n",
    "* `chrt`: chart\n",
    "* `cols`: columns\n",
    "* `const`: constant\n",
    "* `cwd`: current working directory\n",
    "* `eb`: eastbound direction of travel\n",
    "* `lm`: linear model\n",
    "* `mi`: miles\n",
    "* `mm`: minutes (ISO 8601)\n",
    "* `nb`: northbound direction of travel\n",
    "* `psgr`: passenger\n",
    "* `qtr`: quarter\n",
    "* `rte`: route\n",
    "* `sb`: southbound direction of travel\n",
    "* `stats`: summary statistics\n",
    "* `stn`: station\n",
    "* `stns`: stations\n",
    "* `svc`: service\n",
    "* `trn`: train\n",
    "* `wb`: westbound direction of travel"
   ]
  },
  {
   "cell_type": "code",
   "execution_count": null,
   "metadata": {},
   "outputs": [],
   "source": [
    "import numpy as np\n",
    "import pandas as pd\n",
    "import pathlib as pl\n",
    "import scipy.stats as stats\n",
    "import tomllib as tl\n",
    "\n",
    "import fra_amtrak.amtk_detrain as detrn\n",
    "import fra_amtrak.amtk_frame as frm\n",
    "import fra_amtrak.chart_bar as bar\n",
    "import fra_amtrak.chart_box_preagg as boxp\n",
    "import fra_amtrak.chart_hist as hst\n",
    "import fra_amtrak.chart_title as ttl"
   ]
  },
  {
   "cell_type": "markdown",
   "metadata": {
    "deletable": false,
    "editable": false,
    "nbgrader": {
     "cell_type": "markdown",
     "checksum": "dd2bdbfbea2ff2f1433b3c64f9e25e48",
     "grade": false,
     "grade_id": "cell-6048717ad15d123e",
     "locked": true,
     "schema_version": 3,
     "solution": false,
     "task": false
    }
   },
   "source": [
    "## 1.0 Read files\n",
    "\n",
    "### 1.1 Resolve paths\n"
   ]
  },
  {
   "cell_type": "code",
   "execution_count": null,
   "metadata": {},
   "outputs": [],
   "source": [
    "parent_path = pl.Path.cwd()  # current working directory\n",
    "parent_path"
   ]
  },
  {
   "cell_type": "markdown",
   "metadata": {
    "deletable": false,
    "editable": false,
    "nbgrader": {
     "cell_type": "markdown",
     "checksum": "d66c13c67f41193b02be993c8b8de3b4",
     "grade": false,
     "grade_id": "cell-2198440c917e0338",
     "locked": true,
     "schema_version": 3,
     "solution": false,
     "task": false
    }
   },
   "source": [
    "### 1.2 Load constants\n",
    "\n",
    "Load a companion [TOML](https://toml.io/en/) file named `notebook.toml` containing constants."
   ]
  },
  {
   "cell_type": "code",
   "execution_count": null,
   "metadata": {},
   "outputs": [],
   "source": [
    "filepath = parent_path.joinpath(\"notebook.toml\")\n",
    "with open(filepath, \"rb\") as file_obj:\n",
    "    const = tl.load(file_obj)\n",
    "\n",
    "# Access constants\n",
    "AGG = const[\"agg\"]\n",
    "CHRT_BAR = const[\"chart\"][\"bar\"]\n",
    "COLORS = const[\"colors\"]\n",
    "COLS = const[\"columns\"]\n"
   ]
  },
  {
   "cell_type": "markdown",
   "metadata": {},
   "source": [
    "### 1.3 Retrieve performance data"
   ]
  },
  {
   "cell_type": "code",
   "execution_count": null,
   "metadata": {},
   "outputs": [],
   "source": [
    "filepath = parent_path.joinpath(\"data\", \"station_performance_metrics-v1p2.csv\")\n",
    "network = pd.read_csv(\n",
    "    filepath, dtype={\"Address 02\": \"str\", \"ZIP Code\": \"str\"}, low_memory=False\n",
    ")  # avoid DtypeWarning\n"
   ]
  },
  {
   "cell_type": "markdown",
   "metadata": {
    "deletable": false,
    "editable": false,
    "nbgrader": {
     "cell_type": "markdown",
     "checksum": "843be26f35ae1e37fe3113a0dc386f49",
     "grade": false,
     "grade_id": "cell-f28f87b855ee957c",
     "locked": true,
     "schema_version": 3,
     "solution": false,
     "task": false
    }
   },
   "source": [
    "### 1.4 Review the `DataFrame`"
   ]
  },
  {
   "cell_type": "code",
   "execution_count": null,
   "metadata": {},
   "outputs": [],
   "source": [
    "network.shape"
   ]
  },
  {
   "cell_type": "code",
   "execution_count": null,
   "metadata": {},
   "outputs": [],
   "source": [
    "network.info()"
   ]
  },
  {
   "cell_type": "code",
   "execution_count": null,
   "metadata": {},
   "outputs": [],
   "source": [
    "network.head(3)"
   ]
  },
  {
   "cell_type": "markdown",
   "metadata": {
    "deletable": false,
    "editable": false,
    "nbgrader": {
     "cell_type": "markdown",
     "checksum": "c9327e433acf99c53bd1b994e2f36c6c",
     "grade": false,
     "grade_id": "cell-9f3616e9cd161a8e",
     "locked": true,
     "schema_version": 3,
     "solution": false,
     "task": false
    }
   },
   "source": [
    "## 2.0 The Amtrak network\n",
    "\n",
    "Network-wide summary statistics covering all available fiscal years and quarters. The data is\n",
    "derived by flattening a `DataFrame` into a single row of metrics."
   ]
  },
  {
   "cell_type": "code",
   "execution_count": null,
   "metadata": {},
   "outputs": [],
   "source": [
    "# Total train arrivals\n",
    "network_trn_arrivals = network.shape[0]\n",
    "\n",
    "# Detraining totals\n",
    "network_detrn = network[COLS[\"total_detrn\"]].sum()\n",
    "network_detrn_late = network[COLS[\"late_detrn\"]].sum()\n",
    "network_detrn_on_time = network_detrn - network_detrn_late\n",
    "\n",
    "print(\n",
    "    f\"Train Arrivals: {network_trn_arrivals}\",\n",
    "    f\"Total Detraining Customers: {network_detrn}\",\n",
    "    f\"Late Detraining Customers: {network_detrn_late}\",\n",
    "    f\"On-Time Detraining Customers: {network_detrn_on_time}\",\n",
    "    sep=\"\\n\",\n",
    ")\n",
    "\n",
    "# Compute summary statistics\n",
    "network_stats = detrn.get_sum_stats(network, AGG[\"columns\"], AGG[\"funcs\"])\n",
    "network_stats"
   ]
  },
  {
   "cell_type": "markdown",
   "metadata": {
    "deletable": false,
    "editable": false,
    "nbgrader": {
     "cell_type": "markdown",
     "checksum": "785e2838aca93243782991032f8cc7ec",
     "grade": false,
     "grade_id": "cell-ddf3cf9b3af7f49e",
     "locked": true,
     "schema_version": 3,
     "solution": false,
     "task": false
    }
   },
   "source": [
    "### 2.1 Service lines\n",
    "\n",
    "The Amtrak network consists of several service lines. The service lines are used to group\n",
    "services, stations, and train routes. Service line summary statistics cover all available fiscal\n",
    "years and quarters and are derived by aggregating metrics across each service line."
   ]
  },
  {
   "cell_type": "code",
   "execution_count": null,
   "metadata": {},
   "outputs": [],
   "source": [
    "svc_line_stats = detrn.get_sum_stats_by_group(\n",
    "    network, COLS[\"svc_line\"], AGG[\"columns\"], AGG[\"funcs\"]\n",
    ")\n",
    "svc_line_stats"
   ]
  },
  {
   "cell_type": "markdown",
   "metadata": {
    "deletable": false,
    "editable": false,
    "nbgrader": {
     "cell_type": "markdown",
     "checksum": "206f270ab10281676c5f6ecb09706ba9",
     "grade": false,
     "grade_id": "cell-19d6243fe7c329a1",
     "locked": true,
     "schema_version": 3,
     "solution": false,
     "task": false
    }
   },
   "source": [
    "### 2.2 Services\n",
    "\n",
    "Each Amtrak service line consists of one or more services. A service is a named train (e.g., the\n",
    "[_California Zephyr_](https://www.amtrak.com/california-zephyr-train)) that operates on a specific\n",
    "route.\n",
    "\n",
    "Note that certain state-supported services\n",
    "(e.g., [Michigan service](https://www.amtrak.com/michigan-services-train)) represent a roll up of\n",
    "one or more named train sub services. The named trains that comprise these services are categorized\n",
    "as sub services and are excluded from the services column."
   ]
  },
  {
   "cell_type": "code",
   "execution_count": null,
   "metadata": {},
   "outputs": [],
   "source": [
    "serv = network.loc[:, COLS[\"svc\"]].unique()\n",
    "serv.sort()\n",
    "\n",
    "print(f\"services (n={np.count_nonzero(serv)})\")\n",
    "serv"
   ]
  },
  {
   "cell_type": "markdown",
   "metadata": {
    "deletable": false,
    "editable": false,
    "nbgrader": {
     "cell_type": "markdown",
     "checksum": "7d3f8e84795a2549c0b84172cc36b6ed",
     "grade": false,
     "grade_id": "cell-a95d5b4cf69f4d6c",
     "locked": true,
     "schema_version": 3,
     "solution": false,
     "task": false
    }
   },
   "source": [
    "Service-level summary statistics cover all available fiscal years and quarters and are derived by\n",
    "aggregating metrics across each service."
   ]
  },
  {
   "cell_type": "code",
   "execution_count": null,
   "metadata": {},
   "outputs": [],
   "source": [
    "svc_stats = detrn.get_sum_stats_by_group(network, COLS[\"svc\"], AGG[\"columns\"], AGG[\"funcs\"])\n",
    "svc_stats"
   ]
  },
  {
   "cell_type": "markdown",
   "metadata": {
    "deletable": false,
    "editable": false,
    "nbgrader": {
     "cell_type": "markdown",
     "checksum": "74da6bd2a2ee7cd6260a84b468a1f312",
     "grade": false,
     "grade_id": "cell-e7118b838a48248a",
     "locked": true,
     "schema_version": 3,
     "solution": false,
     "task": false
    }
   },
   "source": [
    "### 2.3 Sub services\n",
    "\n",
    "The Amtrak sub service category is used to group named trains that operate as part of a service such\n",
    "as the [Illinois](https://www.amtrak.com/illinois-services-train) or\n",
    "[Michigan](https://www.amtrak.com/michigan-services-train) services (e.g., _Blue Water_,\n",
    "_Carl Sandburg_, _Illinois Zephyr_, _Pere Marquette_, _Saluki_, and _Wolverine_). Note that\n",
    "service-level named trains (e.g., _Acela_) are also included in the sub service category."
   ]
  },
  {
   "cell_type": "code",
   "execution_count": null,
   "metadata": {},
   "outputs": [],
   "source": [
    "sub_serv = network.loc[:, COLS[\"sub_svc\"]].unique()\n",
    "sub_serv.sort()\n",
    "\n",
    "print(f\"subservices (n={np.count_nonzero(sub_serv)})\")\n",
    "sub_serv"
   ]
  },
  {
   "cell_type": "markdown",
   "metadata": {
    "deletable": false,
    "editable": false,
    "nbgrader": {
     "cell_type": "markdown",
     "checksum": "350e04ec19731b6f11db96ae2c425ae0",
     "grade": false,
     "grade_id": "cell-7f769044379a5a6c",
     "locked": true,
     "schema_version": 3,
     "solution": false,
     "task": false
    }
   },
   "source": [
    "Sub service-level summary statistics cover all available fiscal years and quarters and are derived\n",
    "by aggregating metrics across each sub service."
   ]
  },
  {
   "cell_type": "code",
   "execution_count": null,
   "metadata": {},
   "outputs": [],
   "source": [
    "sub_svc_stats = detrn.get_sum_stats_by_group(network, COLS[\"sub_svc\"], AGG[\"columns\"], AGG[\"funcs\"])\n",
    "sub_svc_stats"
   ]
  },
  {
   "cell_type": "markdown",
   "metadata": {
    "deletable": false,
    "editable": false,
    "nbgrader": {
     "cell_type": "markdown",
     "checksum": "61dde2e5fb899846a97712c6b733ad97",
     "grade": false,
     "grade_id": "cell-2d94279b94318846",
     "locked": true,
     "schema_version": 3,
     "solution": false,
     "task": false
    }
   },
   "source": [
    "### 2.4 Stations\n",
    "\n",
    "Each `network` row represents Amtrak station arrival metrics, aggregated quarterly, for a given\n",
    "train (e.g., _Wolverine_ Train 350 arrivals at [Ann Arbor](https://www.amtrak.com/stations/arb)\n",
    "station (ARB) during Q3 2024).\n",
    "\n",
    "Station-level summary statistics will be explored in a separate notebook."
   ]
  },
  {
   "cell_type": "code",
   "execution_count": null,
   "metadata": {},
   "outputs": [],
   "source": [
    "stn_count = network.loc[:, COLS[\"station_code\"]].nunique()\n",
    "stn_count"
   ]
  },
  {
   "cell_type": "markdown",
   "metadata": {
    "deletable": false,
    "editable": false,
    "nbgrader": {
     "cell_type": "markdown",
     "checksum": "a510648dfacd9734aaa418a831b44950",
     "grade": false,
     "grade_id": "cell-cc03df2af6de5ce4",
     "locked": true,
     "schema_version": 3,
     "solution": false,
     "task": false
    }
   },
   "source": [
    "### 2.5 Regions and divisions\n",
    "\n",
    "The Amtrak stations in `network` can be grouped by region and/or division. These geographical\n",
    "groupings are based on US Census Bureau\n",
    "[categories](https://www.census.gov/programs-surveys/economic-census/guidance-geographies/levels.html)\n",
    "rather than FRA or Amtrak designations.\n",
    "\n",
    "Group by stations by region. Ensure that regional station counts are consistent with the total station count.\n",
    "\n",
    "#### 2.5.1 Regions [1 pt]\n",
    "\n",
    " The `DataFrame` named `region_stn_counts` provides stations counts grouped by region."
   ]
  },
  {
   "cell_type": "code",
   "execution_count": null,
   "metadata": {},
   "outputs": [],
   "source": [
    "region_stn_counts = (\n",
    "    network.groupby(COLS[\"region\"])[COLS[\"station_code\"]]\n",
    "    .nunique()\n",
    "    .reset_index()\n",
    "    .sort_values(by=COLS[\"region\"])\n",
    ")\n",
    "region_stn_counts"
   ]
  },
  {
   "cell_type": "code",
   "execution_count": null,
   "metadata": {
    "deletable": false,
    "editable": false,
    "nbgrader": {
     "cell_type": "code",
     "checksum": "f4842524728018fbe817a8c05f67f0a7",
     "grade": true,
     "grade_id": "cell-0d7442c8881c194b",
     "locked": true,
     "points": 1,
     "schema_version": 3,
     "solution": false,
     "task": false
    }
   },
   "outputs": [],
   "source": [
    "#hidden tests are within this cell"
   ]
  },
  {
   "cell_type": "markdown",
   "metadata": {
    "deletable": false,
    "editable": false,
    "nbgrader": {
     "cell_type": "markdown",
     "checksum": "d62fcf1873f351eb5b0f2a0e633e1aaa",
     "grade": false,
     "grade_id": "cell-8166e454d3beade9",
     "locked": true,
     "schema_version": 3,
     "solution": false,
     "task": false
    }
   },
   "source": [
    "#### 2.5.2 Divisions [1 pt]\n",
    "\n",
    "The `DataFrame` named `division_stn_counts` provides station counts grouped by region and divison."
   ]
  },
  {
   "cell_type": "code",
   "execution_count": null,
   "metadata": {},
   "outputs": [],
   "source": [
    "div_stn_counts = (\n",
    "    network.groupby([COLS[\"region\"], COLS[\"division\"]])[COLS[\"station_code\"]]\n",
    "    .nunique()\n",
    "    .reset_index()\n",
    "    .sort_values(by=[COLS[\"region\"], COLS[\"division\"]])\n",
    ")\n",
    "div_stn_counts"
   ]
  },
  {
   "cell_type": "code",
   "execution_count": null,
   "metadata": {
    "deletable": false,
    "editable": false,
    "nbgrader": {
     "cell_type": "code",
     "checksum": "fbb6db2957d3f0c88e77fc90d7bc5239",
     "grade": true,
     "grade_id": "cell-5fee848e0b3d8fda",
     "locked": true,
     "points": 1,
     "schema_version": 3,
     "solution": false,
     "task": false
    }
   },
   "outputs": [],
   "source": [
    "#hidden tests are within this cell"
   ]
  },
  {
   "cell_type": "markdown",
   "metadata": {},
   "source": [
    "## 3.0 On-time performance metrics (entire period)\n",
    "\n",
    "Amtrak station performance data is a compilation of quarterly metrics that focus on late\n",
    "detraining passengers. Detraining assengers are considered on-time if they arrive at their\n",
    "destination no later than fifteen (`15`) minutes after their scheduled arrival time. All other\n",
    "detraining passengers are considered late."
   ]
  },
  {
   "cell_type": "markdown",
   "metadata": {},
   "source": [
    "### 3.1 Mean late arrival times summary statistics [1 pt]\n",
    "\n",
    "Review the central tendency, dispersion, and shape of mean late arrival times across the\n",
    "network. Calling the custom function named `frm.describe_numeric_column()` will return an\n",
    "\"enriched\" dictionary of summary statistics."
   ]
  },
  {
   "cell_type": "code",
   "execution_count": null,
   "metadata": {},
   "outputs": [],
   "source": [
    "# Drop missing values\n",
    "network_avg_mm_late = network[COLS[\"late_detrn_avg_mm_late\"]].dropna().reset_index(drop=True)\n",
    "\n",
    "# Call the function\n",
    "network_avg_mm_late_describe = None\n",
    "network_avg_mm_late_describe"
   ]
  },
  {
   "cell_type": "code",
   "execution_count": null,
   "metadata": {
    "deletable": false,
    "editable": false,
    "nbgrader": {
     "cell_type": "code",
     "checksum": "7d12cd0359f3acf3804a9144f2f8c784",
     "grade": true,
     "grade_id": "cell-d6dc2eae76a26a34",
     "locked": true,
     "points": 1,
     "schema_version": 3,
     "solution": false,
     "task": false
    }
   },
   "outputs": [],
   "source": [
    "#hidden tests are within this cell"
   ]
  },
  {
   "cell_type": "markdown",
   "metadata": {},
   "source": [
    "The skewness and kurtosis values returned suggest that the distribution of mean late arrival times\n",
    "of Amtrak trains are positively skewed and features a sharper peak and heavier right tail than a\n",
    "normal distribution. Let's confirm this visually by generating a histogram."
   ]
  },
  {
   "cell_type": "markdown",
   "metadata": {},
   "source": [
    "### 3.2 Visualize distribution of mean late arrival times\n",
    "\n",
    "Visualize mean late arrival times for the entire period. The data is binned prior to plotting.\n",
    "\n",
    "#### 3.2.1 Create the chart data"
   ]
  },
  {
   "cell_type": "code",
   "execution_count": null,
   "metadata": {},
   "outputs": [],
   "source": [
    "# Convert to DataFrame\n",
    "network_avg_mm_late = network_avg_mm_late.to_frame(name=COLS[\"avg_mm_late\"])\n",
    "\n",
    "# Get mean and standard deviation\n",
    "mu = network_avg_mm_late_describe[\"center\"][\"mean\"]\n",
    "sigma = network_avg_mm_late_describe[\"spread\"][\"std\"]\n",
    "\n",
    "# Get max value (for x-axis ticks); pad max value for chart display\n",
    "max_val = network_avg_mm_late_describe[\"position\"][\"max\"].astype(int)\n",
    "max_val_ceil = (np.ceil(max_val / 10) * 10).astype(int)\n",
    "\n",
    "# Create bins\n",
    "network_avg_mm_late, bins, num_bins, bin_width = frm.create_bins(\n",
    "    network_avg_mm_late, COLS[\"avg_mm_late\"], 15\n",
    ")\n",
    "\n",
    "# Bin the data\n",
    "chrt_data = frm.bin_data(network_avg_mm_late, COLS[\"avg_mm_late\"], bins)\n",
    "# chart_data"
   ]
  },
  {
   "cell_type": "markdown",
   "metadata": {},
   "source": [
    "#### 3.2.2 Generate the histogram"
   ]
  },
  {
   "cell_type": "code",
   "execution_count": null,
   "metadata": {},
   "outputs": [],
   "source": [
    "# Chart title\n",
    "title_txt = \"Amtrak Network Late Detraining Passengers\"\n",
    "title = ttl.format_title(network_stats, title_txt)\n",
    "\n",
    "# Tooltips\n",
    "tooltip_config = [\n",
    "    {\"shorthand\": \"bin_center:Q\", \"title\": \"Average Minutes Late\", \"format\": None},\n",
    "    {\"shorthand\": \"count:Q\", \"title\": \"Late Arrivals Count\", \"format\": None},\n",
    "]\n",
    "\n",
    "# Create and display the histogram\n",
    "chart = hst.create_histogram(\n",
    "    frame=chrt_data,\n",
    "    x_shorthand=\"bin_center:Q\",\n",
    "    x_title=\"Average Minutes Late\",\n",
    "    y_shorthand=\"count:Q\",\n",
    "    y_title=\"Late Arrivals Count\",\n",
    "    y_stack=False,\n",
    "    line_shorthand=\"Avg Min Late:Q\",\n",
    "    mu=mu,\n",
    "    sigma=sigma,\n",
    "    num_bins=num_bins,\n",
    "    bin_width=bin_width,\n",
    "    x_tick_count_max=max_val_ceil,\n",
    "    bar_color=COLORS[\"amtk_blue\"],\n",
    "    mu_color=COLORS[\"amtk_red\"],\n",
    "    sigma_color=COLORS[\"anth_gray\"],\n",
    "    tooltip_config=tooltip_config,\n",
    "    title=title,\n",
    "    height=300,\n",
    "    width=680,\n",
    ")\n",
    "chart.display()"
   ]
  },
  {
   "cell_type": "markdown",
   "metadata": {},
   "source": [
    "## 4.0 On-time performance metrics (by fiscal year and quarter)\n",
    "\n",
    "Compute OTP summary statistics per fiscal year and quarter. Add quarterly train arrival metrics to\n",
    "the `DataFrame` named `network_qtr_stats`."
   ]
  },
  {
   "cell_type": "code",
   "execution_count": null,
   "metadata": {},
   "outputs": [],
   "source": [
    "# Get quarterly stats\n",
    "network_qtr_stats = detrn.get_sum_stats_by_group(\n",
    "    network,\n",
    "    [COLS[\"year\"], COLS[\"quarter\"]],\n",
    "    AGG[\"columns\"],\n",
    "    AGG[\"funcs\"],\n",
    "    network_trn_arrivals,\n",
    "    network_detrn,\n",
    ")\n",
    "network_qtr_stats"
   ]
  },
  {
   "cell_type": "markdown",
   "metadata": {
    "deletable": false,
    "editable": false,
    "nbgrader": {
     "cell_type": "markdown",
     "checksum": "c30f07c8a610a7ee6d0bc3bdeafc2833",
     "grade": false,
     "grade_id": "cell-318bbcb9a202b6d1",
     "locked": true,
     "schema_version": 3,
     "solution": false,
     "task": false
    }
   },
   "source": [
    "### 4.1 Write to file [1 pt]\n",
    "\n",
    "Write `network_qtr_stats` to a CSV file named `stu-amtk-network_qtr_stats.csv`. Store the file in the\n",
    "`data/student` directory. Then compare it to the accompanying `fxt-amtk-network_qtr_stats.csv` file.\n",
    "It must match line for line, character for character."
   ]
  },
  {
   "cell_type": "code",
   "execution_count": null,
   "metadata": {
    "deletable": false,
    "nbgrader": {
     "cell_type": "code",
     "checksum": "418aed37c26e87b6079c6e8c67ac71b0",
     "grade": false,
     "grade_id": "cell-991ba46624b01c36",
     "locked": false,
     "schema_version": 3,
     "solution": true,
     "task": false
    }
   },
   "outputs": [],
   "source": [
    "# YOUR CODE HERE\n",
    "raise NotImplementedError()"
   ]
  },
  {
   "cell_type": "code",
   "execution_count": null,
   "metadata": {
    "deletable": false,
    "editable": false,
    "nbgrader": {
     "cell_type": "code",
     "checksum": "8648ce2be249065bae24b71f8335a1ee",
     "grade": true,
     "grade_id": "cell-c9f95ed0f20b5086",
     "locked": true,
     "points": 1,
     "schema_version": 3,
     "solution": false,
     "task": false
    }
   },
   "outputs": [],
   "source": [
    "#hidden tests are within this cell"
   ]
  },
  {
   "cell_type": "markdown",
   "metadata": {},
   "source": [
    "## 5.0 Visualize detraining passengers (by fiscal year and quarter)\n",
    "\n",
    "Visualize Amtrak's detraining passengers, both on-time and late, across all years and quarters with\n",
    "a bar chart."
   ]
  },
  {
   "cell_type": "code",
   "execution_count": null,
   "metadata": {},
   "outputs": [],
   "source": [
    "# Assemble the data for the chart\n",
    "chrt_data = bar.create_detrain_chart_frame(network_qtr_stats, CHRT_BAR[\"columns\"])\n",
    "\n",
    "# Create chart title\n",
    "title_text = f\"Amtrak {const['service_lines']['nec']} (NEC) Detraining Passengers\"\n",
    "title = ttl.format_title(network_stats, title_text)\n",
    "\n",
    "# Grouped bar chart\n",
    "chart = bar.create_grouped_bar_chart(\n",
    "    chrt_data,\n",
    "    \"Fiscal Period:N\",\n",
    "    \"Passengers:Q\",\n",
    "    \"Arrival Status:N\",\n",
    "    CHRT_BAR[\"xoffset_sort\"],\n",
    "    CHRT_BAR[\"colors\"],\n",
    "    title,\n",
    ")\n",
    "\n",
    "chart.display()"
   ]
  },
  {
   "cell_type": "markdown",
   "metadata": {},
   "source": [
    "## 6.0 Visualize distribution of mean late arrival times (by fiscal year and quarter)\n",
    "\n",
    "Visualizing mean late arrival times grouped by fiscal year and quarter may reveal interesting\n",
    "patterns.\n",
    "\n",
    "The data is flattened prior to creating a series of box plots. The fiscal year and quarter column\n",
    "values are combined (e.g., `< year >Q< quarter >`) by applying the function named\n",
    "`detrn.format_year_quarter()` to each row to create a new column named \"Fiscal Year Quarter\". A\n",
    "second column is also added to color code each quarter and its associated box plot.\n",
    "\n",
    "### 6.1 Create the chart data [1 pt]"
   ]
  },
  {
   "cell_type": "code",
   "execution_count": null,
   "metadata": {},
   "outputs": [],
   "source": [
    "cols = [COLS[\"year\"], COLS[\"quarter\"], COLS[\"late_detrn_avg_mm_late\"]]\n",
    "\n",
    "# Group by fiscal year and quarter and flatten\n",
    "chrt_data = network.groupby(cols[:2])[cols].apply(lambda x: x).reset_index(drop=True)\n",
    "\n",
    "# Add 'Fiscal Year Quarter' column\n",
    "\n",
    "\n",
    "# Drop columns and reorder\n",
    "chrt_data.drop([COLS[\"year\"], COLS[\"quarter\"]], axis=1, inplace=True)\n",
    "chrt_data.insert(0, COLS[\"year_quarter\"], chrt_data.pop(COLS[\"year_quarter\"]))\n",
    "\n",
    "# Add color column\n",
    "colors = [COLORS[\"amtk_blue\"], COLORS[\"amtk_red\"]]\n",
    "chrt_data.loc[:, \"Color\"] = chrt_data[COLS[\"year_quarter\"]].apply(detrn.assign_color, colors=colors)\n",
    "chrt_data.head()"
   ]
  },
  {
   "cell_type": "code",
   "execution_count": null,
   "metadata": {
    "deletable": false,
    "editable": false,
    "nbgrader": {
     "cell_type": "code",
     "checksum": "86358d0a1c4215ab1f1bf220bbb8f454",
     "grade": true,
     "grade_id": "cell-5940ea386a0fe76d",
     "locked": true,
     "points": 1,
     "schema_version": 3,
     "solution": false,
     "task": false
    }
   },
   "outputs": [],
   "source": [
    "#hidden tests are within this cell"
   ]
  },
  {
   "cell_type": "markdown",
   "metadata": {},
   "source": [
    "### 6.2 Preaggregate the chart data\n",
    "\n",
    "Attempting to instantiate an instance of a Vega-Altair [`alt.Chart()`](https://altair-viz.github.io/user_guide/generated/toplevel/altair.Chart.html) class by passing to it a dataset comprising more than `5000` rows will trigger a `MaxRowsError`. You can disable the `MaxRows` check by calling `alt.data_transformers.disable_max_rows()` method. However, disabling the check may result in performance issues, including browser crashes.\n",
    "\n",
    "The preferred approach when [working with large datasets](https://altair-viz.github.io/user_guide/large_datasets.html#large-datasets) is to _preaggregate_ the data before generating a plot. This can be achieved \"manually\"&mdash;the approach adopted in this notebook&mdash;or by [installing](https://altair-viz.github.io/user_guide/large_datasets.html#installing-vegafusion[) and [enabling](https://altair-viz.github.io/user_guide/large_datasets.html#enabling-the-vegafusion-data-transformer) Altair's companion [vegafusion](https://vegafusion.io/) data transformer package."
   ]
  },
  {
   "cell_type": "code",
   "execution_count": null,
   "metadata": {},
   "outputs": [],
   "source": [
    "# Compute aggregation statistics\n",
    "cols = [COLS[\"year_quarter\"], COLS[\"late_detrn_avg_mm_late\"]]\n",
    "\n",
    "# Pre-aggregate the data\n",
    "chrt_data = frm.aggregate_data(chrt_data, cols)"
   ]
  },
  {
   "cell_type": "markdown",
   "metadata": {},
   "source": [
    "### 6.3 Generate the box plots"
   ]
  },
  {
   "cell_type": "code",
   "execution_count": null,
   "metadata": {},
   "outputs": [],
   "source": [
    "# Create chart title\n",
    "title_text = \"Amtrak Network Late Detraining Passengers\"\n",
    "title = ttl.format_title(network_stats, title_text)\n",
    "\n",
    "chart_horizontal = boxp.create_boxplot(\n",
    "    data=chrt_data,\n",
    "    x_shorthand=\"Late Detraining Customers Avg Min Late:Q\",\n",
    "    x_title=\"Average Minutes Late\",\n",
    "    y_shorthand=\"Fiscal Year Quarter:N\",\n",
    "    y_title=\"Period\",\n",
    "    box_size=20,\n",
    "    outlier_shorthand=\"outliers:Q\",\n",
    "    color_shorthand=\"Color:N\",\n",
    "    chart_title=title,\n",
    "    orient=boxp.Orient.HORIZONTAL,\n",
    "    height=400,\n",
    "    width=680,\n",
    ")\n",
    "chart_horizontal.display()"
   ]
  },
  {
   "cell_type": "markdown",
   "metadata": {},
   "source": [
    "## 7.0 Distance traveled and late detraining passengers\n",
    "\n",
    "A number of factors influence the likelihood of late detraining passengers. Distance traveled is\n",
    "possibly one such factor. Does a linear relationship exist between a train's route miles and the\n",
    "late arrival times experienced by late detraining passengers?\n",
    "\n",
    "### 7.1 Data preparation\n",
    "\n",
    "The first step involves preparing the data for the regression analysis."
   ]
  },
  {
   "cell_type": "code",
   "execution_count": null,
   "metadata": {},
   "outputs": [],
   "source": [
    "lm_data = network[[COLS[\"route_miles\"], COLS[\"late_detrn_avg_mm_late\"]]].reset_index(drop=True)\n",
    "lm_data.shape"
   ]
  },
  {
   "cell_type": "markdown",
   "metadata": {},
   "source": [
    "### 7.2 Linear regression [1 pt]\n",
    "\n",
    "The code below calculates a linear least-squares regression for two sets of measurements. The\n",
    "dependent variable is \"Late Detraining Customers Avg Min Late\". The independent variable is\n",
    "\"Route Miles\". The `result` object contains the regression attributes."
   ]
  },
  {
   "cell_type": "code",
   "execution_count": null,
   "metadata": {
    "deletable": false,
    "nbgrader": {
     "cell_type": "code",
     "checksum": "d10bfe2a8c0f7c0404a4ada83b2aa3ec",
     "grade": false,
     "grade_id": "cell-2e8665422fe47bbb",
     "locked": false,
     "schema_version": 3,
     "solution": true,
     "task": false
    }
   },
   "outputs": [],
   "source": [
    "# YOUR CODE HERE\n",
    "raise NotImplementedError()"
   ]
  },
  {
   "cell_type": "code",
   "execution_count": null,
   "metadata": {
    "deletable": false,
    "editable": false,
    "nbgrader": {
     "cell_type": "code",
     "checksum": "8c89a5bf7431fd05b232216d80ee9bad",
     "grade": true,
     "grade_id": "cell-1030ff8e7945acda",
     "locked": true,
     "points": 1,
     "schema_version": 3,
     "solution": false,
     "task": false
    }
   },
   "outputs": [],
   "source": [
    "#hidden tests are within this cell"
   ]
  },
  {
   "cell_type": "markdown",
   "metadata": {},
   "source": [
    "The linear regression analysis suggests that there is a moderate positive relationship between a train's route miles and mean late arrival times for late detraining passengers. The slope suggests that with every additional route mile traveled, the average minutes late for late detraining passengers increases by approximately `0.0338` minutes. The *R*² value indicates that around `25.5%` of the variability in the average minutes late can be explained by route miles, with the remaining variability due to other factors or random noise. The very small standard errors for both the slope and intercept coefficients suggest a high level of precision in these estimates."
   ]
  },
  {
   "cell_type": "markdown",
   "metadata": {},
   "source": [
    "### 7.3 Predictions\n",
    "\n",
    "#### 7.3.1 Twenty-five mile intervals [1 pt]\n",
    "\n",
    "Create a new `DataFrame` named `route_mi_intervals` comprising a single column named \"Route Miles\"\n",
    "with values ranging from `0` to `2600` in increments of `25`.\n",
    "\n",
    "Then apply the function `detrn.predict_avg_min_late()` to each of the \"Route Miles\" values to\n",
    "generate predicted average late times for every twenty-five (`25`) miles of rail travel up to `2600`\n",
    "miles.\n",
    "\n",
    "For the starting zero (`0`) route mile mark, assign the predicted average late time to `0.0`\n",
    "minutes. Round each predicted value to two decimal places. Assign each predicted value to a new\n",
    "column named \"Predicted Avg Min Late\"."
   ]
  },
  {
   "cell_type": "code",
   "execution_count": null,
   "metadata": {
    "deletable": false,
    "nbgrader": {
     "cell_type": "code",
     "checksum": "2301dca9a1a56dfeb9318017473c781d",
     "grade": false,
     "grade_id": "cell-33ebffacdd2b12d8",
     "locked": false,
     "schema_version": 3,
     "solution": true,
     "task": false
    }
   },
   "outputs": [],
   "source": [
    "# YOUR CODE HERE\n",
    "raise NotImplementedError()"
   ]
  },
  {
   "cell_type": "code",
   "execution_count": null,
   "metadata": {
    "deletable": false,
    "editable": false,
    "nbgrader": {
     "cell_type": "code",
     "checksum": "5392e7438004889bd4c26f1f8f45286c",
     "grade": true,
     "grade_id": "cell-be9e128832d21896",
     "locked": true,
     "points": 1,
     "schema_version": 3,
     "solution": false,
     "task": false
    }
   },
   "outputs": [],
   "source": [
    "#hidden tests are within this cell"
   ]
  },
  {
   "cell_type": "markdown",
   "metadata": {},
   "source": [
    "#### 7.3.2 Named train route miles\n",
    "\n",
    "Create a `DataFrame` of predicted late times for named trains to combine with `route_mi_intervals`.\n",
    "Retrieve each named train (e.g. the sub service) and their associate route miles from `network` and\n",
    "store in two columns named \"Sub Service\" and \"Route Miles\". Assign the new `DataFrame` to a variable\n",
    "named `trn_route_mi`.\n",
    "\n",
    "Next, generate predictions for each row in `trn_route_mi`. Round the predictions to the second\n",
    "(`2nd`) decimal place. Assign the predictions to a new column named \"Predicted Avg Min Late\".\n",
    "\n",
    "Note that these predicted average late times are relevant only for late detraining passengers who\n",
    "travel the entire route."
   ]
  },
  {
   "cell_type": "code",
   "execution_count": null,
   "metadata": {
    "deletable": false,
    "nbgrader": {
     "cell_type": "code",
     "checksum": "c84b967ff9c3700a1e688c0031826f09",
     "grade": false,
     "grade_id": "cell-c1a530fd0c09b899",
     "locked": false,
     "schema_version": 3,
     "solution": true,
     "task": false
    }
   },
   "outputs": [],
   "source": [
    "# YOUR CODE HERE\n",
    "raise NotImplementedError()"
   ]
  },
  {
   "cell_type": "code",
   "execution_count": null,
   "metadata": {
    "deletable": false,
    "editable": false,
    "nbgrader": {
     "cell_type": "code",
     "checksum": "f277ead3c0a2125be5e7794c9fbbfe39",
     "grade": true,
     "grade_id": "cell-5f1ff97b6dcd7ede",
     "locked": true,
     "points": 1,
     "schema_version": 3,
     "solution": false,
     "task": false
    }
   },
   "outputs": [],
   "source": [
    "#hidden tests are within this cell"
   ]
  },
  {
   "cell_type": "markdown",
   "metadata": {},
   "source": [
    "### 7.4 Combine the data [1 pt]\n",
    "\n",
    "Combine `route_mi_intervals` and `trn_route_mi`. Assign the new `DataFrame` to a variable named\n",
    "`lm_predict`. Then sort the `DataFrame` rows by the route miles (ascending) and the sub service\n",
    "(descending). Finally, reset the index."
   ]
  },
  {
   "cell_type": "code",
   "execution_count": null,
   "metadata": {},
   "outputs": [],
   "source": [
    "# Columns in play\n",
    "cols = [COLS[\"route_miles\"], COLS[\"predict_avg_mm_late\"], COLS[\"sub_svc\"]]\n",
    "\n",
    "# Concatenate DataFrames, sort, and reset the index\n",
    "lm_predict = pd.concat([route_mi_intervals, trn_route_mi], ignore_index=True)\n",
    "lm_predict.sort_values(by=[cols[0], cols[-1]], ascending=[False, True], inplace=True)\n",
    "lm_predict.reset_index(drop=True, inplace=True)\n",
    "lm_predict"
   ]
  },
  {
   "cell_type": "code",
   "execution_count": null,
   "metadata": {
    "deletable": false,
    "editable": false,
    "nbgrader": {
     "cell_type": "code",
     "checksum": "a45d327f96c671b537df880e3fbcb0c1",
     "grade": true,
     "grade_id": "cell-2c612c71272279bd",
     "locked": true,
     "points": 1,
     "schema_version": 3,
     "solution": false,
     "task": false
    }
   },
   "outputs": [],
   "source": [
    "#hidden tests are within this cell"
   ]
  },
  {
   "cell_type": "markdown",
   "metadata": {},
   "source": [
    "### 7.5 Write to file [1 pt]\n",
    "\n",
    "Write `lm_predict` to a CSV file named `stu-amtk-avg_min_late_predict.csv`. Store the file in the\n",
    "`data/student` directory. Then compare it to the accompanying `fxt-amtk-avg_min_late_predict.csv` file.\n",
    "It must match line for line, character for character."
   ]
  },
  {
   "cell_type": "code",
   "execution_count": null,
   "metadata": {
    "deletable": false,
    "nbgrader": {
     "cell_type": "code",
     "checksum": "b914cd2c9b7663e4c815d2a6892eb0e3",
     "grade": false,
     "grade_id": "cell-e4c5c7a72796f263",
     "locked": false,
     "schema_version": 3,
     "solution": true,
     "task": false
    }
   },
   "outputs": [],
   "source": [
    "# YOUR CODE HERE\n",
    "raise NotImplementedError()"
   ]
  },
  {
   "cell_type": "code",
   "execution_count": null,
   "metadata": {
    "deletable": false,
    "editable": false,
    "nbgrader": {
     "cell_type": "code",
     "checksum": "76934f8a058656c762d992666d97969f",
     "grade": true,
     "grade_id": "cell-0b2ef16f14c1bc8e",
     "locked": true,
     "points": 1,
     "schema_version": 3,
     "solution": false,
     "task": false
    }
   },
   "outputs": [],
   "source": [
    "#hidden tests are within this cell"
   ]
  },
  {
   "cell_type": "markdown",
   "metadata": {
    "deletable": false,
    "editable": false,
    "nbgrader": {
     "cell_type": "markdown",
     "checksum": "6f2ee47a8542092468a3dd49fe447722",
     "grade": false,
     "grade_id": "cell-1758395339f47ee8",
     "locked": true,
     "schema_version": 3,
     "solution": false,
     "task": false
    }
   },
   "source": [
    "## 8.0 Watermark"
   ]
  },
  {
   "cell_type": "code",
   "execution_count": null,
   "metadata": {},
   "outputs": [],
   "source": [
    "%load_ext watermark\n",
    "%watermark -h -i -iv -m -v"
   ]
  }
 ],
 "metadata": {
  "kernelspec": {
   "display_name": "Python 3.11 (ipykernel)",
   "language": "python",
   "name": "python3"
  },
  "language_info": {
   "codemirror_mode": {
    "name": "ipython",
    "version": 3
   },
   "file_extension": ".py",
   "mimetype": "text/x-python",
   "name": "python",
   "nbconvert_exporter": "python",
   "pygments_lexer": "ipython3",
   "version": "3.11.9"
  }
 },
 "nbformat": 4,
 "nbformat_minor": 4
}
