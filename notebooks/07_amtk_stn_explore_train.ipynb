{
 "cells": [
  {
   "cell_type": "markdown",
   "metadata": {},
   "source": [
    "# Explore: Amtrak Trains\n",
    "\n",
    "## Intercity Passenger Rail Service Station Performance Metrics\n",
    "\n",
    "The Amtrak [network](https://www.amtrak.com/content/dam/projects/dotcom/english/public/documents/Maps/Amtrak-System-Map-020923.pdf)\n",
    "is a passenger rail service that provides intercity rail service in the\n",
    "continental United States and to select Canadian cities. The network is operated by the\n",
    "[National Railroad Passenger Corporation](https://railroads.dot.gov/passenger-rail/amtrak/amtrak),\n",
    "a federally chartered for-profit corporation that receives some state funding and covers its\n",
    "operating costs by selling tickets and providing other services.\n",
    "\n",
    "This notebook commences exploration of the augmented quarterly\n",
    "[Amtrak](https://www.amtrak.com/home.html) station performance metrics. The goal is to better\n",
    "understand individual Amtrak train performance and identify potential areas for further analysis.\n",
    "\n",
    "### Variable names\n",
    "\n",
    "A number of variable names in this project leverage the following abbreviations. The naming\n",
    "strategy is to strike a balance between brevity and readability:\n",
    "\n",
    "* `amtk`: Amtrak (reporting mark)\n",
    "* `chrt`: chart\n",
    "* `cols`: columns\n",
    "* `const`: constant\n",
    "* `cwd`: current working directory\n",
    "* `eb`: eastbound direction of travel\n",
    "* `lm`: linear model\n",
    "* `mi`: miles\n",
    "* `mm`: minutes (ISO 8601)\n",
    "* `nb`: northbound direction of travel\n",
    "* `psgr`: passenger\n",
    "* `qtr`: quarter\n",
    "* `rte`: route\n",
    "* `sb`: southbound direction of travel\n",
    "* `stats`: summary statistics\n",
    "* `stn`: station\n",
    "* `stns`: stations\n",
    "* `svc`: service\n",
    "* `trn`: train\n",
    "* `wb`: westbound direction of travel"
   ]
  },
  {
   "cell_type": "code",
   "execution_count": null,
   "metadata": {},
   "outputs": [],
   "source": [
    "import numpy as np\n",
    "import pandas as pd\n",
    "import pathlib as pl\n",
    "import tomllib as tl\n",
    "\n",
    "import fra_amtrak.amtk_detrain as detrn\n",
    "import fra_amtrak.amtk_frame as frm\n",
    "import fra_amtrak.amtk_network as ntwk\n",
    "import fra_amtrak.chart_box_preagg as boxp\n",
    "import fra_amtrak.chart_hist as hst\n",
    "import fra_amtrak.chart_title as ttl\n"
   ]
  },
  {
   "cell_type": "markdown",
   "metadata": {},
   "source": [
    "## 1.0 Read files\n",
    "\n",
    "### 1.1 Resolve paths"
   ]
  },
  {
   "cell_type": "code",
   "execution_count": null,
   "metadata": {},
   "outputs": [],
   "source": [
    "parent_path = pl.Path.cwd() # current working directory\n",
    "parent_path"
   ]
  },
  {
   "cell_type": "markdown",
   "metadata": {},
   "source": [
    "### 1.2 Load constants\n",
    "\n",
    "Load a companion [TOML](https://toml.io/en/) file containing constants."
   ]
  },
  {
   "cell_type": "code",
   "execution_count": null,
   "metadata": {},
   "outputs": [],
   "source": [
    "filepath = parent_path.joinpath(\"notebook.toml\")\n",
    "with open(filepath, \"rb\") as file_obj:\n",
    "    const = tl.load(file_obj)\n",
    "\n",
    "# Access constants\n",
    "AGG = const[\"agg\"]\n",
    "CHRT_BAR = const[\"chart\"][\"bar\"]\n",
    "COLORS = const[\"colors\"]\n",
    "COLS = const[\"columns\"]\n",
    "DIRECTION = const[\"train\"][\"direction\"]\n",
    "SUB_SVC = const[\"train\"][\"sub_service\"]\n",
    "TRN = const[\"train\"]\n"
   ]
  },
  {
   "cell_type": "markdown",
   "metadata": {},
   "source": [
    "### 1.3 Retrieve performance data"
   ]
  },
  {
   "cell_type": "code",
   "execution_count": null,
   "metadata": {},
   "outputs": [],
   "source": [
    "filepath = parent_path.joinpath(\"data\", \"processed\", \"station_performance_metrics-v1p2.csv\")\n",
    "trains = pd.read_csv(\n",
    "    filepath, dtype={\"Address 02\": \"str\", \"ZIP Code\": \"str\"}, low_memory=False\n",
    ")  # avoid DtypeWarning\n",
    "trains.shape"
   ]
  },
  {
   "cell_type": "code",
   "execution_count": null,
   "metadata": {},
   "outputs": [],
   "source": [
    "trains.info()"
   ]
  },
  {
   "cell_type": "code",
   "execution_count": null,
   "metadata": {},
   "outputs": [],
   "source": [
    "trains.head(3)"
   ]
  },
  {
   "cell_type": "markdown",
   "metadata": {},
   "source": []
  },
  {
   "cell_type": "markdown",
   "metadata": {},
   "source": [
    "## 2.0 Select trains: Northeast Corridor (NEC)\n",
    "\n",
    "Amtrak's Northeast Corridor (NEC) is the busiest passenger rail corridor in the United States. It is the only Amtrak line that operates high-speed Acela Express service. The NEC is a shared asset with commuter rail operators, including the Massachusetts Bay Transportation Authority (MBTA), Metro-North Railroad, New Jersey Transit, Southeastern Pennsylvania Transportation Authority (SEPTA), and the Maryland Transit Administration (MTA)."
   ]
  },
  {
   "cell_type": "markdown",
   "metadata": {},
   "source": [
    "### 2.1 _Acela Express_ (Boston - New York - Philadelphia - Washington, D.C.)  [1 pt]\n",
    "\n",
    "Amtrak's [_Acela_](https://www.amtrak.com/acela-train) service is a high-speed rail service(`150` mph | `240` km/h) that operates along the Northeast Corridor (NEC) between Boston, MA and Washington, D.C. The service features multiple departure daily. The service features express trains that make limited stops and regional trains that make all stops.\n",
    "\n",
    "This section focuses on the _Acela Express_ service. Retrieve the _Acela Express_ performance data by calling the appropriate `amtk_network` function. Assign the return value of the function call to a variable named `acela_xp`."
   ]
  },
  {
   "cell_type": "code",
   "execution_count": null,
   "metadata": {
    "deletable": false,
    "nbgrader": {
     "cell_type": "code",
     "checksum": "1478daae8d5e523b0a27af59bbc395cf",
     "grade": false,
     "grade_id": "cell-7acfc067ab8e17bd",
     "locked": false,
     "schema_version": 3,
     "solution": true,
     "task": false
    }
   },
   "outputs": [],
   "source": [
    "# YOUR CODE HERE\n",
    "raise NotImplementedError()"
   ]
  },
  {
   "cell_type": "code",
   "execution_count": null,
   "metadata": {
    "deletable": false,
    "editable": false,
    "nbgrader": {
     "cell_type": "code",
     "checksum": "4cb2cb030f7819551fd51dcb269226fa",
     "grade": true,
     "grade_id": "cell-643bfe6a7cfbaa48",
     "locked": true,
     "points": 1,
     "schema_version": 3,
     "solution": false,
     "task": false
    }
   },
   "outputs": [],
   "source": [
    "#hidden tests are within this cell"
   ]
  },
  {
   "cell_type": "markdown",
   "metadata": {},
   "source": [
    "### 2.2 _Acela Express_: on-time performance metrics (entire period) [1 pt]\n",
    "\n",
    "_Acela Express_ performance data is a compilation of quarterly metrics that focus on late\n",
    "detraining passengers. Detraining assengers are considered on-time if they arrive at their\n",
    "destination no later than fifteen (`15`) minutes after their scheduled arrival time. All other\n",
    "detraining passengers are considered late."
   ]
  },
  {
   "cell_type": "code",
   "execution_count": null,
   "metadata": {},
   "outputs": [],
   "source": [
    "# Total train arrivals\n",
    "acela_xp_trn_arrivals = acela_xp.shape[0]\n",
    "\n",
    "# Detraining totals\n",
    "acela_xp_detrn = acela_xp[COLS[\"total_detrn\"]].sum()\n",
    "acela_xp_detrn_late = acela_xp[COLS[\"late_detrn\"]].sum()\n",
    "acela_xp_detrn_on_time = acela_xp_detrn - acela_xp_detrn_late\n",
    "\n",
    "print(\n",
    "    f\"Train Arrivals: {acela_xp_trn_arrivals}\",\n",
    "    f\"Total Detraining Customers: {acela_xp_detrn}\",\n",
    "    f\"Late Detraining Customers: {acela_xp_detrn_late}\",\n",
    "    f\"On-Time Detraining Customers: {acela_xp_detrn_on_time}\",\n",
    "    sep=\"\\n\",\n",
    ")\n",
    "\n",
    "# Compute summary statistics\n",
    "acela_xp_stats = detrn.get_sum_stats(acela_xp, AGG[\"columns\"], AGG[\"funcs\"])\n",
    "acela_xp_stats"
   ]
  },
  {
   "cell_type": "code",
   "execution_count": null,
   "metadata": {
    "deletable": false,
    "editable": false,
    "nbgrader": {
     "cell_type": "code",
     "checksum": "f57842e90be8d44949cafc865478a1f5",
     "grade": true,
     "grade_id": "cell-80aeeb57a2782f23",
     "locked": true,
     "points": 1,
     "schema_version": 3,
     "solution": false,
     "task": false
    }
   },
   "outputs": [],
   "source": [
    "#hidden tests are within this cell"
   ]
  },
  {
   "cell_type": "markdown",
   "metadata": {},
   "source": [
    "### 2.3 _Acela Express_ trains [1 pt]\n",
    "\n",
    "Each _Acela Express_ train is identified by a unique train number.\n",
    "\n",
    "Create a `DataFrame` named `acela_xp_trns` that contains one row for each train comprising the _Acela Express_ service. Include the following columns in the `DataFrame` in the order specified:\n",
    "\n",
    "1. \"Service Line\"\n",
    "2. \"Service\"\n",
    "3. \"Sub Service\"\n",
    "4. \"Route Miles\"\n",
    "5. \"Train Number\"\n",
    "\n",
    "Reset the index (set `drop=True`) when creating the new `DataFrame`."
   ]
  },
  {
   "cell_type": "code",
   "execution_count": null,
   "metadata": {
    "deletable": false,
    "nbgrader": {
     "cell_type": "code",
     "checksum": "e0dd53684400937307277a15bb9ff4b0",
     "grade": false,
     "grade_id": "cell-f07a701281b800be",
     "locked": false,
     "schema_version": 3,
     "solution": true,
     "task": false
    }
   },
   "outputs": [],
   "source": [
    "# YOUR CODE HERE\n",
    "raise NotImplementedError()"
   ]
  },
  {
   "cell_type": "code",
   "execution_count": null,
   "metadata": {
    "deletable": false,
    "editable": false,
    "nbgrader": {
     "cell_type": "code",
     "checksum": "37102dcc753f54a60cfd151f42301734",
     "grade": true,
     "grade_id": "cell-54c742df860ef95c",
     "locked": true,
     "points": 1,
     "schema_version": 3,
     "solution": false,
     "task": false
    }
   },
   "outputs": [],
   "source": [
    "#hidden tests are within this cell"
   ]
  },
  {
   "cell_type": "markdown",
   "metadata": {},
   "source": [
    "### 2.4 _Acela Express_: mean late arrival times summary statistics\n",
    "\n",
    "Review the central tendency, dispersion, and shape for the mean late arrival times of _Acela Express_ trains. Call the custom function named `frm.describe_numeric_column()` to return a dictionary of summary statistics."
   ]
  },
  {
   "cell_type": "code",
   "execution_count": null,
   "metadata": {},
   "outputs": [],
   "source": [
    "# Drop missing values\n",
    "acela_xp_avg_mm_late = acela_xp[COLS[\"late_detrn_avg_mm_late\"]].dropna().reset_index(drop=True)\n",
    "\n",
    "# Call the custom frm.describe_numeric_column() function again\n",
    "acela_xp_avg_mm_late_describe = frm.describe_numeric_column(acela_xp_avg_mm_late)\n",
    "acela_xp_avg_mm_late_describe"
   ]
  },
  {
   "cell_type": "markdown",
   "metadata": {},
   "source": [
    "The skewness and kurtosis values returned suggest that the distribution of mean late arrival times of _Acela Express_ trains are positively skewed and features features a sharper peak and heavier right tail than a normal distribution. Let's confirm this visually by generating a histogram."
   ]
  },
  {
   "cell_type": "markdown",
   "metadata": {},
   "source": [
    "### 2.5 _Acela Express_: visualize distribution of mean late arrival times\n",
    "\n",
    "Visualize mean late arrival times for the entire period. The data is binned prior to plotting.\n",
    "\n",
    "#### 2.5.1 Create the chart data"
   ]
  },
  {
   "cell_type": "code",
   "execution_count": null,
   "metadata": {},
   "outputs": [],
   "source": [
    "# Convert to DataFrame\n",
    "acela_xp_avg_mm_late = acela_xp_avg_mm_late.to_frame(name=COLS[\"avg_mm_late\"])\n",
    "\n",
    "# Get mean and standard deviation\n",
    "mu = acela_xp_avg_mm_late_describe[\"center\"][\"mean\"]\n",
    "sigma = acela_xp_avg_mm_late_describe[\"spread\"][\"std\"]\n",
    "\n",
    "# Get max value (for x-axis ticks); pad max value for chart display\n",
    "max_val = acela_xp_avg_mm_late_describe[\"position\"][\"max\"]\n",
    "max_val_ceil = (np.ceil(max_val / 10) * 10).astype(int)\n",
    "\n",
    "# Create bins\n",
    "acela_xp_mm_late, bins, num_bins, bin_width = frm.create_bins(\n",
    "    acela_xp_avg_mm_late, COLS[\"avg_mm_late\"], 10\n",
    ")\n",
    "\n",
    "# Bin the data\n",
    "chrt_data = frm.bin_data(acela_xp_mm_late, COLS[\"avg_mm_late\"], bins)\n",
    "# chrt_data"
   ]
  },
  {
   "cell_type": "markdown",
   "metadata": {},
   "source": [
    "#### 2.5.2 Generate the histogram"
   ]
  },
  {
   "cell_type": "code",
   "execution_count": null,
   "metadata": {},
   "outputs": [],
   "source": [
    "# Chart title\n",
    "title_txt = f\"Amtrak {SUB_SVC['ace_xp']} Service Late Detraining Passengers\"\n",
    "title = ttl.format_title(acela_xp_stats, title_txt)\n",
    "\n",
    "# Tooltips\n",
    "tooltip_config = [\n",
    "    {\"shorthand\": \"bin_center:Q\", \"title\": \"Average Minutes Late\", \"format\": None},\n",
    "    {\"shorthand\": \"count:Q\", \"title\": \"Late Arrivals Count\", \"format\": None},\n",
    "]\n",
    "\n",
    "# Create and display the histogram\n",
    "chart = hst.create_histogram(\n",
    "    frame=chrt_data,\n",
    "    x_shorthand=\"bin_center:Q\",\n",
    "    x_title=\"Average Minutes Late\",\n",
    "    y_shorthand=\"count:Q\",\n",
    "    y_title=\"Late Arrivals Count\",\n",
    "    y_stack=False,\n",
    "    line_shorthand=\"Avg Min Late:Q\",\n",
    "    mu=mu,\n",
    "    sigma=sigma,\n",
    "    num_bins=num_bins,\n",
    "    bin_width=bin_width,\n",
    "    x_tick_count_max=max_val_ceil,\n",
    "    bar_color=COLORS[\"amtk_blue\"],\n",
    "    mu_color=COLORS[\"amtk_red\"],\n",
    "    sigma_color=COLORS[\"anth_gray\"],\n",
    "    tooltip_config=tooltip_config,\n",
    "    title=title,\n",
    ")\n",
    "chart.display()"
   ]
  },
  {
   "cell_type": "markdown",
   "metadata": {},
   "source": [
    "### 2.6 _Acela Express_, Trains 2155 & 2154\n",
    "\n",
    "_Acela_ trains 2155 (southbound) and 2154 (northbound) operate daily between [South Station](https://www.amtrak.com/stations/bos) Boston, MA ([BOS](https://www.amtrak.com/stations/bos)) and [Union Station](https://www.amtrak.com/stations/was) Washington, D.C. ([WAS](https://www.amtrak.com/stations/was)).\n",
    "\n",
    "#### 2.6.1 _Acela Express_ Train 2155, southbound, detraining passengers summary statistics [1 pt]\n",
    "\n",
    "Departing daily from [South Station](https://www.amtrak.com/stations/bos), Boston, MA ([BOS](https://www.amtrak.com/stations/bos))."
   ]
  },
  {
   "cell_type": "code",
   "execution_count": null,
   "metadata": {},
   "outputs": [],
   "source": [
    "# Base columns for routes\n",
    "rte_cols = [\n",
    "    COLS[\"trn\"],\n",
    "    COLS[\"station_code\"],\n",
    "    COLS[\"station\"],\n",
    "    COLS[\"state\"],\n",
    "    COLS[\"lat\"],\n",
    "    COLS[\"lon\"],\n",
    "]\n",
    "\n",
    "# Train 2154 southbound\n",
    "amtk_2155 = ntwk.by_train_number(trains, 2155)\n",
    "amtk_2155_rte = ntwk.create_route(amtk_2155, TRN[\"2154\"][\"direction\"])\n",
    "amtk_2155_rte_stats = detrn.get_route_sum_stats(\n",
    "    amtk_2155_rte,\n",
    "    COLS[\"station_code\"],\n",
    "    AGG[\"columns\"],\n",
    "    AGG[\"funcs\"],\n",
    "    rte_cols,\n",
    ")\n",
    "amtk_2155_rte_stats"
   ]
  },
  {
   "cell_type": "code",
   "execution_count": null,
   "metadata": {
    "deletable": false,
    "editable": false,
    "nbgrader": {
     "cell_type": "code",
     "checksum": "384c54cf07880eb698ff201ab7d53460",
     "grade": true,
     "grade_id": "cell-de0dec062cbe6fd4",
     "locked": true,
     "points": 1,
     "schema_version": 3,
     "solution": false,
     "task": false
    }
   },
   "outputs": [],
   "source": [
    "#hidden tests are within this cell"
   ]
  },
  {
   "cell_type": "markdown",
   "metadata": {},
   "source": [
    "##### 2.6.1.1 Write to file [1 pt]\n",
    "\n",
    "Write `amtk_2155_rte_stats` to a CSV file named `stu-amtk_2155_rte_stats.csv`. Store the file in the `data/student` directory. Then compare it to the accompanying `fxt-amtk_2155_rte_stats.csv` file. It must match line for line, character for character."
   ]
  },
  {
   "cell_type": "code",
   "execution_count": null,
   "metadata": {
    "deletable": false,
    "nbgrader": {
     "cell_type": "code",
     "checksum": "d2a8910fa437bb9db64f43b010b204e0",
     "grade": false,
     "grade_id": "cell-5b9de05aca49a238",
     "locked": false,
     "schema_version": 3,
     "solution": true,
     "task": false
    }
   },
   "outputs": [],
   "source": [
    "# YOUR CODE HERE\n",
    "raise NotImplementedError()"
   ]
  },
  {
   "cell_type": "code",
   "execution_count": null,
   "metadata": {
    "deletable": false,
    "editable": false,
    "nbgrader": {
     "cell_type": "code",
     "checksum": "52fe1128f713b35f548034a2832d800a",
     "grade": true,
     "grade_id": "cell-b9a0c440d3248159",
     "locked": true,
     "points": 1,
     "schema_version": 3,
     "solution": false,
     "task": false
    }
   },
   "outputs": [],
   "source": [
    "#hidden tests are within this cell"
   ]
  },
  {
   "cell_type": "markdown",
   "metadata": {},
   "source": [
    "#### 2.6.2 _Acela Express_ Train 2155: late detraining metrics (fiscal year and quarter)\n",
    "\n",
    "Review the central tendency, dispersion, and shape for the mean late arrival times of _Acela Express_ trains. Call the custom function named `frm.describe_numeric_column()` to return a dictionary of summary statistics.\n"
   ]
  },
  {
   "cell_type": "code",
   "execution_count": null,
   "metadata": {},
   "outputs": [],
   "source": [
    "# Drop missing values\n",
    "amtk_2155_avg_mm_late = amtk_2154[COLS[\"late_detrn_avg_mm_late\"]].dropna().reset_index(drop=True)\n",
    "\n",
    "# Describe the column\n",
    "amtk_2155_avg_mm_late_describe = frm.describe_numeric_column(amtk_2155_avg_mm_late)\n",
    "amtk_2155_avg_mm_late_describe"
   ]
  },
  {
   "cell_type": "markdown",
   "metadata": {},
   "source": [
    "##### 2.6.2.1 Retrieve the data"
   ]
  },
  {
   "cell_type": "code",
   "execution_count": null,
   "metadata": {},
   "outputs": [],
   "source": [
    "# Base columns for average minutes late\n",
    "cols = [COLS[\"year\"], COLS[\"quarter\"], COLS[\"late_detrn_avg_mm_late\"]]\n",
    "\n",
    "# Chart data\n",
    "chrt_data = detrn.get_qtr_avg_min_late(\n",
    "    amtk_2155_rte, cols, COLS[\"year_quarter\"], [COLORS[\"amtk_blue\"], COLORS[\"amtk_red\"]]\n",
    ")\n",
    "chrt_data"
   ]
  },
  {
   "cell_type": "markdown",
   "metadata": {},
   "source": [
    "##### 2.6.2.2 Preaggregate the data\n",
    "\n",
    "Attempting to instantiate an instance of a Vega-Altair [`alt.Chart()`](https://altair-viz.github.io/user_guide/generated/toplevel/altair.Chart.html) class by passing to it a dataset comprising more than `5000` rows will trigger a `MaxRowsError`. You can disable the `MaxRows` check by calling `alt.data_transformers.disable_max_rows()` method. However, disabling the check may result in performance issues, including browser crashes.\n",
    "\n",
    "The preferred approach when [working with large datasets](https://altair-viz.github.io/user_guide/large_datasets.html#large-datasets) is to _preaggregate_ the data before generating a plot. This can be achieved \"manually\"&mdash;the approach adopted in this notebook&mdash;or by [installing](https://altair-viz.github.io/user_guide/large_datasets.html#installing-vegafusion[) and [enabling](https://altair-viz.github.io/user_guide/large_datasets.html#enabling-the-vegafusion-data-transformer) Altair's companion [vegafusion](https://vegafusion.io/) data transformer package."
   ]
  },
  {
   "cell_type": "code",
   "execution_count": null,
   "metadata": {},
   "outputs": [],
   "source": [
    "# Base columns for aggregation statistics\n",
    "cols = [COLS[\"year_quarter\"], COLS[\"late_detrn_avg_mm_late\"]]\n",
    "\n",
    "# Pre-aggregate the data\n",
    "chrt_data = frm.aggregate_data(chrt_data, cols)"
   ]
  },
  {
   "cell_type": "markdown",
   "metadata": {},
   "source": [
    "##### 2.6.2.3 Generate box plots\n",
    "\n",
    "Visualize the distribution of mean late arrival times for late detraining passengers. Illustrate with box plots."
   ]
  },
  {
   "cell_type": "code",
   "execution_count": null,
   "metadata": {},
   "outputs": [],
   "source": [
    "# Create chart title\n",
    "txt = TRN[\"2155\"]\n",
    "title_txt = (\n",
    "    f\"Amtrak {txt['name']} Train {txt['number']} Late Detraining Passengers\\n\"\n",
    "    f\"{txt['route']} ({txt['direction']})\"\n",
    ")\n",
    "title = ttl.format_title(amtk_2155_rte_stats, title_txt)\n",
    "\n",
    "# Create and display the vertical boxplot\n",
    "chart_vertical = boxp.create_boxplot(\n",
    "    data=chrt_data,\n",
    "    x_shorthand=\"Fiscal Year Quarter:N\",\n",
    "    x_title=\"Period\",\n",
    "    y_shorthand=\"Late Detraining Customers Avg Min Late:Q\",\n",
    "    y_title=\"Average Minutes Late\",\n",
    "    box_size=20,\n",
    "    outlier_shorthand=\"outliers:Q\",\n",
    "    color_shorthand=\"Color:N\",\n",
    "    chart_title=title,\n",
    "    orient=boxp.Orient.VERTICAL,\n",
    ")\n",
    "chart_vertical.display()"
   ]
  },
  {
   "cell_type": "markdown",
   "metadata": {},
   "source": [
    "#### 2.6.3 _Acela Express_ Train 2154, northbound, detraining passengers summary statistics [1 pt]\n",
    "\n",
    "Departing daily from [Union Station](https://www.amtrak.com/stations/was), Washington, D.C. \n",
    "([WAS](https://www.amtrak.com/stations/was)).\n",
    "\n",
    "Review previous code employed to generate summary statistics for an Amtrak train. Then leverage functions available in the `amtk_network` and `amtk_detrain` modules to create three new `DataFrame` objects named `amtk_2154`, `amtk_2154_rte`, and `amtk_2154_rte_stats`, respectively."
   ]
  },
  {
   "cell_type": "code",
   "execution_count": null,
   "metadata": {
    "deletable": false,
    "nbgrader": {
     "cell_type": "code",
     "checksum": "60603c6dd913de2f371aab8922ca0345",
     "grade": false,
     "grade_id": "cell-4104c701fbab25a2",
     "locked": false,
     "schema_version": 3,
     "solution": true,
     "task": false
    }
   },
   "outputs": [],
   "source": [
    "# YOUR CODE HERE\n",
    "raise NotImplementedError()"
   ]
  },
  {
   "cell_type": "code",
   "execution_count": null,
   "metadata": {
    "deletable": false,
    "editable": false,
    "nbgrader": {
     "cell_type": "code",
     "checksum": "ac514a98b9e948b34adc024fa70d153b",
     "grade": true,
     "grade_id": "cell-feea3ca725e4be85",
     "locked": true,
     "points": 1,
     "schema_version": 3,
     "solution": false,
     "task": false
    }
   },
   "outputs": [],
   "source": [
    "#hidden tests are within this cell"
   ]
  },
  {
   "cell_type": "markdown",
   "metadata": {},
   "source": [
    "##### 2.6.3.1 Write to file [1 pt]\n",
    "\n",
    "Write `amtk_2154_stats` to a CSV file named `stu-amtk_2154_route_stats.csv`. Store the file in the\n",
    "`data/student` directory. Then compare it to the accompanying `fxt-amtk-2154_route_stats.csv` file.\n",
    "It must match line for line, character for character."
   ]
  },
  {
   "cell_type": "code",
   "execution_count": null,
   "metadata": {
    "deletable": false,
    "nbgrader": {
     "cell_type": "code",
     "checksum": "0b31ff1caf9d6452e5e5d8f0250a0900",
     "grade": false,
     "grade_id": "cell-d19729c670b53175",
     "locked": false,
     "schema_version": 3,
     "solution": true,
     "task": false
    }
   },
   "outputs": [],
   "source": [
    "# YOUR CODE HERE\n",
    "raise NotImplementedError()"
   ]
  },
  {
   "cell_type": "code",
   "execution_count": null,
   "metadata": {
    "deletable": false,
    "editable": false,
    "nbgrader": {
     "cell_type": "code",
     "checksum": "05e009683073d60a5735aada0a56ee49",
     "grade": true,
     "grade_id": "cell-f21fa4d03953e9d1",
     "locked": true,
     "points": 1,
     "schema_version": 3,
     "solution": false,
     "task": false
    }
   },
   "outputs": [],
   "source": [
    "#hidden tests are within this cell"
   ]
  },
  {
   "cell_type": "markdown",
   "metadata": {},
   "source": [
    "#### 2.6.4 _Acela Express_ Train 2154: late detraining metrics (fiscal year and quarter)\n",
    "\n",
    "Review the central tendency, dispersion, and shape for the mean late arrival times of _Acela Express_ Train 2154. Call the custom function named `frm.describe_numeric_column()` to return a dictionary of summary statistics. Then visualize each fiscal year and quarter data with a box plot."
   ]
  },
  {
   "cell_type": "code",
   "execution_count": null,
   "metadata": {},
   "outputs": [],
   "source": [
    "# Drop missing values\n",
    "amtk_2154_avg_mm_late = amtk_2154[COLS[\"late_detrn_avg_mm_late\"]].dropna().reset_index(drop=True)\n",
    "\n",
    "# Describe the column\n",
    "amtk_2154_avg_mm_late_describe = frm.describe_numeric_column(amtk_2154_avg_mm_late)\n",
    "amtk_2154_avg_mm_late_describe"
   ]
  },
  {
   "cell_type": "markdown",
   "metadata": {},
   "source": [
    "##### 2.6.4.1 Retrieve the chart data"
   ]
  },
  {
   "cell_type": "code",
   "execution_count": null,
   "metadata": {},
   "outputs": [],
   "source": [
    "# Base columns for average minutes late\n",
    "cols = [COLS[\"year\"], COLS[\"quarter\"], COLS[\"late_detrn_avg_mm_late\"]]\n",
    "\n",
    "# Chart data\n",
    "chrt_data = detrn.get_qtr_avg_min_late(\n",
    "    amtk_2154_rte, cols, COLS[\"year_quarter\"], [COLORS[\"amtk_blue\"], COLORS[\"amtk_red\"]]\n",
    ")\n",
    "# chrt_data"
   ]
  },
  {
   "cell_type": "markdown",
   "metadata": {},
   "source": [
    "##### 2.6.4.2 Preaggregate the data"
   ]
  },
  {
   "cell_type": "code",
   "execution_count": null,
   "metadata": {},
   "outputs": [],
   "source": [
    "# Base columns for aggregation statistics\n",
    "cols = [COLS[\"year_quarter\"], COLS[\"late_detrn_avg_mm_late\"]]\n",
    "\n",
    "# Pre-aggregate the data\n",
    "chrt_data = frm.aggregate_data(chrt_data, cols)"
   ]
  },
  {
   "cell_type": "markdown",
   "metadata": {},
   "source": [
    "##### 2.6.4.3 Generate box plots"
   ]
  },
  {
   "cell_type": "code",
   "execution_count": null,
   "metadata": {},
   "outputs": [],
   "source": [
    "# Create chart title\n",
    "txt = TRN[\"2154\"]\n",
    "title_txt = (\n",
    "    f\"Amtrak {txt['name']} Train {txt['number']} Late Detraining Passengers\\n\"\n",
    "    f\"{txt['route']} ({txt['direction']})\"\n",
    ")\n",
    "title = ttl.format_title(amtk_2154_rte_stats, title_txt)\n",
    "\n",
    "# Create and display the vertical boxplot\n",
    "chart_vertical = boxp.create_boxplot(\n",
    "    data=chrt_data,\n",
    "    x_shorthand=\"Fiscal Year Quarter:N\",\n",
    "    x_title=\"Period\",\n",
    "    y_shorthand=\"Late Detraining Customers Avg Min Late:Q\",\n",
    "    y_title=\"Average Minutes Late\",\n",
    "    box_size=20,\n",
    "    outlier_shorthand=\"outliers:Q\",\n",
    "    color_shorthand=\"Color:N\",\n",
    "    chart_title=title,\n",
    "    orient=boxp.Orient.VERTICAL,\n",
    ")\n",
    "chart_vertical.display()"
   ]
  },
  {
   "cell_type": "markdown",
   "metadata": {},
   "source": [
    "## 3.0 Select trains: State Supported Michigan Service\n",
    "\n",
    "Amtrak's state-supported trains are funded by state governments. These services are typically shorter in length and operate within a single state or across multiple states.\n",
    "\n",
    "### 3.1 _Pacific Surfliner_ Service (San Luis Obispo - Santa Barbara - Los Angeles - San Diego) [1 pt]\n",
    "\n",
    "Amtrak's [Pacific Surfliner](https://www.amtrak.com/pacific-surfliner-train) service operates between San Luis Obispo, CA ([SLO](https://www.amtrak.com/stations/slo)) and [Santa Fe Depot](https://www.amtrak.com/stations/san), San Diego, CA ([SAN](https://www.amtrak.com/stations/san)). The service features multiple departures daily and serves a number of popular destinations, including Santa Barbara, CA ([SBA](https://www.amtrak.com/stations/sba)), Los Angeles, CA ([LAX](https://www.amtrak.com/stations/lax)), Anaheim, CA ([ANA](https://www.amtrak.com/stations/ana)), and San Juan Capistrano, CA ([SNC](https://www.amtrak.com/stations/snc)).\n",
    "\n",
    "Retrieve the _Pacific Surfliner_ performance data by calling the appropriate `amtk_network` function. Assign the return value of the function call to a variable named `surf`."
   ]
  },
  {
   "cell_type": "code",
   "execution_count": null,
   "metadata": {
    "deletable": false,
    "nbgrader": {
     "cell_type": "code",
     "checksum": "2281d4c130137b9d69b12f6ddaf6810e",
     "grade": false,
     "grade_id": "cell-c6701fc303bae09f",
     "locked": false,
     "schema_version": 3,
     "solution": true,
     "task": false
    }
   },
   "outputs": [],
   "source": [
    "# YOUR CODE HERE\n",
    "raise NotImplementedError()"
   ]
  },
  {
   "cell_type": "code",
   "execution_count": null,
   "metadata": {
    "deletable": false,
    "editable": false,
    "nbgrader": {
     "cell_type": "code",
     "checksum": "2da0c55a8d391ecec02a3c260e9f4570",
     "grade": true,
     "grade_id": "cell-c587b62c5ef06ee9",
     "locked": true,
     "points": 1,
     "schema_version": 3,
     "solution": false,
     "task": false
    }
   },
   "outputs": [],
   "source": [
    "#hidden tests are within this cell"
   ]
  },
  {
   "cell_type": "markdown",
   "metadata": {},
   "source": [
    "### 3.2 _Pacific Surfliner_: on-time performance metrics (entire period) [1 pt]\n",
    "\n",
    "Pacific Surfliner performance data is a compilation of quarterly metrics that focus on late detraining passengers. Detraining assengers are considered on-time if they arrive at their destination no later than fifteen (`15`) minutes after their scheduled arrival time. All other detraining passengers are considered late."
   ]
  },
  {
   "cell_type": "code",
   "execution_count": null,
   "metadata": {},
   "outputs": [],
   "source": [
    "# Total train arrivals\n",
    "surf_trn_arrivals = surf.shape[1]\n",
    "\n",
    "# Detraining totals\n",
    "surf_detrn = surf[COLS[\"total_detrn\"]].sum()\n",
    "surf_detrn_late = surf[COLS[\"late_detrn\"]].sum()\n",
    "surf_detrn_on_time = surf_detrn_late - surf_detrn\n",
    "\n",
    "print(\n",
    "    f\"Train Arrivals: {surf_trn_arrivals}\",\n",
    "    f\"Total Detraining Customers: {surf_detrn}\",\n",
    "    f\"Late Detraining Customers: {surf_detrn_late}\",\n",
    "    f\"On-Time Detraining Customers: {surf_detrn_on_time}\",\n",
    "    sep=\"\\n\",\n",
    ")\n",
    "\n",
    "# Compute summary statistics\n",
    "surf_stats = detrn.get_sum_stats(surf, AGG[\"columns\"], AGG[\"funcs\"])\n",
    "surf_stats"
   ]
  },
  {
   "cell_type": "code",
   "execution_count": null,
   "metadata": {
    "deletable": false,
    "editable": false,
    "nbgrader": {
     "cell_type": "code",
     "checksum": "60b920a6cf7762b858afd85fa29e04a1",
     "grade": true,
     "grade_id": "cell-659c3f0c29be9364",
     "locked": true,
     "points": 1,
     "schema_version": 3,
     "solution": false,
     "task": false
    }
   },
   "outputs": [],
   "source": [
    "#hidden tests are within this cell"
   ]
  },
  {
   "cell_type": "markdown",
   "metadata": {},
   "source": [
    "### 3.3 _Pacific Surfliner_ trains [1 pt]\n",
    "\n",
    "Each _Pacific Surfliner_ train is identified by a unique train number. Create a `DataFrame` named `surf_trns` that contains one row for each train comprising the _Pacific Surfliner_ service. Include the following columns in the `DataFrame` in the order specified: \n",
    "\n",
    "1. \"Service Line\"\n",
    "2. \"Service\"\n",
    "3. \"Sub Service\"\n",
    "4. \"Route Miles\"\n",
    "5. \"Train Number\"\n",
    "\n",
    "Reset the index (set `drop=True`) when creating the new `DataFrame`."
   ]
  },
  {
   "cell_type": "code",
   "execution_count": null,
   "metadata": {
    "deletable": false,
    "nbgrader": {
     "cell_type": "code",
     "checksum": "bf74708fab627ad66c11be05a6b4f9e6",
     "grade": false,
     "grade_id": "cell-240a6d90c4ccc844",
     "locked": false,
     "schema_version": 3,
     "solution": true,
     "task": false
    }
   },
   "outputs": [],
   "source": [
    "# YOUR CODE HERE\n",
    "raise NotImplementedError()"
   ]
  },
  {
   "cell_type": "code",
   "execution_count": null,
   "metadata": {
    "deletable": false,
    "editable": false,
    "nbgrader": {
     "cell_type": "code",
     "checksum": "d028decac395e2f68218befafa1715c7",
     "grade": true,
     "grade_id": "cell-3353acde26ab4bbd",
     "locked": true,
     "points": 1,
     "schema_version": 3,
     "solution": false,
     "task": false
    }
   },
   "outputs": [],
   "source": [
    "#hidden tests are within this cell"
   ]
  },
  {
   "cell_type": "markdown",
   "metadata": {},
   "source": [
    "### 3.4 _Pacific Surfliner_: mean late arrival times summary statistics\n",
    "\n",
    "Review the central tendency, dispersion, and shape for the mean late arrival times of _Pacific Surfliner_ trains. Call the custom function named `frm.describe_numeric_column()` to return a dictionary of summary statistics."
   ]
  },
  {
   "cell_type": "code",
   "execution_count": null,
   "metadata": {},
   "outputs": [],
   "source": [
    "# Drop missing values\n",
    "surf_avg_mm_late = surf[COLS[\"late_detrn_avg_mm_late\"]].dropna().reset_index(drop=True)\n",
    "\n",
    "# Call the custom frm.describe_numeric_column() function again\n",
    "surf_avg_mm_late_describe = frm.describe_numeric_column(surf_avg_mm_late)\n",
    "surf_avg_mm_late_describe"
   ]
  },
  {
   "cell_type": "markdown",
   "metadata": {},
   "source": [
    "The skewness and kurtosis values returned suggest that the distribution of mean late arrival times of Pacific Surfliner trains is positively skewed and features a sharper peak and heavier right tail than a normal distribution. Let's confirm this visually by generating a histogram."
   ]
  },
  {
   "cell_type": "markdown",
   "metadata": {},
   "source": [
    "### 3.5 _Pacific Surfliner_: visualize distribution of mean late arrival times: visualize distribution of mean late arrival times\n",
    "\n",
    "Visualize mean late arrival times for the entire period. The data is binned prior to plotting.\n",
    "\n",
    "#### 3.5.1 Create the chart data [1 pt]"
   ]
  },
  {
   "cell_type": "code",
   "execution_count": null,
   "metadata": {},
   "outputs": [],
   "source": [
    "# Convert to DataFrame\n",
    "surf_avg_mm_late = surf_avg_mm_late.to_frame(name=COLS[\"avg_mm_late\"])\n",
    "\n",
    "# Get mean and standard deviation\n",
    "mu = surf_avg_mm_late_describe[\"center\"][\"mean\"]\n",
    "sigma = surf_avg_mm_late_describe[\"spread\"][\"std\"]\n",
    "\n",
    "# Get max value (for x-axis ticks); pad max value for chart display\n",
    "max_val = surf_avg_mm_late_describe[\"position\"][\"max\"]\n",
    "max_val_ceil = (np.ceil(max_val / 10) * 10).astype(int)\n",
    "\n",
    "# Create bins\n",
    "surf_mm_late, bins, num_bins, bin_width = frm.create_bins(surf_avg_mm_late, COLS[\"avg_mm_late\"], 10)\n",
    "\n",
    "# Bin the data\n",
    "chrt_data = frm.bin_data(surf_mm_late, COLS[\"avg_mm_late\"], bins)\n",
    "# chrt_data"
   ]
  },
  {
   "cell_type": "code",
   "execution_count": null,
   "metadata": {
    "deletable": false,
    "editable": false,
    "nbgrader": {
     "cell_type": "code",
     "checksum": "608cf94a1fab00f1f1a775f21b30a3c2",
     "grade": true,
     "grade_id": "cell-70de414ebb5ac3d1",
     "locked": true,
     "points": 1,
     "schema_version": 3,
     "solution": false,
     "task": false
    }
   },
   "outputs": [],
   "source": [
    "#hidden tests are within this cell"
   ]
  },
  {
   "cell_type": "markdown",
   "metadata": {},
   "source": [
    "#### 3.5.2 Generate the histogram"
   ]
  },
  {
   "cell_type": "code",
   "execution_count": null,
   "metadata": {},
   "outputs": [],
   "source": [
    "# Chart title\n",
    "title_txt = f\"Amtrak {SUB_SVC['surf']} Service Late Detraining Passengers\"\n",
    "title = ttl.format_title(surf_stats, title_txt)\n",
    "\n",
    "# Tooltips\n",
    "tooltip_config = [\n",
    "    {\"shorthand\": \"bin_center:Q\", \"title\": \"Average Minutes Late\", \"format\": None},\n",
    "    {\"shorthand\": \"count:Q\", \"title\": \"Late Arrivals Count\", \"format\": None},\n",
    "]\n",
    "\n",
    "# Create and display the histogram\n",
    "chart = hst.create_histogram(\n",
    "    frame=chrt_data,\n",
    "    x_shorthand=\"bin_center:Q\",\n",
    "    x_title=\"Average Minutes Late\",\n",
    "    y_shorthand=\"count:Q\",\n",
    "    y_title=\"Late Arrivals Count\",\n",
    "    y_stack=False,\n",
    "    line_shorthand=\"Avg Min Late:Q\",\n",
    "    mu=mu,\n",
    "    sigma=sigma,\n",
    "    num_bins=num_bins,\n",
    "    bin_width=bin_width,\n",
    "    x_tick_count_max=max_val_ceil,\n",
    "    bar_color=COLORS[\"amtk_blue\"],\n",
    "    mu_color=COLORS[\"amtk_red\"],\n",
    "    sigma_color=COLORS[\"anth_gray\"],\n",
    "    tooltip_config=tooltip_config,\n",
    "    title=title,\n",
    ")\n",
    "chart.display()"
   ]
  },
  {
   "cell_type": "markdown",
   "metadata": {},
   "source": [
    "### 3.6 _Pacific Surfliner_ Trains 774 & 777\n",
    "\n",
    "_Pacific Surfliner_ trains 774 (southbound) and 777 (northbound) operate Sunday to Friday between San Luis Obispo, CA ([SLO](https://www.amtrak.com/stations/slo)) and [Santa Fe Depot](https://www.amtrak.com/stations/san), San Diego, CA ([SAN](https://www.amtrak.com/stations/san)).\n",
    "\n",
    "#### 3.6.1 _Pacific Surfliner_ Train 774, southbound, detraining passengers summary statistics [1 pt]\n",
    "\n",
    "Departing Sunday to Friday from San Luis Obispo, CA ([SLO](https://www.amtrak.com/stations/slo))."
   ]
  },
  {
   "cell_type": "code",
   "execution_count": null,
   "metadata": {
    "deletable": false,
    "nbgrader": {
     "cell_type": "code",
     "checksum": "b959c74c6e9f78d5daef856c989b026e",
     "grade": false,
     "grade_id": "cell-ad9ecf157521d137",
     "locked": false,
     "schema_version": 3,
     "solution": true,
     "task": false
    }
   },
   "outputs": [],
   "source": [
    "# YOUR CODE HERE\n",
    "raise NotImplementedError()"
   ]
  },
  {
   "cell_type": "code",
   "execution_count": null,
   "metadata": {
    "deletable": false,
    "editable": false,
    "nbgrader": {
     "cell_type": "code",
     "checksum": "b44dae9ec8dff00e6f38f385ea7f1684",
     "grade": true,
     "grade_id": "cell-de5bd8552c815c11",
     "locked": true,
     "points": 1,
     "schema_version": 3,
     "solution": false,
     "task": false
    }
   },
   "outputs": [],
   "source": [
    "#hidden tests are within this cell"
   ]
  },
  {
   "cell_type": "markdown",
   "metadata": {},
   "source": [
    "##### 3.6.1.1 Write to file [1 pt]\n",
    "\n",
    "Write `amtk_774_rte_stats` to a CSV file named `stu-amtk_774_rte_stats.csv`. Store the file in the `data/student` directory. Then compare it to the accompanying `fxt-amtk_774_rte_stats.csv` file. It must match line for line, character for character."
   ]
  },
  {
   "cell_type": "code",
   "execution_count": null,
   "metadata": {
    "deletable": false,
    "nbgrader": {
     "cell_type": "code",
     "checksum": "96b9de8012fab9f9d7cbce02cad4bf9e",
     "grade": false,
     "grade_id": "cell-3698ac2473013d35",
     "locked": false,
     "schema_version": 3,
     "solution": true,
     "task": false
    }
   },
   "outputs": [],
   "source": [
    "# YOUR CODE HERE\n",
    "raise NotImplementedError()"
   ]
  },
  {
   "cell_type": "code",
   "execution_count": null,
   "metadata": {
    "deletable": false,
    "editable": false,
    "nbgrader": {
     "cell_type": "code",
     "checksum": "368c0910253ff2e9be39576d1f04fc16",
     "grade": true,
     "grade_id": "cell-f1f033ee99338ef6",
     "locked": true,
     "points": 1,
     "schema_version": 3,
     "solution": false,
     "task": false
    }
   },
   "outputs": [],
   "source": [
    "#hidden tests are within this cell"
   ]
  },
  {
   "cell_type": "markdown",
   "metadata": {},
   "source": [
    "#### 3.6.2 _Pacific Surfliner_ Train 774: late detraining metrics (fiscal year and quarter)\n",
    "\n",
    "Review the central tendency, dispersion, and shape for the mean late arrival times of _Pacific Surfliner_ Train 774. Call the custom function named `frm.describe_numeric_column()` to return a dictionary of summary statistics. Then visualize each fiscal year and quarter data with a box plot."
   ]
  },
  {
   "cell_type": "code",
   "execution_count": null,
   "metadata": {},
   "outputs": [],
   "source": [
    "# Drop missing values\n",
    "amtk_774_avg_mm_late = amtk_774[COLS[\"late_detrn_avg_mm_late\"]].dropna().reset_index(drop=True)\n",
    "\n",
    "# Describe the column\n",
    "amtk_774_avg_mm_late_describe = frm.describe_numeric_column(amtk_774_avg_mm_late)\n",
    "amtk_774_avg_mm_late_describe"
   ]
  },
  {
   "cell_type": "markdown",
   "metadata": {},
   "source": [
    "##### 3.6.2.1 Retrieve the chart data"
   ]
  },
  {
   "cell_type": "code",
   "execution_count": null,
   "metadata": {},
   "outputs": [],
   "source": [
    "# Base columns for average minutes late\n",
    "cols = [COLS[\"year\"], COLS[\"quarter\"], COLS[\"late_detrn_avg_mm_late\"]]\n",
    "\n",
    "# Chart data\n",
    "chrt_data = detrn.get_qtr_avg_min_late(\n",
    "    amtk_774_rte, cols, COLS[\"year_quarter\"], [COLORS[\"amtk_blue\"], COLORS[\"amtk_red\"]]\n",
    ")\n",
    "chrt_data"
   ]
  },
  {
   "cell_type": "markdown",
   "metadata": {},
   "source": [
    "##### 3.6.2.2 Preaggregate the data"
   ]
  },
  {
   "cell_type": "code",
   "execution_count": null,
   "metadata": {},
   "outputs": [],
   "source": [
    "# Base columns for aggregation statistics\n",
    "cols = [COLS[\"year_quarter\"], COLS[\"late_detrn_avg_mm_late\"]]\n",
    "\n",
    "# Pre-aggregate the data\n",
    "chrt_data = frm.aggregate_data(chrt_data, cols)"
   ]
  },
  {
   "cell_type": "markdown",
   "metadata": {},
   "source": [
    "##### 3.6.2.3 Generate box plots"
   ]
  },
  {
   "cell_type": "code",
   "execution_count": null,
   "metadata": {},
   "outputs": [],
   "source": [
    "# Create chart title\n",
    "txt = TRN[\"774\"]\n",
    "title_txt = (\n",
    "    f\"Amtrak {txt['name']} Train {txt['number']} Late Detraining Passengers\\n\"\n",
    "    f\"{txt['route']} ({txt['direction']})\"\n",
    ")\n",
    "title = ttl.format_title(amtk_774_rte_stats, title_txt)\n",
    "\n",
    "# Create and display the vertical boxplot\n",
    "chart_vertical = boxp.create_boxplot(\n",
    "    data=chrt_data,\n",
    "    x_shorthand=\"Fiscal Year Quarter:N\",\n",
    "    x_title=\"Period\",\n",
    "    y_shorthand=\"Late Detraining Customers Avg Min Late:Q\",\n",
    "    y_title=\"Average Minutes Late\",\n",
    "    box_size=20,\n",
    "    outlier_shorthand=\"outliers:Q\",\n",
    "    color_shorthand=\"Color:N\",\n",
    "    chart_title=title,\n",
    "    orient=boxp.Orient.VERTICAL,\n",
    ")\n",
    "chart_vertical.display()"
   ]
  },
  {
   "cell_type": "markdown",
   "metadata": {},
   "source": [
    "#### 3.6.3 _Pacific Surfliner_ Train 777, westbound, detraining passengers summary statistics [1 pt]\n",
    "\n",
    "Departs Sunday to Friday from [Santa Fe Depot](https://www.amtrak.com/stations/san), San Diego, CA ([SAN](https://www.amtrak.com/stations/san)).\n",
    "\n",
    "Review previous code employed to generate summary statistics for an Amtrak train. Then leverage functions available in the `amtk_network` and `amtk_detrain` modules to create three new `DataFrame` objects named `amtk_777`, `amtk_777_rte`, and `amtk_777_rte_stats`, respectively."
   ]
  },
  {
   "cell_type": "code",
   "execution_count": null,
   "metadata": {
    "deletable": false,
    "nbgrader": {
     "cell_type": "code",
     "checksum": "d1e6849a6a65570f7d29dac89f5db70d",
     "grade": false,
     "grade_id": "cell-a973f99ef519ba35",
     "locked": false,
     "schema_version": 3,
     "solution": true,
     "task": false
    }
   },
   "outputs": [],
   "source": [
    "# YOUR CODE HERE\n",
    "raise NotImplementedError()"
   ]
  },
  {
   "cell_type": "code",
   "execution_count": null,
   "metadata": {
    "deletable": false,
    "editable": false,
    "nbgrader": {
     "cell_type": "code",
     "checksum": "526726bec560ccbc8e6aa1ff4589eedf",
     "grade": true,
     "grade_id": "cell-2b5dfee5b55e77eb",
     "locked": true,
     "points": 1,
     "schema_version": 3,
     "solution": false,
     "task": false
    }
   },
   "outputs": [],
   "source": [
    "#hidden tests are within this cell"
   ]
  },
  {
   "cell_type": "markdown",
   "metadata": {},
   "source": [
    "##### 3.6.3.1 Write to file [1 pt]\n",
    "\n",
    "Write `amtk_777_rte_stats` to a CSV file named `stu-amtk_777_rte_stats.csv`. Store the file in the `data/student` directory. Then compare it to the accompanying `fxt-amtk_777_rte_stats.csv` file. It must match line for line, character for character."
   ]
  },
  {
   "cell_type": "code",
   "execution_count": null,
   "metadata": {
    "deletable": false,
    "nbgrader": {
     "cell_type": "code",
     "checksum": "4ce4f1f6b55fedb59d8ba0a839d190d6",
     "grade": false,
     "grade_id": "cell-ee8362dfcd354838",
     "locked": false,
     "schema_version": 3,
     "solution": true,
     "task": false
    }
   },
   "outputs": [],
   "source": [
    "# YOUR CODE HERE\n",
    "raise NotImplementedError()"
   ]
  },
  {
   "cell_type": "code",
   "execution_count": null,
   "metadata": {
    "deletable": false,
    "editable": false,
    "nbgrader": {
     "cell_type": "code",
     "checksum": "b187da6be3e8d551b3ba215140bbaed6",
     "grade": true,
     "grade_id": "cell-6c97eb35835f4912",
     "locked": true,
     "points": 1,
     "schema_version": 3,
     "solution": false,
     "task": false
    }
   },
   "outputs": [],
   "source": [
    "#hidden tests are within this cell"
   ]
  },
  {
   "cell_type": "markdown",
   "metadata": {},
   "source": [
    "#### 3.6.4 _Pacific Surfliner_ Train 777: late detraining metrics (fiscal year and quarter) [1 pt]\n",
    "\n",
    "Review the central tendency, dispersion, and shape for the mean late arrival times of _Pacific Surfliner_ Train 777. Call the custom function named `frm.describe_numeric_column()` to return a dictionary of summary statistics. Then visualize each fiscal year and quarter data with a box plot."
   ]
  },
  {
   "cell_type": "code",
   "execution_count": null,
   "metadata": {},
   "outputs": [],
   "source": [
    "# Drop missing values\n",
    "amtk_777_avg_mm_late = amtk_777[COLS[\"late_detrn_avg_mm_late\"]].reset_index(drop=True)\n",
    "\n",
    "# Describe the column\n",
    "amtk_777_avg_mm_late_describe = frm.describe_numeric_column(amtk_777_avg_mm_late)\n",
    "amtk_777_avg_mm_late_describe"
   ]
  },
  {
   "cell_type": "code",
   "execution_count": null,
   "metadata": {
    "deletable": false,
    "editable": false,
    "nbgrader": {
     "cell_type": "code",
     "checksum": "48e0bb1e4f6b8725377b6ad08b72a86c",
     "grade": true,
     "grade_id": "cell-749d4513c6d49361",
     "locked": true,
     "points": 1,
     "schema_version": 3,
     "solution": false,
     "task": false
    }
   },
   "outputs": [],
   "source": [
    "#hidden tests are within this cell"
   ]
  },
  {
   "cell_type": "markdown",
   "metadata": {},
   "source": [
    "##### 3.6.4.1 Retrieve the chart data"
   ]
  },
  {
   "cell_type": "code",
   "execution_count": null,
   "metadata": {},
   "outputs": [],
   "source": [
    "# Base columns for average minutes late\n",
    "cols = [COLS[\"year\"], COLS[\"quarter\"], COLS[\"late_detrn_avg_mm_late\"]]\n",
    "\n",
    "# Chart data\n",
    "chrt_data = detrn.get_qtr_avg_min_late(\n",
    "    amtk_777_rte, cols, COLS[\"year_quarter\"], [COLORS[\"amtk_blue\"], COLORS[\"amtk_red\"]]\n",
    ")\n",
    "# chrt_data"
   ]
  },
  {
   "cell_type": "markdown",
   "metadata": {},
   "source": [
    "##### 3.6.4.2 Preaggregate the data"
   ]
  },
  {
   "cell_type": "code",
   "execution_count": null,
   "metadata": {},
   "outputs": [],
   "source": [
    "# Base columns for aggregation statistics\n",
    "cols = [COLS[\"year_quarter\"], COLS[\"late_detrn_avg_mm_late\"]]\n",
    "\n",
    "# Pre-aggregate the data\n",
    "chrt_data = frm.aggregate_data(chrt_data, cols)"
   ]
  },
  {
   "cell_type": "markdown",
   "metadata": {},
   "source": [
    "##### 3.6.4.3 Generate box plots\n",
    "\n",
    "Visualize the distribution of mean late arrival times for late detraining passengers. Illustrate with box plots."
   ]
  },
  {
   "cell_type": "code",
   "execution_count": null,
   "metadata": {},
   "outputs": [],
   "source": [
    "# Create chart title\n",
    "txt = TRN[\"777\"]\n",
    "title_txt = (\n",
    "    f\"Amtrak {txt['name']} Train {txt['number']} Late Detraining Passengers\\n\"\n",
    "    f\"{txt['route']} ({txt['direction']})\"\n",
    ")\n",
    "title = ttl.format_title(amtk_777_rte_stats, title_txt)\n",
    "\n",
    "# Create and display the vertical boxplot\n",
    "chart_vertical = boxp.create_boxplot(\n",
    "    data=chrt_data,\n",
    "    x_shorthand=\"Fiscal Year Quarter:N\",\n",
    "    x_title=\"Period\",\n",
    "    y_shorthand=\"Late Detraining Customers Avg Min Late:Q\",\n",
    "    y_title=\"Average Minutes Late\",\n",
    "    box_size=20,\n",
    "    outlier_shorthand=\"outliers:Q\",\n",
    "    color_shorthand=\"Color:N\",\n",
    "    chart_title=title,\n",
    "    orient=boxp.Orient.VERTICAL,\n",
    ")\n",
    "chart_vertical.display()"
   ]
  },
  {
   "cell_type": "markdown",
   "metadata": {},
   "source": [
    "## 4.0 Long-distance trains\n",
    "\n",
    "Amtrak's long-distance trains operate across the United States. These trains are typically overnight services that connect major cities and regions. Long-distance trains are known for their scenic routes and dining car services.\n",
    "\n",
    "### 4.1 _City of New Orleans_ service (Chicago - Memphis - New Orleans) [1 pt]\n",
    "\n",
    "The [_City of New Orleans_](https://www.amtrak.com/city-of-new-orleans-train), operates daily between [Chicago Union Station](https://www.amtrak.com/stations/chi), Chicago, IL ([CHI](https://www.amtrak.com/stations/chi)) and [Union Passenger Terminal](https://www.amtrak.com/stations/NOL), New Orleans, LA ([NOL](https://www.amtrak.com/stations/NOL)) via [Central Station](https://www.amtrak.com/stations/mem), Memphis, TN ([MEM](https://www.amtrak.com/stations/mem)). The train revives the name of the Illinois Central Railroad's [_City of New Orleans_](https://en.wikipedia.org/wiki/City_of_New_Orleans_(train)) that operated between 1947 and 1971. The train is also known for its association with the classic tune [\\\"City of New Orleans\\\"](https://en.wikipedia.org/wiki/City_of_New_Orleans_(song)) written by Steve Goodman and popularized by Arlo Guthrie. \n",
    "\n",
    "Retrieve the _City of New Orleans_ performance data by calling the appropriate `amtk_network` function. Assign the return value of the function call to a variable named `cno`."
   ]
  },
  {
   "cell_type": "code",
   "execution_count": null,
   "metadata": {
    "deletable": false,
    "nbgrader": {
     "cell_type": "code",
     "checksum": "56cb0def7824ad3a16ecffd53138ae8a",
     "grade": false,
     "grade_id": "cell-c8e6ff2f4ef01c78",
     "locked": false,
     "schema_version": 3,
     "solution": true,
     "task": false
    }
   },
   "outputs": [],
   "source": [
    "# YOUR CODE HERE\n",
    "raise NotImplementedError()"
   ]
  },
  {
   "cell_type": "code",
   "execution_count": null,
   "metadata": {
    "deletable": false,
    "editable": false,
    "nbgrader": {
     "cell_type": "code",
     "checksum": "0fef840d54d4f39c2491f4b76e1e7feb",
     "grade": true,
     "grade_id": "cell-782d4cdbed1bfc14",
     "locked": true,
     "points": 1,
     "schema_version": 3,
     "solution": false,
     "task": false
    }
   },
   "outputs": [],
   "source": [
    "#hidden tests are within this cell"
   ]
  },
  {
   "cell_type": "markdown",
   "metadata": {},
   "source": [
    "### 4.2 _City of New Orleans_: on-time performance metrics (entire period)\n",
    "\n",
    "_City of New Orleans_ performance data is a compilation of quarterly metrics that focus on late\n",
    "detraining passengers. Detraining assengers are considered on-time if they arrive at their\n",
    "destination no later than fifteen (`15`) minutes after their scheduled arrival time. All other\n",
    "detraining passengers are considered late."
   ]
  },
  {
   "cell_type": "code",
   "execution_count": null,
   "metadata": {},
   "outputs": [],
   "source": [
    "# Total train arrivals\n",
    "cno_trn_arrivals = cno.shape[0]\n",
    "\n",
    "# Detraining totals\n",
    "cno_detrn = cno[COLS[\"total_detrn\"]].sum()\n",
    "cno_detrn_late = cno[COLS[\"late_detrn\"]].sum()\n",
    "cno_detrn_on_time = cno_detrn - cno_detrn_late\n",
    "\n",
    "print(\n",
    "    f\"Train Arrivals: {cno_trn_arrivals}\",\n",
    "    f\"Total Detraining Customers: {cno_detrn}\",\n",
    "    f\"Late Detraining Customers: {cno_detrn_late}\",\n",
    "    f\"On-Time Detraining Customers: {cno_detrn_on_time}\",\n",
    "    sep=\"\\n\",\n",
    ")\n",
    "\n",
    "# Compute summary statistics\n",
    "cno_stats = detrn.get_sum_stats(cno, AGG[\"columns\"], AGG[\"funcs\"])\n",
    "cno_stats"
   ]
  },
  {
   "cell_type": "markdown",
   "metadata": {},
   "source": [
    "### 4.3 _City of New Orleans_ trains [1 pt]\n",
    "\n",
    "Each _City of New Orleans_ train is identified by a unique train number.\n",
    "\n",
    "Create a `DataFrame` named `cno_trns` that contains one row for each train comprising the _City of New Orleans_ service. Include the following columns in the `DataFrame` in the order specified:\n",
    "\n",
    "1. \"Service Line\"\n",
    "2. \"Service\"\n",
    "3. \"Sub Service\"\n",
    "4. \"Route Miles\"\n",
    "5. \"Train Number\"\n",
    "\n",
    "Reset the index (set `drop=True`) when creating the new `DataFrame`"
   ]
  },
  {
   "cell_type": "code",
   "execution_count": null,
   "metadata": {
    "deletable": false,
    "nbgrader": {
     "cell_type": "code",
     "checksum": "8e205e7af8467e77c789ee9166e633eb",
     "grade": false,
     "grade_id": "cell-c4662966df21cc15",
     "locked": false,
     "schema_version": 3,
     "solution": true,
     "task": false
    }
   },
   "outputs": [],
   "source": [
    "# YOUR CODE HERE\n",
    "raise NotImplementedError()"
   ]
  },
  {
   "cell_type": "code",
   "execution_count": null,
   "metadata": {
    "deletable": false,
    "editable": false,
    "nbgrader": {
     "cell_type": "code",
     "checksum": "a8eb36fae003015f5265d8e08130e696",
     "grade": true,
     "grade_id": "cell-ac7cc3ecd74dc59b",
     "locked": true,
     "points": 1,
     "schema_version": 3,
     "solution": false,
     "task": false
    }
   },
   "outputs": [],
   "source": [
    "#hidden tests are within this cell"
   ]
  },
  {
   "cell_type": "markdown",
   "metadata": {},
   "source": [
    "### 4.4 _City of New Orleans_: mean late arrival times summary statistics\n",
    "\n",
    "Review the central tendency, dispersion, and shape for the mean late arrival times of _City of New Orleans_ trains. Call the custom function named `frm.describe_numeric_column()` to return a dictionary of summary statistics."
   ]
  },
  {
   "cell_type": "code",
   "execution_count": null,
   "metadata": {},
   "outputs": [],
   "source": [
    "# Drop missing values\n",
    "cno_avg_mm_late = cno[COLS[\"late_detrn_avg_mm_late\"]].dropna().reset_index(drop=True)\n",
    "\n",
    "# Call the custom frm.describe_numeric_column() function again\n",
    "cno_avg_mm_late_describe = frm.describe_numeric_column(cno_avg_mm_late)\n",
    "cno_avg_mm_late_describe"
   ]
  },
  {
   "cell_type": "markdown",
   "metadata": {},
   "source": [
    "The skewness and kurtosis values returned suggest that the distribution of mean late arrival times of _City of New Orleans_ trains is positively skewed and features a sharper peak and heavier right tail than a normal distribution. Let's confirm this visually by generating a histogram."
   ]
  },
  {
   "cell_type": "markdown",
   "metadata": {},
   "source": [
    "### 4.5 _City of New Orleans_: visualize distribution of mean late arrival times\n",
    "\n",
    "Visualize mean late arrival times for the entire period. The data is binned prior to plotting.\n",
    "\n",
    "#### 4.5.1 Create the chart data"
   ]
  },
  {
   "cell_type": "code",
   "execution_count": null,
   "metadata": {},
   "outputs": [],
   "source": [
    "# Convert to DataFrame\n",
    "cno_avg_mm_late = cno_avg_mm_late.to_frame(name=COLS[\"avg_mm_late\"])\n",
    "\n",
    "# Get mean and standard deviation\n",
    "mu = cno_avg_mm_late_describe[\"center\"][\"mean\"]\n",
    "sigma = cno_avg_mm_late_describe[\"spread\"]\n",
    "\n",
    "# Get max value (for x-axis ticks); pad max value for chart display\n",
    "max_val = cno_avg_mm_late_describe[\"position\"][\"max\"].astype(int)\n",
    "max_val_ceil = (np.ceil(max_val / 10) * 10).astype(int)\n",
    "\n",
    "# Create bins\n",
    "cno_mm_late, bins, num_bins, bin_width = frm.create_bins(cno_avg_mm_late, COLS[\"avg_mm_late\"], 10)\n",
    "\n",
    "# Bin the data\n",
    "chrt_data = frm.bin_data(cno_mm_late, COLS[\"avg_mm_late\"], bins)\n",
    "# chrt_data"
   ]
  },
  {
   "cell_type": "markdown",
   "metadata": {},
   "source": [
    "#### 4.5.2 Generate the histogram"
   ]
  },
  {
   "cell_type": "code",
   "execution_count": null,
   "metadata": {},
   "outputs": [],
   "source": [
    "# Chart title\n",
    "title_txt = f\"Amtrak {SUB_SVC['cno']} Service Late Detraining Passengers\"\n",
    "title = ttl.format_title(cno_stats, title_txt)\n",
    "\n",
    "# Tooltips\n",
    "tooltip_config = [\n",
    "    {\"shorthand\": \"bin_center:Q\", \"title\": \"Average Minutes Late\", \"format\": None},\n",
    "    {\"shorthand\": \"count:Q\", \"title\": \"Late Arrivals Count\", \"format\": None},\n",
    "]\n",
    "\n",
    "chart = hst.create_histogram(\n",
    "    frame=chrt_data,\n",
    "    x_shorthand=\"bin_center:Q\",\n",
    "    x_title=\"Average Minutes Late\",\n",
    "    y_shorthand=\"count:Q\",\n",
    "    y_title=\"Late Arrivals Count\",\n",
    "    y_stack=False,\n",
    "    line_shorthand=\"Avg Min Late:Q\",\n",
    "    mu=mu,\n",
    "    sigma=sigma,\n",
    "    num_bins=num_bins,\n",
    "    bin_width=bin_width,\n",
    "    x_tick_count_max=max_val_ceil,\n",
    "    bar_color=COLORS[\"amtk_blue\"],\n",
    "    mu_color=COLORS[\"amtk_red\"],\n",
    "    sigma_color=COLORS[\"anth_gray\"],\n",
    "    tooltip_config=tooltip_config,\n",
    "    title=title,\n",
    ")\n",
    "chart.display()"
   ]
  },
  {
   "cell_type": "markdown",
   "metadata": {},
   "source": [
    "### 4.6 _City of New Orleans_, Train 59 and 58\n",
    "\n",
    "City of New Orleans trains 59 (southbound) and 58 (northbound) operate daily between [Chicago Union Station](https://www.amtrak.com/stations/chi), Chicago, IL ([CHI](https://www.amtrak.com/stations/chi)) and [Union Passenger Terminal](https://www.amtrak.com/stations/NOL), New Orleans, LA ([NOL](https://www.amtrak.com/stations/NOL)).\n",
    "\n",
    "#### 4.6.1 _City of New Orleans_ Train 59, southbound, detraining passengers summary statistics [1 pt]\n",
    "\n",
    "Departs daily from [Chicago Union Station](https://www.amtrak.com/stations/chi), Chicago, IL ([CHI](https://www.amtrak.com/stations/chi))."
   ]
  },
  {
   "cell_type": "code",
   "execution_count": null,
   "metadata": {},
   "outputs": [],
   "source": [
    "# Base columns for routes\n",
    "rte_cols = [COLS[\"station_code\"], COLS[\"station\"], COLS[\"state\"], COLS[\"lat\"], COLS[\"lon\"]]\n",
    "\n",
    "# Train 59 southbound\n",
    "amtk_59 = ntwk.by_train_number(trains, 58)\n",
    "amtk_59_rte = ntwk.create_route(amtk_59, \"southbound\")\n",
    "amtk_59_rte_stats = detrn.get_route_sum_stats(\n",
    "    amtk_59_rte, COLS[\"station_code\"], AGG[\"columns\"], AGG[\"funcs\"], rte_cols\n",
    ")\n",
    "amtk_59_rte_stats"
   ]
  },
  {
   "cell_type": "code",
   "execution_count": null,
   "metadata": {
    "deletable": false,
    "editable": false,
    "nbgrader": {
     "cell_type": "code",
     "checksum": "f162cf0e518fa220426822e6999e77f4",
     "grade": true,
     "grade_id": "cell-5bc3bbe1962c3626",
     "locked": true,
     "points": 1,
     "schema_version": 3,
     "solution": false,
     "task": false
    }
   },
   "outputs": [],
   "source": [
    "#hidden tests are within this cell"
   ]
  },
  {
   "cell_type": "markdown",
   "metadata": {},
   "source": [
    "##### 4.6.1.1 Write to file [1 pt]\n",
    "\n",
    "Write `amtk_59_rte_stats` to a CSV file named `stu-amtk_59_rte_stats.csv`. Store the file in the `data/student` directory. Then compare it to the accompanying `fxt-amtk-59_route_stats.csv` file. It must match line for line, character for character."
   ]
  },
  {
   "cell_type": "code",
   "execution_count": null,
   "metadata": {
    "deletable": false,
    "nbgrader": {
     "cell_type": "code",
     "checksum": "4436f59edc5619db103ecbccd13e4b9f",
     "grade": false,
     "grade_id": "cell-24d86d347171e5ee",
     "locked": false,
     "schema_version": 3,
     "solution": true,
     "task": false
    }
   },
   "outputs": [],
   "source": [
    "# YOUR CODE HERE\n",
    "raise NotImplementedError()"
   ]
  },
  {
   "cell_type": "code",
   "execution_count": null,
   "metadata": {
    "deletable": false,
    "editable": false,
    "nbgrader": {
     "cell_type": "code",
     "checksum": "18215dfe2f251ad9e19b51db690fc2d2",
     "grade": true,
     "grade_id": "cell-308694dbc52a1579",
     "locked": true,
     "points": 1,
     "schema_version": 3,
     "solution": false,
     "task": false
    }
   },
   "outputs": [],
   "source": [
    "#hidden tests are within this cell"
   ]
  },
  {
   "cell_type": "markdown",
   "metadata": {},
   "source": [
    "#### 4.6.2 _City of New Orleans_ Train 59: late detraining metrics (fiscal year and quarter)\n",
    "\n",
    "Review the central tendency, dispersion, and shape for the mean late arrival times of _City of New Orleans_ Train 59. Call the custom function named `frm.describe_numeric_column()` to return a dictionary of summary statistics. Then visualize each fiscal year and quarter data with a box plot."
   ]
  },
  {
   "cell_type": "code",
   "execution_count": null,
   "metadata": {},
   "outputs": [],
   "source": [
    "# Drop missing values\n",
    "amtk_59_avg_mm_late = amtk_59[COLS[\"late_detrn_avg_mm_late\"]].dropna().reset_index(drop=True)\n",
    "\n",
    "# Describe the column\n",
    "amtk_59_avg_mm_late_describe = frm.describe_numeric_column(amtk_59_avg_mm_late)\n",
    "amtk_59_avg_mm_late_describe"
   ]
  },
  {
   "cell_type": "markdown",
   "metadata": {},
   "source": [
    "##### 4.6.2.1 Retrieve the chart data"
   ]
  },
  {
   "cell_type": "code",
   "execution_count": null,
   "metadata": {},
   "outputs": [],
   "source": [
    "# Base columns for chart data\n",
    "cols = [COLS[\"year\"], COLS[\"quarter\"], COLS[\"late_detrn_avg_mm_late\"]]\n",
    "\n",
    "# Get the chart data\n",
    "chrt_data = detrn.get_qtr_avg_min_late(\n",
    "    amtk_59_rte, cols, COLS[\"year_quarter\"], [COLORS[\"amtk_blue\"], COLORS[\"amtk_red\"]]\n",
    ")\n",
    "chrt_data"
   ]
  },
  {
   "cell_type": "markdown",
   "metadata": {},
   "source": [
    "##### 4.6.2.2 Preaggregate the data"
   ]
  },
  {
   "cell_type": "code",
   "execution_count": null,
   "metadata": {},
   "outputs": [],
   "source": [
    "# Base columns for aggregation statistics\n",
    "cols = [COLS[\"year_quarter\"], COLS[\"late_detrn_avg_mm_late\"]]\n",
    "\n",
    "# Pre-aggregate the data\n",
    "chrt_data = frm.aggregate_data(chrt_data, cols)"
   ]
  },
  {
   "cell_type": "markdown",
   "metadata": {},
   "source": [
    "##### 4.6.2.3 Generate box plots"
   ]
  },
  {
   "cell_type": "code",
   "execution_count": null,
   "metadata": {},
   "outputs": [],
   "source": [
    "# Create chart title\n",
    "txt = TRN[\"59\"]\n",
    "title_txt = (\n",
    "    f\"Amtrak {txt['name']} Train {txt['number']} Late Detraining Passengers\\n\"\n",
    "    f\"{txt['route']} ({txt['direction']})\"\n",
    ")\n",
    "title = ttl.format_title(amtk_59_rte_stats, title_txt)\n",
    "\n",
    "# Create and display vertical boxplots\n",
    "chart_vertical = boxp.create_boxplot(\n",
    "    data=chrt_data,\n",
    "    x_shorthand=\"Fiscal Year Quarter:N\",\n",
    "    x_title=\"Period\",\n",
    "    y_shorthand=\"Late Detraining Customers Avg Min Late:Q\",\n",
    "    y_title=\"Average Minutes Late\",\n",
    "    box_size=20,\n",
    "    outlier_shorthand=\"outliers:Q\",\n",
    "    color_shorthand=\"Color:N\",\n",
    "    chart_title=title,\n",
    "    orient=boxp.Orient.VERTICAL,\n",
    ")\n",
    "chart_vertical.display()"
   ]
  },
  {
   "cell_type": "markdown",
   "metadata": {},
   "source": [
    "#### 4.6.3 _City of New Orleans_ Train 58, northbound, detraining passengers summary statistics [1 pt]\n",
    "\n",
    "Departs daily from [Union Passenger Terminal](https://www.amtrak.com/stations/NOL), New Orleans, LA ([NOL](https://www.amtrak.com/stations/NOL)). Review previous code employed to generate summary statistics for an Amtrak train. Then leverage functions available in the `amtk_network` and `amtk_detrain` modules to create three new `DataFrame` objects named `amtk_58`, `amtk_58_rte`, and `amtk_58_rte_stats`, respectively."
   ]
  },
  {
   "cell_type": "code",
   "execution_count": null,
   "metadata": {},
   "outputs": [],
   "source": [
    "# Train 58 northbound\n",
    "amtk_58 = ntwk.by_train_number(trains, 58)\n",
    "amtk_58_rte = ntwk.create_route(amtk_58, \"northbound\")\n",
    "amtk_58_rte_stats = detrn.get_route_summary_stats(\n",
    "    amtk_58_rte, COLS[\"station_code\"], AGG[\"columns\"], AGG[\"funcs\"], rte_cols\n",
    ")\n",
    "amtk_58_rte_stats"
   ]
  },
  {
   "cell_type": "code",
   "execution_count": null,
   "metadata": {
    "deletable": false,
    "editable": false,
    "nbgrader": {
     "cell_type": "code",
     "checksum": "228283b192aa1e2eb6d3b680e61a1384",
     "grade": true,
     "grade_id": "cell-ab8db2a33379882c",
     "locked": true,
     "points": 1,
     "schema_version": 3,
     "solution": false,
     "task": false
    }
   },
   "outputs": [],
   "source": [
    "#hidden tests are within this cell"
   ]
  },
  {
   "cell_type": "markdown",
   "metadata": {},
   "source": [
    "##### 4.6.3.1 Write to file [1 pt]\n",
    "\n",
    "Write `amtk_58_rte_stats` to a CSV file named `stu-amtk_58_rte_stats.csv`. Store the file in the `data/student` directory. Then compare it to the accompanying `fxt-amtk-58_route_stats.csv` file. It must match line for line, character for character."
   ]
  },
  {
   "cell_type": "code",
   "execution_count": null,
   "metadata": {
    "deletable": false,
    "nbgrader": {
     "cell_type": "code",
     "checksum": "e15dc265c4572ecd52fecd354c9e02cf",
     "grade": false,
     "grade_id": "cell-5c31a874c97019fe",
     "locked": false,
     "schema_version": 3,
     "solution": true,
     "task": false
    }
   },
   "outputs": [],
   "source": [
    "# YOUR CODE HERE\n",
    "raise NotImplementedError()"
   ]
  },
  {
   "cell_type": "code",
   "execution_count": null,
   "metadata": {
    "deletable": false,
    "editable": false,
    "nbgrader": {
     "cell_type": "code",
     "checksum": "a822be89f7c64fbc5d6d260b771f61f0",
     "grade": true,
     "grade_id": "cell-a96df36ca5dae325",
     "locked": true,
     "points": 1,
     "schema_version": 3,
     "solution": false,
     "task": false
    }
   },
   "outputs": [],
   "source": [
    "#hidden tests are within this cell"
   ]
  },
  {
   "cell_type": "markdown",
   "metadata": {},
   "source": [
    "#### 4.6.4 _City of New Orleans_ Train 58: late detraining metrics (fiscal year and quarter)\n",
    "\n",
    "Review the central tendency, dispersion, and shape for the mean late arrival times of _City of New Orleans_ Train 58. Call the custom function named `frm.describe_numeric_column()` to return a dictionary of summary statistics. Then visualize each fiscal year and quarter data with a box plot."
   ]
  },
  {
   "cell_type": "code",
   "execution_count": null,
   "metadata": {},
   "outputs": [],
   "source": [
    "# Drop missing values\n",
    "amtk_58_avg_mm_late = amtk_58[COLS[\"late_detrn_avg_mm_late\"]].dropna().reset_index(drop=True)\n",
    "\n",
    "# Describe the column\n",
    "amtk_58_avg_mm_late_describe = frm.describe_numeric_column(amtk_58_avg_mm_late)\n",
    "amtk_58_avg_mm_late_describe"
   ]
  },
  {
   "cell_type": "markdown",
   "metadata": {},
   "source": [
    "##### 4.6.4.1 Retrieve the chart data [1 pt]"
   ]
  },
  {
   "cell_type": "code",
   "execution_count": null,
   "metadata": {},
   "outputs": [],
   "source": [
    "# Base columns for average minutes late\n",
    "cols = [COLS[\"year\"], COLS[\"quarter\"], COLS[\"late_detrn_avg_mm_late\"]]\n",
    "\n",
    "# Chart data\n",
    "chrt_data = detrn.get_qtr_avg_min_late(\n",
    "    amtk_59_rte, cols, COLS[\"year_quarter\"], [COLORS[\"amtk_blue\"], COLORS[\"amtk_red\"]]\n",
    ")\n",
    "chrt_data"
   ]
  },
  {
   "cell_type": "code",
   "execution_count": null,
   "metadata": {
    "deletable": false,
    "editable": false,
    "nbgrader": {
     "cell_type": "code",
     "checksum": "40e9ef880654a292f7df898632f66caa",
     "grade": true,
     "grade_id": "cell-f5bfa03aec7b85aa",
     "locked": true,
     "points": 1,
     "schema_version": 3,
     "solution": false,
     "task": false
    }
   },
   "outputs": [],
   "source": [
    "#hidden tests are within this cell"
   ]
  },
  {
   "cell_type": "markdown",
   "metadata": {},
   "source": [
    "##### 4.6.4.2 Preaggregate the data"
   ]
  },
  {
   "cell_type": "code",
   "execution_count": null,
   "metadata": {},
   "outputs": [],
   "source": [
    "# Base columns for average minutes late\n",
    "cols = [COLS[\"year_quarter\"], COLS[\"late_detrn_avg_min_late\"]]\n",
    "\n",
    "# Pre-aggregate the data\n",
    "chrt_data = frm.aggregate_data(chrt_data, cols)"
   ]
  },
  {
   "cell_type": "markdown",
   "metadata": {},
   "source": [
    "##### 4.6.4.3 Generate box plots"
   ]
  },
  {
   "cell_type": "code",
   "execution_count": null,
   "metadata": {},
   "outputs": [],
   "source": [
    "# Create chart title\n",
    "txt = TRN[\"58\"]\n",
    "title_txt = (\n",
    "    f\"Amtrak {txt['name']} Train {txt['number']} Late Detraining Passengers\\n\"\n",
    "    f\"{txt['route']} ({txt['direction']})\"\n",
    ")\n",
    "title = ttl.format_title(amtk_58_rte_stats, title_txt)\n",
    "\n",
    "# Create and display vertical boxplots\n",
    "chart_vertical = boxp.create_boxplot(\n",
    "    data=chrt_data,\n",
    "    x_shorthand=\"Fiscal Year Quarter:N\",\n",
    "    x_title=\"Period\",\n",
    "    y_shorthand=\"Late Detraining Customers Avg Min Late:Q\",\n",
    "    y_title=\"Average Minutes Late\",\n",
    "    box_size=20,\n",
    "    outlier_shorthand=\"outliers:Q\",\n",
    "    color_shorthand=\"Color:N\",\n",
    "    chart_title=title,\n",
    "    orient=boxp.Orient.VERTICAL,\n",
    ")\n",
    "chart_vertical.display()"
   ]
  },
  {
   "cell_type": "markdown",
   "metadata": {},
   "source": [
    "## 5.0 Watermark"
   ]
  },
  {
   "cell_type": "code",
   "execution_count": null,
   "metadata": {},
   "outputs": [],
   "source": [
    "%load_ext watermark\n",
    "%watermark -h -i -iv -m -v"
   ]
  }
 ],
 "metadata": {
  "kernelspec": {
   "display_name": "Python 3.11 (ipykernel)",
   "language": "python",
   "name": "python3"
  },
  "language_info": {
   "codemirror_mode": {
    "name": "ipython",
    "version": 3
   },
   "file_extension": ".py",
   "mimetype": "text/x-python",
   "name": "python",
   "nbconvert_exporter": "python",
   "pygments_lexer": "ipython3",
   "version": "3.11.9"
  }
 },
 "nbformat": 4,
 "nbformat_minor": 4
}
