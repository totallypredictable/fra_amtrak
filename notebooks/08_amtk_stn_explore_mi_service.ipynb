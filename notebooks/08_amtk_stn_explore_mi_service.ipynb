{
 "cells": [
  {
   "cell_type": "markdown",
   "metadata": {},
   "source": [
    "# Explore: Amtrak State Supported Michigan Service\n",
    "\n",
    "## Intercity Passenger Rail Service Station Performance Metrics\n",
    "\n",
    "The Amtrak [network](https://www.amtrak.com/content/dam/projects/dotcom/english/public/documents/Maps/Amtrak-System-Map-020923.pdf)\n",
    "is a passenger rail service that provides intercity rail service in the\n",
    "continental United States and to select Canadian cities. The network is operated by the\n",
    "[National Railroad Passenger Corporation](https://railroads.dot.gov/passenger-rail/amtrak/amtrak),\n",
    "a federally chartered for-profit corporation that receives some state funding and covers its\n",
    "operating costs by selling tickets and providing other services.\n",
    "\n",
    "This notebook commences exploration of the augmented quarterly\n",
    "[Amtrak](https://www.amtrak.com/home.html) station performance metrics for trains supported by\n",
    "the State of Michigan. The goal is to better understand individual Amtrak Michigan Service\n",
    "performance and identify potential areas for further analysis.\n",
    "\n",
    "### Variable names\n",
    "\n",
    "A number of variable names in this project leverage the following abbreviations. The naming\n",
    "strategy is to strike a balance between brevity and readability:\n",
    "\n",
    "* `amtk`: Amtrak (reporting mark)\n",
    "* `chrt`: chart\n",
    "* `cols`: columns\n",
    "* `const`: constant\n",
    "* `cwd`: current working directory\n",
    "* `eb`: eastbound direction of travel\n",
    "* `lm`: linear model\n",
    "* `mi`: miles\n",
    "* `mm`: minutes (ISO 8601)\n",
    "* `nb`: northbound direction of travel\n",
    "* `psgr`: passenger\n",
    "* `qtr`: quarter\n",
    "* `rte`: route\n",
    "* `sb`: southbound direction of travel\n",
    "* `stats`: summary statistics\n",
    "* `stn`: station\n",
    "* `stns`: stations\n",
    "* `svc`: service\n",
    "* `trn`: train\n",
    "* `wb`: westbound direction of travel"
   ]
  },
  {
   "cell_type": "code",
   "execution_count": null,
   "metadata": {},
   "outputs": [],
   "source": [
    "import json\n",
    "import numpy as np\n",
    "import pandas as pd\n",
    "import pathlib as pl\n",
    "import tomllib as tl\n",
    "\n",
    "import fra_amtrak.amtk_detrain as detrn\n",
    "import fra_amtrak.amtk_frame as frm\n",
    "import fra_amtrak.amtk_network as ntwk\n",
    "import fra_amtrak.chart_box_preagg as boxp\n",
    "import fra_amtrak.chart_hist as hst\n",
    "import fra_amtrak.chart_hist_layer as hstl\n",
    "import fra_amtrak.chart_line as lne\n",
    "import fra_amtrak.chart_title as ttl"
   ]
  },
  {
   "cell_type": "markdown",
   "metadata": {},
   "source": [
    "## 1.0 Read files\n",
    "\n",
    "### 1.1 Resolve paths"
   ]
  },
  {
   "cell_type": "code",
   "execution_count": null,
   "metadata": {},
   "outputs": [],
   "source": [
    "parent_path = pl.Path.cwd()  # current working directory\n",
    "parent_path"
   ]
  },
  {
   "cell_type": "markdown",
   "metadata": {},
   "source": [
    "### 1.2 Load constants\n",
    "\n",
    "Load a companion [TOML](https://toml.io/en/) file named `notebook.toml` containing constants."
   ]
  },
  {
   "cell_type": "code",
   "execution_count": null,
   "metadata": {},
   "outputs": [],
   "source": [
    "filepath = parent_path.joinpath(\"notebook.toml\")\n",
    "with open(filepath, \"rb\") as file_obj:\n",
    "    const = tl.load(file_obj)\n",
    "\n",
    "# Access constants\n",
    "AGG = const[\"agg\"]\n",
    "CHRT_BAR = const[\"chart\"][\"bar\"]\n",
    "COLORS = const[\"colors\"]\n",
    "COLS = const[\"columns\"]\n",
    "DIRECTION = const[\"train\"][\"direction\"]\n",
    "SVC = const[\"services\"]\n",
    "SUB_SVC = const[\"train\"][\"sub_service\"]\n",
    "TRN = const[\"train\"]"
   ]
  },
  {
   "cell_type": "markdown",
   "metadata": {},
   "source": [
    "### 1.3 Retrieve sub service route information\n",
    "\n",
    "The file `amtk_sub_services.json` contains miscellaneous information about Amtrak sub services (i.e., named trains)."
   ]
  },
  {
   "cell_type": "code",
   "execution_count": null,
   "metadata": {},
   "outputs": [],
   "source": [
    "filepath = parent_path.joinpath(\"data\", \"processed\", \"amtk_sub_services.json\")\n",
    "with open(filepath, \"r\") as file:\n",
    "    amtk_sub_svcs = json.load(file)\n",
    "len(amtk_sub_svcs)"
   ]
  },
  {
   "cell_type": "markdown",
   "metadata": {},
   "source": [
    "### 1.4 Retrieve station details\n",
    "\n",
    "The file `amtk_stations.csv` contains location-related information for all Amtrak stations."
   ]
  },
  {
   "cell_type": "code",
   "execution_count": null,
   "metadata": {},
   "outputs": [],
   "source": [
    "filepath = parent_path.joinpath(\"data\", \"processed\", \"amtk_stations.csv\")\n",
    "stations = pd.read_csv(filepath, dtype={\"ZIP Code\": \"str\"}, low_memory=False)\n",
    "stations.shape"
   ]
  },
  {
   "cell_type": "markdown",
   "metadata": {},
   "source": [
    "### 1.5 Retrieve performance data"
   ]
  },
  {
   "cell_type": "code",
   "execution_count": null,
   "metadata": {},
   "outputs": [],
   "source": [
    "filepath = parent_path.joinpath(\"data\", \"processed\", \"station_performance_metrics-v1p2.csv\")\n",
    "trains = pd.read_csv(\n",
    "    filepath, dtype={\"Address 02\": \"str\", \"ZIP Code\": \"str\"}, low_memory=False\n",
    ")  # avoid DtypeWarning\n",
    "trains.shape"
   ]
  },
  {
   "cell_type": "markdown",
   "metadata": {},
   "source": [
    "### 1.6 Retrieve late time predictions"
   ]
  },
  {
   "cell_type": "code",
   "execution_count": null,
   "metadata": {},
   "outputs": [],
   "source": [
    "filepath = parent_path.joinpath(\"data\", \"student\", \"stu-amtk-avg_min_late_predict.csv\")\n",
    "predictions = pd.read_csv(filepath, low_memory=False)\n",
    "predictions.shape"
   ]
  },
  {
   "cell_type": "markdown",
   "metadata": {},
   "source": [
    "## 2.0 State Supported Michigan Service [1 pt]\n",
    "\n",
    "Amtrak's state-supported trains are funded by state governments. These services are typically\n",
    "shorter in length and operate within a single state or across multiple states. Amtrak's\n",
    "[Michigan](https://www.amtrak.com/michigan-services-train) service include the _Pere Marquette_,\n",
    "_Blue Water_, and _Wolverine_ trains with routes between Chicago and Grand Rapids, Chicago and Port\n",
    "Huron, and Chicago and greater Detroit.\n",
    "\n",
    "Retrieve the Michigan Service performance data by calling the appropriate `amtk_network`\n",
    "function. Assign the return value of the function call to a variable named `mich`."
   ]
  },
  {
   "cell_type": "code",
   "execution_count": null,
   "metadata": {
    "deletable": false,
    "nbgrader": {
     "cell_type": "code",
     "checksum": "3a59308d241b5962ab89a46823a3765a",
     "grade": false,
     "grade_id": "cell-c0edaa275cc5dd47",
     "locked": false,
     "schema_version": 3,
     "solution": true,
     "task": false
    }
   },
   "outputs": [],
   "source": [
    "# YOUR CODE HERE\n",
    "raise NotImplementedError()"
   ]
  },
  {
   "cell_type": "code",
   "execution_count": null,
   "metadata": {
    "deletable": false,
    "editable": false,
    "nbgrader": {
     "cell_type": "code",
     "checksum": "90be98929a337d8ca22549ac5983e90b",
     "grade": true,
     "grade_id": "cell-70c4f6cfbd746cca",
     "locked": true,
     "points": 1,
     "schema_version": 3,
     "solution": false,
     "task": false
    }
   },
   "outputs": [],
   "source": [
    "#hidden tests are within this cell"
   ]
  },
  {
   "cell_type": "markdown",
   "metadata": {},
   "source": [
    "### 2.1 Michigan service: on-time performance metrics (entire period) [1 pt]\n",
    "\n",
    "Michigan service performance data is a compilation of quarterly metrics that focus on late\n",
    "detraining passengers. Detraining passengers are considered on-time if they arrive at their\n",
    "destination no later than fifteen (`15`) minutes after their scheduled arrival time. All other\n",
    "detraining passengers are considered late."
   ]
  },
  {
   "cell_type": "code",
   "execution_count": null,
   "metadata": {
    "deletable": false,
    "nbgrader": {
     "cell_type": "code",
     "checksum": "edb0f689b0560f9d878e569a258de464",
     "grade": false,
     "grade_id": "cell-923c060808701e5d",
     "locked": false,
     "schema_version": 3,
     "solution": true,
     "task": false
    }
   },
   "outputs": [],
   "source": [
    "# YOUR CODE HERE\n",
    "raise NotImplementedError()"
   ]
  },
  {
   "cell_type": "code",
   "execution_count": null,
   "metadata": {
    "deletable": false,
    "editable": false,
    "nbgrader": {
     "cell_type": "code",
     "checksum": "5058a97d657000fd7c289281a6af7bfe",
     "grade": true,
     "grade_id": "cell-dc3a0f6039453ebf",
     "locked": true,
     "points": 1,
     "schema_version": 3,
     "solution": false,
     "task": false
    }
   },
   "outputs": [],
   "source": [
    "#hidden tests are within this cell"
   ]
  },
  {
   "cell_type": "markdown",
   "metadata": {},
   "source": [
    "### 2.2 Michigan service: mean late arrival times [1 pt]\n",
    "\n",
    "Review the central tendency, dispersion, and shape for the mean late arrival times of _Wolverine_ trains."
   ]
  },
  {
   "cell_type": "code",
   "execution_count": null,
   "metadata": {
    "deletable": false,
    "nbgrader": {
     "cell_type": "code",
     "checksum": "f7dbeb07a7e55d10810e861d946479cf",
     "grade": false,
     "grade_id": "cell-5a5015a13c77ef9b",
     "locked": false,
     "schema_version": 3,
     "solution": true,
     "task": false
    }
   },
   "outputs": [],
   "source": [
    "# YOUR CODE HERE\n",
    "raise NotImplementedError()"
   ]
  },
  {
   "cell_type": "markdown",
   "metadata": {},
   "source": [
    "The skewness and kurtosis values returned suggest that the distribution of mean late arrival times of _Wolverine_ trains is positively skewed and features a sharper peak and heavier right tail than a normal distribution. Let's confirm this visually by generating a histogram."
   ]
  },
  {
   "cell_type": "code",
   "execution_count": null,
   "metadata": {
    "deletable": false,
    "editable": false,
    "nbgrader": {
     "cell_type": "code",
     "checksum": "5a1b53418661ee59f6526a6f5491c12b",
     "grade": true,
     "grade_id": "cell-289ee46b2d83b21a",
     "locked": true,
     "points": 1,
     "schema_version": 3,
     "solution": false,
     "task": false
    }
   },
   "outputs": [],
   "source": [
    "#hidden tests are within this cell"
   ]
  },
  {
   "cell_type": "markdown",
   "metadata": {},
   "source": [
    "### 2.3 Michigan service: visualize distribution of mean late arrival times [1 pt]\n",
    "\n",
    "Visualize mean late arrival times for the entire period. The data is binned prior to plotting.\n",
    "\n",
    "#### 2.3.1 Create the chart data"
   ]
  },
  {
   "cell_type": "code",
   "execution_count": null,
   "metadata": {
    "deletable": false,
    "nbgrader": {
     "cell_type": "code",
     "checksum": "c7ad6da0d79ef8c7a1b838c52b97fcca",
     "grade": false,
     "grade_id": "cell-fab9e924a02a089d",
     "locked": false,
     "schema_version": 3,
     "solution": true,
     "task": false
    }
   },
   "outputs": [],
   "source": [
    "# YOUR CODE HERE\n",
    "raise NotImplementedError()"
   ]
  },
  {
   "cell_type": "code",
   "execution_count": null,
   "metadata": {
    "deletable": false,
    "editable": false,
    "nbgrader": {
     "cell_type": "code",
     "checksum": "13ebba55946106cfe77ad7b353c0e4e4",
     "grade": true,
     "grade_id": "cell-91562e38e1ea864d",
     "locked": true,
     "points": 1,
     "schema_version": 3,
     "solution": false,
     "task": false
    }
   },
   "outputs": [],
   "source": [
    "#hidden tests are within this cell"
   ]
  },
  {
   "cell_type": "markdown",
   "metadata": {},
   "source": [
    "#### 2.3.2 Generate the histogram"
   ]
  },
  {
   "cell_type": "code",
   "execution_count": null,
   "metadata": {},
   "outputs": [],
   "source": [
    "# Chart title\n",
    "title_txt = f\"Amtrak {SVC['mich']} Service Late Detraining Passengers\"\n",
    "title = ttl.format_title(mich_stats, title_txt)\n",
    "\n",
    "# Tooltips\n",
    "tooltip_config = [\n",
    "    {\"shorthand\": \"bin_center:Q\", \"title\": \"Average Minutes Late\", \"format\": None},\n",
    "    {\"shorthand\": \"count:Q\", \"title\": \"Late Arrivals Count\", \"format\": None},\n",
    "]\n",
    "\n",
    "# Create and display the histogram\n",
    "chart = hst.create_histogram(\n",
    "    frame=chrt_data,\n",
    "    x_shorthand=\"bin_center:Q\",\n",
    "    x_title=\"Average Minutes Late\",\n",
    "    y_shorthand=\"count:Q\",\n",
    "    y_title=\"Late Arrivals Count\",\n",
    "    y_stack=False,\n",
    "    line_shorthand=\"Avg Min Late:Q\",\n",
    "    mu=mich_mu,\n",
    "    sigma=mich_sigma,\n",
    "    num_bins=mich_num_bins,\n",
    "    bin_width=mich_bin_width,\n",
    "    x_tick_count_max=mich_max_val_ceil,\n",
    "    bar_color=COLORS[\"amtk_blue\"],\n",
    "    mu_color=COLORS[\"amtk_red\"],\n",
    "    sigma_color=COLORS[\"anth_gray\"],\n",
    "    tooltip_config=tooltip_config,\n",
    "    title=title,\n",
    ")\n",
    "chart.display()"
   ]
  },
  {
   "cell_type": "markdown",
   "metadata": {},
   "source": [
    "## 3.0 Michigan sub services: on-time performance metrics (entire period) [1 pt]\n",
    "\n",
    "Call the appropriate `amtk_detrain` function and pass it the arguments required to return Michigan\n",
    "service summary statistics grouped by sub service. Assign the return value of the function call to a\n",
    "variable named `mich_sub_svcs_stats`."
   ]
  },
  {
   "cell_type": "code",
   "execution_count": null,
   "metadata": {
    "deletable": false,
    "nbgrader": {
     "cell_type": "code",
     "checksum": "73f41027172bc344336aed87592854d0",
     "grade": false,
     "grade_id": "cell-45305ee5b7bc9fed",
     "locked": false,
     "schema_version": 3,
     "solution": true,
     "task": false
    }
   },
   "outputs": [],
   "source": [
    "# YOUR CODE HERE\n",
    "raise NotImplementedError()"
   ]
  },
  {
   "cell_type": "code",
   "execution_count": null,
   "metadata": {
    "deletable": false,
    "editable": false,
    "nbgrader": {
     "cell_type": "code",
     "checksum": "14923ebfde23394400ec3d51d6ac4d00",
     "grade": true,
     "grade_id": "cell-53c843f91925efd2",
     "locked": true,
     "points": 1,
     "schema_version": 3,
     "solution": false,
     "task": false
    }
   },
   "outputs": [],
   "source": [
    "#hidden tests are within this cell"
   ]
  },
  {
   "cell_type": "markdown",
   "metadata": {},
   "source": [
    "### 3.1 Michigan sub services: visualize distribution of mean late arrival times\n",
    "\n",
    "Visualize mean late arrival times for the entire period. The data is binned prior to plotting.\n",
    "\n",
    "#### 3.1.1 Retrieve each sub service [3 pts]\n",
    "\n",
    "Call the appropriate `amtk_network` function to retrieve the performance data for each\n",
    "Michigan sub service (_Blue Water_, _Pere Marquette_, and _Wolverine_). Assign the return value of\n",
    "each function call to the following variables:\n",
    "\n",
    "1. _Blue Water_: `blwtr`\n",
    "2. _Pere Marquette_: `prmrq`\n",
    "3. _Wolverine_: `wolv`"
   ]
  },
  {
   "cell_type": "code",
   "execution_count": null,
   "metadata": {
    "deletable": false,
    "nbgrader": {
     "cell_type": "code",
     "checksum": "eee903128737299edea90e9276bfcfdd",
     "grade": false,
     "grade_id": "cell-3f632da0bcf44545",
     "locked": false,
     "schema_version": 3,
     "solution": true,
     "task": false
    }
   },
   "outputs": [],
   "source": [
    "# Assign Blue Water here\n",
    "# YOUR CODE HERE\n",
    "raise NotImplementedError()"
   ]
  },
  {
   "cell_type": "code",
   "execution_count": null,
   "metadata": {
    "deletable": false,
    "editable": false,
    "nbgrader": {
     "cell_type": "code",
     "checksum": "c8ff6d02b813855c93285b3b5a24bbc6",
     "grade": true,
     "grade_id": "cell-b8500d889b949fb3",
     "locked": true,
     "points": 1,
     "schema_version": 3,
     "solution": false,
     "task": false
    }
   },
   "outputs": [],
   "source": [
    "#hidden tests are within this cell"
   ]
  },
  {
   "cell_type": "code",
   "execution_count": null,
   "metadata": {
    "deletable": false,
    "nbgrader": {
     "cell_type": "code",
     "checksum": "78275cde4d37ab5fddf5beba98ab3949",
     "grade": false,
     "grade_id": "cell-c24f9364d9cfa62e",
     "locked": false,
     "schema_version": 3,
     "solution": true,
     "task": false
    }
   },
   "outputs": [],
   "source": [
    "# Assign Pere Marquette here\n",
    "# YOUR CODE HERE\n",
    "raise NotImplementedError()"
   ]
  },
  {
   "cell_type": "code",
   "execution_count": null,
   "metadata": {
    "deletable": false,
    "editable": false,
    "nbgrader": {
     "cell_type": "code",
     "checksum": "33efa4b32da54962156beef21542c0a4",
     "grade": true,
     "grade_id": "cell-0f2c9c885cdba779",
     "locked": true,
     "points": 1,
     "schema_version": 3,
     "solution": false,
     "task": false
    }
   },
   "outputs": [],
   "source": [
    "#hidden tests are within this cell"
   ]
  },
  {
   "cell_type": "code",
   "execution_count": null,
   "metadata": {
    "deletable": false,
    "nbgrader": {
     "cell_type": "code",
     "checksum": "8b11aed4a7423cdc78c27794d96a30d4",
     "grade": false,
     "grade_id": "cell-eb422243cfba3935",
     "locked": false,
     "schema_version": 3,
     "solution": true,
     "task": false
    }
   },
   "outputs": [],
   "source": [
    "# Assign Wolverine here\n",
    "# YOUR CODE HERE\n",
    "raise NotImplementedError()"
   ]
  },
  {
   "cell_type": "code",
   "execution_count": null,
   "metadata": {
    "deletable": false,
    "editable": false,
    "nbgrader": {
     "cell_type": "code",
     "checksum": "2e54b2866b396bd1becb1a180d79104b",
     "grade": true,
     "grade_id": "cell-56b4ce5a30256ae4",
     "locked": true,
     "points": 1,
     "schema_version": 3,
     "solution": false,
     "task": false
    }
   },
   "outputs": [],
   "source": [
    "#hidden tests are within this cell"
   ]
  },
  {
   "cell_type": "markdown",
   "metadata": {},
   "source": [
    "\n",
    "#### 3.1.2 Create chart data"
   ]
  },
  {
   "cell_type": "code",
   "execution_count": null,
   "metadata": {},
   "outputs": [],
   "source": [
    "# List of sub-services and their mappings\n",
    "sub_svcs = [\n",
    "    {\"sub_svc\": SUB_SVC[\"blwtr\"], \"frame\": blwtr, \"color\": COLORS[\"blue\"], \"order\": 2},\n",
    "    {\"sub_svc\": SUB_SVC[\"prmrq\"], \"frame\": prmrq, \"color\": COLORS[\"amtk_red\"], \"order\": 3},\n",
    "    {\"sub_svc\": SUB_SVC[\"wolv\"], \"frame\": wolv, \"color\": COLORS[\"amtk_blue\"], \"order\": 1},\n",
    "]\n",
    "\n",
    "# Create a three-column DataFrame comprising average late times for each sub-service\n",
    "mich_sub_svcs = pd.DataFrame({\n",
    "    sub_svc[\"sub_svc\"]: sub_svc[\"frame\"][COLS[\"late_detrn_avg_mm_late\"]]\n",
    "    .dropna()\n",
    "    .reset_index(drop=True)\n",
    "    for sub_svc in sub_svcs\n",
    "})\n",
    "\n",
    "# print(mich_sub_svcs.head())\n",
    "\n",
    "# Melt the DataFrame for charting purposes\n",
    "chrt_data = pd.melt(\n",
    "    mich_sub_svcs,\n",
    "    var_name=\"Sub Service\",\n",
    "    value_name=\"Average Minutes Late\",\n",
    ")\n",
    "\n",
    "# print(chrt_data.head())\n",
    "\n",
    "# Histograme color and order mappings\n",
    "hst_colors = {sub_svc[\"sub_svc\"]: sub_svc[\"color\"] for sub_svc in sub_svcs}\n",
    "hst_order = {sub_svc[\"sub_svc\"]: sub_svc[\"order\"] for sub_svc in sub_svcs}\n",
    "\n",
    "# Enforce the layering order\n",
    "chrt_data[\"order\"] = chrt_data[COLS[\"sub_svc\"]].map(hst_order)\n",
    "# chrt_data"
   ]
  },
  {
   "cell_type": "markdown",
   "metadata": {},
   "source": [
    "#### 3.1.3 Generate histogram"
   ]
  },
  {
   "cell_type": "code",
   "execution_count": null,
   "metadata": {},
   "outputs": [],
   "source": [
    "# Chart title\n",
    "title = ttl.format_title(mich_stats, f\"Amtrak {SVC['mich']} Service Late Detraining Passengers\")\n",
    "\n",
    "# Tooltip configuration\n",
    "tooltip_config = [\n",
    "    {\"shorthand\": \"Sub Service:N\", \"title\": \"Sub Service\", \"format\": None},\n",
    "    {\"shorthand\": \"bin_range:N\", \"title\": \"Average Minutes Late (range)\", \"format\": None},\n",
    "    {\"shorthand\": \"mean_late:Q\", \"title\": \"Average Minutes Late (mean)\", \"format\": \".3f\"},\n",
    "    {\"shorthand\": \"count:Q\", \"title\": \"Late Arrivals Count\", \"format\": None},\n",
    "]\n",
    "\n",
    "chart = hstl.create_layered_histogram(\n",
    "    frame=chrt_data,\n",
    "    x_shorthand=\"bin_start:Q\",\n",
    "    x_title=\"Average Minutes Late\",\n",
    "    x_tick_count_max=mich_max_val_ceil,\n",
    "    x2_shorthand=\"bin_end:Q\",\n",
    "    y_shorthand=\"count:Q\",\n",
    "    y_title=\"Late Arrivals Count\",\n",
    "    y_stack=False,\n",
    "    line_shorthand=\"Avg Min Late:Q\",\n",
    "    mu=mich_mu,\n",
    "    sigma=mich_sigma,\n",
    "    max_bins=mich_num_bins,\n",
    "    bin_step=5,\n",
    "    hst_order_shorthand=\"order:O\",\n",
    "    hst_color_shorthand=\"Sub Service:N\",\n",
    "    hst_colors=hst_colors,\n",
    "    mu_color=COLORS[\"amtk_red\"],\n",
    "    sigma_color=COLORS[\"anth_gray\"],\n",
    "    tooltip_config=tooltip_config,\n",
    "    title=title,\n",
    ")\n",
    "chart.display()"
   ]
  },
  {
   "cell_type": "markdown",
   "metadata": {},
   "source": [
    "## 4.0 Michigan _Blue Water_ service (Chicago, IL - Port Huron, MI)\n",
    "\n",
    "The _Blue Water_ operates between [Chicago Union Station](https://www.amtrak.com/stations/chi), Chicago, IL ([CHI](https://www.amtrak.com/stations/chi))\n",
    "and Port Huron, MI ([PTH](https://www.amtrak.com/stations/pth)). Intermediate stops include\n",
    "Kalamazoo, MI ([KAL](https://www.amtrak.com/stations/kal)),\n",
    "Battle Creek, MI ([BTL](https://www.amtrak.com/stations/btl)),\n",
    "East Lansing, MI ([LNS](https://www.amtrak.com/stations/lns)),\n",
    "and Flint, MI ([FLN](https://www.amtrak.com/stations/fln)), among other towns and cities.\n",
    "\n",
    "### 4.1 _Blue Water_: on-time performance metrics (entire period) [2 pts]\n",
    "\n",
    "_Blue Water_ performance data is a compilation of quarterly metrics that focus on late\n",
    "detraining passengers. Detraining assengers are considered on-time if they arrive at their\n",
    "destination no later than fifteen (`15`) minutes after their scheduled arrival time. All other\n",
    "detraining passengers are considered late.\n",
    "\n",
    "Retrieve the _Blue Water_ row from the `mich_sub_svcs_stats` DataFrame. Call the appropriate\n",
    "`DataFrame` method to convert the row to a `Series`. Assign the return value to a variable named\n",
    "`blwtr_stats`."
   ]
  },
  {
   "cell_type": "code",
   "execution_count": null,
   "metadata": {
    "deletable": false,
    "nbgrader": {
     "cell_type": "code",
     "checksum": "695bf0604d7532faae4fd77b9814cfd0",
     "grade": false,
     "grade_id": "cell-ce4e51611705f794",
     "locked": false,
     "schema_version": 3,
     "solution": true,
     "task": false
    }
   },
   "outputs": [],
   "source": [
    "# YOUR CODE HERE\n",
    "raise NotImplementedError()"
   ]
  },
  {
   "cell_type": "code",
   "execution_count": null,
   "metadata": {
    "deletable": false,
    "editable": false,
    "nbgrader": {
     "cell_type": "code",
     "checksum": "9ae8c7f6b7401170798669ff2b5ef72a",
     "grade": true,
     "grade_id": "cell-3f6bdeaa87246fa0",
     "locked": true,
     "points": 1,
     "schema_version": 3,
     "solution": false,
     "task": false
    }
   },
   "outputs": [],
   "source": [
    "#hidden tests are within this cell"
   ]
  },
  {
   "cell_type": "code",
   "execution_count": null,
   "metadata": {},
   "outputs": [],
   "source": [
    "# Total train arrivals\n",
    "blwtr_trn_arrivals = blwtr_stats[\"Train Arrivals\"]\n",
    "# blwtr_trn_arrivals\n",
    "\n",
    "# Detraining totals\n",
    "blwtr_detrn = blwtr_stats[f\"{COLS['total_detrn']} sum\"]\n",
    "blwtr_detrn_late = blwtr_stats[f\"{COLS['late_detrn']} sum\"]\n",
    "blwtr_detrn_on_time = blwtr_detrn_late - blwtr_detrn\n",
    "\n",
    "print(\n",
    "    f\"Train Arrivals: {blwtr_trn_arrivals}\",\n",
    "    f\"Total Detraining Customers: {blwtr_detrn}\",\n",
    "    f\"Late Detraining Customers: {blwtr_detrn_late}\",\n",
    "    f\"On-Time Detraining Customers: {blwtr_detrn_on_time}\",\n",
    "    sep=\"\\n\",\n",
    ")"
   ]
  },
  {
   "cell_type": "code",
   "execution_count": null,
   "metadata": {
    "deletable": false,
    "editable": false,
    "nbgrader": {
     "cell_type": "code",
     "checksum": "6732c432b9c74733d7fa4b85a229d745",
     "grade": true,
     "grade_id": "cell-64fe07a9c6064fc0",
     "locked": true,
     "points": 1,
     "schema_version": 3,
     "solution": false,
     "task": false
    }
   },
   "outputs": [],
   "source": [
    "#hidden tests are within this cell"
   ]
  },
  {
   "cell_type": "markdown",
   "metadata": {},
   "source": [
    "### 4.2 _Blue Water_ trains [1 pt]\n",
    "\n",
    "Each _Blue Water_ train is identified by a unique train number.\n",
    "\n",
    "Create a `DataFrame` named `blwtr_trns` that contains one row for each train comprising the\n",
    "_Pere Marquette_ service. Include the following columns in the `DataFrame` in the order specified:\n",
    "\n",
    "1. \"Service Line\"\n",
    "2. \"Service\"\n",
    "3. \"Sub Service\"\n",
    "4. \"Route Miles\"\n",
    "5. \"Train Number\"\n",
    "\n",
    "Reset the index (set `drop=True`) when creating the new `DataFrame`."
   ]
  },
  {
   "cell_type": "code",
   "execution_count": null,
   "metadata": {
    "deletable": false,
    "nbgrader": {
     "cell_type": "code",
     "checksum": "9e5444c34862ce8ea1d82968d9104477",
     "grade": false,
     "grade_id": "cell-8b60cf181e58ba67",
     "locked": false,
     "schema_version": 3,
     "solution": true,
     "task": false
    }
   },
   "outputs": [],
   "source": [
    "# YOUR CODE HERE\n",
    "raise NotImplementedError()"
   ]
  },
  {
   "cell_type": "code",
   "execution_count": null,
   "metadata": {
    "deletable": false,
    "editable": false,
    "nbgrader": {
     "cell_type": "code",
     "checksum": "c4b269d8443acd0345abc2c3cf802013",
     "grade": true,
     "grade_id": "cell-9c7592e35f32ae91",
     "locked": true,
     "points": 1,
     "schema_version": 3,
     "solution": false,
     "task": false
    }
   },
   "outputs": [],
   "source": [
    "#hidden tests are within this cell"
   ]
  },
  {
   "cell_type": "markdown",
   "metadata": {},
   "source": [
    "### 4.3 _Blue Water_: mean late arrival times [2 pts]\n",
    "\n",
    "In an earlier notebook, a _simple_ least-squares linear regression was formulated to estimate the\n",
    "linear relationship between mean late arrival times and distance traveled (e.g., route miles). The\n",
    "model suggests that with every additional route mile, the average minutes late for late detraining\n",
    "passengers increases by approximately `0.0338` minutes. The _R_&sup2; value indicated that around\n",
    "`25.5%` of the variability in the average minutes late could be explained by the number of route\n",
    "miles traveled, with the remaining variability due to other factors or random noise.\n",
    "\n",
    "For _Blue Water_ late detraining passengers traveling the entire route, the model predicts a mean\n",
    "late arrival time of approximately `39.29` minutes.\n",
    "\n",
    "Retrieve the _Blue Water_ row from the `predictions` DataFrame. Call the appropriate `DataFrame`\n",
    "method to convert the row to a `Series`. Assign the return value to a variable named\n",
    "`blwtr_predicted`."
   ]
  },
  {
   "cell_type": "code",
   "execution_count": null,
   "metadata": {
    "deletable": false,
    "nbgrader": {
     "cell_type": "code",
     "checksum": "d7e538bf1a754ab5eba1e7e3d2144e28",
     "grade": false,
     "grade_id": "cell-6e4a12ff52ee00b1",
     "locked": false,
     "schema_version": 3,
     "solution": true,
     "task": false
    }
   },
   "outputs": [],
   "source": [
    "# YOUR CODE HERE\n",
    "raise NotImplementedError()"
   ]
  },
  {
   "cell_type": "code",
   "execution_count": null,
   "metadata": {
    "deletable": false,
    "editable": false,
    "nbgrader": {
     "cell_type": "code",
     "checksum": "d9b7f1fea494ff9ae956bdb2fa88c6e3",
     "grade": true,
     "grade_id": "cell-3a50cdfe428537ed",
     "locked": true,
     "points": 1,
     "schema_version": 3,
     "solution": false,
     "task": false
    }
   },
   "outputs": [],
   "source": [
    "#hidden tests are within this cell"
   ]
  },
  {
   "cell_type": "markdown",
   "metadata": {},
   "source": [
    "Contrast this prediction with the actual mean late arrival times experienced by _Blue Water_ late detraining passengers."
   ]
  },
  {
   "cell_type": "code",
   "execution_count": null,
   "metadata": {},
   "outputs": [],
   "source": [
    "# Drop missing values\n",
    "blwtr_avg_mm_late = blwtr[COLS[\"late_detrn_avg_mm_late\"]].reset_index(drop=True)\n",
    "\n",
    "# Call the custom frm.describe_numeric_column() function\n",
    "blwtr_avg_mm_late_describe = frm.describe_numeric_column(blwtr_avg_mm_late)\n",
    "blwtr_avg_mm_late_describe"
   ]
  },
  {
   "cell_type": "code",
   "execution_count": null,
   "metadata": {
    "deletable": false,
    "editable": false,
    "nbgrader": {
     "cell_type": "code",
     "checksum": "a2568abbf79579889b026344b0d1acf7",
     "grade": true,
     "grade_id": "cell-f98a69697c740859",
     "locked": true,
     "points": 1,
     "schema_version": 3,
     "solution": false,
     "task": false
    }
   },
   "outputs": [],
   "source": [
    "#hidden tests are within this cell"
   ]
  },
  {
   "cell_type": "markdown",
   "metadata": {},
   "source": [
    "### 4.4 _Blue Water_: eastbound and westbound routes [1 pt]\n",
    "\n",
    "Stations served by eastbound and westbound _Blue Water_ trains."
   ]
  },
  {
   "cell_type": "code",
   "execution_count": null,
   "metadata": {},
   "outputs": [],
   "source": [
    "# Retrieve the sub service from the Amtrak sub services list\n",
    "blwtr_sub_svc = next(\n",
    "    (sub_svc for sub_svc in amtk_sub_svcs if sub_svc[\"sub service\"] == SUB_SVC[\"blwtr\"])\n",
    ")\n",
    "blwtr_stn_codes = blwtr_sub_svc[\"station codes\"]\n",
    "blwtr_stns = stations[stations[COLS[\"station_code\"]].isin(blwtr_stn_codes)].reset_index(drop=True)\n",
    "blwtr_stns.sort_values(by=COLS[\"lon\"], inplace=True)\n",
    "blwtr_stns"
   ]
  },
  {
   "cell_type": "markdown",
   "metadata": {},
   "source": [
    "Station order for eastbound and westbound _Blue Water_ trains."
   ]
  },
  {
   "cell_type": "code",
   "execution_count": null,
   "metadata": {},
   "outputs": [],
   "source": [
    "blwtr_stn_order_eb = blwtr_sub_svc[\"station\"][\"eastbound\"]\n",
    "blwtr_stn_order_wb = blwtr_sub_svc[\"station\"][\"westbound\"]\n",
    "# blwtr_stn_order_eb, blwtr_stn_order_wb"
   ]
  },
  {
   "cell_type": "code",
   "execution_count": null,
   "metadata": {
    "deletable": false,
    "editable": false,
    "nbgrader": {
     "cell_type": "code",
     "checksum": "bf16ff20fcd374cc700af437e5a0a16c",
     "grade": true,
     "grade_id": "cell-612e2722917473de",
     "locked": true,
     "points": 1,
     "schema_version": 3,
     "solution": false,
     "task": false
    }
   },
   "outputs": [],
   "source": [
    "#hidden tests are within this cell"
   ]
  },
  {
   "cell_type": "markdown",
   "metadata": {},
   "source": [
    "### 4.5 _Blue Water_: eastbound detraining passengers summary statistics\n",
    "\n",
    "#### 4.5.1 _Blue Water_ Train 364 [1 pt]"
   ]
  },
  {
   "cell_type": "code",
   "execution_count": null,
   "metadata": {},
   "outputs": [],
   "source": [
    "# Base columns for routes\n",
    "rte_cols = [\n",
    "    COLS[\"station_code\"],\n",
    "    COLS[\"station\"],\n",
    "    COLS[\"state\"],\n",
    "    COLS[\"lat\"],\n",
    "    COLS[\"lon\"],\n",
    "]\n",
    "\n",
    "# Train 364 eastbound\n",
    "amtk_364 = ntwk.by_train_number(trains, 364)\n",
    "amtk_364_rte = ntwk.create_route(amtk_364, TRN[\"364\"][\"direction\"], blwtr_stn_order_eb)\n",
    "amtk_364_rte_stats = detrn.get_route_sum_stats(\n",
    "    amtk_364_rte, COLS[\"station_code\"], AGG[\"columns\"], AGG[\"funcs\"], rte_cols\n",
    ")\n",
    "amtk_364_rte_stats"
   ]
  },
  {
   "cell_type": "code",
   "execution_count": null,
   "metadata": {
    "deletable": false,
    "editable": false,
    "nbgrader": {
     "cell_type": "code",
     "checksum": "ce95634d69ce29413fd356f9f4d20248",
     "grade": true,
     "grade_id": "cell-d5d3cd19d1dc2364",
     "locked": true,
     "points": 1,
     "schema_version": 3,
     "solution": false,
     "task": false
    }
   },
   "outputs": [],
   "source": [
    "#hidden tests are within this cell"
   ]
  },
  {
   "cell_type": "markdown",
   "metadata": {},
   "source": [
    "##### 4.5.1.1 Write to file [1 pt]\n",
    "\n",
    "Write `amtk_364_rte_stats` to a CSV file named `stu-amtk_364_rte_stats.csv`. Store the file in the\n",
    "`data/student` directory. Then compare it to the accompanying `fxt-amtk_364_rte_stats.csv` file.\n",
    "It must match line for line, character for character."
   ]
  },
  {
   "cell_type": "code",
   "execution_count": null,
   "metadata": {
    "deletable": false,
    "nbgrader": {
     "cell_type": "code",
     "checksum": "422caad058efe51684c5789950cd17ad",
     "grade": false,
     "grade_id": "cell-4877301a32ac4df4",
     "locked": false,
     "schema_version": 3,
     "solution": true,
     "task": false
    }
   },
   "outputs": [],
   "source": [
    "# YOUR CODE HERE\n",
    "raise NotImplementedError()"
   ]
  },
  {
   "cell_type": "code",
   "execution_count": null,
   "metadata": {
    "deletable": false,
    "editable": false,
    "nbgrader": {
     "cell_type": "code",
     "checksum": "7be13be8364f2f31a7fe9f1f327cf898",
     "grade": true,
     "grade_id": "cell-ce926c6d15b2797a",
     "locked": true,
     "points": 1,
     "schema_version": 3,
     "solution": false,
     "task": false
    }
   },
   "outputs": [],
   "source": [
    "#hidden tests are within this cell"
   ]
  },
  {
   "cell_type": "markdown",
   "metadata": {},
   "source": [
    "### 4.6 _Blue Water_ eastbound mean late arrival times\n",
    "\n",
    "#### 4.6.1 _Blue Water_ Train 364 [1 pt]\n",
    "\n",
    "Review the central tendency, dispersion, and shape for the mean late arrival times of train 364."
   ]
  },
  {
   "cell_type": "code",
   "execution_count": null,
   "metadata": {},
   "outputs": [],
   "source": [
    "# Drop missing values\n",
    "amtk_364_avg_mm_late = amtk_364[COLS[\"late_detrn_avg_mm_late\"]].reset_index(drop=True)\n",
    "\n",
    "# Describe the column\n",
    "amtk_364_avg_mm_late_describe = frm.describe_numeric_column(amtk_364_avg_mm_late)\n",
    "amtk_364_avg_mm_late_describe"
   ]
  },
  {
   "cell_type": "code",
   "execution_count": null,
   "metadata": {
    "deletable": false,
    "editable": false,
    "nbgrader": {
     "cell_type": "code",
     "checksum": "175914c1db9f16a43739fe39dacd70de",
     "grade": true,
     "grade_id": "cell-965fed09ad512e83",
     "locked": true,
     "points": 1,
     "schema_version": 3,
     "solution": false,
     "task": false
    }
   },
   "outputs": [],
   "source": [
    "#hidden tests are within this cell"
   ]
  },
  {
   "cell_type": "markdown",
   "metadata": {},
   "source": [
    "#### 4.6.2 Generate box plots\n",
    "\n",
    "##### 4.6.2.1 Assemble the chart data"
   ]
  },
  {
   "cell_type": "code",
   "execution_count": null,
   "metadata": {},
   "outputs": [],
   "source": [
    "# Base columns for average minutes late\n",
    "cols = [COLS[\"year\"], COLS[\"quarter\"], COLS[\"late_detrn_avg_mm_late\"]]\n",
    "\n",
    "# Chart data\n",
    "chrt_data = detrn.get_qtr_avg_min_late(\n",
    "    amtk_364_rte, cols, COLS[\"year_quarter\"], [COLORS[\"amtk_blue\"], COLORS[\"amtk_red\"]]\n",
    ")\n",
    "chrt_data"
   ]
  },
  {
   "cell_type": "markdown",
   "metadata": {},
   "source": [
    "##### 4.6.2.2 Preaggregate the data"
   ]
  },
  {
   "cell_type": "code",
   "execution_count": null,
   "metadata": {},
   "outputs": [],
   "source": [
    "# Base columns for aggregation statistics\n",
    "cols = [COLS[\"year_quarter\"], COLS[\"late_detrn_avg_mm_late\"]]\n",
    "\n",
    "# Pre-aggregate the data\n",
    "chrt_data = frm.aggregate_data(chrt_data, cols)"
   ]
  },
  {
   "cell_type": "markdown",
   "metadata": {},
   "source": [
    "##### 4.6.2.3 Generate chart"
   ]
  },
  {
   "cell_type": "code",
   "execution_count": null,
   "metadata": {},
   "outputs": [],
   "source": [
    "# Create chart title\n",
    "txt = TRN[\"364\"]\n",
    "title_txt = (\n",
    "    f\"Amtrak {txt['name']} Train {txt['number']} Late Detraining Passengers\\n\"\n",
    "    f\"{txt['route']} ({txt['direction']})\"\n",
    ")\n",
    "title = ttl.format_title(amtk_364_rte_stats, title_txt)\n",
    "\n",
    "# Create and display the vertical boxplot\n",
    "chart_vertical = boxp.create_boxplot(\n",
    "    data=chrt_data,\n",
    "    x_shorthand=\"Fiscal Year Quarter:N\",\n",
    "    x_title=\"Period\",\n",
    "    y_shorthand=\"Late Detraining Customers Avg Min Late:Q\",\n",
    "    y_title=\"Average Minutes Late\",\n",
    "    box_size=20,\n",
    "    outlier_shorthand=\"outliers:Q\",\n",
    "    color_shorthand=\"Color:N\",\n",
    "    chart_title=title,\n",
    "    orient=boxp.Orient.VERTICAL,\n",
    ")\n",
    "chart_vertical.display()"
   ]
  },
  {
   "cell_type": "markdown",
   "metadata": {},
   "source": [
    "### 4.7 _Blue Water_: visualize eastbound mean late arrival times by station"
   ]
  },
  {
   "cell_type": "code",
   "execution_count": null,
   "metadata": {},
   "outputs": [],
   "source": [
    "# Chart title\n",
    "title_txt = f\"Amtrak {SUB_SVC['blwtr']} Service Late Detraining Passengers (2202 Q1 - 2024 Q3)\"\n",
    "title = ttl.format_title(amtk_364_rte_stats, title_txt)\n",
    "\n",
    "# Arrange stations by direction of travel\n",
    "x_sort_order = amtk_364_rte_stats.index.tolist()\n",
    "\n",
    "# Custom line colors\n",
    "line_colors = {364: COLORS[\"amtk_blue\"]}\n",
    "\n",
    "# Tooltips\n",
    "tooltip_config = [\n",
    "    {\"shorthand\": f\"{COLS['trn']}:N\", \"title\": \"Train\", \"format\": None},\n",
    "    {\"shorthand\": f\"{COLS['station']}:N\", \"title\": \"Arrival Station\", \"format\": None},\n",
    "    {\n",
    "        \"shorthand\": f\"{COLS['late_detrn_avg_mm_late']} mean\",\n",
    "        \"title\": \"Average Minutes Late\",\n",
    "        \"format\": None,\n",
    "    },\n",
    "]\n",
    "\n",
    "chart = lne.create_line_chart(\n",
    "    frame=amtk_364_rte_stats,\n",
    "    x_shorthand=f\"{COLS['station']}:N\",\n",
    "    x_title=f\"{COLS['station']}\",\n",
    "    x_sort_order=x_sort_order,\n",
    "    y_shorthand=f\"{COLS['late_detrn_avg_mm_late']} mean:Q\",\n",
    "    y_title=\"Average Minutes Late\",\n",
    "    y_tick_count_max=75,\n",
    "    point=True,\n",
    "    # point={\"filled\": False, \"fill\": \"white\"},\n",
    "    color_shorthand=f\"{COLS['trn']}:N\",\n",
    "    colors=line_colors,\n",
    "    tooltip_config=tooltip_config,\n",
    "    title=title,\n",
    ")\n",
    "chart.display()"
   ]
  },
  {
   "cell_type": "markdown",
   "metadata": {},
   "source": [
    "### 4.8 _Blue Water_: westbound detraining passengers summary statistics\n",
    "\n",
    "#### 4.8.1 _Blue Water_ Train 365 [1 pt]\n",
    "\n",
    "Review previous code employed to generate summary statistics for an Amtrak train. Then leverage\n",
    "functions available in the `amtk_network` and `amtk_detrain` modules to create three new\n",
    "`DataFrame` objects named `amtk_365`, `amtk_365_rte`, and `amtk_365_rte_stats`, respectively."
   ]
  },
  {
   "cell_type": "code",
   "execution_count": null,
   "metadata": {
    "deletable": false,
    "nbgrader": {
     "cell_type": "code",
     "checksum": "9f62c097587060c8acd267d2e3fec96d",
     "grade": false,
     "grade_id": "cell-a7e874ad9cf81e64",
     "locked": false,
     "schema_version": 3,
     "solution": true,
     "task": false
    }
   },
   "outputs": [],
   "source": [
    "# YOUR CODE HERE\n",
    "raise NotImplementedError()"
   ]
  },
  {
   "cell_type": "code",
   "execution_count": null,
   "metadata": {
    "deletable": false,
    "editable": false,
    "nbgrader": {
     "cell_type": "code",
     "checksum": "3a1a20d675a4f736de5cb252fcde8eb7",
     "grade": true,
     "grade_id": "cell-4185a47e8f8a327e",
     "locked": true,
     "points": 1,
     "schema_version": 3,
     "solution": false,
     "task": false
    }
   },
   "outputs": [],
   "source": [
    "#hidden tests are within this cell"
   ]
  },
  {
   "cell_type": "markdown",
   "metadata": {},
   "source": [
    "##### 4.8.1.1 Write to file [1 pt]\n",
    "\n",
    "Write `amtk_365_rte_stats` to a CSV file named `stu-amtk_365_rte_stats.csv`. Store the file in the\n",
    "`data/student` directory. Then compare it to the accompanying `fxt-amtk_365_rte_stats.csv` file.\n",
    "It must match line for line, character for character."
   ]
  },
  {
   "cell_type": "code",
   "execution_count": null,
   "metadata": {
    "deletable": false,
    "nbgrader": {
     "cell_type": "code",
     "checksum": "4a162e8634d8faccec9d29dc9ae4b17c",
     "grade": false,
     "grade_id": "cell-7272267a0e59ced8",
     "locked": false,
     "schema_version": 3,
     "solution": true,
     "task": false
    }
   },
   "outputs": [],
   "source": [
    "# YOUR CODE HERE\n",
    "raise NotImplementedError()"
   ]
  },
  {
   "cell_type": "code",
   "execution_count": null,
   "metadata": {
    "deletable": false,
    "editable": false,
    "nbgrader": {
     "cell_type": "code",
     "checksum": "57cf1021a4189de75e54b551549e8da1",
     "grade": true,
     "grade_id": "cell-995206796f9d28a0",
     "locked": true,
     "points": 1,
     "schema_version": 3,
     "solution": false,
     "task": false
    }
   },
   "outputs": [],
   "source": [
    "#hidden tests are within this cell"
   ]
  },
  {
   "cell_type": "markdown",
   "metadata": {},
   "source": [
    "### 4.9 _Blue Water_: westbound mean late arrival times\n",
    "\n",
    "#### 4.9.1 _Blue Water_ Train 365 [1 pt]\n",
    "\n",
    "Review the central tendency, dispersion, and shape for the mean late arrival times of\n",
    "train 365."
   ]
  },
  {
   "cell_type": "code",
   "execution_count": null,
   "metadata": {},
   "outputs": [],
   "source": [
    "# Drop missing values\n",
    "amtk_365_avg_mm_late = amtk_365[COLS[\"late_detrn_avg_mm_late\"]].reset_index(drop=True)\n",
    "\n",
    "# Describe the column\n",
    "amtk_365_avg_mm_late_describe = frm.describe_numeric_column(amtk_365_avg_mm_late)\n",
    "amtk_365_avg_mm_late_describe"
   ]
  },
  {
   "cell_type": "code",
   "execution_count": null,
   "metadata": {
    "deletable": false,
    "editable": false,
    "nbgrader": {
     "cell_type": "code",
     "checksum": "9b0216983058dfb63c19917cdb50ed49",
     "grade": true,
     "grade_id": "cell-f57d2703f03e54f8",
     "locked": true,
     "points": 1,
     "schema_version": 3,
     "solution": false,
     "task": false
    }
   },
   "outputs": [],
   "source": [
    "#hidden tests are within this cell"
   ]
  },
  {
   "cell_type": "markdown",
   "metadata": {},
   "source": [
    "#### 4.9.2 Generate box plots\n",
    "\n",
    "##### 4.9.2.1 Assemble the chart data"
   ]
  },
  {
   "cell_type": "code",
   "execution_count": null,
   "metadata": {},
   "outputs": [],
   "source": [
    "# Base columns for average minutes late\n",
    "cols = [COLS[\"year\"], COLS[\"quarter\"], COLS[\"late_detrn_avg_mm_late\"]]\n",
    "\n",
    "# Chart data\n",
    "chrt_data = detrn.get_qtr_avg_min_late(\n",
    "    amtk_365_rte, cols, COLS[\"year_quarter\"], [COLORS[\"amtk_blue\"], COLORS[\"amtk_red\"]]\n",
    ")\n",
    "chrt_data"
   ]
  },
  {
   "cell_type": "markdown",
   "metadata": {},
   "source": [
    "##### 4.9.2.2 Preaggregate the data"
   ]
  },
  {
   "cell_type": "code",
   "execution_count": null,
   "metadata": {},
   "outputs": [],
   "source": [
    "# Base columns for aggregation statistics\n",
    "cols = [COLS[\"year_quarter\"], COLS[\"late_detrn_avg_mm_late\"]]\n",
    "\n",
    "# Pre-aggregate the data\n",
    "chrt_data = frm.aggregate_data(chrt_data, cols)"
   ]
  },
  {
   "cell_type": "markdown",
   "metadata": {},
   "source": [
    "##### 4.9.2.3 Generate chart"
   ]
  },
  {
   "cell_type": "code",
   "execution_count": null,
   "metadata": {},
   "outputs": [],
   "source": [
    "# Create chart title\n",
    "txt = TRN[\"365\"]\n",
    "title_txt = (\n",
    "    f\"Amtrak {txt['name']} Train {txt['number']} Late Detraining Passengers\\n\"\n",
    "    f\"{txt['route']} ({txt['direction']})\"\n",
    ")\n",
    "title = ttl.format_title(amtk_365_rte_stats, title_txt)\n",
    "\n",
    "# Create and display the vertical boxplot\n",
    "chart_vertical = boxp.create_boxplot(\n",
    "    data=chrt_data,\n",
    "    x_shorthand=\"Fiscal Year Quarter:N\",\n",
    "    x_title=\"Period\",\n",
    "    y_shorthand=\"Late Detraining Customers Avg Min Late:Q\",\n",
    "    y_title=\"Average Minutes Late\",\n",
    "    box_size=20,\n",
    "    outlier_shorthand=\"outliers:Q\",\n",
    "    color_shorthand=\"Color:N\",\n",
    "    chart_title=title,\n",
    "    orient=boxp.Orient.VERTICAL,\n",
    ")\n",
    "chart_vertical.display()"
   ]
  },
  {
   "cell_type": "markdown",
   "metadata": {},
   "source": [
    "### 4.10 _Blue Water_: visualize westbound mean late arrival times by station"
   ]
  },
  {
   "cell_type": "code",
   "execution_count": null,
   "metadata": {},
   "outputs": [],
   "source": [
    "# Chart title\n",
    "title_txt = f\"Amtrak {SUB_SVC['blwtr']} Service Late Detraining Passengers (2022 Q1 - 2024 Q3)\"\n",
    "title = ttl.format_title(amtk_365_rte_stats, title_txt)\n",
    "\n",
    "# Arrange stations by direction of travel\n",
    "x_sort_order = amtk_365_rte_stats.index.tolist()\n",
    "\n",
    "# Custom line colors\n",
    "line_colors = {365: COLORS[\"amtk_blue\"]}\n",
    "\n",
    "# Tooltips\n",
    "tooltip_config = [\n",
    "    {\"shorthand\": f\"{COLS['trn']}:N\", \"title\": \"Train\", \"format\": None},\n",
    "    {\"shorthand\": f\"{COLS['station']}:N\", \"title\": \"Arrival Station\", \"format\": None},\n",
    "    {\n",
    "        \"shorthand\": f\"{COLS['late_detrn_avg_mm_late']} mean\",\n",
    "        \"title\": \"Average Minutes Late\",\n",
    "        \"format\": None,\n",
    "    },\n",
    "]\n",
    "\n",
    "chart = lne.create_line_chart(\n",
    "    frame=amtk_365_rte_stats,\n",
    "    x_shorthand=f\"{COLS['station']}:N\",\n",
    "    x_title=f\"{COLS['station']}\",\n",
    "    x_sort_order=x_sort_order,\n",
    "    y_shorthand=f\"{COLS['late_detrn_avg_mm_late']} mean:Q\",\n",
    "    y_title=\"Average Minutes Late\",\n",
    "    y_tick_count_max=75,\n",
    "    point=True,\n",
    "    # point={\"filled\": False, \"fill\": \"white\"},\n",
    "    color_shorthand=f\"{COLS['trn']}:N\",\n",
    "    colors=line_colors,\n",
    "    tooltip_config=tooltip_config,\n",
    "    title=title,\n",
    ")\n",
    "chart.display()"
   ]
  },
  {
   "cell_type": "markdown",
   "metadata": {},
   "source": [
    "## 5.0 Michigan _Pere Marquette_ service (Chicago, IL - Grand Rapids, MI)\n",
    "\n",
    "The _Pere Marquette_ operates daily between\n",
    "[Chicago Union Station](https://www.amtrak.com/stations/chi), Chicago, IL\n",
    "([CHI](https://www.amtrak.com/stations/chi)) and \n",
    "Grand Rapids ([GRR](https://www.amtrak.com/stations/grr)), MI. Intermediate stops include\n",
    "St. Joseph-Benton Harbor, MI ([SJM](https://www.amtrak.com/stations/sjm.html)),\n",
    "Bangor, MI ([BAM](https://www.amtrak.com/stations/bam.html)), and\n",
    "Holland, MI ([HOM](https://www.amtrak.com/stations/hom.html)).\n",
    "\n",
    "### 5.1 _Pere Marquette_: on-time performance metrics (entire period) [2 pts]\n",
    "\n",
    "_Pere Marquette_ performance data is a compilation of quarterly metrics that focus on late\n",
    "detraining passengers. Detraining assengers are considered on-time if they arrive at their\n",
    "destination no later than fifteen (`15`) minutes after their scheduled arrival time. All other\n",
    "detraining passengers are considered late.\n",
    "\n",
    "Retrieve the _Pere Marquette_ row from the `mich_sub_svcs_stats` DataFrame. Call the appropriate\n",
    "`DataFrame` method to convert the row to a `Series`. Assign the return value to a variable named\n",
    "`prmrq_stats`."
   ]
  },
  {
   "cell_type": "code",
   "execution_count": null,
   "metadata": {
    "deletable": false,
    "nbgrader": {
     "cell_type": "code",
     "checksum": "8508884408c7bdc7def238618ca56d75",
     "grade": false,
     "grade_id": "cell-59dd296b7d093bf9",
     "locked": false,
     "schema_version": 3,
     "solution": true,
     "task": false
    }
   },
   "outputs": [],
   "source": [
    "# YOUR CODE HERE\n",
    "raise NotImplementedError()"
   ]
  },
  {
   "cell_type": "code",
   "execution_count": null,
   "metadata": {
    "deletable": false,
    "editable": false,
    "nbgrader": {
     "cell_type": "code",
     "checksum": "9c2e832c583958af56258d27a57f8217",
     "grade": true,
     "grade_id": "cell-0a260f990cb024a1",
     "locked": true,
     "points": 1,
     "schema_version": 3,
     "solution": false,
     "task": false
    }
   },
   "outputs": [],
   "source": [
    "#hidden tests are within this cell"
   ]
  },
  {
   "cell_type": "code",
   "execution_count": null,
   "metadata": {},
   "outputs": [],
   "source": [
    "# Total train arrivals\n",
    "prmrq_trn_arrivals = prmrq_stats[\"Train Arrivals\"]\n",
    "# prmrq_trn_arrivals\n",
    "\n",
    "# Detraining totals\n",
    "prmrq_detrn = prmrq_stats[f\"{COLS['total_detrn']} sum\"]\n",
    "prmrq_detrn_late = prmrq_stats[f\"{COLS['late_detrn']} sum\"]\n",
    "prmrq_detrn_on_time = prmrq_detrn - prmrq_detrn_late\n",
    "\n",
    "print(\n",
    "    f\"Train Arrivals: {prmrq_trn_arrivals}\",\n",
    "    f\"Total Detraining Customers: {prmrq_detrn}\",\n",
    "    f\"Late Detraining Customers: {prmrq_detrn_late}\",\n",
    "    f\"On-Time Detraining Customers: {prmrq_detrn_on_time}\",\n",
    "    sep=\"\\n\",\n",
    ")"
   ]
  },
  {
   "cell_type": "code",
   "execution_count": null,
   "metadata": {
    "deletable": false,
    "editable": false,
    "nbgrader": {
     "cell_type": "code",
     "checksum": "4e4112be34ee366bd800978eae7efa5d",
     "grade": true,
     "grade_id": "cell-6c5036b0e05fbc82",
     "locked": true,
     "points": 1,
     "schema_version": 3,
     "solution": false,
     "task": false
    }
   },
   "outputs": [],
   "source": [
    "#hidden tests are within this cell"
   ]
  },
  {
   "cell_type": "markdown",
   "metadata": {},
   "source": [
    "### 5.2 _Pere Marquette_ trains [1 pt]\n",
    "\n",
    "Each _Pere Marquette_ train is identified by a unique train number.\n",
    "\n",
    "Create a `DataFrame` named `prmrq_trns` that contains one row for each train comprising the\n",
    "_Pere Marquette_ service. Include the following columns in the `DataFrame` in the order specified:\n",
    "\n",
    "1. \"Service Line\"\n",
    "2. \"Service\"\n",
    "3. \"Sub Service\"\n",
    "4. \"Route Miles\"\n",
    "5. \"Train Number\"\n",
    "\n",
    "Reset the index (set `drop=True`) when creating the new `DataFrame`."
   ]
  },
  {
   "cell_type": "code",
   "execution_count": null,
   "metadata": {
    "deletable": false,
    "nbgrader": {
     "cell_type": "code",
     "checksum": "40ebd86321b497735dd6698f6f4e1e84",
     "grade": false,
     "grade_id": "cell-34e096ce0fa5a38b",
     "locked": false,
     "schema_version": 3,
     "solution": true,
     "task": false
    }
   },
   "outputs": [],
   "source": [
    "# YOUR CODE HERE\n",
    "raise NotImplementedError()"
   ]
  },
  {
   "cell_type": "code",
   "execution_count": null,
   "metadata": {
    "deletable": false,
    "editable": false,
    "nbgrader": {
     "cell_type": "code",
     "checksum": "6fecc7abb70ab4c8ec565860a04b6782",
     "grade": true,
     "grade_id": "cell-76bc79a9c1f4ff96",
     "locked": true,
     "points": 1,
     "schema_version": 3,
     "solution": false,
     "task": false
    }
   },
   "outputs": [],
   "source": [
    "#hidden tests are within this cell"
   ]
  },
  {
   "cell_type": "markdown",
   "metadata": {},
   "source": [
    "### 5.3 _Pere Marquette_: mean late arrival times [2 pts]\n",
    "\n",
    "In an earlier notebook, a _simple_ least-squares linear regression was formulated to estimate the\n",
    "linear relationship between mean late arrival times and distance traveled (e.g., route miles). The\n",
    "model suggests that with every additional route mile, the average minutes late for late detraining\n",
    "passengers increases by approximately `0.0338` minutes. The _R_&sup2; value indicated that around\n",
    "`25.5%` of the variability in the average minutes late could be explained by the number of route\n",
    "miles traveled, with the remaining variability due to other factors or random noise.\n",
    "\n",
    "For _Pere Marquette_ late detraining passengers traveling the entire route, the model predicts a mean\n",
    "late arrival time of approximately `34.38`` minutes.\n",
    "\n",
    "Retrieve the _Pere Marquette_ row from the `predictions` DataFrame. Call the appropriate `DataFrame`\n",
    "method to convert the row to a `Series`. Assign the return value to a variable named\n",
    "`prmrq_predicted`."
   ]
  },
  {
   "cell_type": "code",
   "execution_count": null,
   "metadata": {
    "deletable": false,
    "nbgrader": {
     "cell_type": "code",
     "checksum": "25fb110e87d7ea62229e2084267ce08e",
     "grade": false,
     "grade_id": "cell-afb5916db6fd8934",
     "locked": false,
     "schema_version": 3,
     "solution": true,
     "task": false
    }
   },
   "outputs": [],
   "source": [
    "# YOUR CODE HERE\n",
    "raise NotImplementedError()"
   ]
  },
  {
   "cell_type": "code",
   "execution_count": null,
   "metadata": {
    "deletable": false,
    "editable": false,
    "nbgrader": {
     "cell_type": "code",
     "checksum": "fdaf1dd45dde276b2b05ece73c2515e9",
     "grade": true,
     "grade_id": "cell-fd5f91dea73b4c72",
     "locked": true,
     "points": 1,
     "schema_version": 3,
     "solution": false,
     "task": false
    }
   },
   "outputs": [],
   "source": [
    "#hidden tests are within this cell"
   ]
  },
  {
   "cell_type": "markdown",
   "metadata": {},
   "source": [
    "Contrast this prediction with the actual mean late arrival times experienced by _Pere Marquette_ late detraining passengers."
   ]
  },
  {
   "cell_type": "code",
   "execution_count": null,
   "metadata": {},
   "outputs": [],
   "source": [
    "# Drop missing values\n",
    "prmrq_avg_mm_late = prmrq[COLS[\"late_detrn_avg_mm_late\"]].reset_index(drop=True)\n",
    "\n",
    "# Call the custom frm.describe_numeric_column() function\n",
    "prmrq_avg_mm_late_describe = frm.describe_numeric_column(prmrq_avg_mm_late)\n",
    "prmrq_avg_mm_late_describe"
   ]
  },
  {
   "cell_type": "code",
   "execution_count": null,
   "metadata": {
    "deletable": false,
    "editable": false,
    "nbgrader": {
     "cell_type": "code",
     "checksum": "0937170e9f16a697c0bf6b0973b01259",
     "grade": true,
     "grade_id": "cell-611cad9685d83534",
     "locked": true,
     "points": 1,
     "schema_version": 3,
     "solution": false,
     "task": false
    }
   },
   "outputs": [],
   "source": [
    "#hidden tests are within this cell"
   ]
  },
  {
   "cell_type": "markdown",
   "metadata": {},
   "source": [
    "### 5.4 _Pere Marquette_: eastbound and westbound routes [1 pt]\n",
    "\n",
    "Stations served by eastbound and westbound _Pere Marquette_ trains."
   ]
  },
  {
   "cell_type": "code",
   "execution_count": null,
   "metadata": {},
   "outputs": [],
   "source": [
    "# Retrieve the sub service from the Amtrak sub services list\n",
    "prmrq_sub_svc = next(\n",
    "    (sub_svc for sub_svc in amtk_sub_svcs if sub_svc[\"sub service\"] == SUB_SVC[\"blwtr\"])\n",
    ")\n",
    "prmrq_stn_codes = prmrq_sub_svc[\"station codes\"]\n",
    "prmrq_stns = stations[stations[COLS[\"station_code\"]].isin(prmrq_stn_codes)].reset_index(drop=True)\n",
    "prmrq_stns.sort_values(by=COLS[\"lon\"], inplace=True)\n",
    "prmrq_stns"
   ]
  },
  {
   "cell_type": "code",
   "execution_count": null,
   "metadata": {},
   "outputs": [],
   "source": [
    "prmrq_stn_order_eb = prmrq_sub_svc[\"station order\"][\"eastbnd\"]\n",
    "prmrq_stn_order_wb = prmrq_sub_svc[\"station order\"][\"westbnd\"]\n",
    "# prmrq_stn_order_eb, prmrq_stn_order_wb"
   ]
  },
  {
   "cell_type": "code",
   "execution_count": null,
   "metadata": {
    "deletable": false,
    "editable": false,
    "nbgrader": {
     "cell_type": "code",
     "checksum": "4f80d7a4c9136e1970c078852a23ed41",
     "grade": true,
     "grade_id": "cell-f2be6844035227c6",
     "locked": true,
     "points": 1,
     "schema_version": 3,
     "solution": false,
     "task": false
    }
   },
   "outputs": [],
   "source": [
    "#hidden tests are within this cell"
   ]
  },
  {
   "cell_type": "markdown",
   "metadata": {},
   "source": [
    "### 5.5 _Pere Marquette_: eastbound detraining passengers summary statistics\n",
    "\n",
    "#### 5.5.1 _Pere Marquette_ Train 370 [1 pt]"
   ]
  },
  {
   "cell_type": "code",
   "execution_count": null,
   "metadata": {},
   "outputs": [],
   "source": [
    "# Base columns for routes\n",
    "rte_cols = [\n",
    "    COLS[\"trn\"],\n",
    "    COLS[\"station\"],\n",
    "    COLS[\"station_code\"],\n",
    "    COLS[\"state\"],\n",
    "    COLS[\"lat\"],\n",
    "    COLS[\"lon\"],\n",
    "]\n",
    "\n",
    "# Train 370 eastbound\n",
    "amtk_370 = ntwk.by_train_number(trains, 370)\n",
    "amtk_370_rte = ntwk.create_route(amtk_370, TRN[\"370\"][\"direction\"], prmrq_stn_order_eb)\n",
    "amtk_370_rte_stats = detrn.get_route_sum_stats(\n",
    "    amtk_370_rte, COLS[\"station_code\"], AGG[\"columns\"], AGG[\"funcs\"], rte_cols\n",
    ")\n",
    "amtk_370_rte_stats"
   ]
  },
  {
   "cell_type": "code",
   "execution_count": null,
   "metadata": {
    "deletable": false,
    "editable": false,
    "nbgrader": {
     "cell_type": "code",
     "checksum": "8e458c91e84c051b0c98cfdcdc87749e",
     "grade": true,
     "grade_id": "cell-fb52d7858beb13c0",
     "locked": true,
     "points": 1,
     "schema_version": 3,
     "solution": false,
     "task": false
    }
   },
   "outputs": [],
   "source": [
    "#hidden tests are within this cell"
   ]
  },
  {
   "cell_type": "markdown",
   "metadata": {},
   "source": [
    "##### 5.5.1.1 Write to file [1 pt]\n",
    "\n",
    "Write `amtk_370_rte_stats` to a CSV file named `stu-amtk_370_rte_stats.csv`. Store the file in the\n",
    "`data/student` directory. Then compare it to the accompanying `fxt-amtk_370_rte_stats.csv` file.\n",
    "It must match line for line, character for character."
   ]
  },
  {
   "cell_type": "code",
   "execution_count": null,
   "metadata": {
    "deletable": false,
    "nbgrader": {
     "cell_type": "code",
     "checksum": "f99712eb3575b06d1ec8ef1f6b8e829d",
     "grade": false,
     "grade_id": "cell-482e5bb6e272777b",
     "locked": false,
     "schema_version": 3,
     "solution": true,
     "task": false
    }
   },
   "outputs": [],
   "source": [
    "# YOUR CODE HERE\n",
    "raise NotImplementedError()"
   ]
  },
  {
   "cell_type": "code",
   "execution_count": null,
   "metadata": {
    "deletable": false,
    "editable": false,
    "nbgrader": {
     "cell_type": "code",
     "checksum": "d14d58496c7f080b14c7c0a99fe6d23e",
     "grade": true,
     "grade_id": "cell-fb60647f930a98dc",
     "locked": true,
     "points": 1,
     "schema_version": 3,
     "solution": false,
     "task": false
    }
   },
   "outputs": [],
   "source": [
    "#hidden tests are within this cell"
   ]
  },
  {
   "cell_type": "markdown",
   "metadata": {},
   "source": [
    "### 5.6 _Pere Marquette_: eastbound mean late arrival times\n",
    "\n",
    "#### 5.6.1 _Pere Marquette_ Train 370 [1 pt]\n",
    "\n",
    "Review the central tendency, dispersion, and shape for the mean late arrival times of train 370."
   ]
  },
  {
   "cell_type": "code",
   "execution_count": null,
   "metadata": {},
   "outputs": [],
   "source": [
    "# Drop missing values\n",
    "amtk_370_avg_mm_late = amtk_370[COLS[\"late_detrn_avg_mm_late\"]].reset_index(drop=True)\n",
    "\n",
    "# Describe the column\n",
    "amtk_370_avg_mm_late_describe = frm.describe_numeric_column(amtk_370_avg_mm_late)\n",
    "amtk_370_avg_mm_late_describe"
   ]
  },
  {
   "cell_type": "code",
   "execution_count": null,
   "metadata": {
    "deletable": false,
    "editable": false,
    "nbgrader": {
     "cell_type": "code",
     "checksum": "cff9007ea015045ba3a136abdd71889a",
     "grade": true,
     "grade_id": "cell-f2c97c617d5f4994",
     "locked": true,
     "points": 1,
     "schema_version": 3,
     "solution": false,
     "task": false
    }
   },
   "outputs": [],
   "source": [
    "#hidden tests are within this cell"
   ]
  },
  {
   "cell_type": "markdown",
   "metadata": {},
   "source": [
    "#### 5.6.2 Generate box plots\n",
    "\n",
    "##### 5.6.2.1 Assemble the chart data"
   ]
  },
  {
   "cell_type": "code",
   "execution_count": null,
   "metadata": {},
   "outputs": [],
   "source": [
    "# Base columns for average minutes late\n",
    "cols = [COLS[\"year\"], COLS[\"quarter\"], COLS[\"late_detrn_avg_mm_late\"]]\n",
    "\n",
    "# Chart data\n",
    "chrt_data = detrn.get_qtr_avg_min_late(\n",
    "    amtk_370_rte, cols, COLS[\"year_quarter\"], [COLORS[\"amtk_blue\"], COLORS[\"amtk_red\"]]\n",
    ")\n",
    "# chrt_data"
   ]
  },
  {
   "cell_type": "markdown",
   "metadata": {},
   "source": [
    "##### 5.6.2.2 Preaggregate the data"
   ]
  },
  {
   "cell_type": "code",
   "execution_count": null,
   "metadata": {},
   "outputs": [],
   "source": [
    "# Base columns for aggregation statistics\n",
    "cols = [COLS[\"year_quarter\"], COLS[\"late_detrn_avg_mm_late\"]]\n",
    "\n",
    "# Pre-aggregate the data\n",
    "chrt_data = frm.aggregate_data(chrt_data, cols)"
   ]
  },
  {
   "cell_type": "markdown",
   "metadata": {},
   "source": [
    "##### 5.6.2.3 Generate chart"
   ]
  },
  {
   "cell_type": "code",
   "execution_count": null,
   "metadata": {},
   "outputs": [],
   "source": [
    "# Create chart title\n",
    "txt = TRN[\"370\"]\n",
    "title_txt = (\n",
    "    f\"Amtrak {txt['name']} Train {txt['number']} Late Detraining Passengers\\n\"\n",
    "    f\"{txt['route']} ({txt['direction']})\"\n",
    ")\n",
    "title = ttl.format_title(amtk_370_rte_stats, title_txt)\n",
    "\n",
    "# Create and display the vertical boxplot\n",
    "chart_vertical = boxp.create_boxplot(\n",
    "    data=chrt_data,\n",
    "    x_shorthand=\"Fiscal Year Quarter:N\",\n",
    "    x_title=\"Period\",\n",
    "    y_shorthand=\"Late Detraining Customers Avg Min Late:Q\",\n",
    "    y_title=\"Average Minutes Late\",\n",
    "    box_size=20,\n",
    "    outlier_shorthand=\"outliers:Q\",\n",
    "    color_shorthand=\"Color:N\",\n",
    "    chart_title=title,\n",
    "    orient=boxp.Orient.VERTICAL,\n",
    ")\n",
    "chart_vertical.display()"
   ]
  },
  {
   "cell_type": "markdown",
   "metadata": {},
   "source": [
    "### 5.7 _Pere Marquette_: visualize eastbound mean late arrival times by station"
   ]
  },
  {
   "cell_type": "code",
   "execution_count": null,
   "metadata": {},
   "outputs": [],
   "source": [
    "# Chart title\n",
    "title_txt = f\"Amtrak {SUB_SVC['prmrq']} Service Late Detraining Passengers (2022 Q1 - 2024 Q3)\"\n",
    "title = ttl.format_title(amtk_370_rte_stats, title_txt)\n",
    "\n",
    "# Arrange stations by direction of travel\n",
    "x_sort_order = amtk_370_rte_stats.index.tolist()\n",
    "\n",
    "# Custom line colors\n",
    "line_colors = {370: COLORS[\"amtk_blue\"]}\n",
    "\n",
    "# Tooltips\n",
    "tooltip_config = [\n",
    "    {\"shorthand\": f\"{COLS['trn']}:N\", \"title\": \"Train\", \"format\": None},\n",
    "    {\"shorthand\": f\"{COLS['station']}:N\", \"title\": \"Arrival Station\", \"format\": None},\n",
    "    {\n",
    "        \"shorthand\": f\"{COLS['late_detrn_avg_mm_late']} mean\",\n",
    "        \"title\": \"Average Minutes Late\",\n",
    "        \"format\": None,\n",
    "    },\n",
    "]\n",
    "\n",
    "chart = lne.create_line_chart(\n",
    "    frame=amtk_370_rte_stats,\n",
    "    x_shorthand=f\"{COLS['station']}:N\",\n",
    "    x_title=f\"{COLS['station']}\",\n",
    "    x_sort_order=x_sort_order,\n",
    "    y_shorthand=f\"{COLS['late_detrn_avg_mm_late']} mean:Q\",\n",
    "    y_title=\"Average Minutes Late\",\n",
    "    y_tick_count_max=75,\n",
    "    point=True,\n",
    "    # point={\"filled\": False, \"fill\": \"white\"},\n",
    "    color_shorthand=f\"{COLS['trn']}:N\",\n",
    "    colors=line_colors,\n",
    "    tooltip_config=tooltip_config,\n",
    "    title=title,\n",
    ")\n",
    "chart.display()"
   ]
  },
  {
   "cell_type": "markdown",
   "metadata": {},
   "source": [
    "### 5.8 _Pere Marquette_: westbound detraining passengers summary statistics\n",
    "\n",
    "#### 5.8.1 _Pere Marquette_ Train 371 [1 pt]\n",
    "\n",
    "Review previous code employed to generate summary statistics for an Amtrak train. Then leverage\n",
    "functions available in the `amtk_network` and `amtk_detrain` modules to create three new\n",
    "`DataFrame` objects named `amtk_371`, `amtk_371_rte`, and `amtk_371_rte_stats`, respectively."
   ]
  },
  {
   "cell_type": "code",
   "execution_count": null,
   "metadata": {
    "deletable": false,
    "nbgrader": {
     "cell_type": "code",
     "checksum": "2f4582bc5a2b2b25bee79375aba7ea77",
     "grade": false,
     "grade_id": "cell-f8113726ad8315a9",
     "locked": false,
     "schema_version": 3,
     "solution": true,
     "task": false
    }
   },
   "outputs": [],
   "source": [
    "# YOUR CODE HERE\n",
    "raise NotImplementedError()"
   ]
  },
  {
   "cell_type": "code",
   "execution_count": null,
   "metadata": {
    "deletable": false,
    "editable": false,
    "nbgrader": {
     "cell_type": "code",
     "checksum": "6a8887fcdea36d3a626082c5e454eacf",
     "grade": true,
     "grade_id": "cell-3092b124793f8a38",
     "locked": true,
     "points": 1,
     "schema_version": 3,
     "solution": false,
     "task": false
    }
   },
   "outputs": [],
   "source": [
    "#hidden tests are within this cell"
   ]
  },
  {
   "cell_type": "markdown",
   "metadata": {},
   "source": [
    "##### 5.8.1.1 Write to file [1 pt]\n",
    "\n",
    "Write `amtk_371_rte_stats` to a CSV file named `stu-amtk_371_rte_stats.csv`. Store the file in the\n",
    "`data/student` directory. Then compare it to the accompanying `fxt-amtk_371_rte_stats.csv` file.\n",
    "It must match line for line, character for character."
   ]
  },
  {
   "cell_type": "code",
   "execution_count": null,
   "metadata": {
    "deletable": false,
    "nbgrader": {
     "cell_type": "code",
     "checksum": "d1e696d61b4c44a1ee83c25db6fc5f36",
     "grade": false,
     "grade_id": "cell-38ed293182bb9f1d",
     "locked": false,
     "schema_version": 3,
     "solution": true,
     "task": false
    }
   },
   "outputs": [],
   "source": [
    "# YOUR CODE HERE\n",
    "raise NotImplementedError()"
   ]
  },
  {
   "cell_type": "code",
   "execution_count": null,
   "metadata": {
    "deletable": false,
    "editable": false,
    "nbgrader": {
     "cell_type": "code",
     "checksum": "121b9bd14eeaf5416b09b722970d50ca",
     "grade": true,
     "grade_id": "cell-7be58b5ad81e10d0",
     "locked": true,
     "points": 1,
     "schema_version": 3,
     "solution": false,
     "task": false
    }
   },
   "outputs": [],
   "source": [
    "#hidden tests are within this cell"
   ]
  },
  {
   "cell_type": "markdown",
   "metadata": {},
   "source": [
    "### 5.9 _Pere Marquette_: westbound mean late arrival times\n",
    "\n",
    "#### 5.9.1 _Pere Marquette_ Train 371 [1 pt]\n",
    "\n",
    "Review the central tendency, dispersion, and shape for the mean late arrival times of train 371."
   ]
  },
  {
   "cell_type": "code",
   "execution_count": null,
   "metadata": {},
   "outputs": [],
   "source": [
    "# Drop missing values\n",
    "amtk_371_avg_mm_late = amtk_371[COLS[\"late_detrn_avg_mm_late\"]].reset_index(drop=True)\n",
    "\n",
    "# Describe the column\n",
    "amtk_371_avg_mm_late_describe = frm.describe_numeric_column(amtk_371_avg_mm_late)\n",
    "amtk_371_avg_mm_late_describe"
   ]
  },
  {
   "cell_type": "code",
   "execution_count": null,
   "metadata": {
    "deletable": false,
    "editable": false,
    "nbgrader": {
     "cell_type": "code",
     "checksum": "321d31a34e7632c3c7fef1adffb4e423",
     "grade": true,
     "grade_id": "cell-8e071f81a734bfb5",
     "locked": true,
     "points": 1,
     "schema_version": 3,
     "solution": false,
     "task": false
    }
   },
   "outputs": [],
   "source": [
    "#hidden tests are within this cell"
   ]
  },
  {
   "cell_type": "markdown",
   "metadata": {},
   "source": [
    "#### 5.9.2 Generate box plots\n",
    "\n",
    "##### 5.9.2.1 Assemble the chart data"
   ]
  },
  {
   "cell_type": "code",
   "execution_count": null,
   "metadata": {},
   "outputs": [],
   "source": [
    "# Base columns for average minutes late\n",
    "cols = [COLS[\"year\"], COLS[\"quarter\"], COLS[\"late_detrn_avg_mm_late\"]]\n",
    "\n",
    "# Chart data\n",
    "chrt_data = detrn.get_qtr_avg_min_late(\n",
    "    amtk_371_rte, cols, COLS[\"year_quarter\"], [COLORS[\"amtk_blue\"], COLORS[\"amtk_red\"]]\n",
    ")\n",
    "# chrt_data"
   ]
  },
  {
   "cell_type": "markdown",
   "metadata": {},
   "source": [
    "##### 5.9.2.2 Preaggregate the data"
   ]
  },
  {
   "cell_type": "code",
   "execution_count": null,
   "metadata": {},
   "outputs": [],
   "source": [
    "# Base columns for aggregation statistics\n",
    "cols = [COLS[\"year_quarter\"], COLS[\"late_detrn_avg_mm_late\"]]\n",
    "\n",
    "# Pre-aggregate the data\n",
    "chrt_data = frm.aggregate_data(chrt_data, cols)"
   ]
  },
  {
   "cell_type": "markdown",
   "metadata": {},
   "source": [
    "##### 5.9.2.3 Generate chart"
   ]
  },
  {
   "cell_type": "code",
   "execution_count": null,
   "metadata": {},
   "outputs": [],
   "source": [
    "# Create chart title\n",
    "txt = TRN[\"371\"]\n",
    "title_txt = (\n",
    "    f\"Amtrak {txt['name']} Train {txt['number']} Late Detraining Passengers\\n\"\n",
    "    f\"{txt['route']} ({txt['direction']})\"\n",
    ")\n",
    "title = ttl.format_title(amtk_371_rte_stats, title_txt)\n",
    "\n",
    "# Create and display the vertical boxplot\n",
    "chart_vertical = boxp.create_boxplot(\n",
    "    data=chrt_data,\n",
    "    x_shorthand=\"Fiscal Year Quarter:N\",\n",
    "    x_title=\"Period\",\n",
    "    y_shorthand=\"Late Detraining Customers Avg Min Late:Q\",\n",
    "    y_title=\"Average Minutes Late\",\n",
    "    box_size=20,\n",
    "    outlier_shorthand=\"outliers:Q\",\n",
    "    color_shorthand=\"Color:N\",\n",
    "    chart_title=title,\n",
    "    orient=boxp.Orient.VERTICAL,\n",
    ")\n",
    "chart_vertical.display()"
   ]
  },
  {
   "cell_type": "markdown",
   "metadata": {},
   "source": [
    "### 5.10 _Pere Marquette_: visualize westbound mean late arrival times by station"
   ]
  },
  {
   "cell_type": "code",
   "execution_count": null,
   "metadata": {},
   "outputs": [],
   "source": [
    "# Chart title\n",
    "title_txt = f\"Amtrak {SUB_SVC['prmrq']} Service Late Detraining Passengers (2022 Q1 - 2024 Q3)\"\n",
    "title = ttl.format_title(amtk_371_rte_stats, title_txt)\n",
    "\n",
    "# Arrange stations by direction of travel\n",
    "x_sort_order = amtk_371_rte_stats.index.tolist()\n",
    "\n",
    "# Custom line colors\n",
    "line_colors = {371: COLORS[\"amtk_blue\"]}\n",
    "\n",
    "# Tooltips\n",
    "tooltip_config = [\n",
    "    {\"shorthand\": f\"{COLS['trn']}:N\", \"title\": \"Train\", \"format\": None},\n",
    "    {\"shorthand\": f\"{COLS['station']}:N\", \"title\": \"Arrival Station\", \"format\": None},\n",
    "    {\n",
    "        \"shorthand\": f\"{COLS['late_detrn_avg_mm_late']} mean\",\n",
    "        \"title\": \"Average Minutes Late\",\n",
    "        \"format\": None,\n",
    "    },\n",
    "]\n",
    "\n",
    "chart = lne.create_line_chart(\n",
    "    frame=amtk_371_rte_stats,\n",
    "    x_shorthand=f\"{COLS['station']}:N\",\n",
    "    x_title=f\"{COLS['station']}\",\n",
    "    x_sort_order=x_sort_order,\n",
    "    y_shorthand=f\"{COLS['late_detrn_avg_mm_late']} mean:Q\",\n",
    "    y_title=\"Average Minutes Late\",\n",
    "    y_tick_count_max=75,\n",
    "    point=True,\n",
    "    # point={\"filled\": False, \"fill\": \"white\"},\n",
    "    color_shorthand=f\"{COLS['trn']}:N\",\n",
    "    colors=line_colors,\n",
    "    tooltip_config=tooltip_config,\n",
    "    title=title,\n",
    ")\n",
    "chart.display()"
   ]
  },
  {
   "cell_type": "markdown",
   "metadata": {},
   "source": [
    "## 6.0 Michigan _Wolverine_ service (Chicago, IL - Pontiac, MI)\n",
    "\n",
    "_Wolverine_ trains operates between\n",
    "[Chicago Union Station](https://www.amtrak.com/stations/chi),\n",
    "Chicago, IL ([CHI](https://www.amtrak.com/stations/chi)) and\n",
    "Pontiac, MI ([PNT](https://www.amtrak.com/stations/pnt)). Intermediate stops include\n",
    "Kalamazoo, MI ([KAL](https://www.amtrak.com/stations/kal)),\n",
    "Battle Creek, MI ([BTL](https://www.amtrak.com/stations/btl)),\n",
    "Jackson, MI ([JXN](https://www.amtrak.com/stations/jxn)),\n",
    "Ann Arbor, MI ([ARB](https://www.amtrak.com/stations/arb)), and\n",
    "Detroit, MI ([DET](https://www.amtrak.com/stations/det)), among other towns and cities.\n",
    "\n",
    "### 6.1 _Wolverine_: on-time performance metrics (entire period) [2 pts]\n",
    "\n",
    "_Wolverine_ performance data is a compilation of quarterly metrics that focus on late\n",
    "detraining passengers. Detraining assengers are considered on-time if they arrive at their\n",
    "destination no later than fifteen (`15`) minutes after their scheduled arrival time. All other\n",
    "detraining passengers are considered late.\n",
    "\n",
    "Retrieve the _Wolverine_ row from the `mich_sub_svcs_stats` DataFrame. Call the appropriate\n",
    "`DataFrame` method to convert the row to a `Series`. Assign the return value to a variable named\n",
    "`wolv_stats`."
   ]
  },
  {
   "cell_type": "code",
   "execution_count": null,
   "metadata": {
    "deletable": false,
    "nbgrader": {
     "cell_type": "code",
     "checksum": "f7c8372563f9a4e79cbf9c2b6185bf76",
     "grade": false,
     "grade_id": "cell-f4679933b95547ef",
     "locked": false,
     "schema_version": 3,
     "solution": true,
     "task": false
    }
   },
   "outputs": [],
   "source": [
    "# YOUR CODE HERE\n",
    "raise NotImplementedError()"
   ]
  },
  {
   "cell_type": "code",
   "execution_count": null,
   "metadata": {
    "deletable": false,
    "editable": false,
    "nbgrader": {
     "cell_type": "code",
     "checksum": "ce9bdad0f8c8c0fd15a86a886cfe87e8",
     "grade": true,
     "grade_id": "cell-10777973e3a3a708",
     "locked": true,
     "points": 1,
     "schema_version": 3,
     "solution": false,
     "task": false
    }
   },
   "outputs": [],
   "source": [
    "#hidden tests are within this cell"
   ]
  },
  {
   "cell_type": "code",
   "execution_count": null,
   "metadata": {},
   "outputs": [],
   "source": [
    "# Total train arrivals\n",
    "wolv_trn_arrivals = wolv_stats[\"Train Arrivals\"]\n",
    "# wolv_trn_arrivals\n",
    "\n",
    "# Detraining totals\n",
    "wolv_detrn = wolv_stats[f\"{COLS['total_detrn']} sum\"]\n",
    "wolv_detrn_late = wolv_stats[f\"{COLS['late_detrn']}\"]\n",
    "wolv_detrn_on_time = wolv_detrn - wolv_detrn_late\n",
    "\n",
    "print(\n",
    "    f\"Train Arrivals: {wolv_trn_arrivals}\",\n",
    "    f\"Total Detraining Customers: {wolv_detrn}\",\n",
    "    f\"Late Detraining Customers: {wolv_detrn_late}\",\n",
    "    f\"On-Time Detraining Customers: {wolv_detrn_on_time}\",\n",
    "    sep=\"\\n\",\n",
    ")"
   ]
  },
  {
   "cell_type": "code",
   "execution_count": null,
   "metadata": {
    "deletable": false,
    "editable": false,
    "nbgrader": {
     "cell_type": "code",
     "checksum": "cc164fc0c853ee721523031ff7594285",
     "grade": true,
     "grade_id": "cell-dab1b9514cafd70e",
     "locked": true,
     "points": 1,
     "schema_version": 3,
     "solution": false,
     "task": false
    }
   },
   "outputs": [],
   "source": [
    "#hidden tests are within this cell"
   ]
  },
  {
   "cell_type": "markdown",
   "metadata": {},
   "source": [
    "### 6.2 _Wolverine_ trains [1 pt]\n",
    "\n",
    "Each _Wolverine_ train is identified by a unique train number.\n",
    "\n",
    "Create a `DataFrame` named `wolv_trns` that contains one row for each train comprising the\n",
    "_Pere Marquette_ service. Include the following columns in the `DataFrame` in the order specified:\n",
    "\n",
    "1. \"Service Line\"\n",
    "2. \"Service\"\n",
    "3. \"Sub Service\"\n",
    "4. \"Route Miles\"\n",
    "5. \"Train Number\"\n",
    "\n",
    "Reset the index (set `drop=True`) when creating the new `DataFrame`."
   ]
  },
  {
   "cell_type": "code",
   "execution_count": null,
   "metadata": {
    "deletable": false,
    "nbgrader": {
     "cell_type": "code",
     "checksum": "605ee36cf5bf3c141a8ad6dfa5ba3c7e",
     "grade": false,
     "grade_id": "cell-65deb90ee5328127",
     "locked": false,
     "schema_version": 3,
     "solution": true,
     "task": false
    }
   },
   "outputs": [],
   "source": [
    "# YOUR CODE HERE\n",
    "raise NotImplementedError()"
   ]
  },
  {
   "cell_type": "code",
   "execution_count": null,
   "metadata": {
    "deletable": false,
    "editable": false,
    "nbgrader": {
     "cell_type": "code",
     "checksum": "a7cf8c020005c91d11774a2beb671b14",
     "grade": true,
     "grade_id": "cell-56b013a7f1ddb610",
     "locked": true,
     "points": 1,
     "schema_version": 3,
     "solution": false,
     "task": false
    }
   },
   "outputs": [],
   "source": [
    "#hidden tests are within this cell"
   ]
  },
  {
   "cell_type": "markdown",
   "metadata": {},
   "source": [
    "### 6.3 _Wolverine_: mean late arrival times [2 pts]\n",
    "\n",
    "In an earlier notebook, a _simple_ least-squares linear regression was formulated to estimate the\n",
    "linear relationship between mean late arrival times and distance traveled (e.g., route miles). The\n",
    "model suggests that with every additional route mile, the average minutes late for late detraining\n",
    "passengers increases by approximately `0.0338` minutes. The _R_&sup2; value indicated that around\n",
    "`25.5%` of the variability in the average minutes late could be explained by the number of route\n",
    "miles traveled, with the remaining variability due to other factors or random noise.\n",
    "\n",
    "For _Wolverine_ late detraining passengers traveling the entire route, the model predicts a mean\n",
    "late arrival time of approximately `38.61` minutes.\n",
    "\n",
    "Retrieve the _Wolverine_ row from the `predictions` DataFrame. Call the appropriate `DataFrame`\n",
    "method to convert the row to a `Series`. Assign the return value to a variable named\n",
    "`wolv_predicted`."
   ]
  },
  {
   "cell_type": "code",
   "execution_count": null,
   "metadata": {
    "deletable": false,
    "nbgrader": {
     "cell_type": "code",
     "checksum": "f3e513266f9619ad7384ae999ff7f996",
     "grade": false,
     "grade_id": "cell-ed1cd2e9641ef732",
     "locked": false,
     "schema_version": 3,
     "solution": true,
     "task": false
    }
   },
   "outputs": [],
   "source": [
    "# YOUR CODE HERE\n",
    "raise NotImplementedError()"
   ]
  },
  {
   "cell_type": "code",
   "execution_count": null,
   "metadata": {
    "deletable": false,
    "editable": false,
    "nbgrader": {
     "cell_type": "code",
     "checksum": "a27f6d0406c9403bde099b5b17c19e72",
     "grade": true,
     "grade_id": "cell-3ade48400813cb43",
     "locked": true,
     "points": 1,
     "schema_version": 3,
     "solution": false,
     "task": false
    }
   },
   "outputs": [],
   "source": [
    "#hidden tests are within this cell"
   ]
  },
  {
   "cell_type": "markdown",
   "metadata": {},
   "source": [
    "Contrast this prediction with the actual mean late arrival times experienced by _Wolverine_ late detraining passengers."
   ]
  },
  {
   "cell_type": "code",
   "execution_count": null,
   "metadata": {},
   "outputs": [],
   "source": [
    "# Drop missing values\n",
    "wolv_avg_mm_late = wolv[COLS[\"avg_mm_late\"]].dropna().reset_index(drop=True)\n",
    "\n",
    "# Call the custom frm.describe_numeric_column() function again\n",
    "wolv_avg_mm_late_describe = frm.describe_numeric_column(wolv_avg_mm_late)\n",
    "wolv_avg_mm_late_describe"
   ]
  },
  {
   "cell_type": "code",
   "execution_count": null,
   "metadata": {
    "deletable": false,
    "editable": false,
    "nbgrader": {
     "cell_type": "code",
     "checksum": "f627fdeafda5e4a11a154f112ede9f7f",
     "grade": true,
     "grade_id": "cell-9438b59d2d4a5f4d",
     "locked": true,
     "points": 1,
     "schema_version": 3,
     "solution": false,
     "task": false
    }
   },
   "outputs": [],
   "source": [
    "#hidden tests are within this cell"
   ]
  },
  {
   "cell_type": "markdown",
   "metadata": {},
   "source": [
    "### 6.4 _Wolverine_: eastbound and westbound routes [1 pt]\n",
    "\n",
    "Stations served by eastbound and westbound _Wolverine_ trains."
   ]
  },
  {
   "cell_type": "code",
   "execution_count": null,
   "metadata": {},
   "outputs": [],
   "source": [
    "# Retrieve the sub service from the Amtrak sub services list\n",
    "wolv_sub_svc = next(\n",
    "    (sub_svc for sub_svc in amtk_sub_svcs if sub_svc[\"sub service\"] == SUB_SVC[\"wolv\"])\n",
    ")\n",
    "wolv_stn_codes = wolv_sub_svc[\"station codes\"]\n",
    "wolv_stns = stations[stations[COLS[\"station_code\"]].isin(wolv_stn_codes)].reset_index(drop=True)\n",
    "# WARN: longitude sort does not guarantee correct station order: ROY, TRM, PNT last/first 3 stops\n",
    "wolv_stns.sort_values(by=COLS[\"lon\"], inplace=True)\n",
    "wolv_stns"
   ]
  },
  {
   "cell_type": "markdown",
   "metadata": {},
   "source": [
    "Station order for eastbound and westbound _Pere Marquette_ trains."
   ]
  },
  {
   "cell_type": "code",
   "execution_count": null,
   "metadata": {},
   "outputs": [],
   "source": [
    "# Correct order of stations for eastbound and westbound trains\n",
    "wolv_stn_order_eb = wolv_sub_svc[\"station order\"][\"eb\"]\n",
    "wolv_stn_order_wb = wolv_sub_svc[\"station order\"][\"wb\"]\n",
    "# wolv_stn_order_eb, wolv_stn_order_wb"
   ]
  },
  {
   "cell_type": "code",
   "execution_count": null,
   "metadata": {
    "deletable": false,
    "editable": false,
    "nbgrader": {
     "cell_type": "code",
     "checksum": "610620d7fd6a5ac6c459d9051ebbf91d",
     "grade": true,
     "grade_id": "cell-b19fc7f40ada4ac8",
     "locked": true,
     "points": 1,
     "schema_version": 3,
     "solution": false,
     "task": false
    }
   },
   "outputs": [],
   "source": [
    "#hidden tests are within this cell"
   ]
  },
  {
   "cell_type": "markdown",
   "metadata": {},
   "source": [
    "### 6.5 _Wolverine_: eastbound detraining passengers summary statistics [2 pts]\n",
    "\n",
    "Call the appropriate `DataFrame` method to retrieve the station data for trains 350, 352, and 354\n",
    "referenced in `wolv`. Assign the new `DataFrame` returned by the method call to a variable named\n",
    "`wolv_eb`."
   ]
  },
  {
   "cell_type": "code",
   "execution_count": null,
   "metadata": {
    "deletable": false,
    "nbgrader": {
     "cell_type": "code",
     "checksum": "e3b6fac949f39cc145b381e39824a838",
     "grade": false,
     "grade_id": "cell-6bb3fbdc2f78a82d",
     "locked": false,
     "schema_version": 3,
     "solution": true,
     "task": false
    }
   },
   "outputs": [],
   "source": [
    "# YOUR CODE HERE\n",
    "raise NotImplementedError()"
   ]
  },
  {
   "cell_type": "code",
   "execution_count": null,
   "metadata": {
    "deletable": false,
    "editable": false,
    "nbgrader": {
     "cell_type": "code",
     "checksum": "b235651d312aa368ab0308d1d8cc4846",
     "grade": true,
     "grade_id": "cell-d87c6b69321d4014",
     "locked": true,
     "points": 1,
     "schema_version": 3,
     "solution": false,
     "task": false
    }
   },
   "outputs": [],
   "source": [
    "#hidden tests are within this cell"
   ]
  },
  {
   "cell_type": "markdown",
   "metadata": {},
   "source": [
    "Compute the summary statistics for westbound _Wolverine_ trains. The `amtk_detrain` module includes\n",
    "a function that you can call to perform the computation. Pass to it `wolv_eb` along with other\n",
    "arguments required by the function. Assign the return value of the function call to a variable named\n",
    "`wolv_eb_stats`."
   ]
  },
  {
   "cell_type": "code",
   "execution_count": null,
   "metadata": {
    "deletable": false,
    "nbgrader": {
     "cell_type": "code",
     "checksum": "0c7c0748d17e4a1e42dbde6207fc3041",
     "grade": false,
     "grade_id": "cell-62c0ba81a71839d9",
     "locked": false,
     "schema_version": 3,
     "solution": true,
     "task": false
    }
   },
   "outputs": [],
   "source": [
    "# YOUR CODE HERE\n",
    "raise NotImplementedError()"
   ]
  },
  {
   "cell_type": "code",
   "execution_count": null,
   "metadata": {
    "deletable": false,
    "editable": false,
    "nbgrader": {
     "cell_type": "code",
     "checksum": "01974b428241f380f0bd51a7ace476f7",
     "grade": true,
     "grade_id": "cell-37be6177dd7730b6",
     "locked": true,
     "points": 1,
     "schema_version": 3,
     "solution": false,
     "task": false
    }
   },
   "outputs": [],
   "source": [
    "#hidden tests are within this cell"
   ]
  },
  {
   "cell_type": "markdown",
   "metadata": {},
   "source": [
    "#### 6.5.1 _Wolverine_ Train 350 [1 pt]"
   ]
  },
  {
   "cell_type": "code",
   "execution_count": null,
   "metadata": {},
   "outputs": [],
   "source": [
    "rte_cols = [\n",
    "    COLS[\"station_code\"],\n",
    "    COLS[\"station\"],\n",
    "    COLS[\"state\"],\n",
    "    COLS[\"lat\"],\n",
    "    COLS[\"lon\"],\n",
    "]\n",
    "\n",
    "# Train 350 eastbound\n",
    "amtk_350 = ntwk.by_train_number(trains, 350)\n",
    "amtk_350_rte = ntwk.create_route(amtk_350, TRN[\"350\"][\"direction\"], wolv_stn_order_eb)\n",
    "amtk_350_rte_stats = detrn.get_route_sum_stats(\n",
    "    amtk_350_rte, COLS[\"station_code\"], AGG[\"columns\"], AGG[\"funcs\"], rte_cols\n",
    ")\n",
    "amtk_350_rte_stats"
   ]
  },
  {
   "cell_type": "code",
   "execution_count": null,
   "metadata": {
    "deletable": false,
    "editable": false,
    "nbgrader": {
     "cell_type": "code",
     "checksum": "3de5fdb1e9b3206daa28041f0a9f931c",
     "grade": true,
     "grade_id": "cell-556ab807724336ac",
     "locked": true,
     "points": 1,
     "schema_version": 3,
     "solution": false,
     "task": false
    }
   },
   "outputs": [],
   "source": [
    "#hidden tests are within this cell"
   ]
  },
  {
   "cell_type": "markdown",
   "metadata": {},
   "source": [
    "##### 6.5.1.1 Write to file [1 pt]\n",
    "\n",
    "Write `amtk_350_rte_stats` to a CSV file named `stu-amtk_350_rte_stats.csv`. Store the file in the\n",
    "`data/student` directory. Then compare it to the accompanying `fxt-amtk_350_rte_stats.csv` file.\n",
    "It must match line for line, character for character."
   ]
  },
  {
   "cell_type": "code",
   "execution_count": null,
   "metadata": {
    "deletable": false,
    "nbgrader": {
     "cell_type": "code",
     "checksum": "9fff3dbae0429b41728853f434cfa683",
     "grade": false,
     "grade_id": "cell-3802d595c3fdb3f3",
     "locked": false,
     "schema_version": 3,
     "solution": true,
     "task": false
    }
   },
   "outputs": [],
   "source": [
    "# YOUR CODE HERE\n",
    "raise NotImplementedError()"
   ]
  },
  {
   "cell_type": "code",
   "execution_count": null,
   "metadata": {
    "deletable": false,
    "editable": false,
    "nbgrader": {
     "cell_type": "code",
     "checksum": "c31ab76797cff5bb9ebc37f541c43502",
     "grade": true,
     "grade_id": "cell-cb8dc4ca482adbbc",
     "locked": true,
     "points": 1,
     "schema_version": 3,
     "solution": false,
     "task": false
    }
   },
   "outputs": [],
   "source": [
    "#hidden tests are within this cell"
   ]
  },
  {
   "cell_type": "markdown",
   "metadata": {},
   "source": [
    "#### 6.5.2 _Wolverine_ Train 352 [1 pt]"
   ]
  },
  {
   "cell_type": "code",
   "execution_count": null,
   "metadata": {},
   "outputs": [],
   "source": [
    "# Train 352 eastbound\n",
    "amtk_352 = ntwk.by_train_number(wolv, 350)\n",
    "amtk_352_rte = ntwk.create_route(amtk_350, TRN[\"350\"][\"direction\"], wolv_stn_order_eb)\n",
    "amtk_352_rte_stats = detrn.get_route_sum_stats(\n",
    "    amtk_352_rte, COLS[\"station_code\"], AGG[\"columns\"], AGG[\"funcs\"], rte_cols\n",
    ")\n",
    "amtk_352_rte_stats"
   ]
  },
  {
   "cell_type": "code",
   "execution_count": null,
   "metadata": {
    "deletable": false,
    "editable": false,
    "nbgrader": {
     "cell_type": "code",
     "checksum": "cff1a1854d9cacc8c631e90027f30db4",
     "grade": true,
     "grade_id": "cell-650ae4b93896e785",
     "locked": true,
     "points": 1,
     "schema_version": 3,
     "solution": false,
     "task": false
    }
   },
   "outputs": [],
   "source": [
    "#hidden tests are within this cell"
   ]
  },
  {
   "cell_type": "markdown",
   "metadata": {},
   "source": [
    "##### 6.5.2.1 Write to file [1 pt]\n",
    "\n",
    "Write `amtk_352_rte_stats` to a CSV file named `stu-amtk_352_rte_stats.csv`. Store the file in the\n",
    "`data/student` directory. Then compare it to the accompanying `fxt-amtk_352_rte_stats.csv` file.\n",
    "It must match line for line, character for character."
   ]
  },
  {
   "cell_type": "code",
   "execution_count": null,
   "metadata": {
    "deletable": false,
    "nbgrader": {
     "cell_type": "code",
     "checksum": "bc3e0d759164b07b747e1639ed410fb5",
     "grade": false,
     "grade_id": "cell-246e58d77418d558",
     "locked": false,
     "schema_version": 3,
     "solution": true,
     "task": false
    }
   },
   "outputs": [],
   "source": [
    "# YOUR CODE HERE\n",
    "raise NotImplementedError()"
   ]
  },
  {
   "cell_type": "code",
   "execution_count": null,
   "metadata": {
    "deletable": false,
    "editable": false,
    "nbgrader": {
     "cell_type": "code",
     "checksum": "ee54b012f39829940baec7b700482897",
     "grade": true,
     "grade_id": "cell-b43938f11b051016",
     "locked": true,
     "points": 1,
     "schema_version": 3,
     "solution": false,
     "task": false
    }
   },
   "outputs": [],
   "source": [
    "#hidden tests are within this cell"
   ]
  },
  {
   "cell_type": "markdown",
   "metadata": {},
   "source": [
    "#### 6.5.3 _Wolverine_ Train 354 [1 pt]"
   ]
  },
  {
   "cell_type": "code",
   "execution_count": null,
   "metadata": {},
   "outputs": [],
   "source": [
    "# Train 354 eastbound\n",
    "amtk_354 = ntwk.by_trn_number(wolv, 354)\n",
    "amtk_354_rte = ntwk.create_route(amtk_354, TRN[\"354\"][\"direction\"], wolv_stn_order_eb)\n",
    "amtk_354_rte_stats = detrn.get_route_sum_stats(\n",
    "    amtk_354_rte, COLS[\"station_code\"], AGG[\"columns\"], AGG[\"funcs\"], rte_cols\n",
    ")\n",
    "amtk_354_rte_stats"
   ]
  },
  {
   "cell_type": "code",
   "execution_count": null,
   "metadata": {
    "deletable": false,
    "editable": false,
    "nbgrader": {
     "cell_type": "code",
     "checksum": "f39bc1afa92569d90eaf1ec4010d64d1",
     "grade": true,
     "grade_id": "cell-f5e9d6031a5d28f9",
     "locked": true,
     "points": 1,
     "schema_version": 3,
     "solution": false,
     "task": false
    }
   },
   "outputs": [],
   "source": [
    "#hidden tests are within this cell"
   ]
  },
  {
   "cell_type": "markdown",
   "metadata": {},
   "source": [
    "##### 6.5.3.1 Write to file [1 pt]\n",
    "\n",
    "Write `amtk_354_rte_stats` to a CSV file named `stu-amtk_354_rte_stats.csv`. Store the file in the\n",
    "`data/student` directory. Then compare it to the accompanying `fxt-amtk_354_rte_stats.csv` file.\n",
    "It must match line for line, character for character."
   ]
  },
  {
   "cell_type": "code",
   "execution_count": null,
   "metadata": {
    "deletable": false,
    "nbgrader": {
     "cell_type": "code",
     "checksum": "6b3818d8caae11128f18c94c4b223a1c",
     "grade": false,
     "grade_id": "cell-486ea78c1df82b26",
     "locked": false,
     "schema_version": 3,
     "solution": true,
     "task": false
    }
   },
   "outputs": [],
   "source": [
    "# YOUR CODE HERE\n",
    "raise NotImplementedError()"
   ]
  },
  {
   "cell_type": "code",
   "execution_count": null,
   "metadata": {
    "deletable": false,
    "editable": false,
    "nbgrader": {
     "cell_type": "code",
     "checksum": "c472a6ccf1a28c38223972c1eb799569",
     "grade": true,
     "grade_id": "cell-49964b0916edccea",
     "locked": true,
     "points": 1,
     "schema_version": 3,
     "solution": false,
     "task": false
    }
   },
   "outputs": [],
   "source": [
    "#hidden tests are within this cell"
   ]
  },
  {
   "cell_type": "markdown",
   "metadata": {},
   "source": [
    "### 6.6 _Wolverine_: eastbound mean late arrival times\n",
    "\n",
    "Review the central tendency, dispersion, and shape for the mean late arrival times of trains 350, 352, and 354.\n",
    "\n",
    "#### 6.6.1 _Wolverine_ Train 350 [1 pt]"
   ]
  },
  {
   "cell_type": "code",
   "execution_count": null,
   "metadata": {},
   "outputs": [],
   "source": [
    "# Drop missing values\n",
    "amtk_350_avg_mm_late = amtk_350[COLS[\"late_detrn_avg_mm_late\"]].reset_index(drop=True)\n",
    "\n",
    "# Describe the column\n",
    "amtk_350_avg_mm_late_describe = frm.describe_numeric_column(amtk_350_avg_mm_late)\n",
    "amtk_350_avg_mm_late_describe"
   ]
  },
  {
   "cell_type": "code",
   "execution_count": null,
   "metadata": {
    "deletable": false,
    "editable": false,
    "nbgrader": {
     "cell_type": "code",
     "checksum": "3469b1b54bc380d4b16f2f22f49e8e0c",
     "grade": true,
     "grade_id": "cell-b0c0243f176a32fe",
     "locked": true,
     "points": 1,
     "schema_version": 3,
     "solution": false,
     "task": false
    }
   },
   "outputs": [],
   "source": [
    "#hidden tests are within this cell"
   ]
  },
  {
   "cell_type": "markdown",
   "metadata": {},
   "source": [
    "#### 6.6.2 _Wolverine_ Train 352 [1 pt]"
   ]
  },
  {
   "cell_type": "code",
   "execution_count": null,
   "metadata": {},
   "outputs": [],
   "source": [
    "# Drop missing values\n",
    "amtk_352_avg_mm_late = amtk_352[COLS[\"late_detrn_avg_mm_late\"]].dropna().reset_index(drop=True)\n",
    "\n",
    "# Describe the column\n",
    "amtk_352_avg_mm_late_describe = frm.describe_numeric_column(amtk_352_avg_mm_late)\n",
    "amtk_352_avg_mm_late_describe"
   ]
  },
  {
   "cell_type": "code",
   "execution_count": null,
   "metadata": {
    "deletable": false,
    "editable": false,
    "nbgrader": {
     "cell_type": "code",
     "checksum": "cd2a3f1003f545fc50f3cd7a53fd3f52",
     "grade": true,
     "grade_id": "cell-40e1f6188e900d97",
     "locked": true,
     "points": 1,
     "schema_version": 3,
     "solution": false,
     "task": false
    }
   },
   "outputs": [],
   "source": [
    "#hidden tests are within this cell"
   ]
  },
  {
   "cell_type": "markdown",
   "metadata": {},
   "source": [
    "#### 6.6.3 _Wolverine_ Train 354 [1 pt]"
   ]
  },
  {
   "cell_type": "code",
   "execution_count": null,
   "metadata": {},
   "outputs": [],
   "source": [
    "# Drop missing values\n",
    "amtk_354_avg_mm_late = amtk_354[COLS[\"late_detrn_avg_mm_late\"]].dropna().reset_index(drop=True)\n",
    "\n",
    "# Describe the column\n",
    "amtk_354_avg_mm_late_describe = frm.describe_numeric_column(amtk_352_avg_mm_late)\n",
    "amtk_354_avg_mm_late_describe"
   ]
  },
  {
   "cell_type": "code",
   "execution_count": null,
   "metadata": {
    "deletable": false,
    "editable": false,
    "nbgrader": {
     "cell_type": "code",
     "checksum": "928efc0dea5660587ab4fc8ea56363b3",
     "grade": true,
     "grade_id": "cell-0732fd08a84940d2",
     "locked": true,
     "points": 1,
     "schema_version": 3,
     "solution": false,
     "task": false
    }
   },
   "outputs": [],
   "source": [
    "#hidden tests are within this cell"
   ]
  },
  {
   "cell_type": "markdown",
   "metadata": {},
   "source": [
    "#### 6.6.4 Generate box plots\n",
    "\n",
    "Retrieve the chart data, preaggregate it, and generate the box plots."
   ]
  },
  {
   "cell_type": "code",
   "execution_count": null,
   "metadata": {},
   "outputs": [],
   "source": [
    "# Base columns for average minutes late\n",
    "cols = [COLS[\"year\"], COLS[\"quarter\"], COLS[\"late_detrn_avg_mm_late\"]]\n",
    "\n",
    "# Data for boxplots\n",
    "wolv_eb_trns = [\n",
    "    {\"number\": 350, \"route\": amtk_350_rte, \"stats\": amtk_350_rte_stats},\n",
    "    {\"number\": 352, \"route\": amtk_352_rte, \"stats\": amtk_352_rte_stats},\n",
    "    {\"number\": 354, \"route\": amtk_354_rte, \"stats\": amtk_354_rte_stats},\n",
    "]\n",
    "\n",
    "# Assemble charts\n",
    "for trn in wolv_eb_trns:\n",
    "    chrt_data = detrn.get_qtr_avg_min_late(\n",
    "        trn[\"route\"], cols, COLS[\"year_quarter\"], [COLORS[\"amtk_blue\"], COLORS[\"amtk_red\"]]\n",
    "    )\n",
    "\n",
    "    # Pre-aggregate the data\n",
    "    chrt_data = frm.aggregate_data(\n",
    "        chrt_data, [COLS[\"year_quarter\"], COLS[\"late_detrn_avg_mm_late\"]]\n",
    "    )\n",
    "\n",
    "    # Create chart title\n",
    "    txt = TRN[str(trn[\"number\"])]\n",
    "    title_txt = (\n",
    "        f\"Amtrak {txt['name']} Train {txt['number']} Late Detraining Passengers\\n\"\n",
    "        f\"{txt['route']} ({txt['direction']})\"\n",
    "    )\n",
    "    title = ttl.format_title(trn[\"stats\"], title_txt)\n",
    "\n",
    "    # Create and display the vertical boxplot\n",
    "    chart_vertical = boxp.create_boxplot(\n",
    "        data=chrt_data,\n",
    "        x_shorthand=\"Fiscal Year Quarter:N\",\n",
    "        x_title=\"Period\",\n",
    "        y_shorthand=\"Late Detraining Customers Avg Min Late:Q\",\n",
    "        y_title=\"Average Minutes Late\",\n",
    "        box_size=20,\n",
    "        outlier_shorthand=\"outliers:Q\",\n",
    "        color_shorthand=\"Color:N\",\n",
    "        chart_title=title,\n",
    "        orient=boxp.Orient.VERTICAL,\n",
    "    )\n",
    "    chart_vertical.display()"
   ]
  },
  {
   "cell_type": "markdown",
   "metadata": {},
   "source": [
    "### 6.7 _Wolverine_: visualize eastbound mean late arrival times by station\n",
    "\n",
    "Visualizing mean late arrival times by station for each train in a single chart requires aligning\n",
    "the station order for trains 350, 352, and 354. This requires adding \"placeholder\" rows to each\n",
    "train `DataFrame` that represent stations not visited by all trains.\n",
    "\n",
    "| Train | \"Placeholder\" Station(s) | Notes |\n",
    "| :---- | :----------------------- | :---- |\n",
    "| 350   | Albion, MI ([ALI](https://www.amtrak.com/stations/ali)) | &nbsp; |\n",
    "| 352   | Albion, MI ([ALI](https://www.amtrak.com/stations/ali)), Dowagiac, MI ([DOA](https://www.amtrak.com/stations/doa)), Hammond-Whiting, IN ([HMI](https://www.amtrak.com/stations/hmi)), Michigan City, IN ([MCI](https://en.wikipedia.org/wiki/Michigan_City_station)) | MCI closed 4 April 2022 |\n",
    "| 354   | Dowagiac, MI ([DOA](https://www.amtrak.com/stations/doa)), Hammond-Whiting, IN ([HMI](https://www.amtrak.com/stations/hmi)) | &nbsp; |\n",
    "\n",
    "#### 6.7.1 Reindex `wolv_stns`"
   ]
  },
  {
   "cell_type": "code",
   "execution_count": null,
   "metadata": {},
   "outputs": [],
   "source": [
    "# Reindex DataFrame based on amtk_350_rte_stats columns.\n",
    "wolv_stns = wolv_stns.reindex(columns=amtk_350_rte_stats.columns).reset_index(drop=True)\n",
    "# wolv_stns"
   ]
  },
  {
   "cell_type": "markdown",
   "metadata": {},
   "source": [
    "#### 6.7.2 Assemble chart data [1 pt]\n",
    "\n",
    "Combine the three `amtk_*_chrt_data` `DataFrame` objects created below by calling the function\n",
    "`ntwk.add_stations_to_route()` into a single `DataFrame` object named `chrt_data`. When combining\n",
    "the `DataFrame` objects ignore their current indices."
   ]
  },
  {
   "cell_type": "code",
   "execution_count": null,
   "metadata": {},
   "outputs": [],
   "source": [
    "amtk_350_chrt_data = ntwk.add_stations_to_route(\n",
    "    amtk_350_rte_stats.copy(),\n",
    "    wolv_stns[wolv_stns[COLS[\"station_code\"]] == \"ALI\"],\n",
    "    wolv_stn_order_eb,\n",
    ")\n",
    "# amtk_350_chrt_data"
   ]
  },
  {
   "cell_type": "code",
   "execution_count": null,
   "metadata": {},
   "outputs": [],
   "source": [
    "amtk_352_chrt_data = ntwk.add_stations_to_route(\n",
    "    amtk_352_rte_stats.copy(),\n",
    "    wolv_stns[wolv_stns[COLS[\"station_code\"]].isin((\"ALI\", \"DOA\", \"HMI\", \"MCI\"))],\n",
    "    wolv_stn_order_eb,\n",
    ")\n",
    "# amtk_352_chrt_data"
   ]
  },
  {
   "cell_type": "code",
   "execution_count": null,
   "metadata": {},
   "outputs": [],
   "source": [
    "amtk_354_chrt_data = ntwk.add_stations_to_route(\n",
    "    amtk_354_rte_stats.copy(),\n",
    "    wolv_stns[wolv_stns[COLS[\"station_code\"]].isin((\"DOA\", \"HMI\"))],\n",
    "    wolv_stn_order_eb,\n",
    ")\n",
    "# amtk_354_chrt_data"
   ]
  },
  {
   "cell_type": "code",
   "execution_count": null,
   "metadata": {
    "deletable": false,
    "nbgrader": {
     "cell_type": "code",
     "checksum": "76b90652f61b92d031aeb3b311b965b0",
     "grade": false,
     "grade_id": "cell-ac121a5773bad6c2",
     "locked": false,
     "schema_version": 3,
     "solution": true,
     "task": false
    }
   },
   "outputs": [],
   "source": [
    "# YOUR CODE HERE\n",
    "raise NotImplementedError()"
   ]
  },
  {
   "cell_type": "code",
   "execution_count": null,
   "metadata": {
    "deletable": false,
    "editable": false,
    "nbgrader": {
     "cell_type": "code",
     "checksum": "5b10d5c50aa1ec72f8c03a5df04c36a6",
     "grade": true,
     "grade_id": "cell-590fcc059607432b",
     "locked": true,
     "points": 1,
     "schema_version": 3,
     "solution": false,
     "task": false
    }
   },
   "outputs": [],
   "source": [
    "#hidden tests are within this cell"
   ]
  },
  {
   "cell_type": "markdown",
   "metadata": {},
   "source": [
    "#### 6.7.3 Generate line chart"
   ]
  },
  {
   "cell_type": "code",
   "execution_count": null,
   "metadata": {},
   "outputs": [],
   "source": [
    "# Chart title\n",
    "title_txt = f\"Amtrak {SUB_SVC['wolv']} Service Late Detraining Passengers\"\n",
    "title = ttl.format_title(wolv_eb_stats, title_txt)\n",
    "\n",
    "# Arrange stations by direction of travel\n",
    "x_sort_order = chrt_data.index.tolist()\n",
    "\n",
    "# Custom line colors\n",
    "line_colors = {350: COLORS[\"amtk_blue\"], 352: COLORS[\"amtk_red\"], 354: COLORS[\"blue\"]}\n",
    "\n",
    "# Tooltips\n",
    "tooltip_config = [\n",
    "    {\"shorthand\": f\"{COLS['trn']}:N\", \"title\": \"Train\", \"format\": None},\n",
    "    {\"shorthand\": f\"{COLS['station']}:N\", \"title\": \"Arrival Station\", \"format\": None},\n",
    "    {\n",
    "        \"shorthand\": f\"{COLS['late_detrn_avg_mm_late']} mean\",\n",
    "        \"title\": \"Average Minutes Late\",\n",
    "        \"format\": None,\n",
    "    },\n",
    "]\n",
    "\n",
    "chart = lne.create_line_chart_interp(\n",
    "    frame=chrt_data,\n",
    "    x_shorthand=f\"{COLS['station']}:N\",\n",
    "    x_title=f\"{COLS['station']}\",\n",
    "    x_sort_order=x_sort_order,\n",
    "    y_shorthand=f\"{COLS['late_detrn_avg_mm_late']} mean:Q\",\n",
    "    y_title=\"Average Minutes Late\",\n",
    "    y_tick_count_max=85,\n",
    "    point=True,\n",
    "    # point={\"filled\": False, \"fill\": \"white\"},\n",
    "    color_shorthand=f\"{COLS['trn']}:N\",\n",
    "    colors=line_colors,\n",
    "    tooltip_config=tooltip_config,\n",
    "    title=title,\n",
    ")\n",
    "chart.display()"
   ]
  },
  {
   "cell_type": "markdown",
   "metadata": {},
   "source": [
    "### 6.8 _Wolverine_: westbound detraining passengers summary statistics [2 pts]\n",
    "\n",
    "Call the appropriate `DataFrame` method to retrieve the station data for trains 351, 353, and 355\n",
    "referenced in `wolv`. Assign the new `DataFrame` returned by the method call to a variable named\n",
    "`wolv_wb`."
   ]
  },
  {
   "cell_type": "code",
   "execution_count": null,
   "metadata": {
    "deletable": false,
    "nbgrader": {
     "cell_type": "code",
     "checksum": "433e16fe3fc702d40fc587fc7a51d141",
     "grade": false,
     "grade_id": "cell-4c4b86b83540500c",
     "locked": false,
     "schema_version": 3,
     "solution": true,
     "task": false
    }
   },
   "outputs": [],
   "source": [
    "# YOUR CODE HERE\n",
    "raise NotImplementedError()"
   ]
  },
  {
   "cell_type": "code",
   "execution_count": null,
   "metadata": {
    "deletable": false,
    "editable": false,
    "nbgrader": {
     "cell_type": "code",
     "checksum": "4022b9905023772dd1730e5e3db3adf3",
     "grade": true,
     "grade_id": "cell-d784ebcbdc33ff5d",
     "locked": true,
     "points": 1,
     "schema_version": 3,
     "solution": false,
     "task": false
    }
   },
   "outputs": [],
   "source": [
    "#hidden tests are within this cell"
   ]
  },
  {
   "cell_type": "markdown",
   "metadata": {},
   "source": [
    "Compute the summary statistics for westbound _Wolverine_ trains. The `amtk_detrain` module includes\n",
    "a function that you can call to perform the computation. Pass to it `wolv_wb` along with other\n",
    "arguments required by the function. Assign the return value of the function call to a variable named\n",
    "`wolv_wb_stats`."
   ]
  },
  {
   "cell_type": "code",
   "execution_count": null,
   "metadata": {
    "deletable": false,
    "nbgrader": {
     "cell_type": "code",
     "checksum": "11d6850aab882fa1e92d716f9b128a9a",
     "grade": false,
     "grade_id": "cell-3310e4a20aa44d75",
     "locked": false,
     "schema_version": 3,
     "solution": true,
     "task": false
    }
   },
   "outputs": [],
   "source": [
    "# YOUR CODE HERE\n",
    "raise NotImplementedError()"
   ]
  },
  {
   "cell_type": "code",
   "execution_count": null,
   "metadata": {
    "deletable": false,
    "editable": false,
    "nbgrader": {
     "cell_type": "code",
     "checksum": "c953f51b898a0e5e9de06f86bb7cf72d",
     "grade": true,
     "grade_id": "cell-8dc8924f7d8af1f8",
     "locked": true,
     "points": 1,
     "schema_version": 3,
     "solution": false,
     "task": false
    }
   },
   "outputs": [],
   "source": [
    "#hidden tests are within this cell"
   ]
  },
  {
   "cell_type": "markdown",
   "metadata": {},
   "source": [
    "#### 6.8.1 _Wolverine_ Train 351 [1 pt]"
   ]
  },
  {
   "cell_type": "code",
   "execution_count": null,
   "metadata": {},
   "outputs": [],
   "source": [
    "# Train 351 westbound\n",
    "amtk_351 = ntwk.by_train_number(wolv, 351)\n",
    "amtk_351_rte = ntwk.create_route(amtk_351, TRN[\"351\"][\"direction\"], wolv_stn_order_eb)\n",
    "amtk_351_rte_stats = detrn.get_route_sum_stats(\n",
    "    amtk_351_rte, COLS[\"station_code\"], AGG[\"columns\"], AGG[\"funcs\"]\n",
    ")\n",
    "amtk_351_rte_stats"
   ]
  },
  {
   "cell_type": "code",
   "execution_count": null,
   "metadata": {
    "deletable": false,
    "editable": false,
    "nbgrader": {
     "cell_type": "code",
     "checksum": "4ed2cf04ab3892778bed672b048291be",
     "grade": true,
     "grade_id": "cell-2b5e86ae3c11197d",
     "locked": true,
     "points": 1,
     "schema_version": 3,
     "solution": false,
     "task": false
    }
   },
   "outputs": [],
   "source": [
    "#hidden tests are within this cell"
   ]
  },
  {
   "cell_type": "markdown",
   "metadata": {},
   "source": [
    "##### 6.8.1.1 Write to file [1 pt]\n",
    "\n",
    "Write `amtk_351_rte_stats` to a CSV file named `stu-amtk_351_rte_stats.csv`. Store the file in the\n",
    "`data/student` directory. Then compare it to the accompanying `fxt-amtk_351_rte_stats.csv` file.\n",
    "It must match line for line, character for character."
   ]
  },
  {
   "cell_type": "code",
   "execution_count": null,
   "metadata": {
    "deletable": false,
    "nbgrader": {
     "cell_type": "code",
     "checksum": "4848603b2b8c159dc04f1399735844ce",
     "grade": false,
     "grade_id": "cell-e83de140876297f0",
     "locked": false,
     "schema_version": 3,
     "solution": true,
     "task": false
    }
   },
   "outputs": [],
   "source": [
    "# YOUR CODE HERE\n",
    "raise NotImplementedError()"
   ]
  },
  {
   "cell_type": "code",
   "execution_count": null,
   "metadata": {
    "deletable": false,
    "editable": false,
    "nbgrader": {
     "cell_type": "code",
     "checksum": "e575bd72c3b9b9fd77a1fa39252fcc3a",
     "grade": true,
     "grade_id": "cell-f1cd6cbefe98f8f6",
     "locked": true,
     "points": 1,
     "schema_version": 3,
     "solution": false,
     "task": false
    }
   },
   "outputs": [],
   "source": [
    "#hidden tests are within this cell"
   ]
  },
  {
   "cell_type": "markdown",
   "metadata": {},
   "source": [
    "#### 6.8.2 _Wolverine_ Train 353 [1 pt]"
   ]
  },
  {
   "cell_type": "code",
   "execution_count": null,
   "metadata": {},
   "outputs": [],
   "source": [
    "# Train 353 westbound\n",
    "amtk_353 = ntwk.by_train_number(wolv, 353)[COLS[\"trn\"]]\n",
    "amtk_353_rte = ntwk.create_route(amtk_353, TRN[\"353\"][\"direction\"], wolv_stn_order_wb)\n",
    "amtk_353_rte_stats = detrn.get_route_sum_stats(\n",
    "    amtk_353_rte, COLS[\"station_code\"], AGG[\"columns\"], AGG[\"funcs\"], rte_cols\n",
    ")\n",
    "amtk_353_rte_stats"
   ]
  },
  {
   "cell_type": "code",
   "execution_count": null,
   "metadata": {
    "deletable": false,
    "editable": false,
    "nbgrader": {
     "cell_type": "code",
     "checksum": "aa615cddc1536bc439221643e34c1016",
     "grade": true,
     "grade_id": "cell-17ae53cce9d1769c",
     "locked": true,
     "points": 1,
     "schema_version": 3,
     "solution": false,
     "task": false
    }
   },
   "outputs": [],
   "source": [
    "#hidden tests are within this cell"
   ]
  },
  {
   "cell_type": "markdown",
   "metadata": {},
   "source": [
    "##### 6.8.2.1 Write to file [1 pt]\n",
    "\n",
    "Write `amtk_353_rte_stats` to a CSV file named `stu-amtk_353_rte_stats.csv`. Store the file in the\n",
    "`data/student` directory. Then compare it to the accompanying `fxt-amtk_353_rte_stats.csv` file.\n",
    "It must match line for line, character for character."
   ]
  },
  {
   "cell_type": "code",
   "execution_count": null,
   "metadata": {
    "deletable": false,
    "nbgrader": {
     "cell_type": "code",
     "checksum": "8136742b0cec74a24b7b710b46b1ae23",
     "grade": false,
     "grade_id": "cell-29f557e2cffb86b5",
     "locked": false,
     "schema_version": 3,
     "solution": true,
     "task": false
    }
   },
   "outputs": [],
   "source": [
    "# YOUR CODE HERE\n",
    "raise NotImplementedError()"
   ]
  },
  {
   "cell_type": "code",
   "execution_count": null,
   "metadata": {
    "deletable": false,
    "editable": false,
    "nbgrader": {
     "cell_type": "code",
     "checksum": "b25a491196315f8bf99eb0b40ac7ef5a",
     "grade": true,
     "grade_id": "cell-7078a5947d02925f",
     "locked": true,
     "points": 1,
     "schema_version": 3,
     "solution": false,
     "task": false
    }
   },
   "outputs": [],
   "source": [
    "#hidden tests are within this cell"
   ]
  },
  {
   "cell_type": "markdown",
   "metadata": {},
   "source": [
    "#### 6.8.3 _Wolverine_ Train 355 [1 pt]"
   ]
  },
  {
   "cell_type": "code",
   "execution_count": null,
   "metadata": {},
   "outputs": [],
   "source": [
    "# Train 355 westbound\n",
    "amtk_355 = ntwk.by_train_number(wolv, 355)\n",
    "amtk_355_rte = ntwk.create_route(amtk_355, TRN[\"355\"][\"direction\"], wolv_stn_order_eb)\n",
    "amtk_355_rte_stats = detrn.get_route_sum_stats(\n",
    "    amtk_355_rte, COLS[\"station_code\"], AGG[\"columns\"], AGG[\"funcs\"]\n",
    ")\n",
    "amtk_355_rte_stats"
   ]
  },
  {
   "cell_type": "code",
   "execution_count": null,
   "metadata": {
    "deletable": false,
    "editable": false,
    "nbgrader": {
     "cell_type": "code",
     "checksum": "25033e54cce6e478eec3b3d60f48968a",
     "grade": true,
     "grade_id": "cell-41b9593d523d025f",
     "locked": true,
     "points": 1,
     "schema_version": 3,
     "solution": false,
     "task": false
    }
   },
   "outputs": [],
   "source": [
    "#hidden tests are within this cell"
   ]
  },
  {
   "cell_type": "markdown",
   "metadata": {},
   "source": [
    "##### 6.8.3.1 Write to file [1 pt]\n",
    "\n",
    "Write `amtk_355_rte_stats` to a CSV file named `stu-amtk_355_rte_stats.csv`. Store the file in the\n",
    "`data/student` directory. Then compare it to the accompanying `fxt-amtk_355_rte_stats.csv` file.\n",
    "It must match line for line, character for character."
   ]
  },
  {
   "cell_type": "code",
   "execution_count": null,
   "metadata": {
    "deletable": false,
    "nbgrader": {
     "cell_type": "code",
     "checksum": "fb7f0ad8d43a298ab982ab22d8ba3396",
     "grade": false,
     "grade_id": "cell-d61f39d5facc1dd6",
     "locked": false,
     "schema_version": 3,
     "solution": true,
     "task": false
    }
   },
   "outputs": [],
   "source": [
    "# YOUR CODE HERE\n",
    "raise NotImplementedError()"
   ]
  },
  {
   "cell_type": "code",
   "execution_count": null,
   "metadata": {
    "deletable": false,
    "editable": false,
    "nbgrader": {
     "cell_type": "code",
     "checksum": "3b58df05673fa8870ea7185c5b83b52e",
     "grade": true,
     "grade_id": "cell-8cb289f890379986",
     "locked": true,
     "points": 1,
     "schema_version": 3,
     "solution": false,
     "task": false
    }
   },
   "outputs": [],
   "source": [
    "#hidden tests are within this cell"
   ]
  },
  {
   "cell_type": "markdown",
   "metadata": {},
   "source": [
    "### 6.9 _Wolverine_: westbound mean late arrival times\n",
    "\n",
    "Review the central tendency, dispersion, and shape for the mean late arrival times of trains 351, 353, and 355.\n",
    "\n",
    "#### 6.9.1 _Wolverine_ Train 351 [1 pt]"
   ]
  },
  {
   "cell_type": "code",
   "execution_count": null,
   "metadata": {},
   "outputs": [],
   "source": [
    "# Drop missing values\n",
    "amtk_351_avg_mm_late = amtk_351[COLS[\"late_detrn_avg_mm_late\"]].reset_index(drop=True)\n",
    "\n",
    "# Describe the column\n",
    "amtk_351_avg_mm_late_describe = frm.describe_numeric_column(amtk_351_avg_mm_late)\n",
    "amtk_351_avg_mm_late_describe"
   ]
  },
  {
   "cell_type": "code",
   "execution_count": null,
   "metadata": {
    "deletable": false,
    "editable": false,
    "nbgrader": {
     "cell_type": "code",
     "checksum": "f5ccfe01f4c90954c67bbfba35da0d16",
     "grade": true,
     "grade_id": "cell-21fee9b7e0e8b127",
     "locked": true,
     "points": 1,
     "schema_version": 3,
     "solution": false,
     "task": false
    }
   },
   "outputs": [],
   "source": [
    "#hidden tests are within this cell"
   ]
  },
  {
   "cell_type": "markdown",
   "metadata": {},
   "source": [
    "#### 6.9.2 _Wolverine_ Train 353 [1 pt]"
   ]
  },
  {
   "cell_type": "code",
   "execution_count": null,
   "metadata": {},
   "outputs": [],
   "source": [
    "# Drop missing values\n",
    "amtk_353_avg_mm_late = amtk_353[COLS[\"late_detrn_avg_mm_late\"]].reset_index(drop=True)\n",
    "\n",
    "# Describe the column\n",
    "amtk_353_avg_mm_late_describe = frm.describe_numeric_column(amtk_353_avg_mm_late)\n",
    "amtk_353_avg_mm_late_describe"
   ]
  },
  {
   "cell_type": "code",
   "execution_count": null,
   "metadata": {
    "deletable": false,
    "editable": false,
    "nbgrader": {
     "cell_type": "code",
     "checksum": "9b2658663dcfec1c9670b4b8ca359be9",
     "grade": true,
     "grade_id": "cell-3eb635057ca405bc",
     "locked": true,
     "points": 1,
     "schema_version": 3,
     "solution": false,
     "task": false
    }
   },
   "outputs": [],
   "source": [
    "#hidden tests are within this cell"
   ]
  },
  {
   "cell_type": "markdown",
   "metadata": {},
   "source": [
    "#### 6.9.3 _Wolverine_ Train 355 [1 pt]"
   ]
  },
  {
   "cell_type": "code",
   "execution_count": null,
   "metadata": {},
   "outputs": [],
   "source": [
    "# Drop missing values\n",
    "amtk_355_avg_mm_late = amtk_355[COLS[\"late_detrn_avg_mm_late\"]].reset_index(drop=True)\n",
    "\n",
    "# Describe the column\n",
    "amtk_355_avg_mm_late_describe = frm.describe_numeric_column(amtk_355_avg_mm_late)\n",
    "amtk_355_avg_mm_late_describe"
   ]
  },
  {
   "cell_type": "code",
   "execution_count": null,
   "metadata": {
    "deletable": false,
    "editable": false,
    "nbgrader": {
     "cell_type": "code",
     "checksum": "538a67bf33a875a4ed3b33cfb77a8da6",
     "grade": true,
     "grade_id": "cell-a1d93282b820301c",
     "locked": true,
     "points": 1,
     "schema_version": 3,
     "solution": false,
     "task": false
    }
   },
   "outputs": [],
   "source": [
    "#hidden tests are within this cell"
   ]
  },
  {
   "cell_type": "markdown",
   "metadata": {},
   "source": [
    "#### 6.9.4 Generate box plots\n",
    "\n",
    "Retrieve the chart data, preaggregate it, and generate the box plots."
   ]
  },
  {
   "cell_type": "code",
   "execution_count": null,
   "metadata": {},
   "outputs": [],
   "source": [
    "# Base columns for average minutes late\n",
    "cols = [COLS[\"year\"], COLS[\"quarter\"], COLS[\"late_detrn_avg_mm_late\"]]\n",
    "\n",
    "# Data for boxplots\n",
    "wolv_wb_trns = [\n",
    "    {\"number\": 351, \"route\": amtk_351_rte, \"stats\": amtk_351_rte_stats},\n",
    "    {\"number\": 353, \"route\": amtk_353_rte, \"stats\": amtk_353_rte_stats},\n",
    "    {\"number\": 355, \"route\": amtk_355_rte, \"stats\": amtk_355_rte_stats},\n",
    "]\n",
    "\n",
    "# Assemble charts\n",
    "for trn in wolv_wb_trns:\n",
    "    chrt_data = detrn.get_qtr_avg_min_late(\n",
    "        trn[\"route\"], cols, COLS[\"year_quarter\"], [COLORS[\"amtk_blue\"], COLORS[\"amtk_red\"]]\n",
    "    )\n",
    "\n",
    "    # Pre-aggregate the data\n",
    "    chrt_data = frm.aggregate_data(\n",
    "        chrt_data, [COLS[\"year_quarter\"], COLS[\"late_detrn_avg_mm_late\"]]\n",
    "    )\n",
    "\n",
    "    # Create chart title\n",
    "    txt = TRN[str(trn[\"number\"])]\n",
    "    title_txt = (\n",
    "        f\"Amtrak {txt['name']} Train {txt['number']} Late Detraining Passengers\\n\"\n",
    "        f\"{txt['route']} ({txt['direction']})\"\n",
    "    )\n",
    "    title = ttl.format_title(trn[\"stats\"], title_txt)\n",
    "\n",
    "    # Create and display the vertical boxplot\n",
    "    chart_vertical = boxp.create_boxplot(\n",
    "        data=chrt_data,\n",
    "        x_shorthand=\"Fiscal Year Quarter:N\",\n",
    "        x_title=\"Period\",\n",
    "        y_shorthand=\"Late Detraining Customers Avg Min Late:Q\",\n",
    "        y_title=\"Average Minutes Late\",\n",
    "        box_size=20,\n",
    "        outlier_shorthand=\"outliers:Q\",\n",
    "        color_shorthand=\"Color:N\",\n",
    "        chart_title=title,\n",
    "        orient=boxp.Orient.VERTICAL,\n",
    "    )\n",
    "    chart_vertical.display()\n"
   ]
  },
  {
   "cell_type": "markdown",
   "metadata": {},
   "source": [
    "### 6.10 _Wolverine_: visualize westbound mean late arrival times by station\n",
    "\n",
    "Visualizing mean late arrival times by station for each train in a single chart requires aligning\n",
    "the station order for trains 351, 353, and 355. This requires adding \"placeholder\" rows to each\n",
    "train `DataFrame` that represent stations not visited by all trains.\n",
    "\n",
    "| Train | \"Placeholder\" Station(s) | Notes |\n",
    "| :---- | :----------------------- | :---- |\n",
    "| 351   | Dowagiac, MI ([DOA](https://www.amtrak.com/stations/doa)), Hammond-Whiting, IN ([HMI](https://www.amtrak.com/stations/hmi)), Michigan City, IN ([MCI](https://en.wikipedia.org/wiki/Michigan_City_station)), New Buffalo, MI ([NBU](https://www.amtrak.com/stations/nbu)), Niles, MI ([NLS](https://www.amtrak.com/stations/nls)) | MCI closed 4 April 2022 |\n",
    "| 353   | Albion, MI ([ALI](https://www.amtrak.com/stations/ali)), Dowagiac, MI ([DOA](https://www.amtrak.com/stations/doa)), Michigan City, IN ([MCI](https://en.wikipedia.org/wiki/Michigan_City_station)) | MCI closed 4 April 2022 |\n",
    "| 355   | Albion, MI ([ALI](https://www.amtrak.com/stations/ali)) | &nbsp; |\n",
    "\n",
    "#### 6.10.1 Assemble chart data [1 pt]\n",
    "\n",
    "Combine the three `amtk_*_chrt_data` `DataFrame` objects created below by calling the function\n",
    "`ntwk.add_stations_to_route()` into a single `DataFrame` object named `chrt_data`. When combining\n",
    "the `DataFrame` objects ignore their current indices."
   ]
  },
  {
   "cell_type": "code",
   "execution_count": null,
   "metadata": {},
   "outputs": [],
   "source": [
    "amtk_351_chrt_data = ntwk.add_stations_to_route(\n",
    "    amtk_351_rte_stats.copy(),\n",
    "    wolv_stns[wolv_stns[COLS[\"station_code\"]].isin((\"DOA\", \"HMI\", \"MCI\", \"NBU\", \"NLS\"))],\n",
    "    wolv_stn_order_wb,\n",
    ")\n",
    "# amtk_351_chrt_data"
   ]
  },
  {
   "cell_type": "code",
   "execution_count": null,
   "metadata": {},
   "outputs": [],
   "source": [
    "amtk_353_chrt_data = ntwk.add_stations_to_route(\n",
    "    amtk_353_rte_stats.copy(),\n",
    "    wolv_stns[wolv_stns[COLS[\"station_code\"]].isin((\"ALI\", \"DOA\", \"MCI\"))],\n",
    "    wolv_stn_order_wb,\n",
    ")\n",
    "# amtk_353_chrt_data"
   ]
  },
  {
   "cell_type": "code",
   "execution_count": null,
   "metadata": {},
   "outputs": [],
   "source": [
    "# Add ALI to Train 355 route\n",
    "amtk_355_chrt_data = ntwk.add_stations_to_route(\n",
    "    amtk_355_rte_stats.copy(),\n",
    "    wolv_stns[wolv_stns[COLS[\"station_code\"]] == \"ALI\"],\n",
    "    wolv_stn_order_wb,\n",
    ")\n",
    "# amtk_355_chrt_data"
   ]
  },
  {
   "cell_type": "code",
   "execution_count": null,
   "metadata": {
    "deletable": false,
    "nbgrader": {
     "cell_type": "code",
     "checksum": "1891956ffb4af775e9922394b92be6b1",
     "grade": false,
     "grade_id": "cell-da22b90e3364d3d8",
     "locked": false,
     "schema_version": 3,
     "solution": true,
     "task": false
    }
   },
   "outputs": [],
   "source": [
    "# YOUR CODE HERE\n",
    "raise NotImplementedError()"
   ]
  },
  {
   "cell_type": "code",
   "execution_count": null,
   "metadata": {
    "deletable": false,
    "editable": false,
    "nbgrader": {
     "cell_type": "code",
     "checksum": "3b212ce9a30d758eba1b037fb9f39550",
     "grade": true,
     "grade_id": "cell-4588ad25cccdc947",
     "locked": true,
     "points": 1,
     "schema_version": 3,
     "solution": false,
     "task": false
    }
   },
   "outputs": [],
   "source": [
    "#hidden tests are within this cell"
   ]
  },
  {
   "cell_type": "markdown",
   "metadata": {},
   "source": [
    "#### 6.10.2 Generate line chart"
   ]
  },
  {
   "cell_type": "code",
   "execution_count": null,
   "metadata": {},
   "outputs": [],
   "source": [
    "# Chart title\n",
    "title_txt = f\"Amtrak {SUB_SVC['wolv']} Service Late Detraining Passengers\"\n",
    "title = ttl.format_title(wolv_wb_stats, title_txt)\n",
    "\n",
    "# Arrange stations by direction of travel\n",
    "x_sort_order = chrt_data.index.tolist()\n",
    "\n",
    "# Custom line colors\n",
    "line_colors = {351: COLORS[\"amtk_blue\"], 353: COLORS[\"amtk_red\"], 355: COLORS[\"blue\"]}\n",
    "\n",
    "# Tooltips\n",
    "tooltip_config = [\n",
    "    {\"shorthand\": f\"{COLS['trn']}:N\", \"title\": \"Train\", \"format\": None},\n",
    "    {\"shorthand\": f\"{COLS['station']}:N\", \"title\": \"Arrival Station\", \"format\": None},\n",
    "    {\n",
    "        \"shorthand\": f\"{COLS['late_detrn_avg_mm_late']} mean\",\n",
    "        \"title\": \"Average Minutes Late\",\n",
    "        \"format\": None,\n",
    "    },\n",
    "]\n",
    "\n",
    "chart = lne.create_line_chart_interp(\n",
    "    frame=chrt_data,\n",
    "    x_shorthand=f\"{COLS['station']}:N\",\n",
    "    x_title=f\"{COLS['station']}\",\n",
    "    x_sort_order=x_sort_order,\n",
    "    y_shorthand=f\"{COLS['late_detrn_avg_mm_late']} mean:Q\",\n",
    "    y_title=\"Average Minutes Late\",\n",
    "    y_tick_count_max=85,\n",
    "    point=True,\n",
    "    # point={\"filled\": False, \"fill\": \"white\"},\n",
    "    color_shorthand=f\"{COLS['trn']}:N\",\n",
    "    colors=line_colors,\n",
    "    tooltip_config=tooltip_config,\n",
    "    title=title,\n",
    ")\n",
    "chart.display()"
   ]
  },
  {
   "cell_type": "markdown",
   "metadata": {},
   "source": [
    "## 5.0 Watermark"
   ]
  },
  {
   "cell_type": "code",
   "execution_count": null,
   "metadata": {},
   "outputs": [],
   "source": [
    "%load_ext watermark\n",
    "%watermark -h -i -iv -m -v"
   ]
  }
 ],
 "metadata": {
  "kernelspec": {
   "display_name": "Python 3.11 (ipykernel)",
   "language": "python",
   "name": "python3"
  },
  "language_info": {
   "codemirror_mode": {
    "name": "ipython",
    "version": 3
   },
   "file_extension": ".py",
   "mimetype": "text/x-python",
   "name": "python",
   "nbconvert_exporter": "python",
   "pygments_lexer": "ipython3",
   "version": "3.11.9"
  }
 },
 "nbformat": 4,
 "nbformat_minor": 4
}
