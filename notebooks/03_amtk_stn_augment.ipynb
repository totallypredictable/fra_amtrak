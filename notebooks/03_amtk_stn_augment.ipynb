{
 "cells": [
  {
   "cell_type": "markdown",
   "metadata": {
    "deletable": false,
    "editable": false,
    "nbgrader": {
     "cell_type": "markdown",
     "checksum": "e1843b24b625f1a6025743aa6d3c97d8",
     "grade": false,
     "grade_id": "cell-099cb00b87086fb4",
     "locked": true,
     "schema_version": 3,
     "solution": false,
     "task": false
    }
   },
   "source": [
    "# Augment: Intercity Passenger Rail Service Station Performance Metrics\n",
    "\n",
    "This notebook augments the quarterly [Amtrak](https://www.amtrak.com/home.html) station performance\n",
    "metrics with additional information about each station. The dataset is sourced from the US\n",
    "Department of Transportation (DOT), Bureau of Transportation Statistics (BTS), ArcGIS online\n",
    "[Amtrak Stations](https://geodata.bts.gov/datasets/1ed62a9f46304679aaa396bed4c8565a_0/about) layer.\n",
    "The dataset contains information about the location of each station, including the station name,\n",
    "city, state, and geo coordinates.\n",
    "\n",
    "### Variable names\n",
    "\n",
    "A number of variable names in this project leverage the following abbreviations. The naming\n",
    "strategy is to strike a balance between brevity and readability:\n",
    "\n",
    "* `amtk`: Amtrak (reporting mark)\n",
    "* `chrt`: chart\n",
    "* `cols`: columns\n",
    "* `const`: constant\n",
    "* `cwd`: current working directory\n",
    "* `eb`: eastbound direction of travel\n",
    "* `lm`: linear model\n",
    "* `mi`: miles\n",
    "* `mm`: minutes (ISO 8601)\n",
    "* `nb`: northbound direction of travel\n",
    "* `psgr`: passenger\n",
    "* `qtr`: quarter\n",
    "* `rte`: route\n",
    "* `sb`: southbound direction of travel\n",
    "* `stats`: summary statistics\n",
    "* `stn`: station\n",
    "* `stns`: stations\n",
    "* `svc`: service\n",
    "* `trn`: train\n",
    "* `wb`: westbound direction of travel"
   ]
  },
  {
   "cell_type": "code",
   "execution_count": null,
   "metadata": {},
   "outputs": [],
   "source": [
    "import json\n",
    "import numpy as np\n",
    "import pandas as pd\n",
    "import pathlib as pl\n",
    "import re\n",
    "import tomllib as tl\n",
    "\n",
    "import fra_amtrak.amtk_frame as frm\n",
    "\n",
    "# Set random seed\n",
    "rdg = np.random.default_rng(24)"
   ]
  },
  {
   "cell_type": "markdown",
   "metadata": {
    "deletable": false,
    "editable": false,
    "nbgrader": {
     "cell_type": "markdown",
     "checksum": "e61f5a1fd5cbfc2cc35db9e0951f0c5e",
     "grade": false,
     "grade_id": "cell-d7e81735e8b0db75",
     "locked": true,
     "schema_version": 3,
     "solution": false,
     "task": false
    }
   },
   "source": [
    "## 1.0 Read files\n",
    "\n",
    "### 1.1 Resolve paths\n",
    "\n",
    "Instantiate instances of `pathlib.Path` to represent absolute paths to the `data/interim` and `data/processed` directories."
   ]
  },
  {
   "cell_type": "code",
   "execution_count": null,
   "metadata": {},
   "outputs": [],
   "source": [
    "parent_path = pl.Path.cwd()  # current working directory\n",
    "parent_path\n",
    "\n",
    "data_raw_path = parent_path.joinpath(\"data\", \"raw\")\n",
    "data_interim_path = parent_path.joinpath(\"data\", \"interim\")\n",
    "data_processed_path = parent_path.joinpath(\"data\", \"processed\")"
   ]
  },
  {
   "cell_type": "markdown",
   "metadata": {
    "deletable": false,
    "editable": false,
    "nbgrader": {
     "cell_type": "markdown",
     "checksum": "5c3ca7fe23230febfa07af2d535e21e9",
     "grade": false,
     "grade_id": "cell-7334c20e7ed11db2",
     "locked": true,
     "schema_version": 3,
     "solution": false,
     "task": false
    }
   },
   "source": [
    "### 1.2 Load constants\n",
    "\n",
    "Load a companion [TOML](https://toml.io/en/) file containing constants."
   ]
  },
  {
   "cell_type": "code",
   "execution_count": null,
   "metadata": {},
   "outputs": [],
   "source": [
    "filepath = parent_path.joinpath(\"notebook.toml\")\n",
    "with open(filepath, \"rb\") as file_obj:\n",
    "    const = tl.load(file_obj)\n",
    "\n",
    "# Access constants\n",
    "COLS = const[\"columns\"]\n",
    "\n",
    "filepath = data_interim_path.joinpath(\"station_performance_metrics-v1p1.csv\")\n",
    "stations = pd.read_csv(filepath)"
   ]
  },
  {
   "cell_type": "markdown",
   "metadata": {},
   "source": [
    "### 1.3 Retrieve performance data"
   ]
  },
  {
   "cell_type": "code",
   "execution_count": null,
   "metadata": {},
   "outputs": [],
   "source": [
    "filepath = data_interim_path.joinpath(\"station_performance_metrics-v1p1.csv\")\n",
    "stations = pd.read_csv(filepath)"
   ]
  },
  {
   "cell_type": "markdown",
   "metadata": {
    "deletable": false,
    "editable": false,
    "nbgrader": {
     "cell_type": "markdown",
     "checksum": "a8cebbcbc1eb7cd324e2de57f6f7bc35",
     "grade": false,
     "grade_id": "cell-2c236270fe5753e2",
     "locked": true,
     "schema_version": 3,
     "solution": false,
     "task": false
    }
   },
   "source": [
    "### 1.4 Review the `DataFrame`"
   ]
  },
  {
   "cell_type": "code",
   "execution_count": null,
   "metadata": {},
   "outputs": [],
   "source": [
    "stations.shape"
   ]
  },
  {
   "cell_type": "code",
   "execution_count": null,
   "metadata": {},
   "outputs": [],
   "source": [
    "stations.info()"
   ]
  },
  {
   "cell_type": "code",
   "execution_count": null,
   "metadata": {},
   "outputs": [],
   "source": [
    "stations.head(3)"
   ]
  },
  {
   "cell_type": "markdown",
   "metadata": {
    "deletable": false,
    "editable": false,
    "nbgrader": {
     "cell_type": "markdown",
     "checksum": "aff7501a3fe5caaa9658f6daeff4684f",
     "grade": false,
     "grade_id": "cell-d205c0a9fcbd0f6e",
     "locked": true,
     "schema_version": 3,
     "solution": false,
     "task": false
    }
   },
   "source": [
    "## 2.0 Add route miles\n",
    "\n",
    "Every named train is associated with a route that Amtrak measures in miles. The route miles data was sourced\n",
    "from the FRA's\n",
    "[_Methodology Report for the Performance and Service Quality of Intercity Passenger Train Operations_](https://railroads.dot.gov/sites/fra.dot.gov/files/2024-08/Methodology%20Report_FY24Q3_web.pdf) (FY 2024 v.2), pp. 12-15.\n",
    "\n",
    "### 2.1 Retrieve data"
   ]
  },
  {
   "cell_type": "code",
   "execution_count": null,
   "metadata": {},
   "outputs": [],
   "source": [
    "with open(data_processed_path.joinpath(\"amtk_sub_services.json\"), \"r\") as file:\n",
    "    amtk_sub_svcs = json.load(file)\n",
    "\n",
    "route_miles = [\n",
    "    {\"Route\": route[\"sub service\"], \"Route Miles\": sum([host[\"miles\"] for host in route[\"hosts\"]])}\n",
    "    for route in amtk_sub_svcs\n",
    "]\n",
    "\n",
    "# Create DataFrame\n",
    "route_miles = pd.DataFrame.from_dict(route_miles, orient=\"columns\")\n",
    "route_miles"
   ]
  },
  {
   "cell_type": "markdown",
   "metadata": {
    "deletable": false,
    "editable": false,
    "nbgrader": {
     "cell_type": "markdown",
     "checksum": "e6e7428c19303b7f2be9ee6b3cd981a8",
     "grade": false,
     "grade_id": "cell-803856008206b9ae",
     "locked": true,
     "schema_version": 3,
     "solution": false,
     "task": false
    }
   },
   "source": [
    "### 2.2 Combine data [1 pt]\n",
    "\n",
    "Add `route_miles` to the `stations` `DataFrame`. Once the data is combined, move the `route_miles`\n",
    "column from the last position to the fifth (`5th`) position in `stations`. Drop any redundant\n",
    "columns after reordering the columns."
   ]
  },
  {
   "cell_type": "code",
   "execution_count": null,
   "metadata": {
    "deletable": false,
    "nbgrader": {
     "cell_type": "code",
     "checksum": "e443d4674ae5ef77f07d51292ddc9aaf",
     "grade": false,
     "grade_id": "cell-9473dca422f1512f",
     "locked": false,
     "schema_version": 3,
     "solution": true,
     "task": false
    }
   },
   "outputs": [],
   "source": [
    "# YOUR CODE HERE\n",
    "raise NotImplementedError()"
   ]
  },
  {
   "cell_type": "code",
   "execution_count": null,
   "metadata": {
    "deletable": false,
    "editable": false,
    "nbgrader": {
     "cell_type": "code",
     "checksum": "e93a8745496e41f1c7e88f58f7661748",
     "grade": true,
     "grade_id": "cell-cb43be41b217a173",
     "locked": true,
     "points": 1,
     "schema_version": 3,
     "solution": false,
     "task": false
    }
   },
   "outputs": [],
   "source": [
    "#hidden tests are within this cell"
   ]
  },
  {
   "cell_type": "markdown",
   "metadata": {
    "deletable": false,
    "editable": false,
    "nbgrader": {
     "cell_type": "markdown",
     "checksum": "e54bb22de45237cecb9be534d400658e",
     "grade": false,
     "grade_id": "cell-fa8ded84fa238430",
     "locked": true,
     "schema_version": 3,
     "solution": false,
     "task": false
    }
   },
   "source": [
    "## 3.0 Add location data\n",
    "\n",
    "The Bureau of Transportation Statistics (BTS) maintains an [Amtrak stations](https://data-usdot.opendata.arcgis.com/datasets/amtrak-stations/about) dataset that provides mapping (i.e., location) information.\n",
    "\n",
    "### 3.1 Retrieve data"
   ]
  },
  {
   "cell_type": "code",
   "execution_count": null,
   "metadata": {},
   "outputs": [],
   "source": [
    "filepath = data_raw_path.joinpath(\"NTAD_Amtrak_Stations_-3056704789218436106.csv\")\n",
    "ntad_stations = pd.read_csv(filepath)"
   ]
  },
  {
   "cell_type": "markdown",
   "metadata": {
    "deletable": false,
    "editable": false,
    "nbgrader": {
     "cell_type": "markdown",
     "checksum": "751f789f9b5896fefcc43ffa5179b047",
     "grade": false,
     "grade_id": "cell-6ee338808eadb5fa",
     "locked": true,
     "schema_version": 3,
     "solution": false,
     "task": false
    }
   },
   "source": [
    "### 3.2 Filter data [1 pt]\n",
    "\n",
    "Filter out all bus stations and reset the index. Retain only the \"StaType\", \"ZipCode\", \"Address2\",\n",
    "\"Address1\", \"Code\", \"lon\", and \"lat\" columns."
   ]
  },
  {
   "cell_type": "code",
   "execution_count": null,
   "metadata": {
    "deletable": false,
    "nbgrader": {
     "cell_type": "code",
     "checksum": "98576bba8936c60fb9ce8bec19d5c2bd",
     "grade": false,
     "grade_id": "cell-89bfde1a6cec54cf",
     "locked": false,
     "schema_version": 3,
     "solution": true,
     "task": false
    }
   },
   "outputs": [],
   "source": [
    "# YOUR CODE HERE\n",
    "raise NotImplementedError()"
   ]
  },
  {
   "cell_type": "code",
   "execution_count": null,
   "metadata": {
    "deletable": false,
    "editable": false,
    "nbgrader": {
     "cell_type": "code",
     "checksum": "dd745d94006c18cbb6ca0589523c2038",
     "grade": true,
     "grade_id": "cell-03279946a5f9d940",
     "locked": true,
     "points": 1,
     "schema_version": 3,
     "solution": false,
     "task": false
    }
   },
   "outputs": [],
   "source": [
    "#hidden tests are within this cell"
   ]
  },
  {
   "cell_type": "markdown",
   "metadata": {
    "deletable": false,
    "editable": false,
    "nbgrader": {
     "cell_type": "markdown",
     "checksum": "7716c63e85449295b1f16d1271d302e0",
     "grade": false,
     "grade_id": "cell-ede1009a819aaed0",
     "locked": true,
     "schema_version": 3,
     "solution": false,
     "task": false
    }
   },
   "source": [
    "### 3.3 Drop columns [1 pt]\n",
    "\n",
    "Drop the following columns. They are not required for the analysis.\n",
    "\n",
    "* OBJECTID\n",
    "* StnType\n",
    "* State\n",
    "* Name\n",
    "* StationName\n",
    "* StationFacilityName\n",
    "* StationAliases\n",
    "* DateModif\n",
    "* x\n",
    "* y"
   ]
  },
  {
   "cell_type": "code",
   "execution_count": null,
   "metadata": {
    "deletable": false,
    "nbgrader": {
     "cell_type": "code",
     "checksum": "5d8950e62163c6826f719793116515cb",
     "grade": false,
     "grade_id": "cell-cefb392bd24c3bf8",
     "locked": false,
     "schema_version": 3,
     "solution": true,
     "task": false
    }
   },
   "outputs": [],
   "source": [
    "# YOUR CODE HERE\n",
    "raise NotImplementedError()"
   ]
  },
  {
   "cell_type": "code",
   "execution_count": null,
   "metadata": {
    "deletable": false,
    "editable": false,
    "nbgrader": {
     "cell_type": "code",
     "checksum": "07c8fd4e45890ac0106077679460cdef",
     "grade": true,
     "grade_id": "cell-80cbf402cbbb7168",
     "locked": true,
     "points": 1,
     "schema_version": 3,
     "solution": false,
     "task": false
    }
   },
   "outputs": [],
   "source": [
    "#hidden tests are within this cell"
   ]
  },
  {
   "cell_type": "markdown",
   "metadata": {
    "deletable": false,
    "editable": false,
    "nbgrader": {
     "cell_type": "markdown",
     "checksum": "dda9ccc25b2ece4cfc246eaa2f18534b",
     "grade": false,
     "grade_id": "cell-bdb89a9943cc9bd0",
     "locked": true,
     "schema_version": 3,
     "solution": false,
     "task": false
    }
   },
   "source": [
    "## 4.0 Clean data\n",
    "\n",
    "### 4.1 Blank and missing values\n",
    "\n",
    "No empty or missing values it appears."
   ]
  },
  {
   "cell_type": "code",
   "execution_count": null,
   "metadata": {},
   "outputs": [],
   "source": [
    "# Combined condition to check for empty strings or NaN\n",
    "mask = (ntad_stations == \"\") | pd.isna(ntad_stations)\n",
    "empty_nan_values = ntad_stations.columns[mask.any()]\n",
    "empty_nan_values\n",
    "\n",
    "# Count empty or NaN values\n",
    "# empty_nan_counts = ntad_stations[empty_nan_values].apply(lambda x: x.isin([\"\", np.nan]).sum())\n",
    "# empty_nan_counts"
   ]
  },
  {
   "cell_type": "markdown",
   "metadata": {
    "deletable": false,
    "editable": false,
    "nbgrader": {
     "cell_type": "markdown",
     "checksum": "b7ccb4fb4da7926c2cbe011025c0ad74",
     "grade": false,
     "grade_id": "cell-250a44eaca4129fa",
     "locked": true,
     "schema_version": 3,
     "solution": false,
     "task": false
    }
   },
   "source": [
    "### 4.2 Normalize strings\n",
    "\n",
    "Trim each string value of leading/trailing spaces. Also search and remove unnecessary spaces in each string value based on the regular expression `re.Pattern` object. Call the function `frm.normalize_dataframe_strings()` to perform this operation.\n",
    "\n",
    "#### 4.2.1 Locate suspect strings\n",
    "\n",
    "As is illustrated below, the regex pattern to employ is `\"\\s{2,}\"`."
   ]
  },
  {
   "cell_type": "code",
   "execution_count": null,
   "metadata": {},
   "outputs": [],
   "source": [
    "# Locate extra spaces in all string columns\n",
    "extra_spaces = ntad_stations.select_dtypes(include=\"object\").apply(\n",
    "    lambda x: x.str.contains(r\"\\s{2,}\").sum()\n",
    ")\n",
    "extra_spaces"
   ]
  },
  {
   "cell_type": "markdown",
   "metadata": {
    "deletable": false,
    "editable": false,
    "nbgrader": {
     "cell_type": "markdown",
     "checksum": "574af0469ca0bfd2795434b14b76933b",
     "grade": false,
     "grade_id": "cell-274c388974ee1101",
     "locked": true,
     "schema_version": 3,
     "solution": false,
     "task": false
    }
   },
   "source": [
    "#### 4.2.2 Clean strings [1 pt]"
   ]
  },
  {
   "cell_type": "code",
   "execution_count": null,
   "metadata": {
    "deletable": false,
    "nbgrader": {
     "cell_type": "code",
     "checksum": "4824e41c707ca2a1f54b4f42333659d2",
     "grade": false,
     "grade_id": "cell-1b1c24498c62a4d1",
     "locked": false,
     "schema_version": 3,
     "solution": true,
     "task": false
    }
   },
   "outputs": [],
   "source": [
    "# YOUR CODE HERE\n",
    "raise NotImplementedError()"
   ]
  },
  {
   "cell_type": "code",
   "execution_count": null,
   "metadata": {
    "deletable": false,
    "editable": false,
    "nbgrader": {
     "cell_type": "code",
     "checksum": "1132edacbbaa7a53ff8af675ca67151c",
     "grade": true,
     "grade_id": "cell-a4b80719aa51dc96",
     "locked": true,
     "points": 1,
     "schema_version": 3,
     "solution": false,
     "task": false
    }
   },
   "outputs": [],
   "source": [
    "#hidden tests are within this cell"
   ]
  },
  {
   "cell_type": "markdown",
   "metadata": {
    "deletable": false,
    "editable": false,
    "nbgrader": {
     "cell_type": "markdown",
     "checksum": "d2f02d3ee645fd28be9713a22cbec68d",
     "grade": false,
     "grade_id": "cell-33f8d8df0863d32e",
     "locked": true,
     "schema_version": 3,
     "solution": false,
     "task": false
    }
   },
   "source": [
    "## 5.0 Manipulate data\n",
    "\n",
    "### 5.1 Rename the columns\n",
    "\n",
    "Note use of constants."
   ]
  },
  {
   "cell_type": "code",
   "execution_count": null,
   "metadata": {},
   "outputs": [],
   "source": [
    "mapper = {\n",
    "    \"StaType\": COLS[\"station_type\"],\n",
    "    \"ZipCode\": COLS[\"zip_code\"],\n",
    "    \"City\": COLS[\"city\"],\n",
    "    \"Address2\": COLS[\"address_02\"],\n",
    "    \"Address1\": COLS[\"address_01\"],\n",
    "    \"Code\": \"Code\",\n",
    "    \"lon\": COLS[\"lon\"],\n",
    "    \"lat\": COLS[\"lat\"],\n",
    "}\n",
    "ntad_stations.rename(columns=mapper, inplace=True)\n",
    "ntad_stations.head(3)"
   ]
  },
  {
   "cell_type": "markdown",
   "metadata": {
    "deletable": false,
    "editable": false,
    "nbgrader": {
     "cell_type": "markdown",
     "checksum": "e7c8deddbe2712459bb23329391b4212",
     "grade": false,
     "grade_id": "cell-01b0c80c27b8e47b",
     "locked": true,
     "schema_version": 3,
     "solution": false,
     "task": false
    }
   },
   "source": [
    "### 5.2 Reorder columns\n",
    "\n",
    ":bulb: By convention, latitude is always listed before longitude."
   ]
  },
  {
   "cell_type": "code",
   "execution_count": null,
   "metadata": {},
   "outputs": [],
   "source": [
    "columns = [\n",
    "    \"Code\",\n",
    "    COLS[\"station_type\"],\n",
    "    COLS[\"city\"],\n",
    "    COLS[\"address_01\"],\n",
    "    COLS[\"address_02\"],\n",
    "    COLS[\"zip_code\"],\n",
    "    COLS[\"lat\"],\n",
    "    COLS[\"lon\"],\n",
    "]\n",
    "ntad_stations = ntad_stations.loc[:, columns]\n",
    "ntad_stations.sample(n=7, random_state=rdg)"
   ]
  },
  {
   "cell_type": "markdown",
   "metadata": {
    "deletable": false,
    "editable": false,
    "nbgrader": {
     "cell_type": "markdown",
     "checksum": "06506590f3139a399f1ac8dc7fc8b714",
     "grade": false,
     "grade_id": "cell-f835c4936f24ee48",
     "locked": true,
     "schema_version": 3,
     "solution": false,
     "task": false
    }
   },
   "source": [
    "## 6.0 Merge data [1 pt]\n",
    "\n",
    "Merge `stations` and `ntad_stations`. Perform a __left join__ to retain all rows in the `stations` `DataFrame`, joining on the \"Arrival Station Code\" column in `stations` and the \"Code\" column in `ntad_stations`."
   ]
  },
  {
   "cell_type": "code",
   "execution_count": null,
   "metadata": {
    "deletable": false,
    "nbgrader": {
     "cell_type": "code",
     "checksum": "8d143080b386e8901c8c4d9d1337a3ef",
     "grade": false,
     "grade_id": "cell-b768d3d1c7c04e0e",
     "locked": false,
     "schema_version": 3,
     "solution": true,
     "task": false
    }
   },
   "outputs": [],
   "source": [
    "# YOUR CODE HERE\n",
    "raise NotImplementedError()"
   ]
  },
  {
   "cell_type": "code",
   "execution_count": null,
   "metadata": {
    "deletable": false,
    "editable": false,
    "nbgrader": {
     "cell_type": "code",
     "checksum": "4a55868a419682af41c67d950e37e52f",
     "grade": true,
     "grade_id": "cell-c04dc024b1f69a71",
     "locked": true,
     "points": 1,
     "schema_version": 3,
     "solution": false,
     "task": false
    }
   },
   "outputs": [],
   "source": [
    "#hidden tests are within this cell"
   ]
  },
  {
   "cell_type": "markdown",
   "metadata": {
    "deletable": false,
    "editable": false,
    "nbgrader": {
     "cell_type": "markdown",
     "checksum": "2b5ac6395fb38a8268df80b63f2b604f",
     "grade": false,
     "grade_id": "cell-d899cdf9c26cf5d0",
     "locked": true,
     "schema_version": 3,
     "solution": false,
     "task": false
    }
   },
   "source": [
    "## 7.0 Check geo coordinates [1 pt]\n",
    "\n",
    "Check for missing geo coordinates in the \"lat\" and \"lon\" columns in the merged DataFrame. Assign the\n",
    "results to a new `DataFrame` named `missing_coords`."
   ]
  },
  {
   "cell_type": "code",
   "execution_count": null,
   "metadata": {
    "deletable": false,
    "nbgrader": {
     "cell_type": "code",
     "checksum": "803e3805173f08dc5746f5c04b74b9c7",
     "grade": false,
     "grade_id": "cell-35f3b0b18fa2f318",
     "locked": false,
     "schema_version": 3,
     "solution": true,
     "task": false
    }
   },
   "outputs": [],
   "source": [
    "# YOUR CODE HERE\n",
    "raise NotImplementedError()"
   ]
  },
  {
   "cell_type": "code",
   "execution_count": null,
   "metadata": {
    "deletable": false,
    "editable": false,
    "nbgrader": {
     "cell_type": "code",
     "checksum": "387b29eceb965ff0acf7440fd819f22a",
     "grade": true,
     "grade_id": "cell-552b620b3020d388",
     "locked": true,
     "points": 1,
     "schema_version": 3,
     "solution": false,
     "task": false
    }
   },
   "outputs": [],
   "source": [
    "#hidden tests are within this cell"
   ]
  },
  {
   "cell_type": "markdown",
   "metadata": {
    "deletable": false,
    "editable": false,
    "nbgrader": {
     "cell_type": "markdown",
     "checksum": "7b1dcdde3d07e404e0565dd7fac82af3",
     "grade": false,
     "grade_id": "cell-d5ab4ce422620136",
     "locked": true,
     "schema_version": 3,
     "solution": false,
     "task": false
    }
   },
   "source": [
    "### 7.1 Missing geo coordinates\n",
    "\n",
    "The BTS Amtrak stations dataset does not contain geo coordinates for the following stations:\n",
    "\n",
    "* CBN: Canadian Border, NY\n",
    "* FAL: Falmouth, ME\n",
    "* MCI: Michigan City, IN\n",
    "\n",
    "#### 7.1.1 CBN\n",
    "\n",
    "This is not a physical station but an international border crossing in the vicinity of\n",
    "Niagra Falls that features an exchange of US and Canadian train crews. The MCI\n",
    "[Michigan City Station](https://en.wikipedia.org/wiki/Michigan_City_station) is a former Amtrak\n",
    "station that was closed on 4 April 2022. The geo coordinates for the station can be obtained from\n",
    "[Google Maps](https://www.google.com/maps/place/41%C2%B043'16.0%22N+86%C2%B054'20.0%22W/@41.721111,-86.905556,15z/data=!4m4!3m3!8m2!3d41.721111!4d-86.905556?hl=en&entry=ttu&g_ep=EgoyMDI0MTAyOS4wIKXMDSoASAFQAw%3D%3D)."
   ]
  },
  {
   "cell_type": "markdown",
   "metadata": {
    "deletable": false,
    "editable": false,
    "nbgrader": {
     "cell_type": "markdown",
     "checksum": "8dd0fbf84e840fb3d3bcbaccaf8e0e3a",
     "grade": false,
     "grade_id": "cell-9998483d6dcf59a6",
     "locked": true,
     "schema_version": 3,
     "solution": false,
     "task": false
    }
   },
   "source": [
    "#### 7.1.2 FAL\n",
    "\n",
    "A special event stop for the Amtrak [Downeaster](https://www.amtrak.com/downeaster-train)\n",
    "in support of the _The Live + Work in Maine Open Golf Tournament_ held at the\n",
    "[Falmouth Country Club](https://www.falmouthcc.org/) during June 24-27, 2021 and June 23-26, 2022\n",
    "(source: http://www.trainweb.org/usarail/falmouth.htm).\n",
    "\n",
    "FAL row values can be updated with the following information:\n",
    "\n",
    "Muirfield Road at Railroad Crossing \\\n",
    "Falmouth, ME 04105 \\\n",
    "Latitude: `43.769600`, Longitude: `-70.259500`"
   ]
  },
  {
   "cell_type": "code",
   "execution_count": null,
   "metadata": {},
   "outputs": [],
   "source": [
    "values = (\"Falmouth\", \"Muirfield Road at Railroad Crossing\", \"04105\", 43.769600, -70.259500)\n",
    "mask = stations[COLS[\"station_code\"]] == \"FAL\"\n",
    "stations.loc[\n",
    "    mask,\n",
    "    [COLS[\"city\"], COLS[\"address_01\"], COLS[\"zip_code\"], COLS[\"lat\"], COLS[\"lon\"]],\n",
    "] = values\n",
    "stations[mask]"
   ]
  },
  {
   "cell_type": "markdown",
   "metadata": {
    "deletable": false,
    "editable": false,
    "nbgrader": {
     "cell_type": "markdown",
     "checksum": "8967683d17ec4a51573f988b11de00d2",
     "grade": false,
     "grade_id": "cell-7d61fc54075e4c4a",
     "locked": true,
     "schema_version": 3,
     "solution": false,
     "task": false
    }
   },
   "source": [
    "#### 7.1.3 MCI\n",
    "\n",
    "Formerly Amtrak's Michigan City, IN station, closed since April 2022. MCI row values can be\n",
    "updated with the following information:\n",
    "\n",
    "Amtrak Michigan City Station (closed)\n",
    "100 Washington Street \\\n",
    "Michigan City, Indiana 46360 \\\n",
    "Latitude: `41.721111`, Longitude: `-86.905556`"
   ]
  },
  {
   "cell_type": "code",
   "execution_count": null,
   "metadata": {},
   "outputs": [],
   "source": [
    "values = (\"Michigan City\", \"100 Washington Street\", \"46360\", 41.721111, -86.905556)\n",
    "mask = stations[COLS[\"station_code\"]] == \"MCI\"\n",
    "stations.loc[\n",
    "    mask, [COLS[\"city\"], COLS[\"address_01\"], COLS[\"zip_code\"], COLS[\"lat\"], COLS[\"lon\"]]\n",
    "] = values\n",
    "stations[mask]"
   ]
  },
  {
   "cell_type": "code",
   "execution_count": null,
   "metadata": {},
   "outputs": [],
   "source": [
    "stations.info()"
   ]
  },
  {
   "cell_type": "markdown",
   "metadata": {
    "deletable": false,
    "editable": false,
    "nbgrader": {
     "cell_type": "markdown",
     "checksum": "e30c5f8968a6844116549c7b437a507e",
     "grade": false,
     "grade_id": "cell-d4d96337c9177f63",
     "locked": true,
     "schema_version": 3,
     "solution": false,
     "task": false
    }
   },
   "source": [
    "## 8.0 Reorder columns\n",
    "\n",
    "The `stations` columns are reordered as follows:\n",
    "\n",
    "| Position | Column Name | Note |\n",
    "| :----- | :------------- | :------------- |\n",
    "| `0`-`1` | \"Fiscal Year\", \"Fiscal Quarter\" | &nbsp; |\n",
    "| `2`-`5` | \"Service Line\", \"Service\", \"Sub Service\", \"Train Number\" | &nbsp; |\n",
    "| `6`-`9` | \"Arrival Station\", \"Arrival Station Type\", \"Code\", \"Arrival Station Code\" | Drop \"Code\" after confirming column order. |\n",
    "| `10`-`13` | \"City\", \"Address 01\", \"Address 02\", \"ZIP Code\" | &nbsp; |\n",
    "| `14`-`17` | \"State\", \"Division\", \"Region\", \"Country\" | &nbsp; |\n",
    "| `18`-`19` | \"Latitude\", \"Longitude\" | &nbsp; |\n",
    "| `20`-`22` | \"Total Detraining Customers\", \"Late Detraining Customers\", \"Late Detraining Customers Avg Min Late\" | &nbsp; |"
   ]
  },
  {
   "cell_type": "code",
   "execution_count": null,
   "metadata": {},
   "outputs": [],
   "source": [
    "# Indices of interest\n",
    "state_idx = stations.columns.get_loc(COLS[\"state\"])\n",
    "total_detrain_idx = stations.columns.get_loc(COLS[\"total_detrn\"])\n",
    "code_idx = stations.columns.get_loc(\"Code\")\n",
    "\n",
    "columns_start = stations.columns[:state_idx].tolist()\n",
    "columns_start.extend([\n",
    "    \"Code\",\n",
    "    COLS[\"station_type\"],\n",
    "    COLS[\"city\"],\n",
    "    COLS[\"address_01\"],\n",
    "    COLS[\"address_02\"],\n",
    "    COLS[\"zip_code\"],\n",
    "])\n",
    "print(f\"columns_start = {columns_start}\")\n",
    "\n",
    "columns_middle = stations.columns[state_idx:total_detrain_idx].tolist()\n",
    "columns_middle.extend([COLS[\"lat\"], COLS[\"lon\"]])\n",
    "print(f\"columns_middle = {columns_middle}\")\n",
    "\n",
    "columns_end = stations.columns[total_detrain_idx:code_idx].tolist()\n",
    "print(f\"columns_end = {columns_end}\")\n",
    "\n",
    "columns = columns_start + columns_middle + columns_end\n",
    "print(f\"columns = {columns}\")\n",
    "\n",
    "# Reorder DataFrame\n",
    "stations = stations.loc[:, columns]\n",
    "stations.shape"
   ]
  },
  {
   "cell_type": "code",
   "execution_count": null,
   "metadata": {},
   "outputs": [],
   "source": [
    "stations.head(3)"
   ]
  },
  {
   "cell_type": "markdown",
   "metadata": {
    "deletable": false,
    "editable": false,
    "nbgrader": {
     "cell_type": "markdown",
     "checksum": "28cac9d64c0bfd2e95b5f9f454a85e34",
     "grade": false,
     "grade_id": "cell-600c97710205f81a",
     "locked": true,
     "schema_version": 3,
     "solution": false,
     "task": false
    }
   },
   "source": [
    "## 9.0 Drop column [1 pt]\n",
    "\n",
    "Drop the redundant \"Code\" column."
   ]
  },
  {
   "cell_type": "code",
   "execution_count": null,
   "metadata": {
    "deletable": false,
    "nbgrader": {
     "cell_type": "code",
     "checksum": "5490e4fe3ce5a821d1db9e7cced938b8",
     "grade": false,
     "grade_id": "cell-e79c31888c2ac485",
     "locked": false,
     "schema_version": 3,
     "solution": true,
     "task": false
    }
   },
   "outputs": [],
   "source": [
    "# YOUR CODE HERE\n",
    "raise NotImplementedError()"
   ]
  },
  {
   "cell_type": "code",
   "execution_count": null,
   "metadata": {
    "deletable": false,
    "editable": false,
    "nbgrader": {
     "cell_type": "code",
     "checksum": "77ebe9fff8274aeef7de9c026ec2f9d1",
     "grade": true,
     "grade_id": "cell-83995f2a5477ba5b",
     "locked": true,
     "points": 1,
     "schema_version": 3,
     "solution": false,
     "task": false
    }
   },
   "outputs": [],
   "source": [
    "#hidden tests are within this cell"
   ]
  },
  {
   "cell_type": "markdown",
   "metadata": {
    "deletable": false,
    "editable": false,
    "nbgrader": {
     "cell_type": "markdown",
     "checksum": "5816b4995f6dd3aa2762cb67cf8d5482",
     "grade": false,
     "grade_id": "cell-fc448d49987107c2",
     "locked": true,
     "schema_version": 3,
     "solution": false,
     "task": false
    }
   },
   "source": [
    "## 10.0 Late detraining passengers\n",
    "\n",
    "Calculate the ratio of late detraining passengers to total detraining passengers _for each station_\n",
    "and assign the results to a new column named \"Late to Total Detraining Customers Ratio\" (use the\n",
    "associated `COLS` constant rather than hard-coding the string name ibnto the code). Round the \n",
    "values to the fitfh (`5th`) decimal place.\n",
    "\n",
    "Note: Design your `lambda` function carefully to avoid a `ZeroDivisionError` error.\n",
    "\n",
    "### 10.1 Calculate the percentage [1 pt]"
   ]
  },
  {
   "cell_type": "code",
   "execution_count": null,
   "metadata": {
    "deletable": false,
    "nbgrader": {
     "cell_type": "code",
     "checksum": "e2e294f306f4bb7e74ecd52c803cdfe0",
     "grade": false,
     "grade_id": "cell-ab13bc56d39d7b2e",
     "locked": false,
     "schema_version": 3,
     "solution": true,
     "task": false
    }
   },
   "outputs": [],
   "source": [
    "# YOUR CODE HERE\n",
    "raise NotImplementedError()"
   ]
  },
  {
   "cell_type": "code",
   "execution_count": null,
   "metadata": {
    "deletable": false,
    "editable": false,
    "nbgrader": {
     "cell_type": "code",
     "checksum": "6ca43534eb465bdde4872e7ff43d8260",
     "grade": true,
     "grade_id": "cell-3bad0ed1b2e15584",
     "locked": true,
     "points": 1,
     "schema_version": 3,
     "solution": false,
     "task": false
    }
   },
   "outputs": [],
   "source": [
    "#hidden tests are within this cell"
   ]
  },
  {
   "cell_type": "markdown",
   "metadata": {
    "deletable": false,
    "editable": false,
    "nbgrader": {
     "cell_type": "markdown",
     "checksum": "689d15bef03b045442e5032cc63d8a92",
     "grade": false,
     "grade_id": "cell-7b379a523c2e90d3",
     "locked": true,
     "schema_version": 3,
     "solution": false,
     "task": false
    }
   },
   "source": [
    "### 10.2 Sample the rows\n",
    "\n",
    "Return a sample of rows to verify row values."
   ]
  },
  {
   "cell_type": "code",
   "execution_count": null,
   "metadata": {},
   "outputs": [],
   "source": [
    "# Apply weights to sample (CBN stations are fewer)\n",
    "weights = stations[COLS[\"svc_line\"]].apply(lambda row: 3 if row == \"Long Distance\" else 1)\n",
    "stations.sample(n=7, weights=weights, random_state=rdg)"
   ]
  },
  {
   "cell_type": "markdown",
   "metadata": {
    "deletable": false,
    "editable": false,
    "nbgrader": {
     "cell_type": "markdown",
     "checksum": "5df8fa3c6773cb4d9fcd60085af98189",
     "grade": false,
     "grade_id": "cell-6fbf0fee83bb2195",
     "locked": true,
     "schema_version": 3,
     "solution": false,
     "task": false
    }
   },
   "source": [
    "### 10.3 Reorder columns [1 pt]\n",
    "\n",
    "Move \"Late to Total Detraining Customers Ratio\" to the __second to last__ position in `stations`."
   ]
  },
  {
   "cell_type": "code",
   "execution_count": null,
   "metadata": {
    "deletable": false,
    "nbgrader": {
     "cell_type": "code",
     "checksum": "4459d41de078a3670b81fd102de69a43",
     "grade": false,
     "grade_id": "cell-5e80c6bb47fa040e",
     "locked": false,
     "schema_version": 3,
     "solution": true,
     "task": false
    }
   },
   "outputs": [],
   "source": [
    "# YOUR CODE HERE\n",
    "raise NotImplementedError()"
   ]
  },
  {
   "cell_type": "code",
   "execution_count": null,
   "metadata": {
    "deletable": false,
    "editable": false,
    "nbgrader": {
     "cell_type": "code",
     "checksum": "4f967fc676f31030e56b68b7216ebfd2",
     "grade": true,
     "grade_id": "cell-40ac345ebbef4847",
     "locked": true,
     "points": 1,
     "schema_version": 3,
     "solution": false,
     "task": false
    }
   },
   "outputs": [],
   "source": [
    "#hidden tests are within this cell"
   ]
  },
  {
   "cell_type": "markdown",
   "metadata": {
    "deletable": false,
    "editable": false,
    "nbgrader": {
     "cell_type": "markdown",
     "checksum": "5a1731c26d45ad42447012c5c3136a0b",
     "grade": false,
     "grade_id": "cell-eefd00503252cc40",
     "locked": true,
     "schema_version": 3,
     "solution": false,
     "task": false
    }
   },
   "source": [
    "## 11.0 Persist data\n",
    "\n",
    "### 11.1 Recheck data."
   ]
  },
  {
   "cell_type": "code",
   "execution_count": null,
   "metadata": {},
   "outputs": [],
   "source": [
    "stations.info()"
   ]
  },
  {
   "cell_type": "markdown",
   "metadata": {
    "deletable": false,
    "editable": false,
    "nbgrader": {
     "cell_type": "markdown",
     "checksum": "e79a9a569ab5b416935b89ef368878a4",
     "grade": false,
     "grade_id": "cell-b8eb1b18580c3327",
     "locked": true,
     "schema_version": 3,
     "solution": false,
     "task": false
    }
   },
   "source": [
    "### 11.2 Write to file. [1 pt]\n",
    "\n",
    "Write data to a CSV file."
   ]
  },
  {
   "cell_type": "code",
   "execution_count": null,
   "metadata": {},
   "outputs": [],
   "source": [
    "filepath = data_processed_path.joinpath(\"station_performance_metrics-v1p2.csv\")\n",
    "stations.to_csv(filepath, index=False)"
   ]
  },
  {
   "cell_type": "code",
   "execution_count": null,
   "metadata": {
    "deletable": false,
    "editable": false,
    "nbgrader": {
     "cell_type": "code",
     "checksum": "42685a8aa274caf7ec7635d73ce235d0",
     "grade": true,
     "grade_id": "cell-281e510e00692418",
     "locked": true,
     "points": 1,
     "schema_version": 3,
     "solution": false,
     "task": false
    }
   },
   "outputs": [],
   "source": [
    "#hidden tests are within this cell"
   ]
  },
  {
   "cell_type": "markdown",
   "metadata": {
    "deletable": false,
    "editable": false,
    "nbgrader": {
     "cell_type": "markdown",
     "checksum": "e457e7883bbec9173124c5773dc8a336",
     "grade": false,
     "grade_id": "cell-a093090c6db9ff16",
     "locked": true,
     "schema_version": 3,
     "solution": false,
     "task": false
    }
   },
   "source": [
    "## 12.0 Watermark"
   ]
  },
  {
   "cell_type": "code",
   "execution_count": null,
   "metadata": {},
   "outputs": [],
   "source": [
    "%load_ext watermark\n",
    "%watermark -h -i -iv -m -v"
   ]
  }
 ],
 "metadata": {
  "kernelspec": {
   "display_name": "Python 3.11 (ipykernel)",
   "language": "python",
   "name": "python3"
  },
  "language_info": {
   "codemirror_mode": {
    "name": "ipython",
    "version": 3
   },
   "file_extension": ".py",
   "mimetype": "text/x-python",
   "name": "python",
   "nbconvert_exporter": "python",
   "pygments_lexer": "ipython3",
   "version": "3.11.9"
  }
 },
 "nbformat": 4,
 "nbformat_minor": 4
}
