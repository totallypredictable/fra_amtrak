{
 "cells": [
  {
   "cell_type": "markdown",
   "metadata": {},
   "source": [
    "# Explore: Amtrak Stations\n",
    "\n",
    "## Intercity Passenger Rail Service Station Performance Metrics\n",
    "\n",
    "The Amtrak [network](https://www.amtrak.com/content/dam/projects/dotcom/english/public/documents/Maps/Amtrak-System-Map-020923.pdf)\n",
    "is a passenger rail service that provides intercity rail service in the\n",
    "continental United States and to select Canadian cities. The network is operated by the\n",
    "[National Railroad Passenger Corporation](https://railroads.dot.gov/passenger-rail/amtrak/amtrak),\n",
    "a federally chartered for-profit corporation that receives some state funding and covers its\n",
    "operating costs by selling tickets and providing other services.\n",
    "\n",
    "This notebook commences exploration of the augmented quarterly\n",
    "[Amtrak](https://www.amtrak.com/home.html) station performance metrics. The goal is to better\n",
    "understand individual Amtrak station performance and identify potential areas for further analysis.\n",
    "\n",
    "### Variable names\n",
    "\n",
    "A number of variable names in this project leverage the following abbreviations. The naming\n",
    "strategy is to strike a balance between brevity and readability:\n",
    "\n",
    "* `amtk`: Amtrak (reporting mark)\n",
    "* `chrt`: chart\n",
    "* `cols`: columns\n",
    "* `const`: constant\n",
    "* `cwd`: current working directory\n",
    "* `eb`: eastbound direction of travel\n",
    "* `lm`: linear model\n",
    "* `mi`: miles\n",
    "* `mm`: minutes (ISO 8601)\n",
    "* `nb`: northbound direction of travel\n",
    "* `psgr`: passenger\n",
    "* `qtr`: quarter\n",
    "* `rte`: route\n",
    "* `sb`: southbound direction of travel\n",
    "* `stats`: summary statistics\n",
    "* `stn`: station\n",
    "* `stns`: stations\n",
    "* `svc`: service\n",
    "* `trn`: train\n",
    "* `wb`: westbound direction of travel"
   ]
  },
  {
   "cell_type": "code",
   "execution_count": null,
   "metadata": {},
   "outputs": [],
   "source": [
    "import numpy as np\n",
    "import pandas as pd\n",
    "import pathlib as pl\n",
    "import tomllib as tl\n",
    "\n",
    "import fra_amtrak.amtk_detrain as detrn\n",
    "import fra_amtrak.amtk_frame as frm\n",
    "import fra_amtrak.amtk_network as ntwk\n",
    "import fra_amtrak.chart_bar as vis_bar\n",
    "import fra_amtrak.chart_box as box\n",
    "import fra_amtrak.chart_hist as hst\n",
    "import fra_amtrak.chart_title as ttl\n"
   ]
  },
  {
   "cell_type": "markdown",
   "metadata": {},
   "source": [
    "## 1.0 Read files\n",
    "\n",
    "### 1.1 Resolve paths"
   ]
  },
  {
   "cell_type": "code",
   "execution_count": null,
   "metadata": {},
   "outputs": [],
   "source": [
    "parent_path = pl.Path.cwd() # current working directory\n",
    "parent_path\n"
   ]
  },
  {
   "cell_type": "markdown",
   "metadata": {},
   "source": [
    "### 1.2 Load constants\n",
    "\n",
    "Load a companion [TOML](https://toml.io/en/) file containing constants."
   ]
  },
  {
   "cell_type": "code",
   "execution_count": null,
   "metadata": {},
   "outputs": [],
   "source": [
    "filepath = parent_path.joinpath(\"notebook.toml\")\n",
    "with open(filepath, \"rb\") as file_obj:\n",
    "    const = tl.load(file_obj)\n",
    "\n",
    "# Access constants\n",
    "AGG = const[\"agg\"]\n",
    "CHRT_BAR = const[\"chart\"][\"bar\"]\n",
    "CHRT_BOX = const[\"chart\"][\"box\"]\n",
    "COLORS = const[\"colors\"]\n",
    "COLS = const[\"columns\"]\n",
    "STNS = const[\"stations\"]\n"
   ]
  },
  {
   "cell_type": "markdown",
   "metadata": {},
   "source": [
    "### Retrieve performance data"
   ]
  },
  {
   "cell_type": "code",
   "execution_count": null,
   "metadata": {},
   "outputs": [],
   "source": [
    "filepath = parent_path.joinpath(\"data\", \"processed\", \"station_performance_metrics-v1p2.csv\")\n",
    "stations = pd.read_json(\n",
    "    filepath, dtype={\"Address 02\": \"str\", \"ZIP Code\": \"str\"}, low_memory=False\n",
    ")  # avoid DtypeWarning"
   ]
  },
  {
   "cell_type": "markdown",
   "metadata": {},
   "source": [
    "### 1.4 Review the `DataFrame`"
   ]
  },
  {
   "cell_type": "code",
   "execution_count": null,
   "metadata": {},
   "outputs": [],
   "source": [
    "stations.shape"
   ]
  },
  {
   "cell_type": "code",
   "execution_count": null,
   "metadata": {},
   "outputs": [],
   "source": [
    "stations.info()"
   ]
  },
  {
   "cell_type": "code",
   "execution_count": null,
   "metadata": {},
   "outputs": [],
   "source": [
    "stations.head(3)"
   ]
  },
  {
   "cell_type": "markdown",
   "metadata": {},
   "source": [
    "## 2.0 Passenger arrivals"
   ]
  },
  {
   "cell_type": "markdown",
   "metadata": {},
   "source": [
    "### 2.1 Top 10 stations (entire period)\n",
    "\n",
    "The function `ntwk.get_n_busiest_stations()` is designed to retrieve the `n` busiest stations. The\n",
    "results can be filtered on a geographical unit (e.g., state, divisiion, region) and/or a fiscal year\n",
    "and its associated quarters.\n",
    "\n",
    "Below is listed the top ten (`10`) busiest stations based on passenger arrivals for the entire period under review."
   ]
  },
  {
   "cell_type": "code",
   "execution_count": null,
   "metadata": {},
   "outputs": [],
   "source": [
    "# Columns of interest (for display output only)\n",
    "cols = [\n",
    "    COLS[\"station_code\"],\n",
    "    COLS[\"station\"],\n",
    "    COLS[\"city\"],\n",
    "    COLS[\"state\"],\n",
    "    COLS[\"division\"],\n",
    "    COLS[\"region\"],\n",
    "    COLS[\"total_detrn\"],\n",
    "]\n",
    "\n",
    "top_n_stns = ntwk.get_n_busiest_stations(stations, 10)[cols]\n",
    "top_n_stns"
   ]
  },
  {
   "cell_type": "markdown",
   "metadata": {},
   "source": [
    "### 2.2 Top 10 stations (2023 Q1-Q2) [1 pt]\n",
    "\n",
    "Top ten (`10`) busiest stations based on passenger arrivals for the year `2023`, quarters `01` and\n",
    "`02`. This example demonstrates how to filter the data based on a fiscal year and its associated\n",
    "quarters."
   ]
  },
  {
   "cell_type": "code",
   "execution_count": null,
   "metadata": {},
   "outputs": [],
   "source": [
    "top_n_stns = ntwk.get_n_busiest_stations(stations, 10, None, 2023, 2)[cols]\n",
    "top_n_stns"
   ]
  },
  {
   "cell_type": "code",
   "execution_count": null,
   "metadata": {
    "deletable": false,
    "editable": false,
    "nbgrader": {
     "cell_type": "code",
     "checksum": "f467a5fecc142b1193552b9d189cd9aa",
     "grade": true,
     "grade_id": "cell-b00a7b80045aa229",
     "locked": true,
     "points": 1,
     "schema_version": 3,
     "solution": false,
     "task": false
    }
   },
   "outputs": [],
   "source": [
    "#hidden tests are within this cell"
   ]
  },
  {
   "cell_type": "markdown",
   "metadata": {},
   "source": [
    "### 2.3 Top 3 stations (by region, entire period)\n",
    "\n",
    " Top three (`3`) busiest stations in each US Census Bureau region based on passenger arrivals."
   ]
  },
  {
   "cell_type": "code",
   "execution_count": null,
   "metadata": {},
   "outputs": [],
   "source": [
    "region_top_n_stns = ntwk.get_n_busiest_stations(stations, 3, COLS[\"region\"])[cols]\n",
    "region_top_n_stns"
   ]
  },
  {
   "cell_type": "markdown",
   "metadata": {},
   "source": [
    "### 2.4 Top 3 stations (by division, entire period)\n",
    "\n",
    "Top three (`3`) busiest stations in each US Census Bureau division based on passenger arrivals."
   ]
  },
  {
   "cell_type": "code",
   "execution_count": null,
   "metadata": {},
   "outputs": [],
   "source": [
    "div_top_n_stns = ntwk.get_n_busiest_stations(stations, 3, COLS[\"division\"])[cols]\n",
    "div_top_n_stns"
   ]
  },
  {
   "cell_type": "markdown",
   "metadata": {},
   "source": [
    "### 2.5 Top 3 stations (by state)\n",
    "\n",
    "The top three (`3`) busiest stations in each state based on passenger arrivals."
   ]
  },
  {
   "cell_type": "code",
   "execution_count": null,
   "metadata": {},
   "outputs": [],
   "source": [
    "state_top_n_stns = ntwk.get_n_busiest_stations(stations, 3, COLS[\"state\"])[cols]\n",
    "state_top_n_stns"
   ]
  },
  {
   "cell_type": "markdown",
   "metadata": {},
   "source": [
    "## 3.0 Select Station metrics\n",
    "\n",
    "### 3.1 Moynihan Train Hall at Penn Station (NYP), New York, NY\n",
    "\n",
    "[Moynihan Train Hall](https://www.amtrak.com/stations/nyp) at Penn Station ([NYP](https://www.amtrak.com/stations/nyp)) is a major transportation hub and Amtrak's busiest station."
   ]
  },
  {
   "cell_type": "code",
   "execution_count": null,
   "metadata": {},
   "outputs": [],
   "source": [
    "# All fiscal years and quarters\n",
    "nyp = ntwk.by_station(stations, \"NYP\")\n",
    "nyp.shape"
   ]
  },
  {
   "cell_type": "markdown",
   "metadata": {},
   "source": [
    "### 3.2 NYP: on-time performance metrics (entire period)\n",
    "\n",
    "NYP station performance data is a compilation of quarterly metrics that focus on late\n",
    "detraining passengers. Detraining assengers are considered on-time if they arrive at their\n",
    "destination no later than fifteen (`15`) minutes after their scheduled arrival time. All other\n",
    "detraining passengers are considered late."
   ]
  },
  {
   "cell_type": "code",
   "execution_count": null,
   "metadata": {},
   "outputs": [],
   "source": [
    "# Train arrivals (total)\n",
    "nyp_trn_arrivals = nyp.shape[0]\n",
    "\n",
    "# Detraining totals\n",
    "nyp_detrn = nyp[COLS[\"total_detrn\"]].sum()\n",
    "nyp_detrn_late = nyp[COLS[\"late_detrn\"]].sum()\n",
    "nyp_detrn_on_time = nyp_detrn - nyp_detrn_late\n",
    "\n",
    "print(\n",
    "    f\"Train Arrivals: {nyp_trn_arrivals}\",\n",
    "    f\"Total Detraining Customers: {nyp_detrn}\",\n",
    "    f\"Late Detraining Customers: {nyp_detrn_late}\",\n",
    "    f\"On-Time Detraining Customers: {nyp_detrn_on_time}\",\n",
    "    sep=\"\\n\",\n",
    ")\n",
    "\n",
    "nyp_stats = detrn.get_sum_stats(nyp, AGG[\"columns\"], AGG[\"funcs\"])\n",
    "nyp_stats"
   ]
  },
  {
   "cell_type": "markdown",
   "metadata": {},
   "source": [
    "### 3.3 NYP: mean late arrival times summary statistics\n",
    "\n",
    "Review the central tendency, dispersion, and shape for the mean late arrival times of NYP trains. Call the custom function named `frm.describe_numeric_column()` to return a dictionary of summary statistics."
   ]
  },
  {
   "cell_type": "code",
   "execution_count": null,
   "metadata": {},
   "outputs": [],
   "source": [
    "# Drop missing values\n",
    "nyp_avg_mm_late = nyp[COLS[\"late_detrn_avg_mm_late\"]].dropna().reset_index(drop=True)\n",
    "\n",
    "# Call the custom frm.describe_numeric_column() function again\n",
    "nyp_avg_mm_late_describe = frm.describe_numeric_column(nyp_avg_mm_late)\n",
    "nyp_avg_mm_late_describe"
   ]
  },
  {
   "cell_type": "markdown",
   "metadata": {},
   "source": [
    "The skewness and kurtosis values returned suggest that the distribution of mean late arrival times of NYP trains are positively skewed and features a sharper peak and heavier right tail than a normal distribution. Let's confirm this visually by generating a histogram."
   ]
  },
  {
   "cell_type": "markdown",
   "metadata": {},
   "source": [
    "### 3.4 NYP: visualize distribution of mean late arrival times\n",
    "\n",
    "Visualize mean late arrival times for the entire period. The data is binned prior to plotting.\n",
    "\n",
    "#### 3.4.1 Create chart data"
   ]
  },
  {
   "cell_type": "code",
   "execution_count": null,
   "metadata": {},
   "outputs": [],
   "source": [
    "# Convert to DataFrame\n",
    "nyp_avg_mm_late = nyp_avg_mm_late.to_frame(name=COLS[\"avg_mm_late\"])\n",
    "\n",
    "# Get mean and standard deviation\n",
    "mu = nyp_avg_mm_late_describe[\"center\"][\"mean\"]\n",
    "sigma = nyp_avg_mm_late_describe[\"spread\"][\"std\"]\n",
    "\n",
    "# Get max value (for x-axis ticks); pad max value for chart display\n",
    "max_val = nyp_avg_mm_late_describe[\"position\"][\"max\"]\n",
    "max_val_ceil = (np.ceil(max_val / 10) * 10).astype(int)\n",
    "\n",
    "# Create bins\n",
    "nyp_min_late, bins, num_bins, bin_width = frm.create_bins(nyp_avg_mm_late, COLS[\"avg_mm_late\"], 15)\n",
    "\n",
    "# Bin the data\n",
    "chrt_data = frm.bin_data(nyp_min_late, COLS[\"avg_mm_late\"], bins)\n",
    "\n",
    "# chrt_data"
   ]
  },
  {
   "cell_type": "markdown",
   "metadata": {},
   "source": [
    "#### 3.4.2 Generate the histogram"
   ]
  },
  {
   "cell_type": "code",
   "execution_count": null,
   "metadata": {},
   "outputs": [],
   "source": [
    "# Chart title\n",
    "title_txt = f\"Late Detraining Passengers: {STNS['nyp']}\"\n",
    "title = ttl.format_title(nyp_stats, title_txt)\n",
    "\n",
    "# Tooltips\n",
    "tooltip_config = [\n",
    "    {\"shorthand\": \"bin_center:Q\", \"title\": \"Average Minutes Late\", \"format\": None},\n",
    "    {\"shorthand\": \"count:Q\", \"title\": \"Late Arrivals Count\", \"format\": None},\n",
    "]\n",
    "\n",
    "# Create and display the histogram\n",
    "chart = hst.create_histogram(\n",
    "    frame=chrt_data,\n",
    "    x_shorthand=\"bin_center:Q\",\n",
    "    x_title=\"Average Minutes Late\",\n",
    "    y_shorthand=\"count:Q\",\n",
    "    y_title=\"Late Arrivals Count\",\n",
    "    y_stack=False,\n",
    "    line_shorthand=\"Avg Min Late:Q\",\n",
    "    mu=mu,\n",
    "    sigma=sigma,\n",
    "    num_bins=num_bins,\n",
    "    bin_width=bin_width,\n",
    "    x_tick_count_max=max_val_ceil,\n",
    "    bar_color=COLORS[\"amtk_blue\"],\n",
    "    mu_color=COLORS[\"amtk_red\"],\n",
    "    sigma_color=COLORS[\"anth_gray\"],\n",
    "    tooltip_config=tooltip_config,\n",
    "    title=title,\n",
    ")\n",
    "chart.display()"
   ]
  },
  {
   "cell_type": "markdown",
   "metadata": {},
   "source": [
    "### 3.5 NYP: on-time performance metrics (by fiscal year and quarter)\n",
    "\n",
    "Compute OTP summary statistics per fiscal year and quarter. Add quarterly train arrival metrics to\n",
    "the `DataFrame` named `nyp_qtr_stats`."
   ]
  },
  {
   "cell_type": "code",
   "execution_count": null,
   "metadata": {},
   "outputs": [],
   "source": [
    "nyp_qtr_stats = detrn.get_sum_stats_by_group(\n",
    "    nyp,\n",
    "    [COLS[\"year\"], COLS[\"quarter\"]],\n",
    "    AGG[\"funcs\"],\n",
    "    AGG[\"columns\"],\n",
    "    nyp_trn_arrivals,\n",
    "    nyp_detrn,\n",
    ")\n",
    "nyp_qtr_stats.sort_values(by=[COLS[\"year\"], COLS[\"quarter\"]], ascending=[True, True])"
   ]
  },
  {
   "cell_type": "markdown",
   "metadata": {},
   "source": [
    "#### 3.5.1 Write to file [1 pt]\n",
    "\n",
    "Write `nyp_qtr_stats` to a CSV file named `stu-amtk-nyp_qtr_stats.csv`. Store the file in the\n",
    "`data/student` directory. Then compare it to the accompanying `fxt-amtk-nyp_qtr_stats.csv` file. It\n",
    "must match line for line, character for character."
   ]
  },
  {
   "cell_type": "code",
   "execution_count": null,
   "metadata": {
    "deletable": false,
    "nbgrader": {
     "cell_type": "code",
     "checksum": "33be6e11a85950104343ec0decbcb7b0",
     "grade": false,
     "grade_id": "cell-cb8920ddb233b3e6",
     "locked": false,
     "schema_version": 3,
     "solution": true,
     "task": false
    }
   },
   "outputs": [],
   "source": [
    "# YOUR CODE HERE\n",
    "raise NotImplementedError()"
   ]
  },
  {
   "cell_type": "code",
   "execution_count": null,
   "metadata": {
    "deletable": false,
    "editable": false,
    "nbgrader": {
     "cell_type": "code",
     "checksum": "730763c57f55556e1d6cf364b50416d7",
     "grade": true,
     "grade_id": "cell-5c8973657598a83e",
     "locked": true,
     "points": 1,
     "schema_version": 3,
     "solution": false,
     "task": false
    }
   },
   "outputs": [],
   "source": [
    "#hidden tests are within this cell"
   ]
  },
  {
   "cell_type": "markdown",
   "metadata": {},
   "source": [
    "### 3.6 NYP: visualize detraining passengers\n",
    "\n",
    "Visualize NYP detraining passengers, both on-time and late, across all years and quarters with a\n",
    "bar chart."
   ]
  },
  {
   "cell_type": "code",
   "execution_count": null,
   "metadata": {},
   "outputs": [],
   "source": [
    "# Assemble the data for the chart\n",
    "chrt_data = vis_bar.create_detrain_chart_frame(nyp_qtr_stats, CHRT_BAR[\"columns\"])\n",
    "\n",
    "# Get station code, station name, city, and state to use in the chart title\n",
    "text = frm.drop_dups_and_squeeze(\n",
    "    nyp, [COLS[\"station_code\"], COLS[\"station\"], COLS[\"city\"], COLS[\"state\"]]\n",
    ")\n",
    "\n",
    "# Chart title\n",
    "title_txt = (\n",
    "    f\"Detraining Passengers: {text['Arrival Station']} ({text['Arrival Station Code']}), \"\n",
    "    f\"{text['City']}, {text['State']}\"\n",
    ")\n",
    "title = ttl.format_title(nyp_stats, title_txt)\n",
    "\n",
    "# Create and display grouped bar chart\n",
    "chart = vis_bar.create_grouped_bar_chart(\n",
    "    chrt_data,\n",
    "    \"Fiscal Period:N\",\n",
    "    \"Passengers:Q\",\n",
    "    \"Arrival Status:N\",\n",
    "    CHRT_BAR[\"xoffset_sort\"],\n",
    "    CHRT_BAR[\"colors\"],\n",
    "    title,\n",
    ")\n",
    "\n",
    "chart.display()"
   ]
  },
  {
   "cell_type": "markdown",
   "metadata": {},
   "source": [
    "### 3.7 NYP: On-time performance metrics by service line\n",
    "\n",
    "Group train arrivals by service line."
   ]
  },
  {
   "cell_type": "code",
   "execution_count": null,
   "metadata": {},
   "outputs": [],
   "source": [
    "nyp_svc_trns = nyp.groupby(COLS[\"svc_line\"]).size().reset_index()  # Includes rows with NaN\n",
    "nyp_svc_trns.columns = [COLS[\"svc_line\"], COLS[\"trn_arrivals\"]]\n",
    "nyp_svc_trns.sort_values(by=COLS[\"trn_arrivals\"], ascending=False, inplace=True)\n",
    "nyp_svc_trns.reset_index(drop=True, inplace=True)\n",
    "\n",
    "# Add train arrival ratios (year_qtr/total)\n",
    "nyp_svc_trns.loc[:, COLS[\"trn_arrival_ratio\"]] = (\n",
    "    nyp_svc_trns[COLS[\"trn_arrivals\"]] / nyp_trn_arrivals\n",
    ")\n",
    "nyp_svc_trns"
   ]
  },
  {
   "cell_type": "markdown",
   "metadata": {},
   "source": [
    "#### 3.7.1 NYP: compute on-time performance metrics by service line. [1 pt]"
   ]
  },
  {
   "cell_type": "code",
   "execution_count": null,
   "metadata": {},
   "outputs": [],
   "source": [
    "# Get summary stats by COLS[\"svc_line\"]\n",
    "nyp_svc_line_stats = detrn.get_sum_stats_by_group(\n",
    "    nyp, COLS[\"svc_line\"], AGG[\"columns\"], AGG[\"funcs\"]\n",
    ")\n",
    "\n",
    "# Merge train arrivals by service line\n",
    "nyp_svc_line_stats = nyp_svc_line_stats.merge(nyp_svc_trns, on=COLS[\"svc_line\"], how=\"inner\")\n",
    "\n",
    "# Move train arrival columns\n",
    "cols = nyp_svc_line_stats.columns.tolist()\n",
    "cols = [cols[0]] + cols[-2:] + cols[1:-2]\n",
    "nyp_svc_line_stats = nyp_svc_line_stats[cols]\n",
    "\n",
    "# Add service line detraining ratios\n",
    "nyp_svc_line_stats.loc[:, \"Service Line Detraining Ratio\"] = (\n",
    "    nyp_svc_line_stats[\"Total Detraining Customers sum\"] / nyp_detrn\n",
    ")\n",
    "\n",
    "# Move service line detraining ratio column\n",
    "nyp_svc_line_stats.insert(\n",
    "    3, \"Service Line Detraining Ratio\", nyp_svc_line_stats.pop(\"Service Line Detraining Ratio\")\n",
    ")\n",
    "\n",
    "# Sort by passengers detrained (descending order)\n",
    "nyp_svc_line_stats.sort_values(by=\"Total Detraining Customers sum\", inplace=True)\n",
    "\n",
    "# Reset index\n",
    "nyp_svc_line_stats.reset_index(drop=True, inplace=True)\n",
    "nyp_svc_line_stats"
   ]
  },
  {
   "cell_type": "code",
   "execution_count": null,
   "metadata": {
    "deletable": false,
    "editable": false,
    "nbgrader": {
     "cell_type": "code",
     "checksum": "d0feabaf09f8f407759489a3f768e266",
     "grade": true,
     "grade_id": "cell-680a34ff41d4e5b7",
     "locked": true,
     "points": 1,
     "schema_version": 3,
     "solution": false,
     "task": false
    }
   },
   "outputs": [],
   "source": [
    "#hidden tests are within this cell"
   ]
  },
  {
   "cell_type": "markdown",
   "metadata": {},
   "source": [
    "#### 3.7.2 NYP: visualize distribution of mean late arrival times\n",
    "\n",
    "Illustrate with box plots."
   ]
  },
  {
   "cell_type": "code",
   "execution_count": null,
   "metadata": {},
   "outputs": [],
   "source": [
    "nyp_svc_lines = nyp.groupby(COLS[\"svc_line\"])[[COLS[\"svc_line\"], COLS[\"late_detrn_avg_mm_late\"]]]\n",
    "chrt_data = nyp_svc_lines.apply(lambda x: x).reset_index(drop=True)  # Flatten for Altair\n",
    "chrt_data.head()"
   ]
  },
  {
   "cell_type": "code",
   "execution_count": null,
   "metadata": {},
   "outputs": [],
   "source": [
    "title_txt = (\n",
    "    f\"Detraining Passengers: {text['Arrival Station']} ({text['Arrival Station Code']}), \"\n",
    "    f\"{text['City']}, {text['State']}\"\n",
    ")\n",
    "title = ttl.format_title(nyp_stats, title_txt)\n",
    "\n",
    "# Create and display the box plots\n",
    "chart = box.create_box_plot(\n",
    "    chrt_data,\n",
    "    \"Late Detraining Customers Avg Min Late:Q\",\n",
    "    \"Average Minutes Late\",\n",
    "    \"Service Line:N\",\n",
    "    COLS[\"svc_line\"],\n",
    "    CHRT_BOX[\"y_axis\"][\"sort\"],\n",
    "    CHRT_BOX[\"colors\"],\n",
    "    title,\n",
    "    CHRT_BOX[\"padding\"],\n",
    ")\n",
    "\n",
    "chart.display()"
   ]
  },
  {
   "cell_type": "markdown",
   "metadata": {},
   "source": [
    "### 3.8 Chicago Union Station (CHI), Chicago, IL\n",
    "\n",
    "[Chicago Union Station](https://www.amtrak.com/stations/chi) ([CHI](https://www.amtrak.com/stations/chi)) is a key node in the Amtrak\n",
    "network, supporting both regional services in the Midwest and long distance routes."
   ]
  },
  {
   "cell_type": "code",
   "execution_count": null,
   "metadata": {},
   "outputs": [],
   "source": [
    "chi = ntwk.by_station(stations, \"CHI\")\n",
    "chi.shape"
   ]
  },
  {
   "cell_type": "markdown",
   "metadata": {},
   "source": [
    "### 3.9 CHI: on-time performance metrics (entire period)\n",
    "\n",
    "CHI station performance data is a compilation of quarterly metrics that focus on late\n",
    "detraining passengers. Detraining assengers are considered on-time if they arrive at their\n",
    "destination no later than fifteen (`15`) minutes after their scheduled arrival time. All other\n",
    "detraining passengers are considered late."
   ]
  },
  {
   "cell_type": "code",
   "execution_count": null,
   "metadata": {},
   "outputs": [],
   "source": [
    "# Train arrivals (total)\n",
    "chi_trn_arrivals = chi.shape[0]\n",
    "\n",
    "# Detraining totals\n",
    "chi_detrn = chi[COLS[\"total_detrn\"]].sum()\n",
    "chi_detrn_late = chi[COLS[\"late_detrn\"]].sum()\n",
    "chi_detrn_on_time = chi_detrn - chi_detrn_late\n",
    "\n",
    "print(\n",
    "    f\"Train Arrivals: {chi_trn_arrivals}\",\n",
    "    f\"Total Detraining Customers: {chi_detrn}\",\n",
    "    f\"Late Detraining Customers: {chi_detrn_late}\",\n",
    "    f\"On-Time Detraining Customers: {chi_detrn_on_time}\",\n",
    "    sep=\"\\n\",\n",
    ")\n",
    "\n",
    "chi_stats = detrn.get_sum_stats(chi, AGG[\"columns\"], AGG[\"funcs\"])\n",
    "chi_stats"
   ]
  },
  {
   "cell_type": "markdown",
   "metadata": {},
   "source": [
    "### 3.10 CHI: mean late arrival times summary statistics\n",
    "\n",
    "Review the central tendency, dispersion, and shape for the mean late arrival times of CHI trains. Call the custom function named `frm.describe_numeric_column()` to return a dictionary of summary statistics."
   ]
  },
  {
   "cell_type": "code",
   "execution_count": null,
   "metadata": {},
   "outputs": [],
   "source": [
    "# Drop missing values\n",
    "chi_avg_mm_late = chi[COLS[\"late_detrn_avg_mm_late\"]].dropna().reset_index(drop=True)\n",
    "\n",
    "# Call the custom frm.describe_numeric_column() function again\n",
    "chi_avg_mm_late_describe = frm.describe_numeric_column(chi_avg_mm_late)\n",
    "chi_avg_mm_late_describe"
   ]
  },
  {
   "cell_type": "markdown",
   "metadata": {},
   "source": [
    "The skewness and kurtosis values returned suggest that the distribution of mean late arrival times of CHI trains are positively skewed and features features a sharper peak and heavier right tail than a normal distribution. Let's confirm this visually by generating a histogram."
   ]
  },
  {
   "cell_type": "markdown",
   "metadata": {},
   "source": [
    "### 3.11 CHI: visualize distribution of mean late arrival times\n",
    "\n",
    "Visualize mean late arrival times for the entire period. The data is binned prior to plotting.\n",
    "\n",
    "#### 3.11.1 Create chart data [1 pt]"
   ]
  },
  {
   "cell_type": "code",
   "execution_count": null,
   "metadata": {},
   "outputs": [],
   "source": [
    "# Convert to DataFrame\n",
    "chi_avg_mm_late = chi_avg_mm_late.to_frame(name=\"avg_mm_late\")\n",
    "\n",
    "# Get mean and standard deviation\n",
    "mu = chi_avg_mm_late_describe[\"center\"][\"mean\"]\n",
    "sigma = chi_avg_mm_late_describe[\"spread\"][\"std\"]\n",
    "\n",
    "# Get max value (for x-axis ticks); pad max value for chart display\n",
    "max_val = chi_avg_mm_late_describe[\"position\"][\"max\"]\n",
    "max_val_ceil = (np.ceil(max_val / 10) * 10).astype(int)\n",
    "\n",
    "# Create bins\n",
    "chi_min_late, bins, num_bins, bin_width = frm.create_bins(chi_avg_mm_late, COLS[\"avg_mm_late\"], 10)\n",
    "\n",
    "# Bin the data\n",
    "chrt_data = frm.bin_data(chi_min_late, COLS[\"avg_mm_late\"], bins)\n",
    "# chrt_data"
   ]
  },
  {
   "cell_type": "code",
   "execution_count": null,
   "metadata": {
    "deletable": false,
    "editable": false,
    "nbgrader": {
     "cell_type": "code",
     "checksum": "12de333ae856966815c22275771d4a00",
     "grade": true,
     "grade_id": "cell-e6e777bd5a524e04",
     "locked": true,
     "points": 1,
     "schema_version": 3,
     "solution": false,
     "task": false
    }
   },
   "outputs": [],
   "source": [
    "#hidden tests are within this cell"
   ]
  },
  {
   "cell_type": "markdown",
   "metadata": {},
   "source": [
    "#### 3.11.2 Generate the histogram"
   ]
  },
  {
   "cell_type": "code",
   "execution_count": null,
   "metadata": {},
   "outputs": [],
   "source": [
    "# Chart title\n",
    "title_txt = f\"Late Detraining Passengers: {STNS['chi']}\"\n",
    "title = ttl.format_title(chi_stats, title_txt)\n",
    "\n",
    "# Tooltips\n",
    "tooltip_config = [\n",
    "    {\"shorthand\": \"bin_center:Q\", \"title\": \"Average Minutes Late\", \"format\": None},\n",
    "    {\"shorthand\": \"count:Q\", \"title\": \"Late Arrivals Count\", \"format\": None},\n",
    "]\n",
    "\n",
    "# Create and display the histogram\n",
    "chart = hst.create_histogram(\n",
    "    frame=chrt_data,\n",
    "    x_shorthand=\"bin_center:Q\",\n",
    "    x_title=\"Average Minutes Late\",\n",
    "    y_shorthand=\"count:Q\",\n",
    "    y_title=\"Late Arrivals Count\",\n",
    "    y_stack=False,\n",
    "    line_shorthand=\"Avg Min Late:Q\",\n",
    "    mu=mu,\n",
    "    sigma=sigma,\n",
    "    num_bins=num_bins,\n",
    "    bin_width=bin_width,\n",
    "    x_tick_count_max=max_val_ceil,\n",
    "    bar_color=COLORS[\"amtk_blue\"],\n",
    "    mu_color=COLORS[\"amtk_red\"],\n",
    "    sigma_color=COLORS[\"anth_gray\"],\n",
    "    tooltip_config=tooltip_config,\n",
    "    title=title,\n",
    ")\n",
    "chart.display()"
   ]
  },
  {
   "cell_type": "markdown",
   "metadata": {},
   "source": [
    "### 3.12 CHI: on-time performance metrics (by fiscal year and quarter) [1 pt]\n",
    "\n",
    "Compute OTP summary statistics per fiscal year and quarter. Add quarterly train arrival metrics to\n",
    "the `DataFrame` named `chi_qtr_stats`."
   ]
  },
  {
   "cell_type": "code",
   "execution_count": null,
   "metadata": {},
   "outputs": [],
   "source": [
    "chi_qtr_stats = detrn.get_sum_stats_by_group(\n",
    "    chi, [COLS[\"year\"], COLS[\"quarter\"]], AGG[\"columns\"], AGG[\"funcs\"], chi_detrn\n",
    ")\n",
    "chi_qtr_stats.sort_values(by=[COLS[\"year\"], COLS[\"quarter\"]], ascending=[True, True])\n",
    "chi_qtr_stats"
   ]
  },
  {
   "cell_type": "code",
   "execution_count": null,
   "metadata": {
    "deletable": false,
    "editable": false,
    "nbgrader": {
     "cell_type": "code",
     "checksum": "495ce2fc5204e91cbe2b8df8f82aad68",
     "grade": true,
     "grade_id": "cell-490108df4670b3b0",
     "locked": true,
     "points": 1,
     "schema_version": 3,
     "solution": false,
     "task": false
    }
   },
   "outputs": [],
   "source": [
    "#hidden tests are within this cell"
   ]
  },
  {
   "cell_type": "markdown",
   "metadata": {},
   "source": [
    "#### 3.12.1 Write to file [1 pt]\n",
    "\n",
    "Write `chi_qtr_stats` to a CSV file named `stu-amtk-chi_qtr_stats.csv`. Store the file in the\n",
    "`data/student` directory. Then compare it to the accompanying `fxt-amtk-chi_qtr_stats.csv` file. It\n",
    "must match line for line, character for character."
   ]
  },
  {
   "cell_type": "code",
   "execution_count": null,
   "metadata": {
    "deletable": false,
    "nbgrader": {
     "cell_type": "code",
     "checksum": "52555e3d4dd9ce6ce79f75f08ecda037",
     "grade": false,
     "grade_id": "cell-6622937ef13899ab",
     "locked": false,
     "schema_version": 3,
     "solution": true,
     "task": false
    }
   },
   "outputs": [],
   "source": [
    "# YOUR CODE HERE\n",
    "raise NotImplementedError()"
   ]
  },
  {
   "cell_type": "code",
   "execution_count": null,
   "metadata": {
    "deletable": false,
    "editable": false,
    "nbgrader": {
     "cell_type": "code",
     "checksum": "28403eb40cfe6b3427aae4a4f8aabc99",
     "grade": true,
     "grade_id": "cell-702e03d6ed6c7b9e",
     "locked": true,
     "points": 1,
     "schema_version": 3,
     "solution": false,
     "task": false
    }
   },
   "outputs": [],
   "source": [
    "#hidden tests are within this cell"
   ]
  },
  {
   "cell_type": "markdown",
   "metadata": {},
   "source": [
    "### 3.13 CHI: visualize detraining passengers\n",
    "\n",
    "Visualize CHI detraining passengers, both on-time and late, across all years and quarters with a\n",
    "bar chart."
   ]
  },
  {
   "cell_type": "code",
   "execution_count": null,
   "metadata": {},
   "outputs": [],
   "source": [
    "# Assemble the data for the chart\n",
    "chrt_data = vis_bar.create_detrain_chart_frame(chi_qtr_stats, CHRT_BAR[\"columns\"])\n",
    "\n",
    "# Get station code, station name, city, and state to use in the chart title\n",
    "text = frm.drop_dups_and_squeeze(\n",
    "    chi, [COLS[\"station_code\"], COLS[\"station\"], COLS[\"city\"], COLS[\"state\"]]\n",
    ")\n",
    "\n",
    "# Chart title\n",
    "title_txt = (\n",
    "    f\"Detraining Passengers: {text['Arrival Station']} ({text['Arrival Station Code']}), \"\n",
    "    f\"{text['City']}, {text['State']}\"\n",
    ")\n",
    "title = ttl.format_title(chi_stats, title_txt)\n",
    "\n",
    "# Create and display grouped bar chart\n",
    "chart = vis_bar.create_grouped_bar_chart(\n",
    "    chrt_data,\n",
    "    \"Fiscal Period:N\",\n",
    "    \"Passengers:Q\",\n",
    "    \"Arrival Status:N\",\n",
    "    CHRT_BAR[\"xoffset_sort\"],\n",
    "    CHRT_BAR[\"colors\"],\n",
    "    title,\n",
    ")\n",
    "\n",
    "chart.display()"
   ]
  },
  {
   "cell_type": "markdown",
   "metadata": {},
   "source": [
    "### 3.14 CHI: On-time performance metrics by service line [1 pt]\n",
    "\n",
    "Group train arrivals by service line."
   ]
  },
  {
   "cell_type": "code",
   "execution_count": null,
   "metadata": {},
   "outputs": [],
   "source": [
    "chi_svc_trns = chi.groupby(COLS[\"svc_line\"]).size().reset_index()  # Includes rows with NaN\n",
    "chi_svc_trns.columns = [COLS[\"svc_line\"], COLS[\"trn_arrivals\"]]\n",
    "chi_svc_trns.sort_values(by=COLS[\"trn_arrivals\"], ascending=False, inplace=True)\n",
    "chi_svc_trns.reset_index(drop=True, inplace=True)\n",
    "\n",
    "# Add train arrival ratios (year_qtr/total)\n",
    "chi_svc_trns.loc[:, COLS[\"trn_arrival_ratio\"]] = (\n",
    "    chi_trn_arrivals / chi_svc_trns[COLS[\"trn_arrivals\"]]\n",
    ")\n",
    "chi_svc_trns"
   ]
  },
  {
   "cell_type": "code",
   "execution_count": null,
   "metadata": {
    "deletable": false,
    "editable": false,
    "nbgrader": {
     "cell_type": "code",
     "checksum": "63a23a36650559dc204dc28c3ab4103c",
     "grade": true,
     "grade_id": "cell-a0138ac2e19b1a80",
     "locked": true,
     "points": 1,
     "schema_version": 3,
     "solution": false,
     "task": false
    }
   },
   "outputs": [],
   "source": [
    "#hidden tests are within this cell"
   ]
  },
  {
   "cell_type": "markdown",
   "metadata": {},
   "source": [
    "#### 3.14.1 CHI: compute on-time performance metrics by service line."
   ]
  },
  {
   "cell_type": "code",
   "execution_count": null,
   "metadata": {},
   "outputs": [],
   "source": [
    "# Get summary stats by COLS[\"svc_line\"]\n",
    "chi_svc_line_stats = detrn.get_sum_stats_by_group(\n",
    "    chi, COLS[\"svc_line\"], AGG[\"columns\"], AGG[\"funcs\"]\n",
    ")\n",
    "\n",
    "# Merge train arrivals by service line\n",
    "chi_svc_line_stats = chi_svc_line_stats.merge(chi_svc_trns, on=COLS[\"svc_line\"], how=\"inner\")\n",
    "\n",
    "# Move train arrival columns\n",
    "cols = chi_svc_line_stats.columns.tolist()\n",
    "cols = [cols[0]] + cols[-2:] + cols[1:-2]\n",
    "chi_svc_line_stats = chi_svc_line_stats[cols]\n",
    "\n",
    "# Add service line detraining ratios\n",
    "chi_svc_line_stats.loc[:, \"Service Line Detraining Ratio\"] = (\n",
    "    chi_svc_line_stats[\"Total Detraining Customers sum\"] / chi_detrn\n",
    ")\n",
    "\n",
    "# Move service line detraining ratio column\n",
    "chi_svc_line_stats.insert(\n",
    "    3, \"Service Line Detraining Ratio\", chi_svc_line_stats.pop(\"Service Line Detraining Ratio\")\n",
    ")\n",
    "\n",
    "# Sort by passengers detrained (descending order)\n",
    "chi_svc_line_stats.sort_values(by=\"Total Detraining Customers sum\", ascending=False, inplace=True)\n",
    "\n",
    "# Reset index\n",
    "chi_svc_line_stats.reset_index(drop=True, inplace=True)\n",
    "chi_svc_line_stats"
   ]
  },
  {
   "cell_type": "markdown",
   "metadata": {},
   "source": [
    "#### 3.14.2 CHI: visualize distribution of mean late arrival times\n",
    "\n",
    "Illustrate with box plots."
   ]
  },
  {
   "cell_type": "code",
   "execution_count": null,
   "metadata": {},
   "outputs": [],
   "source": [
    "chi_svc_lines = chi.groupby(COLS[\"svc_line\"])[[COLS[\"svc_line\"], COLS[\"late_detrn_avg_mm_late\"]]]\n",
    "chrt_data = chi_svc_lines.apply(lambda x: x).reset_index(drop=True)  # Flatten for Altair\n",
    "chrt_data.head()"
   ]
  },
  {
   "cell_type": "code",
   "execution_count": null,
   "metadata": {},
   "outputs": [],
   "source": [
    "# Chart title\n",
    "title_txt = (\n",
    "    f\"Late Detraining Passengers: {text['Arrival Station']} ({text['Arrival Station Code']}), \"\n",
    "    f\"{text['City']}, {text['State']}\"\n",
    ")\n",
    "title = ttl.format_title(chi_stats, title_txt)\n",
    "\n",
    "# Create and display the box plots\n",
    "chart = box.create_box_plot(\n",
    "    chrt_data,\n",
    "    \"Late Detraining Customers Avg Min Late:Q\",\n",
    "    \"Average Minutes Late\",\n",
    "    \"Service Line:N\",\n",
    "    COLS[\"svc_line\"],\n",
    "    CHRT_BOX[\"y_axis\"][\"sort\"],\n",
    "    CHRT_BOX[\"colors\"],\n",
    "    title,\n",
    "    CHRT_BOX[\"padding\"],\n",
    ")\n",
    "\n",
    "chart.display()"
   ]
  },
  {
   "cell_type": "markdown",
   "metadata": {},
   "source": [
    "### 3.15 Los Angeles Union Station (LAX), Los Angeles, CA\n",
    "\n",
    "[Los Angeles Union Station](https://www.amtrak.com/stations/lax) ([LAX](https://www.amtrak.com/stations/lax)) serves the West Coast with\n",
    "connections to Amtrak's long distance routes."
   ]
  },
  {
   "cell_type": "code",
   "execution_count": null,
   "metadata": {},
   "outputs": [],
   "source": [
    "lax = ntwk.by_station(stations, \"LAX\")\n",
    "lax.shape"
   ]
  },
  {
   "cell_type": "markdown",
   "metadata": {},
   "source": [
    "### 3.16 LAX: on-time performance metrics (entire period) [1 pt]\n",
    "\n",
    "LAX station performance data is a compilation of quarterly metrics that focus on late\n",
    "detraining passengers. Detraining assengers are considered on-time if they arrive at their\n",
    "destination no later than fifteen (`15`) minutes after their scheduled arrival time. All other\n",
    "detraining passengers are considered late."
   ]
  },
  {
   "cell_type": "code",
   "execution_count": null,
   "metadata": {},
   "outputs": [],
   "source": [
    "# Train arrivals (total)\n",
    "lax_trn_arrivals = lax.shape[0]\n",
    "\n",
    "# Detraining totals\n",
    "lax_detrn = lax[COLS[\"total_detrn\"]].sum()\n",
    "lax_detrn_late = lax[COLS[\"late_detrn\"]]\n",
    "lax_detrn_on_time = lax_detrn - lax_detrn_late\n",
    "\n",
    "print(\n",
    "    f\"Train Arrivals: {lax_trn_arrivals}\",\n",
    "    f\"Total Detraining Customers: {lax_detrn}\",\n",
    "    f\"Late Detraining Customers: {lax_detrn_late}\",\n",
    "    f\"On-Time Detraining Customers: {lax_detrn_on_time}\",\n",
    "    sep=\"\\n\",\n",
    ")\n",
    "\n",
    "lax_stats = detrn.get_sum_stats(lax, AGG[\"columns\"], AGG[\"funcs\"])\n",
    "lax_stats"
   ]
  },
  {
   "cell_type": "code",
   "execution_count": null,
   "metadata": {
    "deletable": false,
    "editable": false,
    "nbgrader": {
     "cell_type": "code",
     "checksum": "ec66839669cefd79e5fee08c903d42c3",
     "grade": true,
     "grade_id": "cell-f3f480a2b6a206bd",
     "locked": true,
     "points": 1,
     "schema_version": 3,
     "solution": false,
     "task": false
    }
   },
   "outputs": [],
   "source": [
    "#hidden tests are within this cell"
   ]
  },
  {
   "cell_type": "markdown",
   "metadata": {},
   "source": [
    "### 3.17 LAX: mean late arrival times summary statistics\n",
    "\n",
    "Review the central tendency, dispersion, and shape for the mean late arrival times of LAX trains. Call the custom function named `frm.describe_numeric_column()` to return a dictionary of summary statistics."
   ]
  },
  {
   "cell_type": "code",
   "execution_count": null,
   "metadata": {},
   "outputs": [],
   "source": [
    "# Drop missing values\n",
    "lax_avg_min_late = lax[COLS[\"late_detrn_avg_mm_late\"]].dropna().reset_index(drop=True)\n",
    "\n",
    "# Call the custom frm.describe_numeric_column() function again\n",
    "lax_avg_min_late_describe = frm.describe_numeric_column(lax_avg_min_late)\n",
    "lax_avg_min_late_describe"
   ]
  },
  {
   "cell_type": "markdown",
   "metadata": {},
   "source": [
    "### 3.18 LAX: visualize distribution of mean late arrival times\n",
    "\n",
    "Visualize mean late arrival times for the entire period. The data is binned prior to plotting.\n",
    "\n",
    "#### 3.18.1 Create chart data [1 pt]"
   ]
  },
  {
   "cell_type": "code",
   "execution_count": null,
   "metadata": {},
   "outputs": [],
   "source": [
    "# Convert to DataFrame\n",
    "lax_avg_min_late = lax_avg_min_late.to_frame(name=COLS[\"avg_mm_late\"])\n",
    "\n",
    "# Get mean and standard deviation\n",
    "mu = lax_avg_min_late_describe[\"center\"]\n",
    "sigma = lax_avg_min_late_describe[\"spread\"][\"std\"]\n",
    "\n",
    "# Get max value (for x-axis ticks); pad max value for chart display\n",
    "max_val = lax_avg_min_late_describe[\"position\"][\"max\"]\n",
    "max_val_ceil = (np.ceil(max_val / 10) * 10).astype(int)\n",
    "\n",
    "# Create bins\n",
    "lax_min_late, bins, num_bins, bin_width = frm.create_bins(lax_avg_min_late, COLS[\"avg_mm_late\"], 10)\n",
    "\n",
    "# Bin the data\n",
    "chrt_data = frm.bin_data(lax_min_late, COLS[\"avg_mm_late\"], bins)\n",
    "# chrt_data"
   ]
  },
  {
   "cell_type": "code",
   "execution_count": null,
   "metadata": {
    "deletable": false,
    "editable": false,
    "nbgrader": {
     "cell_type": "code",
     "checksum": "448618f5c911e60e3282810521ced762",
     "grade": true,
     "grade_id": "cell-ca4cbcc9acfd7ac3",
     "locked": true,
     "points": 1,
     "schema_version": 3,
     "solution": false,
     "task": false
    }
   },
   "outputs": [],
   "source": [
    "#hidden tests are within this cell"
   ]
  },
  {
   "cell_type": "markdown",
   "metadata": {},
   "source": [
    "#### 3.18.2 Generate the histogram"
   ]
  },
  {
   "cell_type": "code",
   "execution_count": null,
   "metadata": {},
   "outputs": [],
   "source": [
    "# Chart title\n",
    "title_txt = f\"Late Detraining Passengers: {STNS['lax']}\"\n",
    "title = ttl.format_title(lax_stats, title_txt)\n",
    "\n",
    "# Tooltips\n",
    "tooltip_config = [\n",
    "    {\"shorthand\": \"bin_center:Q\", \"title\": \"Average Minutes Late\", \"format\": None},\n",
    "    {\"shorthand\": \"count:Q\", \"title\": \"Late Arrivals Count\", \"format\": None},\n",
    "]\n",
    "\n",
    "# Create and display the histogram\n",
    "chart = hst.create_histogram(\n",
    "    frame=chrt_data,\n",
    "    x_shorthand=\"bin_center:Q\",\n",
    "    x_title=\"Average Minutes Late\",\n",
    "    y_shorthand=\"count:Q\",\n",
    "    y_title=\"Late Arrivals Count\",\n",
    "    y_stack=False,\n",
    "    line_shorthand=\"Avg Min Late:Q\",\n",
    "    mu=mu,\n",
    "    sigma=sigma,\n",
    "    num_bins=num_bins,\n",
    "    bin_width=bin_width,\n",
    "    x_tick_count_max=max_val_ceil,\n",
    "    bar_color=COLORS[\"amtk_blue\"],\n",
    "    mu_color=COLORS[\"amtk_red\"],\n",
    "    sigma_color=COLORS[\"anth_gray\"],\n",
    "    tooltip_config=tooltip_config,\n",
    "    title=title,\n",
    ")\n",
    "chart.display()\n"
   ]
  },
  {
   "cell_type": "markdown",
   "metadata": {},
   "source": [
    "### 3.19 LAX: on-time performance metrics (by fiscal year and quarter)\n",
    "\n",
    "Compute OTP summary statistics per fiscal year and quarter. Add quarterly train arrival metrics to\n",
    "the `DataFrame` named `chi_qtr_stats`."
   ]
  },
  {
   "cell_type": "code",
   "execution_count": null,
   "metadata": {},
   "outputs": [],
   "source": [
    "lax_qtr_stats = detrn.get_sum_stats_by_group(\n",
    "    lax,\n",
    "    [COLS[\"year\"], COLS[\"quarter\"]],\n",
    "    AGG[\"columns\"],\n",
    "    AGG[\"funcs\"],\n",
    "    lax_trn_arrivals,\n",
    "    lax_detrn,\n",
    ")\n",
    "lax_qtr_stats.sort_values(by=[COLS[\"year\"], COLS[\"quarter\"]], ascending=[True, True])"
   ]
  },
  {
   "cell_type": "markdown",
   "metadata": {},
   "source": [
    "#### 3.19.1 Write to file [1 pt]\n",
    "\n",
    "Write `lax_qtr_stats` to a CSV file named `stu-amtk-lax_qtr_stats.csv`. Store the file in the\n",
    "`data/student` directory. Then compare it to the accompanying `fxt-amtk-lax_qtr_stats.csv` file. It\n",
    "must match line for line, character for character."
   ]
  },
  {
   "cell_type": "code",
   "execution_count": null,
   "metadata": {
    "deletable": false,
    "nbgrader": {
     "cell_type": "code",
     "checksum": "812a5432214e777e553c5ca47d910070",
     "grade": false,
     "grade_id": "cell-eb10170c2b3fb9d2",
     "locked": false,
     "schema_version": 3,
     "solution": true,
     "task": false
    }
   },
   "outputs": [],
   "source": [
    "# YOUR CODE HERE\n",
    "raise NotImplementedError()"
   ]
  },
  {
   "cell_type": "code",
   "execution_count": null,
   "metadata": {
    "deletable": false,
    "editable": false,
    "nbgrader": {
     "cell_type": "code",
     "checksum": "2f97364c08924e69fdbfa64d8d089880",
     "grade": true,
     "grade_id": "cell-3d931d4977d1b2d2",
     "locked": true,
     "points": 1,
     "schema_version": 3,
     "solution": false,
     "task": false
    }
   },
   "outputs": [],
   "source": [
    "#hidden tests are within this cell"
   ]
  },
  {
   "cell_type": "markdown",
   "metadata": {},
   "source": [
    "### 3.20 LAX: visualize detraining passengers\n",
    "\n",
    "Visualize LAX detraining passengers, both on-time and late, across all years and quarters with a\n",
    "bar chart."
   ]
  },
  {
   "cell_type": "code",
   "execution_count": null,
   "metadata": {},
   "outputs": [],
   "source": [
    "# Assemble the data for the chart\n",
    "chrt_data = vis_bar.create_detrain_chart_frame(lax_qtr_stats, CHRT_BAR[\"columns\"])\n",
    "\n",
    "# Get station code, station name, city, and state to use in the chart title\n",
    "text = frm.drop_dups_and_squeeze(\n",
    "    lax, [COLS[\"station_code\"], COLS[\"station\"], COLS[\"city\"], COLS[\"state\"]]\n",
    ")\n",
    "\n",
    "# Chart title\n",
    "title_txt = (\n",
    "    f\"Detraining Passengers: {text['Arrival Station']} ({text['Arrival Station Code']}), \"\n",
    "    f\"{text['City']}, {text['State']}\"\n",
    ")\n",
    "title = ttl.format_title(lax_stats, title_txt)\n",
    "\n",
    "# Create and display grouped bar chart\n",
    "chart = vis_bar.create_grouped_bar_chart(\n",
    "    chrt_data,\n",
    "    \"Fiscal Period:N\",\n",
    "    \"Passengers:Q\",\n",
    "    \"Arrival Status:N\",\n",
    "    CHRT_BAR[\"xoffset_sort\"],\n",
    "    CHRT_BAR[\"colors\"],\n",
    "    title,\n",
    ")\n",
    "\n",
    "chart.display()"
   ]
  },
  {
   "cell_type": "markdown",
   "metadata": {},
   "source": [
    "### 3.21 LAX: On-time performance metrics by service line [1 pt]\n",
    "\n",
    "Group train arrivals by service line."
   ]
  },
  {
   "cell_type": "code",
   "execution_count": null,
   "metadata": {},
   "outputs": [],
   "source": [
    "lax_svc_trains = lax.groupby(COLS[\"svc_line\"]).size().reset_index()  # Includes rows with NaN\n",
    "lax_svc_trains.columns = [COLS[\"svc_line\"], COLS[\"trn_arrivals\"]]\n",
    "lax_svc_trains.sort_values(by=COLS[\"trn_arrivals\"], ascending=False)\n",
    "lax_svc_trains.reset_index(drop=True, inplace=True)\n",
    "\n",
    "# Add train arrival ratios (year_qtr/total)\n",
    "lax_svc_trains.loc[:, COLS[\"trn_arrival_ratio\"]] = (\n",
    "    lax_svc_trains[COLS[\"trn_arrivals\"]] / lax_trn_arrivals\n",
    ")\n",
    "lax_svc_trains"
   ]
  },
  {
   "cell_type": "code",
   "execution_count": null,
   "metadata": {
    "deletable": false,
    "editable": false,
    "nbgrader": {
     "cell_type": "code",
     "checksum": "202402971f54d4c11509fe720a697b49",
     "grade": true,
     "grade_id": "cell-1d0db10451372c51",
     "locked": true,
     "points": 1,
     "schema_version": 3,
     "solution": false,
     "task": false
    }
   },
   "outputs": [],
   "source": [
    "#hidden tests are within this cell"
   ]
  },
  {
   "cell_type": "markdown",
   "metadata": {},
   "source": [
    "#### 3.21.1 LAX: compute on-time performance metrics by service line. [1 pt]"
   ]
  },
  {
   "cell_type": "code",
   "execution_count": null,
   "metadata": {},
   "outputs": [],
   "source": [
    "# Get summary stats by COLS[\"svc_line\"]\n",
    "lax_svc_line_stats = detrn.get_sum_stats_by_group(\n",
    "    lax, COLS[\"svc_line\"], AGG[\"columns\"], AGG[\"funcs\"]\n",
    ")\n",
    "\n",
    "# Merge train arrivals by service line\n",
    "lax_svc_line_stats = lax_svc_line_stats.merge(lax_svc_trains, on=COLS[\"svc_line\"], how=\"inner\")\n",
    "\n",
    "# Move train arrival columns\n",
    "cols = lax_svc_line_stats.columns.tolist()\n",
    "cols = [cols[0]] + cols[-2:] + cols[1:-2]\n",
    "lax_svc_line_stats = lax_svc_line_stats[cols]\n",
    "\n",
    "# Add service line detraining ratios\n",
    "lax_svc_line_stats.loc[:, \"Service Line Detraining Ratio\"] = (\n",
    "    lax_svc_line_stats[\"Total Detraining Customers sum\"] / lax_detrn\n",
    ")\n",
    "\n",
    "# Sort by passengers detrained (descending order)\n",
    "lax_svc_line_stats.sort_values(by=\"Total Detraining Customers sum\", ascending=False, inplace=True)\n",
    "\n",
    "# Reset index\n",
    "lax_svc_line_stats.reset_index(drop=True, inplace=True)\n",
    "lax_svc_line_stats"
   ]
  },
  {
   "cell_type": "code",
   "execution_count": null,
   "metadata": {
    "deletable": false,
    "editable": false,
    "nbgrader": {
     "cell_type": "code",
     "checksum": "d1f4bc0134a2680bfab7f31add21258c",
     "grade": true,
     "grade_id": "cell-b25feff3869629d5",
     "locked": true,
     "points": 1,
     "schema_version": 3,
     "solution": false,
     "task": false
    }
   },
   "outputs": [],
   "source": [
    "#hidden tests are within this cell"
   ]
  },
  {
   "cell_type": "markdown",
   "metadata": {},
   "source": [
    "#### 3.21.2 LAX: visualize distribution of mean late arrival times\n",
    "\n",
    "Illustrate with box plots."
   ]
  },
  {
   "cell_type": "code",
   "execution_count": null,
   "metadata": {},
   "outputs": [],
   "source": [
    "lax_svc_lines = lax.groupby(COLS[\"svc_line\"])[[COLS[\"svc_line\"], COLS[\"late_detrn_avg_mm_late\"]]]\n",
    "chrt_data = lax_svc_lines.apply(lambda x: x).reset_index()  # Flatten for Altair\n",
    "chrt_data.head()"
   ]
  },
  {
   "cell_type": "code",
   "execution_count": null,
   "metadata": {},
   "outputs": [],
   "source": [
    "# Chart title\n",
    "title_txt = (\n",
    "    f\"Late Detraining Passengers: {text['Arrival Station']} ({text['Arrival Station Code']}), \"\n",
    "    f\"{text['City']}, {text['State']}\"\n",
    ")\n",
    "title = ttl.format_title(lax_stats, title_txt)\n",
    "\n",
    "chart = box.create_box_plot(\n",
    "    chrt_data,\n",
    "    \"Late Detraining Customers Avg Min Late:Q\",\n",
    "    \"Average Minutes Late\",\n",
    "    \"Service Line:N\",\n",
    "    COLS[\"svc_line\"],\n",
    "    CHRT_BOX[\"y_axis\"][\"sort\"],\n",
    "    CHRT_BOX[\"colors\"],\n",
    "    title,\n",
    "    CHRT_BOX[\"padding\"],\n",
    ")\n",
    "\n",
    "chart.display()"
   ]
  },
  {
   "cell_type": "markdown",
   "metadata": {},
   "source": [
    "## 3.0 Watermark"
   ]
  },
  {
   "cell_type": "code",
   "execution_count": null,
   "metadata": {},
   "outputs": [],
   "source": [
    "%load_ext watermark\n",
    "%watermark -h -i -iv -m -v"
   ]
  }
 ],
 "metadata": {
  "kernelspec": {
   "display_name": "Python 3.11 (ipykernel)",
   "language": "python",
   "name": "python3"
  },
  "language_info": {
   "codemirror_mode": {
    "name": "ipython",
    "version": 3
   },
   "file_extension": ".py",
   "mimetype": "text/x-python",
   "name": "python",
   "nbconvert_exporter": "python",
   "pygments_lexer": "ipython3",
   "version": "3.11.9"
  }
 },
 "nbformat": 4,
 "nbformat_minor": 4
}
