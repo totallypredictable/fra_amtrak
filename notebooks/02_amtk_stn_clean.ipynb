{
 "cells": [
  {
   "cell_type": "markdown",
   "metadata": {
    "deletable": false,
    "editable": false,
    "nbgrader": {
     "cell_type": "markdown",
     "checksum": "dd42d43af307e48ee4641a90681dded6",
     "grade": false,
     "grade_id": "cell-74d17dd6939cc263",
     "locked": true,
     "schema_version": 3,
     "solution": false,
     "task": false
    }
   },
   "source": [
    "# Clean: Intercity Passenger Rail Service Station Performance Metrics\n",
    "\n",
    "This notebook \"cleans\" the combined [Amtrak](https://www.amtrak.com/home.html) station performance\n",
    "metrics, addressing issues involving missing values,string formatting, type conversion, and column\n",
    "redundancy. The notebook also leverages each station's \"State\" value to add \"Division\" and \"Region\"\n",
    "columns based on [US Census](https://www2.census.gov/geo/pdfs/maps-data/maps/reference/us_regdiv.pdf)\n",
    "geographic groupings. The notebook then writes the updated dataset to a CSV file for follow up\n",
    "cleaning, manipulation, and analysis.\n",
    "\n",
    "### Variable names\n",
    "\n",
    "A number of variable names in this project leverage the following abbreviations. The naming\n",
    "strategy is to strike a balance between brevity and readability:\n",
    "\n",
    "* `amtk`: Amtrak (reporting mark)\n",
    "* `chrt`: chart\n",
    "* `cols`: columns\n",
    "* `const`: constant\n",
    "* `cwd`: current working directory\n",
    "* `eb`: eastbound direction of travel\n",
    "* `lm`: linear model\n",
    "* `mi`: miles\n",
    "* `mm`: minutes (ISO 8601)\n",
    "* `nb`: northbound direction of travel\n",
    "* `psgr`: passenger\n",
    "* `qtr`: quarter\n",
    "* `rte`: route\n",
    "* `sb`: southbound direction of travel\n",
    "* `stats`: summary statistics\n",
    "* `stn`: station\n",
    "* `stns`: stations\n",
    "* `svc`: service\n",
    "* `trn`: train\n",
    "* `wb`: westbound direction of travel"
   ]
  },
  {
   "cell_type": "code",
   "execution_count": null,
   "metadata": {},
   "outputs": [],
   "source": [
    "import json\n",
    "import numpy as np\n",
    "import pandas as pd\n",
    "import pathlib as pl\n",
    "import re\n",
    "import tomllib as tl\n",
    "\n",
    "import fra_amtrak.amtk_frame as frm\n",
    "import fra_amtrak.amtk_network as ntwk\n",
    "\n",
    "# Set random seed\n",
    "rdg = np.random.default_rng(24)"
   ]
  },
  {
   "cell_type": "markdown",
   "metadata": {
    "deletable": false,
    "editable": false,
    "nbgrader": {
     "cell_type": "markdown",
     "checksum": "0ff03b0ed46485d4894fa85eed8bcd81",
     "grade": false,
     "grade_id": "cell-d9c3ce9d15b3cc0d",
     "locked": true,
     "schema_version": 3,
     "solution": false,
     "task": false
    }
   },
   "source": [
    "## 1.0 Read files\n",
    "\n",
    "### 1.1 Resolve paths\n",
    "\n",
    "Instantiate instances of `pathlib.Path` to represent absolute paths to the `data/interim` and `data/processed` directories."
   ]
  },
  {
   "cell_type": "code",
   "execution_count": null,
   "metadata": {},
   "outputs": [],
   "source": [
    "parent_path = pl.Path.cwd()  # current working directory\n",
    "parent_path\n",
    "\n",
    "data_interim_path = parent_path.joinpath(\"data\", \"interim\")\n",
    "data_processed_path = parent_path.joinpath(\"data\", \"processed\")"
   ]
  },
  {
   "cell_type": "markdown",
   "metadata": {
    "deletable": false,
    "editable": false,
    "nbgrader": {
     "cell_type": "markdown",
     "checksum": "f7ed6b951caceea88573ae0c3d942c66",
     "grade": false,
     "grade_id": "cell-8006373b4bad3571",
     "locked": true,
     "schema_version": 3,
     "solution": false,
     "task": false
    }
   },
   "source": [
    "### 1.2 Load constraints\n",
    "\n",
    "Load a companion [TOML](https://toml.io/en/) file containing constants."
   ]
  },
  {
   "cell_type": "code",
   "execution_count": null,
   "metadata": {},
   "outputs": [],
   "source": [
    "filepath = parent_path.joinpath(\"notebook.toml\")\n",
    "with open(filepath, \"rb\") as file_obj:\n",
    "    const = tl.load(file_obj)\n",
    "\n",
    "# Access constants\n",
    "COLS = const[\"columns\"]"
   ]
  },
  {
   "cell_type": "markdown",
   "metadata": {
    "deletable": false,
    "editable": false,
    "nbgrader": {
     "cell_type": "markdown",
     "checksum": "b4314b024fc17aef6ec8e088eab32d87",
     "grade": false,
     "grade_id": "cell-bc3450d4ffda9ad0",
     "locked": true,
     "schema_version": 3,
     "solution": false,
     "task": false
    }
   },
   "source": [
    "### 1.3 Retrieve performance data (interim)"
   ]
  },
  {
   "cell_type": "code",
   "execution_count": null,
   "metadata": {},
   "outputs": [],
   "source": [
    "filepath = data_interim_path.joinpath(\"station_performance_metrics-v1p0.csv\")\n",
    "stations = pd.read_csv(filepath)"
   ]
  },
  {
   "cell_type": "markdown",
   "metadata": {
    "deletable": false,
    "editable": false,
    "nbgrader": {
     "cell_type": "markdown",
     "checksum": "e15c962505c06c86869fbc259b26196e",
     "grade": false,
     "grade_id": "cell-62cf86ccd57d2d19",
     "locked": true,
     "schema_version": 3,
     "solution": false,
     "task": false
    }
   },
   "source": [
    "### 1.4 Review the `DataFrame`"
   ]
  },
  {
   "cell_type": "code",
   "execution_count": null,
   "metadata": {},
   "outputs": [],
   "source": [
    "stations.shape"
   ]
  },
  {
   "cell_type": "code",
   "execution_count": null,
   "metadata": {},
   "outputs": [],
   "source": [
    "stations.info()"
   ]
  },
  {
   "cell_type": "code",
   "execution_count": null,
   "metadata": {},
   "outputs": [],
   "source": [
    "stations.head()"
   ]
  },
  {
   "cell_type": "markdown",
   "metadata": {
    "deletable": false,
    "editable": false,
    "nbgrader": {
     "cell_type": "markdown",
     "checksum": "ed181d159e12872b272b0b7b9372991f",
     "grade": false,
     "grade_id": "cell-de4c0bf717e7bae1",
     "locked": true,
     "schema_version": 3,
     "solution": false,
     "task": false
    }
   },
   "source": [
    "## 2.0 Normalize strings\n",
    "\n",
    "Trim each string value of leading/trailing spaces. Also search and remove unnecessary spaces in each string value based on the regular expression `re.Pattern` object. Call the function `frm.normalize_dataframe_strings()` to perform this operation.\n",
    "\n",
    "### 2.1 Locate suspect strings\n",
    "\n",
    "As is illustrated below, the regex pattern to employ is `\"\\s{2,}\"`."
   ]
  },
  {
   "cell_type": "code",
   "execution_count": null,
   "metadata": {},
   "outputs": [],
   "source": [
    "# Locate extra spaces in all string columns\n",
    "extra_spaces = stations.select_dtypes(include=\"object\").apply(\n",
    "    lambda x: x.str.contains(r\"\\s{2,}\").sum()\n",
    ")\n",
    "extra_spaces"
   ]
  },
  {
   "cell_type": "markdown",
   "metadata": {
    "deletable": false,
    "editable": false,
    "nbgrader": {
     "cell_type": "markdown",
     "checksum": "de1f88915393195f99cbb1249542735d",
     "grade": false,
     "grade_id": "cell-044f7448ecf86042",
     "locked": true,
     "schema_version": 3,
     "solution": false,
     "task": false
    }
   },
   "source": [
    "### 2.2 Clean strings [1 pt]"
   ]
  },
  {
   "cell_type": "code",
   "execution_count": null,
   "metadata": {
    "deletable": false,
    "nbgrader": {
     "cell_type": "code",
     "checksum": "7a2fa863496d168e0536491175f7af74",
     "grade": false,
     "grade_id": "cell-bde2a270796a0bd8",
     "locked": false,
     "schema_version": 3,
     "solution": true,
     "task": false
    }
   },
   "outputs": [],
   "source": [
    "# YOUR CODE HERE\n",
    "raise NotImplementedError()"
   ]
  },
  {
   "cell_type": "code",
   "execution_count": null,
   "metadata": {
    "deletable": false,
    "editable": false,
    "nbgrader": {
     "cell_type": "code",
     "checksum": "191bfa1eddffec18d43ed010b18bb5a3",
     "grade": true,
     "grade_id": "cell-b78883418ad90368",
     "locked": true,
     "points": 1,
     "schema_version": 3,
     "solution": false,
     "task": false
    }
   },
   "outputs": [],
   "source": [
    "#hidden tests are within this cell"
   ]
  },
  {
   "cell_type": "markdown",
   "metadata": {
    "deletable": false,
    "editable": false,
    "nbgrader": {
     "cell_type": "markdown",
     "checksum": "cf24bb5532f3a5800f318e55d0d4ebfa",
     "grade": false,
     "grade_id": "cell-003ed0984cfef631",
     "locked": true,
     "schema_version": 3,
     "solution": false,
     "task": false
    }
   },
   "source": [
    "## 3.0 Manipulate data\n",
    "\n",
    "### 3.1 Why two \"average min late\" columns?\n",
    "\n",
    "The dataset contains two columns that appear to record the same information: average minutes late. The columns are: \"Avg Min Late (Lt CS)\" and \"Avg Min Late (Lt C)\". The \"LT CS\" column is well-stocked with non-`NaN` values; in contrast \"Lt C\" column contains only `4668` numeric values. Perhaps this data can be moved to the \"Avg Min Late (Lt CS)\". Investigate."
   ]
  },
  {
   "cell_type": "markdown",
   "metadata": {
    "deletable": false,
    "editable": false,
    "nbgrader": {
     "cell_type": "markdown",
     "checksum": "bb115e5e5cc79549eeccde64cbb7c488",
     "grade": false,
     "grade_id": "cell-f1eb77d9c2b4bb4c",
     "locked": true,
     "schema_version": 3,
     "solution": false,
     "task": false
    }
   },
   "source": [
    "#### 3.1.1 Compare \"Avg Min Late (Lt CS)\" and \"Avg Min Late (Lt C)\" values\n",
    "\n",
    "First, return a `DataFrame` filtered on \"Avg Min Late (Lt C)\" non-NA values."
   ]
  },
  {
   "cell_type": "code",
   "execution_count": null,
   "metadata": {},
   "outputs": [],
   "source": [
    "mask = stations[COLS[\"avg_mm_late_c\"]].notna()\n",
    "lt_c_notna = stations[mask].reset_index(drop=True)\n",
    "lt_c_notna.shape"
   ]
  },
  {
   "cell_type": "markdown",
   "metadata": {
    "deletable": false,
    "editable": false,
    "nbgrader": {
     "cell_type": "markdown",
     "checksum": "2e6fbbb1a09bd87d2caef38e32c0c0bd",
     "grade": false,
     "grade_id": "cell-a6f4838cfbd9b926",
     "locked": true,
     "schema_version": 3,
     "solution": false,
     "task": false
    }
   },
   "source": [
    "Check if `lt_c_notna` numeric values can be found throughout the dataset or are confined to a specific years and/or quarters."
   ]
  },
  {
   "cell_type": "code",
   "execution_count": null,
   "metadata": {},
   "outputs": [],
   "source": [
    "years_qtrs = lt_c_notna[[COLS[\"year\"], COLS[\"quarter\"]]].drop_duplicates().reset_index(drop=True)\n",
    "years_qtrs"
   ]
  },
  {
   "cell_type": "markdown",
   "metadata": {
    "deletable": false,
    "editable": false,
    "nbgrader": {
     "cell_type": "markdown",
     "checksum": "528983dce52a50991d549d37225dd1d5",
     "grade": false,
     "grade_id": "cell-df92e60d8b31e75a",
     "locked": true,
     "schema_version": 3,
     "solution": false,
     "task": false
    }
   },
   "source": [
    "Next, create a second `DataFrame` filtered on \"Avg Min Late (Lt C)\" non-NA values _and_ \"Avg Min Late (Lt CS)\" NA values."
   ]
  },
  {
   "cell_type": "code",
   "execution_count": null,
   "metadata": {},
   "outputs": [],
   "source": [
    "mask = (stations[COLS[\"avg_mm_late_c\"]].notna()) & (stations[COLS[\"avg_mm_late_cs\"]].isna())\n",
    "lt_c_notna_lt_cs_isna = stations[mask].reset_index(drop=True)\n",
    "lt_c_notna_lt_cs_isna.shape"
   ]
  },
  {
   "cell_type": "markdown",
   "metadata": {
    "deletable": false,
    "editable": false,
    "nbgrader": {
     "cell_type": "markdown",
     "checksum": "c7add9c4f7366406a06acabb3221e591",
     "grade": false,
     "grade_id": "cell-9d2d786ba47dc522",
     "locked": true,
     "schema_version": 3,
     "solution": false,
     "task": false
    }
   },
   "source": [
    "Check the two `DataFrames` for equality. If they are equal, the non-NA \"Avg Min Late (Lt C)\" values can be copied to the \"Avg Min Late (Lt CS)\" column."
   ]
  },
  {
   "cell_type": "code",
   "execution_count": null,
   "metadata": {},
   "outputs": [],
   "source": [
    "assert lt_c_notna.equals(lt_c_notna_lt_cs_isna)"
   ]
  },
  {
   "cell_type": "markdown",
   "metadata": {
    "deletable": false,
    "editable": false,
    "nbgrader": {
     "cell_type": "markdown",
     "checksum": "a667fb081cea798a010e980916b78f97",
     "grade": false,
     "grade_id": "cell-0046479f6a28c8c4",
     "locked": true,
     "schema_version": 3,
     "solution": false,
     "task": false
    }
   },
   "source": [
    "#### 3.1.2 Update the \"Avg Min Late (Lt CS)\" column with non-NA \"Avg Min Late (Lt C)\" values\n",
    "\n",
    "The values are safe to transfer."
   ]
  },
  {
   "cell_type": "code",
   "execution_count": null,
   "metadata": {},
   "outputs": [],
   "source": [
    "mask = stations[COLS[\"avg_mm_late_c\"]].notna()\n",
    "stations.loc[mask, COLS[\"avg_mm_late_cs\"]] = stations.loc[mask, COLS[\"avg_mm_late_c\"]]\n",
    "stations[mask].head(3)"
   ]
  },
  {
   "cell_type": "markdown",
   "metadata": {
    "deletable": false,
    "editable": false,
    "nbgrader": {
     "cell_type": "markdown",
     "checksum": "ae503aedd966795c2f079bfcf5b900c6",
     "grade": false,
     "grade_id": "cell-e72c6595c117fe66",
     "locked": true,
     "schema_version": 3,
     "solution": false,
     "task": false
    }
   },
   "source": [
    "#### 3.1.3 Drop the \"Avg Min Late (Lt C)\" column [1 pt]\n",
    "\n",
    "The column is now redundant."
   ]
  },
  {
   "cell_type": "code",
   "execution_count": null,
   "metadata": {
    "deletable": false,
    "nbgrader": {
     "cell_type": "code",
     "checksum": "6d570f5d8df7847f413a99cf6b5458ed",
     "grade": false,
     "grade_id": "cell-98c0842d69ad1e86",
     "locked": false,
     "schema_version": 3,
     "solution": true,
     "task": false
    }
   },
   "outputs": [],
   "source": [
    "# YOUR CODE HERE\n",
    "raise NotImplementedError()"
   ]
  },
  {
   "cell_type": "code",
   "execution_count": null,
   "metadata": {
    "deletable": false,
    "editable": false,
    "nbgrader": {
     "cell_type": "code",
     "checksum": "61439fa8d2dd7e28a522ecf94d86f23e",
     "grade": true,
     "grade_id": "cell-1a36b5fc3209aa9f",
     "locked": true,
     "points": 1,
     "schema_version": 3,
     "solution": false,
     "task": false
    }
   },
   "outputs": [],
   "source": [
    "#hidden tests are within this cell"
   ]
  },
  {
   "cell_type": "markdown",
   "metadata": {
    "deletable": false,
    "editable": false,
    "nbgrader": {
     "cell_type": "markdown",
     "checksum": "db3a5fad4f9aba37c36bbc36e455128e",
     "grade": false,
     "grade_id": "cell-6d6bed3dd79babb1",
     "locked": true,
     "schema_version": 3,
     "solution": false,
     "task": false
    }
   },
   "source": [
    "### 3.2 Split \"Arrival Station Name\" string into multiple columns [1 pt]\n",
    "\n",
    "The \"Arrival Station Name\" column is overloaded with location information. The station name, state,\n",
    "and country are usually resident in the string.\n",
    "\n",
    "Split the column values and unpack the substrings into three new columns named \"Arrival Station\",\n",
    "\"State\", and \"Country\". Use the available `COLS` constants to define the new column names."
   ]
  },
  {
   "cell_type": "code",
   "execution_count": null,
   "metadata": {
    "deletable": false,
    "nbgrader": {
     "cell_type": "code",
     "checksum": "43ee1b4478c09735760d73b6ddb4b100",
     "grade": false,
     "grade_id": "cell-00908139fbe5b37a",
     "locked": false,
     "schema_version": 3,
     "solution": true,
     "task": false
    }
   },
   "outputs": [],
   "source": [
    "# YOUR CODE HERE\n",
    "raise NotImplementedError()"
   ]
  },
  {
   "cell_type": "code",
   "execution_count": null,
   "metadata": {
    "deletable": false,
    "editable": false,
    "nbgrader": {
     "cell_type": "code",
     "checksum": "7f722aabd5c8e2d103946fc9a1989a43",
     "grade": true,
     "grade_id": "cell-3819a06a68fe705a",
     "locked": true,
     "points": 1,
     "schema_version": 3,
     "solution": false,
     "task": false
    }
   },
   "outputs": [],
   "source": [
    "#hidden tests are within this cell"
   ]
  },
  {
   "cell_type": "markdown",
   "metadata": {
    "deletable": false,
    "editable": false,
    "nbgrader": {
     "cell_type": "markdown",
     "checksum": "69c3c73b2d841aecbd725ad9e92a0217",
     "grade": false,
     "grade_id": "cell-ee5255810d922c96",
     "locked": true,
     "schema_version": 3,
     "solution": false,
     "task": false
    }
   },
   "source": [
    "#### 3.2.1 Review \"State\" column values\n",
    "\n",
    "Compare values to jurisdictions contained in `states_provinces.json` file. The file contains a list of US states, the District of Columbia, and Canadian provinces. Update values as needed."
   ]
  },
  {
   "cell_type": "code",
   "execution_count": null,
   "metadata": {},
   "outputs": [],
   "source": [
    "with open(data_processed_path.joinpath(\"states_provinces.json\"), \"r\") as file:\n",
    "    states_provinces = json.load(file)\n",
    "\n",
    "# Combine US and Canadian jurisdictions\n",
    "jurisdictions = states_provinces[\"United States\"] + states_provinces[\"Canada\"]\n",
    "\n",
    "# Check for missing and/or incorrect values\n",
    "mask = ~stations[COLS[\"state\"]].isin(jurisdictions)  # negation\n",
    "bad_values = stations[mask].loc[:, COLS[\"state\"]].unique()\n",
    "bad_values"
   ]
  },
  {
   "cell_type": "markdown",
   "metadata": {
    "deletable": false,
    "editable": false,
    "nbgrader": {
     "cell_type": "markdown",
     "checksum": "82c60803e0888c67dc7f0462e2d0faa3",
     "grade": false,
     "grade_id": "cell-83e69533bb1d6903",
     "locked": true,
     "schema_version": 3,
     "solution": false,
     "task": false
    }
   },
   "source": [
    "#### 3.2.2 Update \"State\" column CA and VT values [1 pt]\n",
    "\n",
    "Update the \"State\" column, replacing the US state codes \"CA\" and \"VT\" with \"California\" and \"Vermont\", respectively."
   ]
  },
  {
   "cell_type": "code",
   "execution_count": null,
   "metadata": {
    "deletable": false,
    "nbgrader": {
     "cell_type": "code",
     "checksum": "7d3c5585f38c156eebd653dbae1cbb3d",
     "grade": false,
     "grade_id": "cell-894213cdeadc58c0",
     "locked": false,
     "schema_version": 3,
     "solution": true,
     "task": false
    }
   },
   "outputs": [],
   "source": [
    "# YOUR CODE HERE\n",
    "raise NotImplementedError()"
   ]
  },
  {
   "cell_type": "code",
   "execution_count": null,
   "metadata": {
    "deletable": false,
    "editable": false,
    "nbgrader": {
     "cell_type": "code",
     "checksum": "cbd68aeb1ce4ca22b87ecbd620e00c73",
     "grade": true,
     "grade_id": "cell-ba49dc02b5ecc466",
     "locked": true,
     "points": 1,
     "schema_version": 3,
     "solution": false,
     "task": false
    }
   },
   "outputs": [],
   "source": [
    "#hidden tests are within this cell"
   ]
  },
  {
   "cell_type": "markdown",
   "metadata": {
    "deletable": false,
    "editable": false,
    "nbgrader": {
     "cell_type": "markdown",
     "checksum": "78aa41e73e83ab4ee796c0bcb4677506",
     "grade": false,
     "grade_id": "cell-43e3b8d2b4cf0117",
     "locked": true,
     "schema_version": 3,
     "solution": false,
     "task": false
    }
   },
   "source": [
    "#### 3.2.3 Update \"State\" column `NaN` values"
   ]
  },
  {
   "cell_type": "code",
   "execution_count": null,
   "metadata": {},
   "outputs": [],
   "source": [
    "# Check \"States\" column for missing values\n",
    "mask = stations[COLS[\"state\"]].isna()\n",
    "bad_values = (\n",
    "    stations[mask]\n",
    "    .loc[:, [COLS[\"station_code\"], COLS[\"station\"], COLS[\"state\"]]]\n",
    "    .drop_duplicates()\n",
    "    .reset_index(drop=True)\n",
    ")\n",
    "bad_values"
   ]
  },
  {
   "cell_type": "markdown",
   "metadata": {
    "deletable": false,
    "editable": false,
    "nbgrader": {
     "cell_type": "markdown",
     "checksum": "aeb7c20047b44e6ccdc70728dfcfcc9e",
     "grade": false,
     "grade_id": "cell-45763975a1b7b88b",
     "locked": true,
     "schema_version": 3,
     "solution": false,
     "task": false
    },
    "vscode": {
     "languageId": "markdown"
    }
   },
   "source": [
    "The `NaN` values are associated with the following stations:\n",
    "\n",
    "* CBN: [Canadian Border (Niagara Falls, NY)](https://www.amtrak.com/stations/cbn)\n",
    "* NRG: [Northridge, CA](https://www.amtrak.com/stations/nrg)\n",
    "\n",
    "Update the \"State\" column values for these stations."
   ]
  },
  {
   "cell_type": "code",
   "execution_count": null,
   "metadata": {},
   "outputs": [],
   "source": [
    "# Update missing States and Country valuee\n",
    "mapper = {\"CBN\": \"New York\", \"NRG\": \"California\"}\n",
    "stations[COLS[\"state\"]] = stations[COLS[\"station_code\"]].map(mapper).fillna(stations[\"State\"])"
   ]
  },
  {
   "cell_type": "markdown",
   "metadata": {
    "deletable": false,
    "editable": false,
    "nbgrader": {
     "cell_type": "markdown",
     "checksum": "a89d7be89a390f158cca8e7873c48aaf",
     "grade": false,
     "grade_id": "cell-c5c73d5b89764160",
     "locked": true,
     "schema_version": 3,
     "solution": false,
     "task": false
    }
   },
   "source": [
    "Sample to confirm that the \"State\" column values have been updated."
   ]
  },
  {
   "cell_type": "code",
   "execution_count": null,
   "metadata": {},
   "outputs": [],
   "source": [
    "# Sample to confirm CBN and NRB stations have been updated\n",
    "mask = (stations[COLS[\"station_code\"]] == \"CBN\") | (stations[COLS[\"station_code\"]] == \"NRG\")\n",
    "\n",
    "# Apply weights to sample (CBN stations are fewer)\n",
    "weights = stations[mask][COLS[\"station_code\"]].apply(lambda x: 7 if x == \"CBN\" else 1)\n",
    "stations[mask].sample(n=7, weights=weights, random_state=rdg)"
   ]
  },
  {
   "cell_type": "markdown",
   "metadata": {
    "deletable": false,
    "editable": false,
    "nbgrader": {
     "cell_type": "markdown",
     "checksum": "322d9e3119599a91c161ca3e7401b956",
     "grade": false,
     "grade_id": "cell-244ca5f0c6036ddd",
     "locked": true,
     "schema_version": 3,
     "solution": false,
     "task": false
    }
   },
   "source": [
    "### 3.3 Update the \"Country\" column [1 pt]\n",
    "\n",
    "Levarage the \"State\" column to update each \"Country\" column row value with either the \"United States\" or \"Canada\"."
   ]
  },
  {
   "cell_type": "code",
   "execution_count": null,
   "metadata": {},
   "outputs": [],
   "source": [
    "# Read states\n",
    "filepath = data_processed_path.joinpath(\"states_provinces.json\")\n",
    "with open(filepath, \"r\") as file_obj:\n",
    "    states_provinces = json.load(file_obj)\n",
    "\n",
    "# Count US and Canadian stations\n",
    "country_counts = stations[COLS[\"country\"]].value_counts()\n",
    "print(f\"country_counts = {country_counts}\")"
   ]
  },
  {
   "cell_type": "markdown",
   "metadata": {
    "deletable": false,
    "editable": false,
    "nbgrader": {
     "cell_type": "markdown",
     "checksum": "e65f59dfda766d91107b2729a91cd7db",
     "grade": false,
     "grade_id": "cell-b6f49db87212a95e",
     "locked": true,
     "schema_version": 3,
     "solution": false,
     "task": false
    }
   },
   "source": [
    "Update the \"Country\" column with \"United States\" and \"Canada\" values by applying the function `get_country()` to each row value."
   ]
  },
  {
   "cell_type": "code",
   "execution_count": null,
   "metadata": {
    "deletable": false,
    "nbgrader": {
     "cell_type": "code",
     "checksum": "11817c4f8539bf5634e23816cc6341e0",
     "grade": false,
     "grade_id": "cell-00880af5c07c9bdc",
     "locked": false,
     "schema_version": 3,
     "solution": true,
     "task": false
    }
   },
   "outputs": [],
   "source": [
    "# YOUR CODE HERE\n",
    "raise NotImplementedError()"
   ]
  },
  {
   "cell_type": "code",
   "execution_count": null,
   "metadata": {
    "deletable": false,
    "editable": false,
    "nbgrader": {
     "cell_type": "code",
     "checksum": "6f921e6328fba79552be40a627db8d78",
     "grade": true,
     "grade_id": "cell-bcd50c703a952097",
     "locked": true,
     "points": 1,
     "schema_version": 3,
     "solution": false,
     "task": false
    }
   },
   "outputs": [],
   "source": [
    "#hidden tests are within this cell"
   ]
  },
  {
   "cell_type": "markdown",
   "metadata": {
    "deletable": false,
    "editable": false,
    "nbgrader": {
     "cell_type": "markdown",
     "checksum": "e287b8674d71fe1c08806616031219b0",
     "grade": false,
     "grade_id": "cell-0f3fadf833fce55d",
     "locked": true,
     "schema_version": 3,
     "solution": false,
     "task": false
    }
   },
   "source": [
    "Recheck the \"Country\" column values."
   ]
  },
  {
   "cell_type": "code",
   "execution_count": null,
   "metadata": {},
   "outputs": [],
   "source": [
    "# Count US and Canadian stations\n",
    "country_counts = stations[COLS[\"country\"]].value_counts()\n",
    "print(f\"country_counts = {country_counts}\")"
   ]
  },
  {
   "cell_type": "markdown",
   "metadata": {
    "deletable": false,
    "editable": false,
    "nbgrader": {
     "cell_type": "markdown",
     "checksum": "a37a815577084c22180b68f75b72a50d",
     "grade": false,
     "grade_id": "cell-57060bbbf53000ed",
     "locked": true,
     "schema_version": 3,
     "solution": false,
     "task": false
    }
   },
   "source": [
    "### 3.3 Add region and division columns\n",
    "\n",
    "Read the `regions_divisions.json` file to acquire region and division values. Then levarage the \"State\" column to add new \"Region\" and \"Division\" columns to the `DataFrame`."
   ]
  },
  {
   "cell_type": "code",
   "execution_count": null,
   "metadata": {},
   "outputs": [],
   "source": [
    "filepath = data_processed_path.joinpath(\"regions_divisions.json\")\n",
    "with open(filepath, \"r\") as file_obj:\n",
    "    regions_divisions = json.load(file_obj)\n",
    "\n",
    "print(regions_divisions.keys())\n",
    "print(regions_divisions[\"West\"].keys())\n",
    "print(regions_divisions[\"West\"].items())"
   ]
  },
  {
   "cell_type": "markdown",
   "metadata": {
    "deletable": false,
    "editable": false,
    "nbgrader": {
     "cell_type": "markdown",
     "checksum": "e7376b3a386399f2996a4a2009ce6d08",
     "grade": false,
     "grade_id": "cell-6356b508d513863d",
     "locked": true,
     "schema_version": 3,
     "solution": false,
     "task": false
    }
   },
   "source": [
    "Apply the function `add_regions_divisions()` to each \"Region\" and \"Division\" row."
   ]
  },
  {
   "cell_type": "code",
   "execution_count": null,
   "metadata": {},
   "outputs": [],
   "source": [
    "# Assign region to each state, province, and district\n",
    "stations.loc[:, [COLS[\"region\"], COLS[\"division\"]]] = (\n",
    "    stations.loc[:, COLS[\"state\"]]\n",
    "    .apply(lambda x: pd.Series(ntwk.get_region_division(regions_divisions, x)))\n",
    "    .values\n",
    ")\n",
    "stations.head()"
   ]
  },
  {
   "cell_type": "markdown",
   "metadata": {
    "deletable": false,
    "editable": false,
    "nbgrader": {
     "cell_type": "markdown",
     "checksum": "d54557615102e77787b19ea9ad05a8c7",
     "grade": false,
     "grade_id": "cell-63c09ebed7abf163",
     "locked": true,
     "schema_version": 3,
     "solution": false,
     "task": false
    }
   },
   "source": [
    "### 3.4 Reorder columns [1 pt]\n",
    "\n",
    "Reorder the columns as specified in the table below.\n",
    "\n",
    "| Position | Column Name | Note |\n",
    "| :----- | :------------- | :------------- |\n",
    "| `0`-`1` | \"Fiscal Year\", \"Fiscal Quarter\" | &nbsp; |\n",
    "| `2`-`5` | \"Service Line\", \"Service\", \"Sub Service\", \"Train Number\" | &nbsp; |\n",
    "| `6-8` | \"Arrival Station Code\", \"Arrival Station Name\", \"Arrival Station\" | Drop \"Arrival Station Name\" after confirming column order. |\n",
    "| `9`-`12` | \"State\", \"Division\", \"Region\", \"Country\" | &nbsp; |\n",
    "| `13`-`14` | \"Total Detraining Customers\", \"Late Detraining Customers\" | &nbsp; |\n",
    "| `15` | \"Avg Min Late (Lt CS)\" | &nbsp; |"
   ]
  },
  {
   "cell_type": "code",
   "execution_count": null,
   "metadata": {
    "deletable": false,
    "nbgrader": {
     "cell_type": "code",
     "checksum": "29a1b9d5b908e3c236641b653a1d6eea",
     "grade": false,
     "grade_id": "cell-0ac9e2f4b0f04b48",
     "locked": false,
     "schema_version": 3,
     "solution": true,
     "task": false
    }
   },
   "outputs": [],
   "source": [
    "# YOUR CODE HERE\n",
    "raise NotImplementedError()"
   ]
  },
  {
   "cell_type": "code",
   "execution_count": null,
   "metadata": {
    "deletable": false,
    "editable": false,
    "nbgrader": {
     "cell_type": "code",
     "checksum": "aa2c28bdda09d5ef61527eaab66ecaed",
     "grade": true,
     "grade_id": "cell-d14d4555e196f5f2",
     "locked": true,
     "points": 1,
     "schema_version": 3,
     "solution": false,
     "task": false
    }
   },
   "outputs": [],
   "source": [
    "#hidden tests are within this cell"
   ]
  },
  {
   "cell_type": "markdown",
   "metadata": {
    "deletable": false,
    "editable": false,
    "nbgrader": {
     "cell_type": "markdown",
     "checksum": "e41b0cc5c5495ee0f344df1f036f95b1",
     "grade": false,
     "grade_id": "cell-24b58c1ef4fe2416",
     "locked": true,
     "schema_version": 3,
     "solution": false,
     "task": false
    }
   },
   "source": [
    "### 3.5 Drop \"Arrival Station Name\" column [1 pt]\n",
    "\n",
    "Now redundant. Remove."
   ]
  },
  {
   "cell_type": "code",
   "execution_count": null,
   "metadata": {
    "deletable": false,
    "nbgrader": {
     "cell_type": "code",
     "checksum": "160132df27f77ea32137d55157f22a34",
     "grade": false,
     "grade_id": "cell-865ab7cc7fa81164",
     "locked": false,
     "schema_version": 3,
     "solution": true,
     "task": false
    }
   },
   "outputs": [],
   "source": [
    "# YOUR CODE HERE\n",
    "raise NotImplementedError()"
   ]
  },
  {
   "cell_type": "code",
   "execution_count": null,
   "metadata": {
    "deletable": false,
    "editable": false,
    "nbgrader": {
     "cell_type": "code",
     "checksum": "7c8e0bb478d11caebb7d447f1d7f2636",
     "grade": true,
     "grade_id": "cell-26345e2b5e9f7f67",
     "locked": true,
     "points": 1,
     "schema_version": 3,
     "solution": false,
     "task": false
    }
   },
   "outputs": [],
   "source": [
    "#hidden tests are within this cell"
   ]
  },
  {
   "cell_type": "markdown",
   "metadata": {
    "deletable": false,
    "editable": false,
    "nbgrader": {
     "cell_type": "markdown",
     "checksum": "820f736e8cf6ab384c4aa4630aaad50c",
     "grade": false,
     "grade_id": "cell-0cfc7f2a4b63dd4f",
     "locked": true,
     "schema_version": 3,
     "solution": false,
     "task": false
    }
   },
   "source": [
    "### 3.6 Rename the \"Avg Min Late (Lt CS)\" column [1 pt]\n",
    "\n",
    "The presence of parentheses `()` in the \"Avg Min Late (Lt CS)\" column name may cause issues in subsequent analysis. Rename the column to \"Late Detraining Avg Min Late\"."
   ]
  },
  {
   "cell_type": "code",
   "execution_count": null,
   "metadata": {
    "deletable": false,
    "nbgrader": {
     "cell_type": "code",
     "checksum": "8483afd69ef6e7086cee73bfb1dde66c",
     "grade": false,
     "grade_id": "cell-b703bb65c46305cb",
     "locked": false,
     "schema_version": 3,
     "solution": true,
     "task": false
    }
   },
   "outputs": [],
   "source": [
    "# YOUR CODE HERE\n",
    "raise NotImplementedError()"
   ]
  },
  {
   "cell_type": "code",
   "execution_count": null,
   "metadata": {
    "deletable": false,
    "editable": false,
    "nbgrader": {
     "cell_type": "code",
     "checksum": "c3644325e7dd128473a05377f2225547",
     "grade": true,
     "grade_id": "cell-652e6438158ef135",
     "locked": true,
     "points": 1,
     "schema_version": 3,
     "solution": false,
     "task": false
    }
   },
   "outputs": [],
   "source": [
    "#hidden tests are within this cell"
   ]
  },
  {
   "cell_type": "markdown",
   "metadata": {
    "deletable": false,
    "editable": false,
    "nbgrader": {
     "cell_type": "markdown",
     "checksum": "958b141ed0e5ebd90bfba1129fa0cddc",
     "grade": false,
     "grade_id": "cell-4ce641a66b2d69ad",
     "locked": true,
     "schema_version": 3,
     "solution": false,
     "task": false
    }
   },
   "source": [
    "## 4.0 Persist data\n",
    "\n",
    "### 4.1 Recheck data."
   ]
  },
  {
   "cell_type": "code",
   "execution_count": null,
   "metadata": {},
   "outputs": [],
   "source": [
    "stations.info()"
   ]
  },
  {
   "cell_type": "markdown",
   "metadata": {
    "deletable": false,
    "editable": false,
    "nbgrader": {
     "cell_type": "markdown",
     "checksum": "a362689c264bf1e5cd129a0b52bc52f0",
     "grade": false,
     "grade_id": "cell-01032de45b8db87f",
     "locked": true,
     "schema_version": 3,
     "solution": false,
     "task": false
    }
   },
   "source": [
    "### 4.2 Write to file [1 pt]\n",
    "\n",
    "Write data to a CSV file."
   ]
  },
  {
   "cell_type": "code",
   "execution_count": null,
   "metadata": {},
   "outputs": [],
   "source": [
    "filepath = data_interim_path.joinpath(\"station_performance_metrics-v1p1.csv\")\n",
    "stations.to_csv(filepath, index=False)"
   ]
  },
  {
   "cell_type": "code",
   "execution_count": null,
   "metadata": {
    "deletable": false,
    "editable": false,
    "nbgrader": {
     "cell_type": "code",
     "checksum": "272475f8db1a4d1a14bce03e009789b9",
     "grade": true,
     "grade_id": "cell-2a8a8be46f2d6ad4",
     "locked": true,
     "points": 1,
     "schema_version": 3,
     "solution": false,
     "task": false
    }
   },
   "outputs": [],
   "source": [
    "#hidden tests are within this cell"
   ]
  },
  {
   "cell_type": "markdown",
   "metadata": {
    "deletable": false,
    "editable": false,
    "nbgrader": {
     "cell_type": "markdown",
     "checksum": "3bb09eecb1c493cb9994a25d8bbef001",
     "grade": false,
     "grade_id": "cell-7f44f1a11334b4f5",
     "locked": true,
     "schema_version": 3,
     "solution": false,
     "task": false
    }
   },
   "source": [
    "## 5.0 Watermark"
   ]
  },
  {
   "cell_type": "code",
   "execution_count": null,
   "metadata": {},
   "outputs": [],
   "source": [
    "%load_ext watermark\n",
    "%watermark -h -i -iv -m -v"
   ]
  }
 ],
 "metadata": {
  "kernelspec": {
   "display_name": "Python 3.11 (ipykernel)",
   "language": "python",
   "name": "python3"
  },
  "language_info": {
   "codemirror_mode": {
    "name": "ipython",
    "version": 3
   },
   "file_extension": ".py",
   "mimetype": "text/x-python",
   "name": "python",
   "nbconvert_exporter": "python",
   "pygments_lexer": "ipython3",
   "version": "3.11.9"
  }
 },
 "nbformat": 4,
 "nbformat_minor": 4
}
