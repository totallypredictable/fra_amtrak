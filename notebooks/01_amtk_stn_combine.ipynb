{
 "cells": [
  {
   "cell_type": "markdown",
   "metadata": {
    "deletable": false,
    "editable": false,
    "nbgrader": {
     "cell_type": "markdown",
     "checksum": "e04c96a61e9168250a207f754e4d2d52",
     "grade": false,
     "grade_id": "cell-1280a00388b8e2e1",
     "locked": true,
     "schema_version": 3,
     "solution": false,
     "task": false
    }
   },
   "source": [
    "# Combine: Intercity Passenger Rail Service Station Performance Metrics\n",
    "\n",
    "This notebook reads a series of Excel files containing [Amtrak](https://www.amtrak.com/home.html)\n",
    "station performance metrics, combines the data into a single [pandas](https://pandas.pydata.org/)\n",
    "`DataFrame`, and writes the combined dataset to a CSV file for follow up cleaning, manipulation,\n",
    "and analysis.\n",
    "\n",
    "### Variable names\n",
    "\n",
    "A number of variable names in this project leverage the following abbreviations. The naming\n",
    "strategy is to strike a balance between brevity and readability:\n",
    "\n",
    "* `amtk`: Amtrak (reporting mark)\n",
    "* `chrt`: chart\n",
    "* `cols`: columns\n",
    "* `const`: constant\n",
    "* `cwd`: current working directory\n",
    "* `eb`: eastbound direction of travel\n",
    "* `lm`: linear model\n",
    "* `mi`: miles\n",
    "* `mm`: minutes (ISO 8601)\n",
    "* `nb`: northbound direction of travel\n",
    "* `psgr`: passenger\n",
    "* `qtr`: quarter\n",
    "* `rte`: route\n",
    "* `sb`: southbound direction of travel\n",
    "* `stats`: summary statistics\n",
    "* `stn`: station\n",
    "* `stns`: stations\n",
    "* `svc`: service\n",
    "* `trn`: train\n",
    "* `wb`: westbound direction of travel"
   ]
  },
  {
   "cell_type": "code",
   "execution_count": null,
   "metadata": {},
   "outputs": [],
   "source": [
    "import numpy as np\n",
    "import pandas as pd\n",
    "import pathlib as pl\n",
    "import tomllib as tl\n",
    "\n",
    "import fra_amtrak.amtk_frame as frm"
   ]
  },
  {
   "cell_type": "markdown",
   "metadata": {
    "deletable": false,
    "editable": false,
    "nbgrader": {
     "cell_type": "markdown",
     "checksum": "8ad86a9f86b825842285aaa28d2fbe20",
     "grade": false,
     "grade_id": "cell-9972e3b37796e0af",
     "locked": true,
     "schema_version": 3,
     "solution": false,
     "task": false
    }
   },
   "source": [
    "## 1.0 Read files\n",
    "\n",
    "### 1.1 Resolve paths\n",
    "\n",
    "Instantiate instances of `pathlib.Path` to represent absolute paths to the `data/raw` and `data/interim` directories."
   ]
  },
  {
   "cell_type": "code",
   "execution_count": null,
   "metadata": {},
   "outputs": [],
   "source": [
    "parent_path = pl.Path.cwd()  # current working directory\n",
    "parent_path\n",
    "\n",
    "data_raw_path = parent_path.joinpath(\"data\", \"raw\")\n",
    "data_interim_path = parent_path.joinpath(\"data\", \"interim\")"
   ]
  },
  {
   "cell_type": "markdown",
   "metadata": {
    "deletable": false,
    "editable": false,
    "nbgrader": {
     "cell_type": "markdown",
     "checksum": "376999969aa1ead73660fe42caf6b1b1",
     "grade": false,
     "grade_id": "cell-162cbd4de50015a6",
     "locked": true,
     "schema_version": 3,
     "solution": false,
     "task": false
    }
   },
   "source": [
    "### 1.2 Load constants\n",
    "\n",
    "Load a companion [TOML](https://toml.io/en/) file named `notebook.toml` containing constants."
   ]
  },
  {
   "cell_type": "code",
   "execution_count": null,
   "metadata": {},
   "outputs": [],
   "source": [
    "filepath = parent_path.joinpath(\"notebook.toml\")\n",
    "with open(filepath, \"rb\") as file_obj:\n",
    "    const = tl.load(file_obj)\n",
    "\n",
    "# Access constants\n",
    "COLS = const[\"columns\"]"
   ]
  },
  {
   "cell_type": "markdown",
   "metadata": {
    "deletable": false,
    "editable": false,
    "nbgrader": {
     "cell_type": "markdown",
     "checksum": "0c598bdba347c21dccae4a776b4da96e",
     "grade": false,
     "grade_id": "cell-0895343208c1dfde",
     "locked": true,
     "schema_version": 3,
     "solution": false,
     "task": false
    }
   },
   "source": [
    "### 1.3 Read data files\n",
    "\n",
    "The FRA's station performance filenames are inconsistent (review the files in the `data/raw`\n",
    "directory). The [`Path.glob()`](https://docs.python.org/3/library/pathlib.html#pathlib.Path.glob)\n",
    "method is used to retrieve the otherwise irregular filepaths via pattern matching."
   ]
  },
  {
   "cell_type": "code",
   "execution_count": null,
   "metadata": {},
   "outputs": [],
   "source": [
    "# Check filepaths (this can also be done with the os or glob modules)\n",
    "filepaths = data_raw_path.glob(\"*Station%20Performance*.xlsx\")\n",
    "filepaths = [filepath for filepath in filepaths if filepath.is_file()]\n",
    "\n",
    "print(f\"filepaths (n={len(filepaths)})\")"
   ]
  },
  {
   "cell_type": "markdown",
   "metadata": {},
   "source": [
    "Below are the preferred data types for each column in the dataset:"
   ]
  },
  {
   "cell_type": "code",
   "execution_count": null,
   "metadata": {},
   "outputs": [],
   "source": [
    "# Specify dtypes\n",
    "dtypes = {\n",
    "    \"Fiscal Year\": np.int16,\n",
    "    \"Fiscal Quarter\": np.int8,\n",
    "    \"Service Line\": \"string\",\n",
    "    \"Service\": \"string\",\n",
    "    \"Sub Service\": \"string\",\n",
    "    \"Train Number\": np.int16,\n",
    "    \"Arrival Station Code\": \"string\",\n",
    "    \"Arrival Station Name\": \"string\",\n",
    "    \"Total Detraining Customers\": np.int32,\n",
    "    \"Late Detraining Customers\": np.int32,\n",
    "    \"Avg Min Late (LT CS)\": np.int32,\n",
    "    \"Avg Min Late (LT C)\": np.int32,\n",
    "}\n"
   ]
  },
  {
   "cell_type": "markdown",
   "metadata": {
    "deletable": false,
    "editable": false,
    "nbgrader": {
     "cell_type": "markdown",
     "checksum": "99e2476bd0a91ad9977425031ad0519d",
     "grade": false,
     "grade_id": "cell-7e73edd9bf651ee6",
     "locked": true,
     "schema_version": 3,
     "solution": false,
     "task": false
    }
   },
   "source": [
    "### 1.4 Combine `DataFrames` [1 pt]\n",
    "\n",
    "The next task is to use pandas to read the station peformance `*.xlsx` files located in the\n",
    "`data/raw` directory into a set of unnamed `DataFrame` objects, specifying specific column `dtypes`\n",
    "for each using a dictionary, and ignoring the indexes.  The `DataFrame` objects are then combined\n",
    "into a single `DataFrame` object named `stations`.\n",
    "\n",
    "Note: this operation can be performed in a single line of code, although length considerations will\n",
    "dictate the use of multiple lines."
   ]
  },
  {
   "cell_type": "code",
   "execution_count": null,
   "metadata": {
    "deletable": false,
    "nbgrader": {
     "cell_type": "code",
     "checksum": "8a5a9aaecbb57f32520b6d005163243f",
     "grade": false,
     "grade_id": "cell-6dd867ec9731233d",
     "locked": false,
     "schema_version": 3,
     "solution": true,
     "task": false
    }
   },
   "outputs": [],
   "source": [
    "# YOUR CODE HERE\n",
    "raise NotImplementedError()"
   ]
  },
  {
   "cell_type": "code",
   "execution_count": null,
   "metadata": {
    "deletable": false,
    "editable": false,
    "nbgrader": {
     "cell_type": "code",
     "checksum": "0ed1c338eadecf5cc8a16b62be98d10d",
     "grade": true,
     "grade_id": "cell-bdca47a6884f6aba",
     "locked": true,
     "points": 1,
     "schema_version": 3,
     "solution": false,
     "task": false
    }
   },
   "outputs": [],
   "source": [
    "#hidden tests are within this cell"
   ]
  },
  {
   "cell_type": "code",
   "execution_count": null,
   "metadata": {},
   "outputs": [],
   "source": [
    "stations.info()"
   ]
  },
  {
   "cell_type": "code",
   "execution_count": null,
   "metadata": {},
   "outputs": [],
   "source": [
    "stations.head()"
   ]
  },
  {
   "cell_type": "markdown",
   "metadata": {
    "deletable": false,
    "editable": false,
    "nbgrader": {
     "cell_type": "markdown",
     "checksum": "9cfe34f288e2fdd945723eff052d0789",
     "grade": false,
     "grade_id": "cell-37ae9b3f137f8bf2",
     "locked": true,
     "schema_version": 3,
     "solution": false,
     "task": false
    }
   },
   "source": [
    "## 2.0 Drop \"Unnamed\" column\n",
    "\n",
    "Each Excel spreadsheet features an unnamed first column consisting of no row values. Drop the column."
   ]
  },
  {
   "cell_type": "code",
   "execution_count": null,
   "metadata": {},
   "outputs": [],
   "source": [
    "# Print unique values in Unnamed column\n",
    "mask = stations.columns[stations.columns.str.contains(\"^Unnamed\")]\n",
    "print(f\"Unnamed columns (n={len(mask)}):\")\n",
    "\n",
    "# Print unique values in unnamed column\n",
    "unnamed_unique_values = stations[mask].apply(lambda x: x.unique())\n",
    "print(f\"unnamed_unique_values = {unnamed_unique_values}\")\n",
    "\n",
    "# Drop Unnamed column\n",
    "stations = stations.loc[:, ~stations.columns.str.contains(\"^Unnamed\")]\n",
    "stations.head()"
   ]
  },
  {
   "cell_type": "markdown",
   "metadata": {
    "deletable": false,
    "editable": false,
    "nbgrader": {
     "cell_type": "markdown",
     "checksum": "71021a72970d9f314dac62357bb30293",
     "grade": false,
     "grade_id": "cell-fb5f7972d2c93180",
     "locked": true,
     "schema_version": 3,
     "solution": false,
     "task": false
    }
   },
   "source": [
    "## 3.0 Transform mixed type columns\n",
    "\n",
    "Check columns for the presence of mixed types. The goal is to avoid triggering a `DtypeWarning` when\n",
    "reading the combined dataset into a `DataFrame` in subsequent notebooks.\n",
    "\n",
    "```commandline\n",
    "DtypeWarning: Columns (11) have mixed types. Specify dtype option on import or set low_memory=False.\n",
    "  stations = pd.read_csv(filepath, dtype=dytpes)\n",
    "```\n",
    "\n",
    "Suspect columns include:\n",
    "\n",
    "* Avg Min Late (Lt CS)\n",
    "* Avg Min Late (Lt C)\n",
    "\n",
    "If strings are present in these columns, convert them to `NaN` and then recast the columns to\n",
    "`np.float32`.\n",
    "\n",
    "### 3.1 Traverse the columns"
   ]
  },
  {
   "cell_type": "code",
   "execution_count": null,
   "metadata": {},
   "outputs": [],
   "source": [
    "# Traverse data frame to detect data types\n",
    "for column in stations.columns:\n",
    "    print(f\"{column}: \", pd.api.types.infer_dtype(stations[column]))"
   ]
  },
  {
   "cell_type": "markdown",
   "metadata": {
    "deletable": false,
    "editable": false,
    "nbgrader": {
     "cell_type": "markdown",
     "checksum": "7f13e902263325cd8ef38b4acfc889ec",
     "grade": false,
     "grade_id": "cell-095fc754a5fe8dc6",
     "locked": true,
     "schema_version": 3,
     "solution": false,
     "task": false
    }
   },
   "source": [
    "### 3.2 Identify the non-numeric values\n",
    "\n",
    "\n",
    "Call the function `frm.find_non_numeric_values()` and return the non-numeric values polluting the\n",
    "\"Avg Min Late\" columns."
   ]
  },
  {
   "cell_type": "code",
   "execution_count": null,
   "metadata": {},
   "outputs": [],
   "source": [
    "non_numeric_values = {\n",
    "    column: frm.find_non_numeric_values(stations, column) for column in stations.columns[-2:]\n",
    "}\n",
    "non_numeric_values"
   ]
  },
  {
   "cell_type": "markdown",
   "metadata": {
    "deletable": false,
    "editable": false,
    "nbgrader": {
     "cell_type": "markdown",
     "checksum": "a60bace7dc53827d245a914a3bc50322",
     "grade": false,
     "grade_id": "cell-acc54fb2566c20eb",
     "locked": true,
     "schema_version": 3,
     "solution": false,
     "task": false
    }
   },
   "source": [
    "Return a count of the string values (`\"--\"`) in the \"Avg Min Late\" columns."
   ]
  },
  {
   "cell_type": "code",
   "execution_count": null,
   "metadata": {},
   "outputs": [],
   "source": [
    "lt_cs_dashes_count = stations.loc[:, COLS[\"avg_mm_late_cs\"]].str.contains(\"--\").sum()\n",
    "print(f\"LT CS dashes count = {lt_cs_dashes_count}\")\n",
    "\n",
    "lt_c_dashes_count = stations.loc[:, COLS[\"avg_mm_late_c\"]].str.contains(\"--\").sum()\n",
    "print(f\"LT C dashes count = {lt_c_dashes_count}\")"
   ]
  },
  {
   "cell_type": "markdown",
   "metadata": {
    "deletable": false,
    "editable": false,
    "nbgrader": {
     "cell_type": "markdown",
     "checksum": "3828581848cf27f292f29645e9a0a7a2",
     "grade": false,
     "grade_id": "cell-37a6c376393722db",
     "locked": true,
     "schema_version": 3,
     "solution": false,
     "task": false
    }
   },
   "source": [
    "### 3.1 Convert dashes to `NaN` [1 pt]\n",
    "\n",
    "Convert dashes (`--`) in both columns to `NaN` and then convert the columns to `np.float32`."
   ]
  },
  {
   "cell_type": "code",
   "execution_count": null,
   "metadata": {
    "deletable": false,
    "nbgrader": {
     "cell_type": "code",
     "checksum": "fbd212295c96695788bead2191a120cc",
     "grade": false,
     "grade_id": "cell-6cfb1982a4943eb5",
     "locked": false,
     "schema_version": 3,
     "solution": true,
     "task": false
    }
   },
   "outputs": [],
   "source": [
    "# YOUR CODE HERE\n",
    "raise NotImplementedError()"
   ]
  },
  {
   "cell_type": "code",
   "execution_count": null,
   "metadata": {
    "deletable": false,
    "editable": false,
    "nbgrader": {
     "cell_type": "code",
     "checksum": "7b0ea14f2600c51e1be9f6505f8c4ce5",
     "grade": true,
     "grade_id": "cell-141fe64aa3d65a47",
     "locked": true,
     "points": 1,
     "schema_version": 3,
     "solution": false,
     "task": false
    }
   },
   "outputs": [],
   "source": [
    "#hidden tests are within this cell"
   ]
  },
  {
   "cell_type": "markdown",
   "metadata": {
    "deletable": false,
    "editable": false,
    "nbgrader": {
     "cell_type": "markdown",
     "checksum": "e31ff743a7a8a0ab274fed30edd7979c",
     "grade": false,
     "grade_id": "cell-6083cd28ed2d3cec",
     "locked": true,
     "schema_version": 3,
     "solution": false,
     "task": false
    }
   },
   "source": [
    "Confirm the conversion by checking the `dtype` of each column in `stations`. Note the reduction in memory usage as a result of careful type selection."
   ]
  },
  {
   "cell_type": "code",
   "execution_count": null,
   "metadata": {},
   "outputs": [],
   "source": [
    "stations.info()"
   ]
  },
  {
   "cell_type": "markdown",
   "metadata": {
    "deletable": false,
    "editable": false,
    "nbgrader": {
     "cell_type": "markdown",
     "checksum": "f192717df7701be955e73d2435fc1502",
     "grade": false,
     "grade_id": "cell-0dab6325deac927b",
     "locked": true,
     "schema_version": 3,
     "solution": false,
     "task": false
    }
   },
   "source": [
    "## 4.0 Sort data [1 pt]\n",
    "\n",
    "Sort `stations` by its first seven (`7`) columns, ordered as follows:\n",
    "\n",
    "1. \"Fiscal Year\" (descending)\n",
    "2. \"Fiscal Quarter\" (descending)\n",
    "3. \"Service Line\" (ascending)\n",
    "4. \"Service\" (ascending)\n",
    "5. \"Sub Service\" (ascending)\n",
    "6. \"Train Number\" (ascending)\n",
    "7. \"Arrival Station Code\" (ascending)"
   ]
  },
  {
   "cell_type": "code",
   "execution_count": null,
   "metadata": {
    "deletable": false,
    "nbgrader": {
     "cell_type": "code",
     "checksum": "0b12421a6e3797925e7959c6912013fc",
     "grade": false,
     "grade_id": "cell-4fd0366694293669",
     "locked": false,
     "schema_version": 3,
     "solution": true,
     "task": false
    }
   },
   "outputs": [],
   "source": [
    "# YOUR CODE HERE\n",
    "raise NotImplementedError()"
   ]
  },
  {
   "cell_type": "code",
   "execution_count": null,
   "metadata": {
    "deletable": false,
    "editable": false,
    "nbgrader": {
     "cell_type": "code",
     "checksum": "f7016c6aa6bcfe486bde2af6665e0ff8",
     "grade": true,
     "grade_id": "cell-f1188fb13b65c6e0",
     "locked": true,
     "points": 1,
     "schema_version": 3,
     "solution": false,
     "task": false
    }
   },
   "outputs": [],
   "source": [
    "#hidden tests are within this cell"
   ]
  },
  {
   "cell_type": "markdown",
   "metadata": {
    "deletable": false,
    "editable": false,
    "nbgrader": {
     "cell_type": "markdown",
     "checksum": "cf7c9520526f38b4d658c6a3f9d713d3",
     "grade": false,
     "grade_id": "cell-9cc2f89689788c68",
     "locked": true,
     "schema_version": 3,
     "solution": false,
     "task": false
    }
   },
   "source": [
    "## 5.0 Check years, quarters covered\n",
    "\n",
    "### 5.1 Fiscal years and quarters [1 pt]\n",
    "\n",
    "Group `stations` on the fiscal year and fiscal quarter, and return a count of the number of rows\n",
    "associated with each year-quarter combination. Sort the rows in descending order, reset the index,\n",
    "and assign the new column the name \"Rows.\" Assign the new `DataFrame` the name `periods`."
   ]
  },
  {
   "cell_type": "code",
   "execution_count": null,
   "metadata": {
    "deletable": false,
    "nbgrader": {
     "cell_type": "code",
     "checksum": "131344f5a19ab6a182be64e29f13d4d8",
     "grade": false,
     "grade_id": "cell-ec711b01a457dfdc",
     "locked": false,
     "schema_version": 3,
     "solution": true,
     "task": false
    }
   },
   "outputs": [],
   "source": [
    "# YOUR CODE HERE\n",
    "raise NotImplementedError()"
   ]
  },
  {
   "cell_type": "code",
   "execution_count": null,
   "metadata": {
    "deletable": false,
    "editable": false,
    "nbgrader": {
     "cell_type": "code",
     "checksum": "fa81ee3a83e0b39f4cd4423918ca2d48",
     "grade": true,
     "grade_id": "cell-44e75133d436c107",
     "locked": true,
     "points": 1,
     "schema_version": 3,
     "solution": false,
     "task": false
    }
   },
   "outputs": [],
   "source": [
    "#hidden tests are within this cell"
   ]
  },
  {
   "cell_type": "markdown",
   "metadata": {
    "deletable": false,
    "editable": false,
    "nbgrader": {
     "cell_type": "markdown",
     "checksum": "d5938fd1022a6fc57c88e8e48b97cb8f",
     "grade": false,
     "grade_id": "cell-d657869e9f4ed42a",
     "locked": true,
     "schema_version": 3,
     "solution": false,
     "task": false
    }
   },
   "source": [
    "### 5.2 Service lines [1 pt]\n",
    "\n",
    "Group `stations` on the fiscal year, fiscal quarter, and service line and return a count of the number\n",
    "of rows associated with each year-quarter-service line combination. Sort the rows in descending\n",
    "order, reset the index, and assign the new column the name \"Rows.\" Assign the new `DataFrame` the\n",
    "name `periods`."
   ]
  },
  {
   "cell_type": "code",
   "execution_count": null,
   "metadata": {
    "deletable": false,
    "nbgrader": {
     "cell_type": "code",
     "checksum": "cdde47f2220f16a62b4684c80a55cabc",
     "grade": false,
     "grade_id": "cell-5e06fd6b2fbb0e31",
     "locked": false,
     "schema_version": 3,
     "solution": true,
     "task": false
    }
   },
   "outputs": [],
   "source": [
    "# YOUR CODE HERE\n",
    "raise NotImplementedError()"
   ]
  },
  {
   "cell_type": "code",
   "execution_count": null,
   "metadata": {
    "deletable": false,
    "editable": false,
    "nbgrader": {
     "cell_type": "code",
     "checksum": "98232c116cf0fa7f0c8724bd3672dee9",
     "grade": true,
     "grade_id": "cell-af65a9fe80762c31",
     "locked": true,
     "points": 1,
     "schema_version": 3,
     "solution": false,
     "task": false
    }
   },
   "outputs": [],
   "source": [
    "#hidden tests are within this cell"
   ]
  },
  {
   "cell_type": "markdown",
   "metadata": {
    "deletable": false,
    "editable": false,
    "nbgrader": {
     "cell_type": "markdown",
     "checksum": "27518d2cba95a33d3defc4b158373aaa",
     "grade": false,
     "grade_id": "cell-bb9c43d3ad58af56",
     "locked": true,
     "schema_version": 3,
     "solution": false,
     "task": false
    }
   },
   "source": [
    "## 6.0 Persist data\n",
    "\n",
    "### 6.1 Recheck data"
   ]
  },
  {
   "cell_type": "code",
   "execution_count": null,
   "metadata": {},
   "outputs": [],
   "source": [
    "stations.info()"
   ]
  },
  {
   "cell_type": "markdown",
   "metadata": {
    "deletable": false,
    "editable": false,
    "nbgrader": {
     "cell_type": "markdown",
     "checksum": "5684eecea82b527d572ee7535dbf9a89",
     "grade": false,
     "grade_id": "cell-50663907b3a3d988",
     "locked": true,
     "schema_version": 3,
     "solution": false,
     "task": false
    }
   },
   "source": [
    "### 6.2 Write to file [1 pt]\n",
    "\n",
    "Write data to a CSV file."
   ]
  },
  {
   "cell_type": "code",
   "execution_count": null,
   "metadata": {},
   "outputs": [],
   "source": [
    "filepath = data_interim_path.joinpath(\"station_performance_metrics-v1p0.csv\")\n",
    "stations.to_csv(filepath, index=False)"
   ]
  },
  {
   "cell_type": "code",
   "execution_count": null,
   "metadata": {
    "deletable": false,
    "editable": false,
    "nbgrader": {
     "cell_type": "code",
     "checksum": "61d873d77100afa2733130a6c16cfb41",
     "grade": true,
     "grade_id": "cell-24f6f36d25dbbe8f",
     "locked": true,
     "points": 1,
     "schema_version": 3,
     "solution": false,
     "task": false
    }
   },
   "outputs": [],
   "source": [
    "#hidden tests are within this cell"
   ]
  },
  {
   "cell_type": "markdown",
   "metadata": {
    "deletable": false,
    "editable": false,
    "nbgrader": {
     "cell_type": "markdown",
     "checksum": "3b2487fb978db3f2e9c7fd6a4c9c116d",
     "grade": false,
     "grade_id": "cell-c19566e77b5fff4e",
     "locked": true,
     "schema_version": 3,
     "solution": false,
     "task": false
    }
   },
   "source": [
    "## 6.0 Watermark"
   ]
  },
  {
   "cell_type": "code",
   "execution_count": null,
   "metadata": {},
   "outputs": [],
   "source": [
    "%load_ext watermark\n",
    "%watermark -h -i -iv -m -v"
   ]
  }
 ],
 "metadata": {
  "kernelspec": {
   "display_name": "Python 3.11 (ipykernel)",
   "language": "python",
   "name": "python3"
  },
  "language_info": {
   "codemirror_mode": {
    "name": "ipython",
    "version": 3
   },
   "file_extension": ".py",
   "mimetype": "text/x-python",
   "name": "python",
   "nbconvert_exporter": "python",
   "pygments_lexer": "ipython3",
   "version": "3.11.9"
  }
 },
 "nbformat": 4,
 "nbformat_minor": 4
}
