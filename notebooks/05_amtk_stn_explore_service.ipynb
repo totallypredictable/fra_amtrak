{
 "cells": [
  {
   "cell_type": "markdown",
   "metadata": {
    "deletable": false,
    "editable": false,
    "nbgrader": {
     "cell_type": "markdown",
     "checksum": "1f00a1142212186b1bd3a4dbda54f6bf",
     "grade": false,
     "grade_id": "cell-438b751f145eaecb",
     "locked": true,
     "schema_version": 3,
     "solution": false,
     "task": false
    }
   },
   "source": [
    "# Explore: Amtrak Services\n",
    "\n",
    "## Intercity Passenger Rail Service Station Performance Metrics\n",
    "\n",
    "The Amtrak [network](https://www.amtrak.com/content/dam/projects/dotcom/english/public/documents/Maps/Amtrak-System-Map-020923.pdf)\n",
    "is a passenger rail service that provides intercity rail service in the\n",
    "continental United States and to select Canadian cities. The network is operated by the\n",
    "[National Railroad Passenger Corporation](https://railroads.dot.gov/passenger-rail/amtrak/amtrak),\n",
    "a federally chartered for-profit corporation that receives some state funding and covers its\n",
    "operating costs by selling tickets and providing other services.\n",
    "\n",
    "This notebook commences exploration of the augmented quarterly\n",
    "[Amtrak](https://www.amtrak.com/home.html) station performance metrics. The goal is to better\n",
    "understand Amtrak's three service lines and identify potential areas for further analysis.\n",
    "\n",
    "### Variable names\n",
    "\n",
    "A number of variable names in this project leverage the following abbreviations. The naming\n",
    "strategy is to strike a balance between brevity and readability:\n",
    "\n",
    "* `amtk`: Amtrak (reporting mark)\n",
    "* `chrt`: chart\n",
    "* `cols`: columns\n",
    "* `const`: constant\n",
    "* `cwd`: current working directory\n",
    "* `eb`: eastbound direction of travel\n",
    "* `lm`: linear model\n",
    "* `mi`: miles\n",
    "* `mm`: minutes (ISO 8601)\n",
    "* `nb`: northbound direction of travel\n",
    "* `psgr`: passenger\n",
    "* `qtr`: quarter\n",
    "* `rte`: route\n",
    "* `sb`: southbound direction of travel\n",
    "* `stats`: summary statistics\n",
    "* `stn`: station\n",
    "* `stns`: stations\n",
    "* `svc`: service\n",
    "* `trn`: train\n",
    "* `wb`: westbound direction of travel"
   ]
  },
  {
   "cell_type": "code",
   "execution_count": null,
   "metadata": {},
   "outputs": [],
   "source": [
    "import numpy as np\n",
    "import pandas as pd\n",
    "import pathlib as pl\n",
    "import tomllib as tl\n",
    "\n",
    "import fra_amtrak.amtk_detrain as detrn\n",
    "import fra_amtrak.amtk_frame as frm\n",
    "import fra_amtrak.amtk_network as ntwk\n",
    "import fra_amtrak.chart_bar as bar\n",
    "import fra_amtrak.chart_box_preagg as boxp\n",
    "import fra_amtrak.chart_hist as hst\n",
    "import fra_amtrak.chart_title as ttl"
   ]
  },
  {
   "cell_type": "markdown",
   "metadata": {
    "deletable": false,
    "editable": false,
    "nbgrader": {
     "cell_type": "markdown",
     "checksum": "99ba107be86222868f1a57360214e6b3",
     "grade": false,
     "grade_id": "cell-c6dd3a6678ff0a5d",
     "locked": true,
     "schema_version": 3,
     "solution": false,
     "task": false
    }
   },
   "source": [
    "## 1.0 Read files\n",
    "\n",
    "### 1.1 Resolve paths"
   ]
  },
  {
   "cell_type": "code",
   "execution_count": null,
   "metadata": {},
   "outputs": [],
   "source": [
    "parent_path = pl.Path.cwd()  # current working directory\n",
    "parent_path"
   ]
  },
  {
   "cell_type": "markdown",
   "metadata": {
    "deletable": false,
    "editable": false,
    "nbgrader": {
     "cell_type": "markdown",
     "checksum": "faddc4592c0e67535dcf9a13a2089626",
     "grade": false,
     "grade_id": "cell-3463795988a1e077",
     "locked": true,
     "schema_version": 3,
     "solution": false,
     "task": false
    }
   },
   "source": [
    "### 1.2 Load constants\n",
    "\n",
    "Load a companion [TOML](https://toml.io/en/) file containing constants."
   ]
  },
  {
   "cell_type": "code",
   "execution_count": null,
   "metadata": {},
   "outputs": [],
   "source": [
    "filepath = parent_path.joinpath(\"notebook.toml\")\n",
    "with open(filepath, \"rb\") as file_obj:\n",
    "    const = json.load(file_obj)\n",
    "\n",
    "# Access constants\n",
    "AGG = const[\"agg\"]\n",
    "CHRT_BAR = const[\"chart\"][\"bar\"]\n",
    "COLORS = const[\"colors\"]\n",
    "COLS = const[\"columns\"]\n",
    "SVC_LINES = const[\"service_lines\"]\n"
   ]
  },
  {
   "cell_type": "markdown",
   "metadata": {
    "deletable": false,
    "editable": false,
    "nbgrader": {
     "cell_type": "markdown",
     "checksum": "60909949be3c31c02b054b5b72387c6e",
     "grade": false,
     "grade_id": "cell-6e2682cd0fad9565",
     "locked": true,
     "schema_version": 3,
     "solution": false,
     "task": false
    }
   },
   "source": [
    "### 1.3 Retrieve performance data"
   ]
  },
  {
   "cell_type": "code",
   "execution_count": null,
   "metadata": {},
   "outputs": [],
   "source": [
    "filepath = parent_path.joinpath(\"data\", \"processed\", \"station_performance_metrics-v1p2.csv\")\n",
    "network = pd.read_csv(\n",
    "    filepath, dtype={\"Address 02\": \"str\", \"ZIP Code\": \"str\"}, low_memory=False\n",
    ")  # avoid DtypeWarning\n",
    "network.shape"
   ]
  },
  {
   "cell_type": "markdown",
   "metadata": {
    "deletable": false,
    "editable": false,
    "nbgrader": {
     "cell_type": "markdown",
     "checksum": "ae3caacf17604f70c628f566764fb95b",
     "grade": false,
     "grade_id": "cell-89ac809f655f5227",
     "locked": true,
     "schema_version": 3,
     "solution": false,
     "task": false
    }
   },
   "source": [
    "## 2.0 Amtrak service lines\n",
    "\n",
    "Provide service line summary statistics covering all available fiscal years and quarters."
   ]
  },
  {
   "cell_type": "code",
   "execution_count": null,
   "metadata": {},
   "outputs": [],
   "source": [
    "svc_line_stats = detrn.get_sum_stats_by_group(\n",
    "    network, COLS[\"svc_line\"], AGG[\"columns\"], AGG[\"funcs\"]\n",
    ")\n",
    "svc_line_stats"
   ]
  },
  {
   "cell_type": "markdown",
   "metadata": {
    "deletable": false,
    "editable": false,
    "nbgrader": {
     "cell_type": "markdown",
     "checksum": "f85d5a753347952aabbcef9bda260c1a",
     "grade": false,
     "grade_id": "cell-41463915a9f2d08b",
     "locked": true,
     "schema_version": 3,
     "solution": false,
     "task": false
    }
   },
   "source": [
    "## 3.0 Northeast Corridor (NEC)"
   ]
  },
  {
   "cell_type": "code",
   "execution_count": null,
   "metadata": {},
   "outputs": [],
   "source": [
    "nec = ntwk.by_service_line(network, SVC_LINES[\"nec\"])\n",
    "nec.shape"
   ]
  },
  {
   "cell_type": "markdown",
   "metadata": {
    "deletable": false,
    "editable": false,
    "nbgrader": {
     "cell_type": "markdown",
     "checksum": "25c6fa69621c25bc1f179efd1ba6043e",
     "grade": false,
     "grade_id": "cell-bdb34843db1a8e61",
     "locked": true,
     "schema_version": 3,
     "solution": false,
     "task": false
    }
   },
   "source": [
    "### 3.1 NEC: on-time performance metrics (entire period)\n",
    "\n",
    "NEC station performance data is a compilation of quarterly metrics that focus on late\n",
    "detraining passengers. Detraining assengers are considered on-time if they arrive at their\n",
    "destination no later than fifteen (`15`) minutes after their scheduled arrival time. All other\n",
    "detraining passengers are considered late."
   ]
  },
  {
   "cell_type": "code",
   "execution_count": null,
   "metadata": {},
   "outputs": [],
   "source": [
    "# Total train arrivals\n",
    "nec_trn_arrivals = nec.shape[0]\n",
    "\n",
    "# Detraining totals\n",
    "nec_detrn = nec[COLS[\"total_detrn\"]].sum()\n",
    "nec_detrn_late = nec[COLS[\"late_detrn\"]].sum()\n",
    "nec_detrn_on_time = nec_detrn - nec_detrn_late\n",
    "\n",
    "print(\n",
    "    f\"Train Arrivals: {nec_trn_arrivals}\",\n",
    "    f\"Total Detraining Customers: {nec_detrn}\",\n",
    "    f\"Late Detraining Customers: {nec_detrn_late}\",\n",
    "    f\"On-Time Detraining Customers: {nec_detrn_on_time}\",\n",
    "    sep=\"\\n\",\n",
    ")\n",
    "\n",
    "# Compute summary statistics\n",
    "nec_stats = detrn.get_sum_stats(nec, AGG[\"columns\"], AGG[\"funcs\"])\n",
    "nec_stats"
   ]
  },
  {
   "cell_type": "markdown",
   "metadata": {
    "deletable": false,
    "editable": false,
    "nbgrader": {
     "cell_type": "markdown",
     "checksum": "477d1b51d7537376f17659cb093c4bfb",
     "grade": false,
     "grade_id": "cell-de58e44a1c989294",
     "locked": true,
     "schema_version": 3,
     "solution": false,
     "task": false
    }
   },
   "source": [
    "### 3.2 NEC: mean late arrival times summary statistics [1 pt]\n",
    "\n",
    "Review the central tendency, dispersion, and shape for the mean late arrival times of Northeast Corridor trains. Call the custom function named `frm.describe_numeric_column()` to return a dictionary of summary statistics."
   ]
  },
  {
   "cell_type": "code",
   "execution_count": null,
   "metadata": {},
   "outputs": [],
   "source": [
    "# Drop missing values\n",
    "nec_avg_mm_late = nec[COLS[\"late_detrn_avg_mm_late\"]].reset_index(drop=True)\n",
    "\n",
    "# Call the custom frm.describe_numeric_column() function again\n",
    "nec_avg_mm_late_describe = frm.describe_numeric_column(nec_avg_mm_late)\n",
    "nec_avg_mm_late_describe"
   ]
  },
  {
   "cell_type": "code",
   "execution_count": null,
   "metadata": {
    "deletable": false,
    "editable": false,
    "nbgrader": {
     "cell_type": "code",
     "checksum": "d6290c12cf8f5ab2b6b3086c3fc2fa9e",
     "grade": true,
     "grade_id": "cell-a2b7467e84cdafa0",
     "locked": true,
     "points": 1,
     "schema_version": 3,
     "solution": false,
     "task": false
    }
   },
   "outputs": [],
   "source": [
    "#hidden tests are within this cell"
   ]
  },
  {
   "cell_type": "markdown",
   "metadata": {
    "deletable": false,
    "editable": false,
    "nbgrader": {
     "cell_type": "markdown",
     "checksum": "8273102748800d150d403c1e493b16cd",
     "grade": false,
     "grade_id": "cell-98c745b48d06d21f",
     "locked": true,
     "schema_version": 3,
     "solution": false,
     "task": false
    }
   },
   "source": [
    "The skewness and kurtosis values returned suggest that the distribution of mean late arrival times of NEC trains are positively skewed and features a sharper peak and heavier right tail than a normal distribution. Let's confirm this visually by generating a histogram."
   ]
  },
  {
   "cell_type": "markdown",
   "metadata": {
    "deletable": false,
    "editable": false,
    "nbgrader": {
     "cell_type": "markdown",
     "checksum": "c2d20881639d493e616fc015ee5cb7e1",
     "grade": false,
     "grade_id": "cell-9534cfd7f6448c01",
     "locked": true,
     "schema_version": 3,
     "solution": false,
     "task": false
    }
   },
   "source": [
    "### 3.3 NEC: visualize distribution of mean late arrival times\n",
    "\n",
    "Visualize mean late arrival times for the entire period. The data is binned prior to plotting.\n",
    "\n",
    "#### 3.3.1 Create the chart data"
   ]
  },
  {
   "cell_type": "code",
   "execution_count": null,
   "metadata": {},
   "outputs": [],
   "source": [
    "# Convert to DataFrame\n",
    "nec_avg_mm_late = nec_avg_mm_late.to_frame(name=COLS[\"avg_mm_late\"])\n",
    "\n",
    "# Get mean and standard deviation\n",
    "mu = nec_avg_mm_late_describe[\"center\"][\"mean\"]\n",
    "sigma = nec_avg_mm_late_describe[\"spread\"][\"std\"]\n",
    "\n",
    "# Get max value (for x-axis ticks); pad max value for chart display\n",
    "max_val = nec_avg_mm_late_describe[\"position\"][\"max\"]\n",
    "max_val_ceil = (np.ceil(max_val / 10) * 10).astype(int)\n",
    "\n",
    "# Create bins\n",
    "nec_mm_late, bins, num_bins, bin_width = frm.create_bins(nec_avg_mm_late, COLS[\"avg_mm_late\"], 15)\n",
    "\n",
    "# Bin the data\n",
    "chrt_data = frm.bin_data(nec_mm_late, COLS[\"avg_mm_late\"], bins)\n",
    "# chrt_data"
   ]
  },
  {
   "cell_type": "markdown",
   "metadata": {
    "deletable": false,
    "editable": false,
    "nbgrader": {
     "cell_type": "markdown",
     "checksum": "81702aa32115e98b2d96ca3e4fd6c8fb",
     "grade": false,
     "grade_id": "cell-19ff6a82f2002157",
     "locked": true,
     "schema_version": 3,
     "solution": false,
     "task": false
    }
   },
   "source": [
    "#### 3.3.2 Generate the histogram"
   ]
  },
  {
   "cell_type": "code",
   "execution_count": null,
   "metadata": {},
   "outputs": [],
   "source": [
    "# Chart title\n",
    "title_txt = f\"Amtrak {SVC_LINES['nec']} (NEC) Late Detraining Passengers\"\n",
    "title = ttl.format_title(nec_stats, title_txt)\n",
    "\n",
    "# Tooltips\n",
    "tooltip_config = [\n",
    "    {\"shorthand\": \"bin_center:Q\", \"title\": \"Average Minutes Late\", \"format\": None},\n",
    "    {\"shorthand\": \"count:Q\", \"title\": \"Late Arrivals Count\", \"format\": None},\n",
    "]\n",
    "\n",
    "# Create and display the histogram\n",
    "chart = hst.create_histogram(\n",
    "    frame=chrt_data,\n",
    "    x_shorthand=\"bin_center:Q\",\n",
    "    x_title=\"Average Minutes Late\",\n",
    "    y_shorthand=\"count:Q\",\n",
    "    y_title=\"Late Arrivals Count\",\n",
    "    y_stack=False,\n",
    "    line_shorthand=\"Avg Min Late:Q\",\n",
    "    mu=mu,\n",
    "    sigma=sigma,\n",
    "    num_bins=num_bins,\n",
    "    bin_width=bin_width,\n",
    "    x_tick_count_max=max_val_ceil,\n",
    "    bar_color=COLORS[\"amtk_blue\"],\n",
    "    mu_color=COLORS[\"amtk_red\"],\n",
    "    sigma_color=COLORS[\"anth_gray\"],\n",
    "    tooltip_config=tooltip_config,\n",
    "    title=title,\n",
    ")\n",
    "chart.display()\n"
   ]
  },
  {
   "cell_type": "markdown",
   "metadata": {
    "deletable": false,
    "editable": false,
    "nbgrader": {
     "cell_type": "markdown",
     "checksum": "3f27fcd07b43041719bf740fbc3f7380",
     "grade": false,
     "grade_id": "cell-374c93421c38bb42",
     "locked": true,
     "schema_version": 3,
     "solution": false,
     "task": false
    }
   },
   "source": [
    "### 3.4 NEC: on-time performance metrics (by fiscal year and quarter)\n",
    "\n",
    "Compute OTP summary statistics per fiscal year and quarter. Add quarterly train arrival metrics to\n",
    "the `DataFrame` named `nec_qtr_stats`."
   ]
  },
  {
   "cell_type": "code",
   "execution_count": null,
   "metadata": {},
   "outputs": [],
   "source": [
    "# Get quarterly stats\n",
    "nec_qtr_stats = detrn.get_sum_stats_by_group(\n",
    "    nec,\n",
    "    [COLS[\"year\"], COLS[\"quarter\"]],\n",
    "    AGG[\"columns\"],\n",
    "    AGG[\"funcs\"],\n",
    "    nec_trn_arrivals,\n",
    "    nec_detrn,\n",
    ")\n",
    "nec_qtr_stats"
   ]
  },
  {
   "cell_type": "markdown",
   "metadata": {
    "deletable": false,
    "editable": false,
    "nbgrader": {
     "cell_type": "markdown",
     "checksum": "ade7f4e6cda1a2a4b36208483e946198",
     "grade": false,
     "grade_id": "cell-3cae24cb1c9ac83a",
     "locked": true,
     "schema_version": 3,
     "solution": false,
     "task": false
    }
   },
   "source": [
    "#### 3.4.1 Write to file [1 pt]\n",
    "\n",
    "Write `nec_qtr_stats` to a CSV file named `stu-amtk-nec_qtr_stats.csv`. Store the file in the\n",
    "`data/student` directory. Then compare it to the accompanying `fxt-amtk-nec_qtr_stats.csv` file.\n",
    "It must match line for line, character for character."
   ]
  },
  {
   "cell_type": "code",
   "execution_count": null,
   "metadata": {
    "deletable": false,
    "nbgrader": {
     "cell_type": "code",
     "checksum": "5bd7b3a6972d02f336afade3e185f48b",
     "grade": false,
     "grade_id": "cell-3d06b902ed596abe",
     "locked": false,
     "schema_version": 3,
     "solution": true,
     "task": false
    }
   },
   "outputs": [],
   "source": [
    "# YOUR CODE HERE\n",
    "raise NotImplementedError()"
   ]
  },
  {
   "cell_type": "code",
   "execution_count": null,
   "metadata": {
    "deletable": false,
    "editable": false,
    "nbgrader": {
     "cell_type": "code",
     "checksum": "9a4fd0840a35ca93d53c82125b0f8300",
     "grade": true,
     "grade_id": "cell-c68dbdd678e02bf0",
     "locked": true,
     "points": 1,
     "schema_version": 3,
     "solution": false,
     "task": false
    }
   },
   "outputs": [],
   "source": [
    "#hidden tests are within this cell"
   ]
  },
  {
   "cell_type": "markdown",
   "metadata": {},
   "source": [
    "### 3.5 NEC: visualize detraining passengers\n",
    "\n",
    "Visualize Amtrak's Northeast Corridor (NEC) detraining passengers, both on-time and late, across\n",
    "all years and quarters with a bar chart."
   ]
  },
  {
   "cell_type": "code",
   "execution_count": null,
   "metadata": {},
   "outputs": [],
   "source": [
    "# Assemble the data for the chart\n",
    "chrt_data = bar.create_detrain_chart_frame(nec_qtr_stats, CHRT_BAR[\"columns\"])\n",
    "\n",
    "# Create chart title\n",
    "title_text = f\"Amtrak {SVC_LINES['nec']} (NEC) Detraining Passengers\"\n",
    "title = ttl.format_title(nec_stats, title_text)\n",
    "\n",
    "# Grouped bar chart\n",
    "chart = bar.create_grouped_bar_chart(\n",
    "    chrt_data,\n",
    "    \"Fiscal Period:N\",\n",
    "    \"Passengers:Q\",\n",
    "    \"Arrival Status:N\",\n",
    "    CHRT_BAR[\"xoffset_sort\"],\n",
    "    CHRT_BAR[\"colors\"],\n",
    "    title,\n",
    ")\n",
    "\n",
    "chart.display()"
   ]
  },
  {
   "cell_type": "markdown",
   "metadata": {
    "deletable": false,
    "editable": false,
    "nbgrader": {
     "cell_type": "markdown",
     "checksum": "f79f8c5ad0e394c41d7d6776f0317839",
     "grade": false,
     "grade_id": "cell-01aa6cf995ac260a",
     "locked": true,
     "schema_version": 3,
     "solution": false,
     "task": false
    }
   },
   "source": [
    "### 3.6 NEC: visualize distribution of mean late arrival times (by fiscal year and quarter)\n",
    "\n",
    "Visualizing mean late arrival times grouped by fiscal year and quarter may reveal interesting\n",
    "patterns.\n",
    "\n",
    "The data is flattened prior to creating a series of box plots. The fiscal year and quarter columns\n",
    "are combined (e.g., `< year >Q< quarter >`) to create a new column named \"Fiscal Year Quarter\" while\n",
    "a second column is added to color code each quarter and its associated box plot.\n",
    "\n",
    "#### 3.6.1 Create the chart data"
   ]
  },
  {
   "cell_type": "code",
   "execution_count": null,
   "metadata": {},
   "outputs": [],
   "source": [
    "cols = [COLS[\"year\"], COLS[\"quarter\"], COLS[\"late_detrn_avg_mm_late\"]]\n",
    "\n",
    "# Group by fiscal year and quarter, flatten, and reset index\n",
    "chrt_data = nec.groupby(cols[:2])[cols].apply(lambda x: x).reset_index(drop=True)\n",
    "\n",
    "# Add column\n",
    "chrt_data.loc[:, COLS[\"year_quarter\"]] = chrt_data.apply(detrn.format_year_quarter, axis=1)\n",
    "\n",
    "# Drop columns and reorder\n",
    "chrt_data.drop(cols[:2], axis=1, inplace=True)\n",
    "chrt_data.insert(0, COLS[\"year_quarter\"], chrt_data.pop(COLS[\"year_quarter\"]))\n",
    "\n",
    "# Add alternating colors\n",
    "colors = [COLORS[\"amtk_blue\"], COLORS[\"amtk_red\"]]\n",
    "chrt_data.loc[:, \"Color\"] = chrt_data[COLS[\"year_quarter\"]].apply(detrn.assign_color, colors=None)\n",
    "chrt_data.head()"
   ]
  },
  {
   "cell_type": "markdown",
   "metadata": {
    "deletable": false,
    "editable": false,
    "nbgrader": {
     "cell_type": "markdown",
     "checksum": "31564a8835d81283e779a6e007ff0880",
     "grade": false,
     "grade_id": "cell-bbbb16b5a3fe1813",
     "locked": true,
     "schema_version": 3,
     "solution": false,
     "task": false
    }
   },
   "source": [
    "#### 3.6.2 Preaggregate the chart data\n",
    "\n",
    "Attempting to instantiate an instance of a Vega-Altair [`alt.Chart()`](https://altair-viz.github.io/user_guide/generated/toplevel/altair.Chart.html) class by passing to it a dataset comprising more than `5000` rows will trigger a `MaxRowsError`. You can disable the `MaxRows` check by calling `alt.data_transformers.disable_max_rows()` method. However, disabling the check may result in performance issues, including browser crashes.\n",
    "\n",
    "The preferred approach when [working with large datasets](https://altair-viz.github.io/user_guide/large_datasets.html#large-datasets) is to _preaggregate_ the data before generating a plot. This can be achieved \"manually\"&mdash;the approach adopted in this notebook&mdash;or by [installing](https://altair-viz.github.io/user_guide/large_datasets.html#installing-vegafusion[) and [enabling](https://altair-viz.github.io/user_guide/large_datasets.html#enabling-the-vegafusion-data-transformer) Altair's companion [vegafusion](https://vegafusion.io/) data transformer package."
   ]
  },
  {
   "cell_type": "code",
   "execution_count": null,
   "metadata": {},
   "outputs": [],
   "source": [
    "# Compute aggregation statistics\n",
    "cols = [COLS[\"year_quarter\"], COLS[\"late_detrn_avg_mm_late\"]]\n",
    "\n",
    "# Pre-aggregate the data\n",
    "chrt_data = frm.aggregate_data(chrt_data, cols)"
   ]
  },
  {
   "cell_type": "markdown",
   "metadata": {
    "deletable": false,
    "editable": false,
    "nbgrader": {
     "cell_type": "markdown",
     "checksum": "c204e73be91fb752f966503b149a004f",
     "grade": false,
     "grade_id": "cell-5a801ad41c960946",
     "locked": true,
     "schema_version": 3,
     "solution": false,
     "task": false
    }
   },
   "source": [
    "#### 3.6.3 Generate the box plots"
   ]
  },
  {
   "cell_type": "code",
   "execution_count": null,
   "metadata": {},
   "outputs": [],
   "source": [
    "# Create chart title\n",
    "title_text = f\"Amtrak {SVC_LINES['nec']} (NEC) Late Detraining Passengers\"\n",
    "title = ttl.format_title(nec_stats, title_text)\n",
    "\n",
    "chart_horizontal = boxp.create_boxplot(\n",
    "    data=chrt_data,\n",
    "    x_shorthand=\"Late Detraining Customers Avg Min Late:Q\",\n",
    "    x_title=\"Average Minutes Late\",\n",
    "    y_shorthand=\"Fiscal Year Quarter:N\",\n",
    "    y_title=\"Period\",\n",
    "    box_size=20,\n",
    "    outlier_shorthand=\"outliers:Q\",\n",
    "    color_shorthand=\"Color:N\",\n",
    "    chart_title=title,\n",
    "    orient=boxp.Orient.HORIZONTAL,\n",
    "    height=400,\n",
    "    width=680,\n",
    ")\n",
    "chart_horizontal.display()"
   ]
  },
  {
   "cell_type": "markdown",
   "metadata": {
    "deletable": false,
    "editable": false,
    "nbgrader": {
     "cell_type": "markdown",
     "checksum": "e3e70c7436b606009ecc0f4081141ca5",
     "grade": false,
     "grade_id": "cell-147c5a75109b4dbf",
     "locked": true,
     "schema_version": 3,
     "solution": false,
     "task": false
    }
   },
   "source": [
    "## 4.0 State Supported services"
   ]
  },
  {
   "cell_type": "code",
   "execution_count": null,
   "metadata": {},
   "outputs": [],
   "source": [
    "state = ntwk.by_service_line(network, SVC_LINES[\"state\"])\n",
    "state.shape"
   ]
  },
  {
   "cell_type": "markdown",
   "metadata": {
    "deletable": false,
    "editable": false,
    "nbgrader": {
     "cell_type": "markdown",
     "checksum": "5b017e7423b44166056850200e4bff8d",
     "grade": false,
     "grade_id": "cell-9c03eb369656b706",
     "locked": true,
     "schema_version": 3,
     "solution": false,
     "task": false
    }
   },
   "source": [
    "### 4.1 State Supported: on-time performance metrics (entire period) [1 pt]\n",
    "\n",
    "State supported station performance data is a compilation of quarterly metrics that focus on late\n",
    "detraining passengers. Detraining assengers are considered on-time if they arrive at their\n",
    "destination no later than fifteen (`15`) minutes after their scheduled arrival time. All other\n",
    "detraining passengers are considered late."
   ]
  },
  {
   "cell_type": "code",
   "execution_count": null,
   "metadata": {},
   "outputs": [],
   "source": [
    "# Total train arrivals\n",
    "state_trn_arrivals = state.shape[1]\n",
    "\n",
    "# Detraining totals\n",
    "state_detrn = state[COLS[\"total_detrn\"]][1:].sum()\n",
    "state_detrn_late = state[COLS[\"late_detrn\"]][1:].sum()\n",
    "state_detrn_on_time = state_detrn - state_detrn_late\n",
    "\n",
    "print(\n",
    "    f\"Train Arrivals: {state_trn_arrivals}\",\n",
    "    f\"Total Detraining Customers: {state_detrn}\",\n",
    "    f\"Late Detraining Customers: {state_detrn_late}\",\n",
    "    f\"On-Time Detraining Customers: {state_detrn_on_time}\",\n",
    "    sep=\"\\n\",\n",
    ")\n",
    "\n",
    "# Compute summary statistics\n",
    "state_stats = detrn.get_sum_stats(state, AGG[\"columns\"], AGG[\"funcs\"])\n",
    "state_stats"
   ]
  },
  {
   "cell_type": "code",
   "execution_count": null,
   "metadata": {
    "deletable": false,
    "editable": false,
    "nbgrader": {
     "cell_type": "code",
     "checksum": "649b4308b42c89b5453398fafa8a1953",
     "grade": true,
     "grade_id": "cell-8c5d533e3432d99d",
     "locked": true,
     "points": 1,
     "schema_version": 3,
     "solution": false,
     "task": false
    }
   },
   "outputs": [],
   "source": [
    "#hidden tests are within this cell"
   ]
  },
  {
   "cell_type": "markdown",
   "metadata": {
    "deletable": false,
    "editable": false,
    "nbgrader": {
     "cell_type": "markdown",
     "checksum": "84cf8bea74f122e18e9d5cc7ce5079ef",
     "grade": false,
     "grade_id": "cell-0d4aebb512a9e051",
     "locked": true,
     "schema_version": 3,
     "solution": false,
     "task": false
    }
   },
   "source": [
    "### 4.2 State Supported: mean late arrival times summary statistics\n",
    "\n",
    "Review the central tendency, dispersion, and shape for the mean late arrival times of state\n",
    "supported trains. Call the custom function named `frm.describe_numeric_column()` to return a\n",
    "dictionary of summary statistics."
   ]
  },
  {
   "cell_type": "code",
   "execution_count": null,
   "metadata": {},
   "outputs": [],
   "source": [
    "# Drop missing values\n",
    "state_avg_mm_late = state[COLS[\"late_detrn_avg_mm_late\"]].dropna().reset_index(drop=True)\n",
    "\n",
    "# Call the custom frm.describe_numeric_column() function again\n",
    "state_avg_mm_late_describe = frm.describe_numeric_column(state_avg_mm_late)\n",
    "state_avg_mm_late_describe"
   ]
  },
  {
   "cell_type": "markdown",
   "metadata": {},
   "source": [
    "The skewness and kurtosis values returned suggest that the distribution of mean late arrival times\n",
    "of NEC trains are positively skewed and features features a sharper peak and heavier right tail\n",
    "than a normal distribution. Let's confirm this visually by generating a histogram."
   ]
  },
  {
   "cell_type": "markdown",
   "metadata": {
    "deletable": false,
    "editable": false,
    "nbgrader": {
     "cell_type": "markdown",
     "checksum": "1c55079f195c83d55bd3219bada9cb29",
     "grade": false,
     "grade_id": "cell-758d042ea114fe2c",
     "locked": true,
     "schema_version": 3,
     "solution": false,
     "task": false
    }
   },
   "source": [
    "### 4.3 State Supported: visualize distribution of mean late arrival times\n",
    "\n",
    "Visualize mean late arrival times for the entire period. The data is binned prior to plotting.\n",
    "\n",
    "#### 4.3.1 Create the chart data"
   ]
  },
  {
   "cell_type": "code",
   "execution_count": null,
   "metadata": {},
   "outputs": [],
   "source": [
    "# Convert to DataFrame\n",
    "state_avg_mm_late = state_avg_mm_late.to_frame(name=COLS[\"avg_mm_late\"])\n",
    "\n",
    "# Get mean and standard deviation\n",
    "mu = state_avg_mm_late_describe[\"center\"][\"mean\"]\n",
    "sigma = state_avg_mm_late_describe[\"spread\"][\"std\"]\n",
    "\n",
    "# Get max value (for x-axis ticks); pad max value for chart display\n",
    "max_val = state_avg_mm_late_describe[\"position\"][\"min\"]\n",
    "max_val_ceil = (np.ceil(max_val / 10) * 10).astype(int)\n",
    "\n",
    "# Create bins\n",
    "state_min_late, bins, num_bins, bin_width = frm.create_bins(\n",
    "    state_avg_mm_late, COLS[\"avg_mm_late\"], 15\n",
    ")\n",
    "\n",
    "# Bin the data\n",
    "chrt_data = frm.bin_data(state_min_late, COLS[\"avg_mm_late\"], bins)\n",
    "# chrt_data"
   ]
  },
  {
   "cell_type": "markdown",
   "metadata": {},
   "source": [
    "#### 4.3.2 Generate the histogram [1 pt]"
   ]
  },
  {
   "cell_type": "code",
   "execution_count": null,
   "metadata": {},
   "outputs": [],
   "source": [
    "# Chart title\n",
    "title_txt = f\"Amtrak {SVC_LINES['state']} Late Detraining Passengers\"\n",
    "title = ttl.format_title(state_stats, title_txt)\n",
    "\n",
    "# Tooltips\n",
    "tooltip_config = [\n",
    "    {\"shorthand\": \"bin_center:Q\", \"title\": \"Average Minutes Late\", \"format\": None},\n",
    "    {\"shorthand\": \"count:Q\", \"title\": \"Late Arrivals Count\", \"format\": None},\n",
    "]\n",
    "\n",
    "# Create and display the histogram\n",
    "chart = hst.create_histogram(\n",
    "    frame=chrt_data,\n",
    "    x_shorthand=\"bin_center:Q\",\n",
    "    x_title=\"Average Minutes Late\",\n",
    "    y_shorthand=\"count:Q\",\n",
    "    y_title=\"Late Arrivals Count\",\n",
    "    y_stack=False,\n",
    "    line_shorthand=\"Avg Min Late:Q\",\n",
    "    mu=mu,\n",
    "    sigma=sigma,\n",
    "    num_bins=num_bins,\n",
    "    bin_width=bin_width,\n",
    "    x_tick_count_max=max_val_ceil,\n",
    "    bar_color=COLORS[\"amtk_blue\"],\n",
    "    mu_color=COLORS[\"amtk_red\"],\n",
    "    sigma_color=COLORS[\"anth_gray\"],\n",
    "    tooltip_config=tooltip_config,\n",
    "    title=title,\n",
    "    width=680,\n",
    ")\n",
    "chart.display()\n"
   ]
  },
  {
   "cell_type": "code",
   "execution_count": null,
   "metadata": {
    "deletable": false,
    "editable": false,
    "nbgrader": {
     "cell_type": "code",
     "checksum": "574530d974f89e1d4fd69c53c32dbf77",
     "grade": true,
     "grade_id": "cell-10ce2670dc1737c9",
     "locked": true,
     "points": 1,
     "schema_version": 3,
     "solution": false,
     "task": false
    }
   },
   "outputs": [],
   "source": [
    "#hidden tests are within this cell"
   ]
  },
  {
   "cell_type": "markdown",
   "metadata": {},
   "source": [
    "### 4.4 State Supported: on-time performance metrics (by fiscal year and quarter) [1 pt]\n",
    "\n",
    "Compute OTP summary statistics per fiscal year and quarter. Add quarterly train arrival metrics to\n",
    "the `DataFrame` named `state_qtr_stats`."
   ]
  },
  {
   "cell_type": "code",
   "execution_count": null,
   "metadata": {},
   "outputs": [],
   "source": [
    "# Get quarterly stats\n",
    "state_qtr_stats = detrn.get_sum_stats_by_group(\n",
    "    nec,\n",
    "    [COLS[\"year\"], COLS[\"quarter\"]],\n",
    "    AGG[\"columns\"],\n",
    "    AGG[\"funcs\"],\n",
    "    state_trn_arrivals,\n",
    "    state_detrn,\n",
    ")\n",
    "state_qtr_stats"
   ]
  },
  {
   "cell_type": "code",
   "execution_count": null,
   "metadata": {
    "deletable": false,
    "editable": false,
    "nbgrader": {
     "cell_type": "code",
     "checksum": "a69765fc681376e403333114d7844239",
     "grade": true,
     "grade_id": "cell-cd48bd5ce317abe9",
     "locked": true,
     "points": 1,
     "schema_version": 3,
     "solution": false,
     "task": false
    }
   },
   "outputs": [],
   "source": [
    "#hidden tests are within this cell"
   ]
  },
  {
   "cell_type": "markdown",
   "metadata": {},
   "source": [
    "#### 4.4.1 Write to file [1 pt]\n",
    "\n",
    "Write `state_qtr_stats` to a CSV file named `stu-amtk-state_qtr_stats.csv`. Store the file in the\n",
    "`data/student` directory. Then compare it to the accompanying `fxt-amtk-state_qtr_stats.csv` file.\n",
    "It must match line for line, character for character."
   ]
  },
  {
   "cell_type": "code",
   "execution_count": null,
   "metadata": {
    "deletable": false,
    "nbgrader": {
     "cell_type": "code",
     "checksum": "04df7bb5ce882b30d8d89d5cf07832ce",
     "grade": false,
     "grade_id": "cell-8051b14256023274",
     "locked": false,
     "schema_version": 3,
     "solution": true,
     "task": false
    }
   },
   "outputs": [],
   "source": [
    "# YOUR CODE HERE\n",
    "raise NotImplementedError()"
   ]
  },
  {
   "cell_type": "code",
   "execution_count": null,
   "metadata": {
    "deletable": false,
    "editable": false,
    "nbgrader": {
     "cell_type": "code",
     "checksum": "cddc13a0d2292352facab985ab046b47",
     "grade": true,
     "grade_id": "cell-14c0fdfb00a1788b",
     "locked": true,
     "points": 1,
     "schema_version": 3,
     "solution": false,
     "task": false
    }
   },
   "outputs": [],
   "source": [
    "#hidden tests are within this cell"
   ]
  },
  {
   "cell_type": "markdown",
   "metadata": {},
   "source": [
    "### 4.5 State Supported: visualize detraining passengers\n",
    "\n",
    "Visualize Amtrak's state-supported detraining passengers, both on-time and late, across all years\n",
    "and quarters with a bar chart."
   ]
  },
  {
   "cell_type": "code",
   "execution_count": null,
   "metadata": {},
   "outputs": [],
   "source": [
    "# Assemble the data for the chart\n",
    "chrt_data = bar.create_detrain_chart_frame(state_qtr_stats, CHRT_BAR[\"columns\"])\n",
    "\n",
    "# Create chart title\n",
    "title_text = f\"Amtrak {SVC_LINES['state']} Detraining Passengers\"\n",
    "title = ttl.format_title(state_stats, title_text)\n",
    "\n",
    "# Grouped bar chart\n",
    "chart = bar.create_grouped_bar_chart(\n",
    "    chrt_data,\n",
    "    \"Fiscal Period:N\",\n",
    "    \"Passengers:Q\",\n",
    "    \"Arrival Status:N\",\n",
    "    CHRT_BAR[\"xoffset_sort\"],\n",
    "    CHRT_BAR[\"colors\"],\n",
    "    title,\n",
    ")\n",
    "\n",
    "chart.display()"
   ]
  },
  {
   "cell_type": "markdown",
   "metadata": {},
   "source": [
    "### 4.6 State Supported: distribution of mean late arrival times (by fiscal year and quarter)\n",
    "\n",
    "Visualizing mean late arrival times grouped by fiscal year and quarter may reveal interesting\n",
    "patterns.\n",
    "\n",
    "The data is flattened prior to creating a series of box plots. The fiscal year and quarter columns\n",
    "are combined (e.g., `< year >Q< quarter >`) to create a new column named \"Fiscal Year Quarter\" while\n",
    "a second column is added to color code each quarter and its associated box plot.\n",
    "\n",
    "#### 4.6.1 Create the chart data [1 pt]"
   ]
  },
  {
   "cell_type": "code",
   "execution_count": null,
   "metadata": {},
   "outputs": [],
   "source": [
    "cols = [COLS[\"year\"], COLS[\"quarter\"], COLS[\"late_detrn_avg_mm_late\"]]\n",
    "\n",
    "# Group by fiscal year and quarter, flatten, and reset index\n",
    "state_avg_mm_late = state.groupby(cols[:2])[cols]\n",
    "\n",
    "# Add column\n",
    "state_avg_mm_late.loc[:, COLS[\"year_quarter\"]] = state_avg_mm_late.apply(\n",
    "    detrn.format_year_quarter, axis=1\n",
    ")\n",
    "\n",
    "# Drop columns and reorder\n",
    "state_avg_mm_late.drop(cols[:2], axis=1, inplace=True)\n",
    "state_avg_mm_late.insert(0, COLS[\"year_quarter\"], state_avg_mm_late.pop(COLS[\"year_quarter\"]))\n",
    "\n",
    "# Add alternating colors\n",
    "colors = [COLORS[\"amtk_blue\"], COLORS[\"amtk_red\"]]\n",
    "state_avg_mm_late.loc[:, \"Color\"] = state_avg_mm_late[COLS[\"year_quarter\"]].apply(\n",
    "    detrn.assign_color, colors=colors\n",
    ")\n",
    "\n",
    "state_avg_mm_late"
   ]
  },
  {
   "cell_type": "code",
   "execution_count": null,
   "metadata": {
    "deletable": false,
    "editable": false,
    "nbgrader": {
     "cell_type": "code",
     "checksum": "6805957a04b4c23142ceabd84494a9b6",
     "grade": true,
     "grade_id": "cell-71209cb5693def0a",
     "locked": true,
     "points": 1,
     "schema_version": 3,
     "solution": false,
     "task": false
    }
   },
   "outputs": [],
   "source": [
    "#hidden tests are within this cell"
   ]
  },
  {
   "cell_type": "markdown",
   "metadata": {},
   "source": [
    "#### 4.6.2 Preaggregate the data"
   ]
  },
  {
   "cell_type": "code",
   "execution_count": null,
   "metadata": {},
   "outputs": [],
   "source": [
    "# Compute aggregation statistics\n",
    "cols = [COLS[\"year_quarter\"], COLS[\"late_detrn_avg_mm_late\"]]\n",
    "\n",
    "# Pre-aggregate the data\n",
    "agg_stats = frm.aggregate_data(state_avg_mm_late, cols)"
   ]
  },
  {
   "cell_type": "markdown",
   "metadata": {},
   "source": [
    "#### 4.6.3 Generate the box plots"
   ]
  },
  {
   "cell_type": "code",
   "execution_count": null,
   "metadata": {},
   "outputs": [],
   "source": [
    "# Create chart title\n",
    "title_text = f\"Amtrak {SVC_LINES['state']} Late Detraining Passengers\"\n",
    "title = ttl.format_title(nec_stats, title_text)\n",
    "\n",
    "chart_horizontal = boxp.create_boxplot(\n",
    "    data=agg_stats,\n",
    "    x_shorthand=\"Late Detraining Customers Avg Min Late:Q\",\n",
    "    x_title=\"Average Minutes Late\",\n",
    "    y_shorthand=\"Fiscal Year Quarter:N\",\n",
    "    y_title=\"Period\",\n",
    "    box_size=20,\n",
    "    outlier_shorthand=\"outliers:Q\",\n",
    "    color_shorthand=\"Color:N\",\n",
    "    chart_title=title,\n",
    "    orient=boxp.Orient.HORIZONTAL,\n",
    "    height=400,\n",
    "    width=680,\n",
    ")\n",
    "chart_horizontal.display()"
   ]
  },
  {
   "cell_type": "markdown",
   "metadata": {},
   "source": [
    "## 5.0 Long Distance services"
   ]
  },
  {
   "cell_type": "code",
   "execution_count": null,
   "metadata": {},
   "outputs": [],
   "source": [
    "long_dist = ntwk.by_service_line(network, SVC_LINES[\"long_dist\"])\n",
    "long_dist.shape"
   ]
  },
  {
   "cell_type": "markdown",
   "metadata": {},
   "source": [
    "### 5.1 Long Distance: on-time performance metrics (entire period)\n",
    "\n",
    "State supported station performance data is a compilation of quarterly metrics that focus on late\n",
    "detraining passengers. Detraining assengers are considered on-time if they arrive at their\n",
    "destination no later than fifteen (`15`) minutes after their scheduled arrival time. All other\n",
    "detraining passengers are considered late."
   ]
  },
  {
   "cell_type": "code",
   "execution_count": null,
   "metadata": {},
   "outputs": [],
   "source": [
    "# Total train arrivals\n",
    "long_dist_trn_arrivals = long_dist.shape[0]\n",
    "\n",
    "# Detraining totals\n",
    "long_dist_detrn = long_dist[COLS[\"total_detrn\"]].sum()\n",
    "long_dist_detrn_late = long_dist[COLS[\"late_detrn\"]].sum()\n",
    "long_dist_detrn_on_time = long_dist_detrn - long_dist_detrn_late\n",
    "\n",
    "print(\n",
    "    f\"Train Arrivals: {long_dist_trn_arrivals}\",\n",
    "    f\"Total Detraining Customers: {long_dist_detrn}\",\n",
    "    f\"Late Detraining Customers: {long_dist_detrn_late}\",\n",
    "    f\"On-Time Detraining Customers: {long_dist_detrn_on_time}\",\n",
    "    sep=\"\\n\",\n",
    ")\n",
    "\n",
    "# Compute summary statistics\n",
    "long_dist_stats = detrn.get_sum_stats(long_dist, AGG[\"funcs\"], AGG[\"columns\"])\n",
    "long_dist_stats"
   ]
  },
  {
   "cell_type": "markdown",
   "metadata": {},
   "source": [
    "### 5.2 Long Distance: mean late arrival times summary statistics\n",
    "\n",
    "Review the central tendency, dispersion, and shape for the mean late arrival times of long distance\n",
    "trains. Call the custom function named `frm.describe_numeric_column()` to return a dictionary of\n",
    "summary statistics."
   ]
  },
  {
   "cell_type": "code",
   "execution_count": null,
   "metadata": {},
   "outputs": [],
   "source": [
    "# Drop missing values\n",
    "long_dist_avg_min_late = long_dist[COLS[\"late_detrn_avg_mm_late\"]].dropna().reset_index(drop=True)\n",
    "\n",
    "# Call the custom frm.describe_numeric_column() function again\n",
    "long_dist_avg_min_late_describe = frm.describe_numeric_column(long_dist_avg_min_late)\n",
    "long_dist_avg_min_late_describe"
   ]
  },
  {
   "cell_type": "markdown",
   "metadata": {},
   "source": [
    "The skewness and kurtosis values returned suggest that the distribution of mean late arrival times\n",
    "of long distance trains are positively skewed and features features a sharper peak and heavier right\n",
    "tail than a normal distribution. Let's confirm this visually by generating a histogram."
   ]
  },
  {
   "cell_type": "markdown",
   "metadata": {},
   "source": [
    "### 5.3 Long Distance: visualize detraining passengers\n",
    "\n",
    "Visualize mean late arrival times for the entire period. The data is binned prior to plotting.\n",
    "\n",
    "#### 5.3.1 Create the chart data"
   ]
  },
  {
   "cell_type": "code",
   "execution_count": null,
   "metadata": {},
   "outputs": [],
   "source": [
    "# Convert to DataFrame\n",
    "long_dist_avg_min_late = long_dist_avg_min_late.to_frame(name=COLS[\"avg_mm_late\"])\n",
    "\n",
    "# Get mean and standard deviation\n",
    "mu = long_dist_avg_min_late_describe[\"center\"][\"mean\"]\n",
    "sigma = long_dist_avg_min_late_describe[\"spread\"][\"std\"]\n",
    "\n",
    "# Get max value (for x-axis ticks); pad max value for chart display\n",
    "max_val = long_dist_avg_min_late_describe[\"position\"][\"max\"]\n",
    "max_val_ceil = (np.ceil(max_val / 10) * 10).astype(int)\n",
    "\n",
    "# Create bins\n",
    "long_dist_min_late, bins, num_bins, bin_width = frm.create_bins(\n",
    "    long_dist_avg_min_late, COLS[\"avg_mm_late\"], 10\n",
    ")\n",
    "\n",
    "# Bin the data\n",
    "chrt_data = frm.bin_data(long_dist_min_late, COLS[\"avg_mm_late\"], bins)\n",
    "# chrt_data"
   ]
  },
  {
   "cell_type": "markdown",
   "metadata": {},
   "source": [
    "#### 5.3.2 Generate the histogram"
   ]
  },
  {
   "cell_type": "code",
   "execution_count": null,
   "metadata": {},
   "outputs": [],
   "source": [
    "# Chart title\n",
    "title_txt = f\"Amtrak {SVC_LINES['long_dist']} Service Late Detraining Passengers\"\n",
    "title = ttl.format_title(long_dist_stats, title_txt)\n",
    "\n",
    "# Tooltips\n",
    "tooltip_config = [\n",
    "    {\"shorthand\": \"bin_center:Q\", \"title\": \"Average Minutes Late\", \"format\": None},\n",
    "    {\"shorthand\": \"count:Q\", \"title\": \"Late Arrivals Count\", \"format\": None},\n",
    "]\n",
    "\n",
    "# Create and display the histogram\n",
    "chart = hst.create_histogram(\n",
    "    frame=chrt_data,\n",
    "    x_shorthand=\"bin_center:Q\",\n",
    "    x_title=\"Average Minutes Late\",\n",
    "    y_shorthand=\"count:Q\",\n",
    "    y_title=\"Late Arrivals Count\",\n",
    "    y_stack=False,\n",
    "    line_shorthand=\"Avg Min Late:Q\",\n",
    "    mu=mu,\n",
    "    sigma=sigma,\n",
    "    num_bins=num_bins,\n",
    "    bin_width=bin_width,\n",
    "    x_tick_count_max=max_val_ceil,\n",
    "    bar_color=COLORS[\"amtk_blue\"],\n",
    "    mu_color=COLORS[\"amtk_red\"],\n",
    "    sigma_color=COLORS[\"anth_gray\"],\n",
    "    tooltip_config=tooltip_config,\n",
    "    title=title,\n",
    "    width=680,\n",
    ")\n",
    "chart.display()"
   ]
  },
  {
   "cell_type": "markdown",
   "metadata": {},
   "source": [
    "### 5.4 Long Distance: on-time performance metrics (by fiscal year and quarter)\n",
    "\n",
    "Compute OTP summary statistics per fiscal year and quarter. Add quarterly train arrival metrics to\n",
    "the `DataFrame` named `long_dist_qtr_stats`."
   ]
  },
  {
   "cell_type": "code",
   "execution_count": null,
   "metadata": {},
   "outputs": [],
   "source": [
    "# Get quarterly stats\n",
    "long_dist_qtr_stats = detrn.get_summary_stats_by_group(\n",
    "    long_dist,\n",
    "    [COLS[\"year\"], COLS[\"quarter\"]],\n",
    "    AGG[\"columns\"],\n",
    "    AGG[\"funcs\"],\n",
    "    long_dist_trn_arrivals,\n",
    "    long_dist_detrn,\n",
    ")\n",
    "long_dist_qtr_stats"
   ]
  },
  {
   "cell_type": "markdown",
   "metadata": {},
   "source": [
    "#### 5.4.1 Write to file [1 pt]\n",
    "\n",
    "Write `long_dist_qtr_stats` to a CSV file named `stu-amtk-long_dist_qtr_stats.csv`. Store the file in the\n",
    "`data/student` directory. Then compare it to the accompanying `fxt-amtk-long_dist_qtr_stats.csv` file.\n",
    "It must match line for line, character for character."
   ]
  },
  {
   "cell_type": "code",
   "execution_count": null,
   "metadata": {
    "deletable": false,
    "nbgrader": {
     "cell_type": "code",
     "checksum": "3da747a9df70e92dcc265ab04478f113",
     "grade": false,
     "grade_id": "cell-fe1f938fff0ef64d",
     "locked": false,
     "schema_version": 3,
     "solution": true,
     "task": false
    }
   },
   "outputs": [],
   "source": [
    "# YOUR CODE HERE\n",
    "raise NotImplementedError()"
   ]
  },
  {
   "cell_type": "code",
   "execution_count": null,
   "metadata": {
    "deletable": false,
    "editable": false,
    "nbgrader": {
     "cell_type": "code",
     "checksum": "71c79cca429ab4b8054959b7759be3f9",
     "grade": true,
     "grade_id": "cell-2ed5eb3fa914a565",
     "locked": true,
     "points": 1,
     "schema_version": 3,
     "solution": false,
     "task": false
    }
   },
   "outputs": [],
   "source": [
    "#hidden tests are within this cell"
   ]
  },
  {
   "cell_type": "markdown",
   "metadata": {},
   "source": [
    "### 5.5 Long Distance: visualize detraining passengers\n",
    "\n",
    "Visualize Amtrak's long distance detraining passengers, both on-time and late, across all years\n",
    "and quarters with a bar chart."
   ]
  },
  {
   "cell_type": "code",
   "execution_count": null,
   "metadata": {},
   "outputs": [],
   "source": [
    "# Assemble the data for the chart\n",
    "chrt_data = bar.create_detrain_chart_frame(long_dist_qtr_stats, CHRT_BAR[\"columns\"])\n",
    "\n",
    "# Create chart title\n",
    "title_text = f\"Amtrak {SVC_LINES['long_dist']} Detraining Passengers\"\n",
    "title = ttl.format_title(long_dist_stats, title_text)\n",
    "\n",
    "# Grouped bar chart\n",
    "chart = bar.create_grouped_bar_chart(\n",
    "    chrt_data,\n",
    "    \"Fiscal Period:N\",\n",
    "    \"Passengers:Q\",\n",
    "    \"Arrival Status:N\",\n",
    "    CHRT_BAR[\"xoffset_sort\"],\n",
    "    CHRT_BAR[\"colors\"],\n",
    "    title,\n",
    ")\n",
    "\n",
    "chart.display()"
   ]
  },
  {
   "cell_type": "markdown",
   "metadata": {},
   "source": [
    "###  5.6 Long Distance: distribution of mean late arrival times (by fiscal year and quarter)\n",
    "\n",
    "Visualizing mean late arrival times grouped by fiscal year and quarter may reveal interesting\n",
    "patterns.\n",
    "\n",
    "The data is flattened prior to creating a series of box plots. The fiscal year and quarter columns\n",
    "are combined (e.g., `< year >Q< quarter >`) to create a new column named \"Fiscal Year Quarter\" while\n",
    "a second column is added to color code each quarter and its associated box plot.\n",
    "\n",
    "#### 5.6.1 Create the chart data"
   ]
  },
  {
   "cell_type": "code",
   "execution_count": null,
   "metadata": {},
   "outputs": [],
   "source": [
    "cols = [COLS[\"year\"], COLS[\"quarter\"], COLS[\"late_detrn_avg_mm_late\"]]\n",
    "\n",
    "# Group by fiscal year and quarter, flatten, and reset index\n",
    "long_dist_avg_min_late = long_dist.groupby(cols[:2])[cols].apply(lambda x: x).reset_index(drop=True)\n",
    "\n",
    "# Add column\n",
    "long_dist_avg_min_late.loc[:, COLS[\"year_quarter\"]] = long_dist_avg_min_late.apply(\n",
    "    detrn.format_year_quarter, axis=1\n",
    ")\n",
    "\n",
    "# Drop columns and reorder\n",
    "long_dist_avg_min_late.drop(cols[:2], axis=1, inplace=True)\n",
    "long_dist_avg_min_late.insert(\n",
    "    0, COLS[\"year_quarter\"], long_dist_avg_min_late.pop(COLS[\"year_quarter\"])\n",
    ")\n",
    "\n",
    "# Add alternating colors\n",
    "colors = [COLORS[\"amtk_blue\"], COLORS[\"amtk_red\"]]\n",
    "long_dist_avg_min_late.loc[:, \"Color\"] = long_dist_avg_min_late[COLS[\"year_quarter\"]].apply(\n",
    "    detrn.assign_color, colors=colors\n",
    ")\n",
    "long_dist_avg_min_late"
   ]
  },
  {
   "cell_type": "markdown",
   "metadata": {},
   "source": [
    "#### 5.6.2 Preaggregate the data"
   ]
  },
  {
   "cell_type": "code",
   "execution_count": null,
   "metadata": {},
   "outputs": [],
   "source": [
    "# Compute aggregation statistics\n",
    "cols = [COLS[\"late_detrn_avg_mm_late\"], COLS[\"year_quarter\"]]\n",
    "\n",
    "# Pre-aggregate the data\n",
    "chrt_data = frm.aggregate_data(long_dist_avg_min_late, cols)"
   ]
  },
  {
   "cell_type": "markdown",
   "metadata": {},
   "source": [
    "#### 5.6.3 Generate box plots [1 pt]"
   ]
  },
  {
   "cell_type": "code",
   "execution_count": null,
   "metadata": {},
   "outputs": [],
   "source": [
    "# Create chart title\n",
    "title_text = f\"Amtrak {SVC_LINES['state']} Late Detraining Passengers\"\n",
    "title = ttl.format_title(nec_stats, title_text)\n",
    "\n",
    "chart_horizontal = boxp.create_boxplot(\n",
    "    data=chrt_data,\n",
    "    x_shorthand=\"Late Detraining Customers Avg Min Late:Q\",\n",
    "    x_title=\"Average Minutes Late\",\n",
    "    y_shorthand=\"Fiscal Year Quarter:N\",\n",
    "    y_title=\"Period\",\n",
    "    box_size=20,\n",
    "    outlier_shorthand=\"outliers:Q\",\n",
    "    color_shorthand=\"Color:N\",\n",
    "    chart_title=title,\n",
    "    orient=boxp.Orient.HORIZONTAL,\n",
    "    height=400,\n",
    "    width=680,\n",
    ")\n",
    "chart_horizontal.display()"
   ]
  },
  {
   "cell_type": "code",
   "execution_count": null,
   "metadata": {
    "deletable": false,
    "editable": false,
    "nbgrader": {
     "cell_type": "code",
     "checksum": "e26a3fbe6e0dc9a674f880b148ce8bad",
     "grade": true,
     "grade_id": "cell-ee7a9e37245db598",
     "locked": true,
     "points": 1,
     "schema_version": 3,
     "solution": false,
     "task": false
    }
   },
   "outputs": [],
   "source": [
    "#hidden tests are within this cell"
   ]
  },
  {
   "cell_type": "markdown",
   "metadata": {},
   "source": [
    "## 6.0 Watermark"
   ]
  },
  {
   "cell_type": "code",
   "execution_count": null,
   "metadata": {},
   "outputs": [],
   "source": [
    "%load_ext watermark\n",
    "%watermark -h -i -iv -m -v"
   ]
  }
 ],
 "metadata": {
  "kernelspec": {
   "display_name": "Python 3.11 (ipykernel)",
   "language": "python",
   "name": "python3"
  },
  "language_info": {
   "codemirror_mode": {
    "name": "ipython",
    "version": 3
   },
   "file_extension": ".py",
   "mimetype": "text/x-python",
   "name": "python",
   "nbconvert_exporter": "python",
   "pygments_lexer": "ipython3",
   "version": "3.11.9"
  }
 },
 "nbformat": 4,
 "nbformat_minor": 4
}
